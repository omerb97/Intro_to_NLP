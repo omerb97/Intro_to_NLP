{
  "cells": [
    {
      "cell_type": "code",
      "execution_count": 68,
      "id": "13cc8345",
      "metadata": {
        "colab": {
          "base_uri": "https://localhost:8080/"
        },
        "deletable": false,
        "editable": false,
        "id": "13cc8345",
        "jupyter": {
          "outputs_hidden": true,
          "source_hidden": true
        },
        "outputId": "a75ed422-5798-41b4-b6c6-6e41d4134dd4"
      },
      "outputs": [
        {
          "name": "stdout",
          "output_type": "stream",
          "text": [
            "huggingface/tokenizers: The current process just got forked, after parallelism has already been used. Disabling parallelism to avoid deadlocks...\n",
            "To disable this warning, you can either:\n",
            "\t- Avoid using `tokenizers` before the fork if possible\n",
            "\t- Explicitly set the environment variable TOKENIZERS_PARALLELISM=(true | false)\n",
            "\n"
          ]
        },
        {
          "name": "stderr",
          "output_type": "stream",
          "text": [
            "\n",
            "\u001b[1m[\u001b[0m\u001b[34;49mnotice\u001b[0m\u001b[1;39;49m]\u001b[0m\u001b[39;49m A new release of pip is available: \u001b[0m\u001b[31;49m23.0.1\u001b[0m\u001b[39;49m -> \u001b[0m\u001b[32;49m23.1.2\u001b[0m\n",
            "\u001b[1m[\u001b[0m\u001b[34;49mnotice\u001b[0m\u001b[1;39;49m]\u001b[0m\u001b[39;49m To update, run: \u001b[0m\u001b[32;49mpython3.10 -m pip install --upgrade pip\u001b[0m\n"
          ]
        }
      ],
      "source": [
        "# Please do not change this cell because some hidden tests might depend on it.\n",
        "import os\n",
        "\n",
        "# Otter grader does not handle ! commands well, so we define and use our\n",
        "# own function to execute shell commands.\n",
        "def shell(commands, warn=True):\n",
        "    \"\"\"Executes the string `commands` as a sequence of shell commands.\n",
        "     \n",
        "       Prints the result to stdout and returns the exit status. \n",
        "       Provides a printed warning on non-zero exit status unless `warn` \n",
        "       flag is unset.\n",
        "    \"\"\"\n",
        "    file = os.popen(commands)\n",
        "    print (file.read().rstrip('\\n'))\n",
        "    exit_status = file.close()\n",
        "    if warn and exit_status != None:\n",
        "        print(f\"Completed with errors. Exit status: {exit_status}\\n\")\n",
        "    return exit_status\n",
        "\n",
        "shell(\"\"\"\n",
        "ls requirements.txt >/dev/null 2>&1\n",
        "if [ ! $? = 0 ]; then\n",
        " rm -rf .tmp\n",
        " git clone https://github.com/cs236299-2023-spring/lab1-5.git .tmp\n",
        " mv .tmp/tests ./\n",
        " mv .tmp/requirements.txt ./\n",
        " rm -rf .tmp\n",
        "fi\n",
        "pip install -q -r requirements.txt\n",
        "\"\"\")"
      ]
    },
    {
      "cell_type": "code",
      "execution_count": 69,
      "id": "60feb290",
      "metadata": {
        "deletable": false,
        "editable": false,
        "id": "60feb290"
      },
      "outputs": [],
      "source": [
        "# Initialize Otter\n",
        "import otter\n",
        "grader = otter.Notebook()"
      ]
    },
    {
      "cell_type": "raw",
      "id": "242c48b7",
      "metadata": {
        "id": "242c48b7"
      },
      "source": [
        "%%latex\n",
        "\\newcommand{\\vect}[1]{\\mathbf{#1}}\n",
        "\\newcommand{\\cnt}[1]{\\sharp(#1)}\n",
        "\\newcommand{\\argmax}[1]{\\underset{#1}{\\operatorname{argmax}}}\n",
        "\\newcommand{\\softmax}{\\operatorname{softmax}}\n",
        "\\newcommand{\\Prob}{\\Pr}\n",
        "\\newcommand{\\given}{\\,|\\,}"
      ]
    },
    {
      "cell_type": "markdown",
      "id": "195e1ba3",
      "metadata": {
        "id": "195e1ba3"
      },
      "source": [
        "$$\n",
        "\\renewcommand{\\vect}[1]{\\mathbf{#1}}\n",
        "\\renewcommand{\\cnt}[1]{\\sharp(#1)}\n",
        "\\renewcommand{\\argmax}[1]{\\underset{#1}{\\operatorname{argmax}}}\n",
        "\\renewcommand{\\softmax}{\\operatorname{softmax}}\n",
        "\\renewcommand{\\Prob}{\\Pr}\n",
        "\\renewcommand{\\given}{\\,|\\,}\n",
        "$$"
      ]
    },
    {
      "cell_type": "markdown",
      "id": "e6362ab1",
      "metadata": {
        "id": "e6362ab1",
        "tags": [
          "remove_for_latex"
        ]
      },
      "source": [
        "# Course 236299\n",
        "## Lab 1-5 – Scaling up: Huggingface Datasets, Tokenizers, and PyTorch"
      ]
    },
    {
      "cell_type": "markdown",
      "id": "8048f316",
      "metadata": {
        "id": "8048f316"
      },
      "source": [
        "As you've seen, a typical pipeline for NLP applications based on supervised machine learning involves several standard components:\n",
        "\n",
        "1. Loading of annotated textual corpora.\n",
        "2. Tokenization and normalization of the text.\n",
        "3. Distributing instances into subcorpora, for instance, training, development, and test corpora.\n",
        "4. Training of models on training data, using development data for model selection.\n",
        "5. Evaluation of the models on test data.\n",
        "\n",
        "Rather than recapitulate all of these component tasks for each application, standard packages have been developed to facilitate them. In order to facilitate your own experimentation, it's time to make use of some of these packages to scale up your ability to build and test models. That is the subject of this lab.\n",
        "\n",
        "Huggingface's `datasets` and `tokenizers` libraries provide a uniform system for establishing dataset objects that contain multiple examples, each of which may have multiple features. These libraries provide functions to preprocess, tokenize, or postprocess the data. Dataset objects can be easily split into parts (training and test, for instance), or turned into a sequence of small batches for processing by models. Most importantly, as you will see in future labs, these data loading libraries can be easily integrated with Huggingface's `transformers` library which is widely used in NLP applications these days. \n",
        "\n",
        "This lab provides an introduction to using `datasets`, `tokenizers`, and PyTorch in preparation for its appearance in later labs and homework problem sets.\n",
        "\n",
        "After this lab, you should be able to\n",
        "\n",
        "* Read data loading code implemented using `datasets` and `tokenizers` and understand what it is intending to accomplish.\n",
        "* Run experiments training and testing simple feed-forward neural networks using PyTorch."
      ]
    },
    {
      "cell_type": "markdown",
      "id": "4677a315",
      "metadata": {
        "id": "4677a315"
      },
      "source": [
        "New bits of Python used for the first time in the *distribution version* of this lab include:\n",
        "\n",
        "* Datasets\n",
        "    * [`datasets.load_dataset`](https://huggingface.co/docs/datasets/loading)\n",
        "\n",
        "    * [`datasets.Dataset`](https://huggingface.co/docs/datasets/package_reference/main_classes#datasets.Dataset)\n",
        "    * `datasets.Dataset.shuffle`\n",
        "    * `datasets.Dataset.train_test_split`\n",
        "    * `datasets.Dataset.add_column`\n",
        "    * `datasets.Dataset.map`\n",
        "    * `datasets.Dataset.class_encode_column`\n",
        "    * `datasets.Dataset.align_labels_with_mapping`\n",
        "   \n",
        "* Tokenizers\n",
        "    * [`tokenizers.Tokenizer`](https://huggingface.co/docs/tokenizers/pipeline)\n",
        "    * `tokenizer.Tokenizer.encode`\n",
        "    * `tokenizer.Tokenizer.decode`\n",
        "    * `tokenizer.Tokenizer.get_vocab`\n",
        "    * `tokenizer.Tokenizer.train_from_iterator`\n",
        "    * `tokenizer.processors.TemplateProcessing`\n",
        "\n",
        "* Transformers\n",
        "    * `transformers.PreTrainedTokenizerFast`\n",
        "* Torch\n",
        "    * [`torch.utils.data.DataLoader`](https://pytorch.org/docs/stable/data.html)\n",
        "    * [`torch.nn.Module.eval`](https://pytorch.org/docs/stable/generated/torch.nn.Module.html#torch.nn.Module.eval)\n",
        "    * `torch.nn.Linear`\n",
        "    * `torch.nn.Sigmoid`\n",
        "    * `torch.distributions.normal.Normal`\n",
        "    * `torch.distributions.uniform.Uniform`\n",
        "\n",
        "\n",
        "* `tqdm.tqdm` (for generating progress bars)\n",
        "\n",
        "New bits of Python used for the first time in the *solution set* for this lab, and which you may therefore find useful:\n",
        "\n",
        "* [`torch.Tensor.backward`](https://pytorch.org/docs/stable/autograd.html#torch.Tensor.backward)\n",
        "* [`torch.optim.Optimizer.step`](https://pytorch.org/docs/stable/generated/torch.optim.Optimizer.step.html#torch.optim.Optimizer.step)"
      ]
    },
    {
      "cell_type": "markdown",
      "id": "1f62ceac",
      "metadata": {
        "id": "1f62ceac"
      },
      "source": [
        "# Preparation – Loading packages and data"
      ]
    },
    {
      "cell_type": "code",
      "execution_count": 70,
      "id": "de34aab5",
      "metadata": {
        "deletable": false,
        "editable": false,
        "id": "de34aab5"
      },
      "outputs": [],
      "source": [
        "import copy\n",
        "import math\n",
        "import random\n",
        "import matplotlib.pyplot as plt\n",
        "import os\n",
        "from copy import deepcopy\n",
        "import re\n",
        "import sys\n",
        "import warnings\n",
        "import wget\n",
        "import csv\n",
        "\n",
        "import torch\n",
        "import torch.distributions as ds\n",
        "import torch.nn as nn\n",
        "import torch.nn.functional as F\n",
        "import datasets\n",
        "\n",
        "from datasets import load_dataset\n",
        "from tokenizers import Tokenizer\n",
        "from tokenizers.pre_tokenizers import Whitespace\n",
        "from tokenizers.processors import TemplateProcessing\n",
        "from tokenizers import normalizers\n",
        "from tokenizers.models import WordLevel\n",
        "from tokenizers.trainers import WordLevelTrainer\n",
        "\n",
        "from transformers import PreTrainedTokenizerFast\n",
        "\n",
        "from torch import optim\n",
        "from tqdm import tqdm"
      ]
    },
    {
      "cell_type": "code",
      "execution_count": 71,
      "id": "fa47e1ed",
      "metadata": {
        "colab": {
          "base_uri": "https://localhost:8080/"
        },
        "id": "fa47e1ed",
        "outputId": "8fecc6c6-d1f2-49e0-f59a-c5457462010e"
      },
      "outputs": [
        {
          "name": "stdout",
          "output_type": "stream",
          "text": [
            "cpu\n"
          ]
        }
      ],
      "source": [
        "# Set up plotting\n",
        "plt.style.use('tableau-colorblind10')\n",
        "\n",
        "# Fix random seed for replicability\n",
        "random_seed = 1234\n",
        "random.seed(random_seed)\n",
        "torch.manual_seed(random_seed)\n",
        "\n",
        "## GPU check\n",
        "device = torch.device(\"cuda\" if torch.cuda.is_available() else \"cpu\")\n",
        "print(device)"
      ]
    },
    {
      "cell_type": "markdown",
      "id": "63f0f1e2",
      "metadata": {
        "id": "63f0f1e2"
      },
      "source": [
        "# Manipulating text corpora with `datasets`"
      ]
    },
    {
      "cell_type": "markdown",
      "id": "a20d1410",
      "metadata": {
        "id": "a20d1410"
      },
      "source": [
        "You'll use Huggingface's `datasets` to load the _Green Eggs and Ham_ (GEaH) dataset.\n",
        "\n",
        "We start with reading in the data and performing some ad hoc cleaning (removing comment lines and blank lines)."
      ]
    },
    {
      "cell_type": "code",
      "execution_count": 72,
      "id": "91819d92",
      "metadata": {
        "id": "91819d92"
      },
      "outputs": [],
      "source": [
        "def strip_file(text):\n",
        "    \"\"\"strip #comments and empty lines from `text` string\"\"\"\n",
        "    result = \"\"\n",
        "    for line in text.split(\"\\n\"):\n",
        "        line = line.strip()              # trim whitespace\n",
        "        line = re.sub('#.*$', '', line)  # trim comments\n",
        "        if line != '':                   # drop blank lines\n",
        "            result += line + '\\n'\n",
        "    return result\n",
        "\n",
        "# Read the GEaH data and write out a corresponding CSV file\n",
        "os.makedirs('data', exist_ok=True)\n",
        "wget.download(\"https://github.com/nlp-236299/data/raw/master/Seuss/seuss - 1960 - green eggs and ham.txt\", out=\"data/\")\n",
        "with open('data/seuss - 1960 - green eggs and ham.txt', 'r') as fin:\n",
        "    with open('data/geah.csv', 'w') as fout:\n",
        "        writer = csv.writer(fout)\n",
        "        writer.writerow(('label','text'))\n",
        "        text = strip_file(fin.read())\n",
        "        for line in text.strip().split('\\n'):\n",
        "            label, text = line.split('\\t')\n",
        "            writer.writerow((label, text))"
      ]
    },
    {
      "cell_type": "markdown",
      "id": "e82b0ff0",
      "metadata": {
        "id": "e82b0ff0"
      },
      "source": [
        "## Constructing training and test datasets\n",
        "\n",
        "Take a look at the file `geah.csv`, which we've just processed and placed into the sibling `data` folder. "
      ]
    },
    {
      "cell_type": "code",
      "execution_count": 73,
      "id": "8d318429",
      "metadata": {
        "colab": {
          "base_uri": "https://localhost:8080/"
        },
        "id": "8d318429",
        "outputId": "38c213e4-165e-413d-d0d7-ec28c46535cc"
      },
      "outputs": [
        {
          "name": "stdout",
          "output_type": "stream",
          "text": [
            "huggingface/tokenizers: The current process just got forked, after parallelism has already been used. Disabling parallelism to avoid deadlocks...\n",
            "To disable this warning, you can either:\n",
            "\t- Avoid using `tokenizers` before the fork if possible\n",
            "\t- Explicitly set the environment variable TOKENIZERS_PARALLELISM=(true | false)\n",
            "label,text\n",
            "SAM,I am Sam.\n",
            "SAM,I am Sam.\n",
            "SAM,Sam I am.\n",
            "GUY,That Sam-I-am!\n",
            "GUY,That Sam-I-am!\n",
            "GUY,I do not like that Sam-I-am!\n",
            "SAM,Do you like green eggs and ham?\n",
            "GUY,\"I do not like them, Sam-I-am.\"\n",
            "GUY,I do not like green eggs and ham.\n"
          ]
        }
      ],
      "source": [
        "shell('head \"data/geah.csv\"')"
      ]
    },
    {
      "cell_type": "markdown",
      "id": "2b3fb563",
      "metadata": {
        "id": "2b3fb563"
      },
      "source": [
        "Notice the structure of this corpus. Each line contains a sentence from the book, preceded by a label that provides the speaker of that sentence. The speaker and sentence are separated by a comma. The data is thus set up properly for using Huggingface's [`datasets.load_dataset`](https://huggingface.co/docs/datasets/loading) using its `\"CSV\"` (comma-separated values) format."
      ]
    },
    {
      "cell_type": "markdown",
      "id": "18ddd6f6",
      "metadata": {
        "deletable": false,
        "editable": false,
        "id": "18ddd6f6"
      },
      "source": [
        "Now, you can set up the dataset using [`load_dataset`](https://huggingface.co/docs/datasets/loading). It should look for the CSV data in the file `data/geah.csv`, and should pass the argument `split='all'` such that a `dataset.Dataset` object instead of `dataset.DatasetDict` is returned.\n",
        "\n",
        "<!--\n",
        "BEGIN QUESTION\n",
        "name: dataset_setup\n",
        "-->"
      ]
    },
    {
      "cell_type": "code",
      "execution_count": 74,
      "id": "ee130dae",
      "metadata": {
        "colab": {
          "base_uri": "https://localhost:8080/",
          "height": 116,
          "referenced_widgets": [
            "62a245891c494be2bc4c7378a4eb6fc0",
            "4d5cb3dbdaa646cc91f910a961eac089",
            "abe65f1718244860978da50d46b1ae55",
            "53bd5b727b1948a1aff1659ec4932b9c",
            "01385fc80c8b4c6195c4b32932c2f116",
            "395870ed84114c658f0cd2e2c113d134",
            "61a6f41b92584a84bc2a59295e2dbf7b",
            "9d2b2bd75029408cbd68ab81dbc19a90",
            "e96bcc52c0ab4e89afd1ce1079da4b24",
            "88d85d9dc0ed46af9b2003aac980ed88",
            "fb70ea9339654864947c9b1d2f3818ae",
            "4c9a1e8e387f4e51b960d038d87a186c",
            "3d0a5abe159a4f10ac6c1b84eeb3dd39",
            "36d26c1f4acb47f4b19255ea6fc23243",
            "0a264dcc47ae444b801c56c303850520",
            "8e35241e57e5471b9c295581a83a50de",
            "05620ddad91a444c9fd7b8f11f86c527",
            "3c5cd950ec434581a7645435aa970f1b",
            "2c683f9255c642839fd982f56fd442d5",
            "df43189be2eb4b4db385d0565cfa048b",
            "0bb40ed850824dcbb8777c7fcf762fd6",
            "c0c9f181f8914021b6df93b606976fc6",
            "9509739dbdcc4499b21c3c6bd667aa64",
            "63f8b66128f64139b0a423b823c52390",
            "c2c906a09a014f5a903725607bc8ad50",
            "94d92176bd54472e8e2345c1c392ee3a",
            "29d913fef5384e5aafa1e7dbd1f16cd6",
            "489c06592661483f9a005f305154702c",
            "46e0f86ac3ca4d419c3d9602049897c0",
            "e1fb0e2853744cb1b181b66dc6c5b9b7",
            "b8a082d06e994249b1be62648c354f64",
            "4a34545b68c3491da32551e135ea238f",
            "3a56a95679a245919c5d362e4094da9f"
          ]
        },
        "id": "ee130dae",
        "outputId": "5a1127fc-df20-4a6e-d542-ac352aa18988"
      },
      "outputs": [
        {
          "name": "stdout",
          "output_type": "stream",
          "text": [
            "Downloading and preparing dataset csv/default to /Users/omerbareket/.cache/huggingface/datasets/csv/default-e25fc857ef5bdf9d/0.0.0/6b34fb8fcf56f7c8ba51dc895bfa2bfbe43546f190a60fcf74bb5e8afdcc2317...\n"
          ]
        },
        {
          "data": {
            "application/vnd.jupyter.widget-view+json": {
              "model_id": "5b91691e866a44b2886e218d5f633f18",
              "version_major": 2,
              "version_minor": 0
            },
            "text/plain": [
              "Downloading data files:   0%|          | 0/1 [00:00<?, ?it/s]"
            ]
          },
          "metadata": {},
          "output_type": "display_data"
        },
        {
          "data": {
            "application/vnd.jupyter.widget-view+json": {
              "model_id": "3377b6daecb24363a03dbb5fdbb5edc5",
              "version_major": 2,
              "version_minor": 0
            },
            "text/plain": [
              "Extracting data files:   0%|          | 0/1 [00:00<?, ?it/s]"
            ]
          },
          "metadata": {},
          "output_type": "display_data"
        },
        {
          "data": {
            "application/vnd.jupyter.widget-view+json": {
              "model_id": "da0a118d6d33449ca7a55515c98d533b",
              "version_major": 2,
              "version_minor": 0
            },
            "text/plain": [
              "Generating train split: 0 examples [00:00, ? examples/s]"
            ]
          },
          "metadata": {},
          "output_type": "display_data"
        },
        {
          "name": "stdout",
          "output_type": "stream",
          "text": [
            "Dataset csv downloaded and prepared to /Users/omerbareket/.cache/huggingface/datasets/csv/default-e25fc857ef5bdf9d/0.0.0/6b34fb8fcf56f7c8ba51dc895bfa2bfbe43546f190a60fcf74bb5e8afdcc2317. Subsequent calls will reuse this data.\n"
          ]
        },
        {
          "name": "stderr",
          "output_type": "stream",
          "text": [
            "/opt/homebrew/lib/python3.10/site-packages/datasets/download/streaming_download_manager.py:776: FutureWarning: the 'mangle_dupe_cols' keyword is deprecated and will be removed in a future version. Please take steps to stop the use of 'mangle_dupe_cols'\n",
            "  return pd.read_csv(xopen(filepath_or_buffer, \"rb\", use_auth_token=use_auth_token), **kwargs)\n"
          ]
        }
      ],
      "source": [
        "#TODO: Set up the dataset using `load_dataset`. You should pass\n",
        "# `split='all'` such that a dataset.Dataset object is returned.\n",
        "geah = datasets.load_dataset(\"csv\",data_files= \"data/geah.csv\", split='all')\n",
        "geah = geah.shuffle(seed=random_seed)"
      ]
    },
    {
      "cell_type": "code",
      "execution_count": 75,
      "id": "92b5c9fe",
      "metadata": {
        "colab": {
          "base_uri": "https://localhost:8080/",
          "height": 46
        },
        "deletable": false,
        "editable": false,
        "id": "92b5c9fe",
        "outputId": "4c7927c2-2435-424a-dfcc-b3dd01e083ab"
      },
      "outputs": [
        {
          "data": {
            "text/html": [
              "\n",
              "    \n",
              "    \n",
              "        <p>All tests passed!</p>\n",
              "    \n",
              "    "
            ],
            "text/plain": [
              "\n",
              "    All tests passed!\n",
              "    "
            ]
          },
          "execution_count": 75,
          "metadata": {},
          "output_type": "execute_result"
        }
      ],
      "source": [
        "grader.check(\"dataset_setup\")"
      ]
    },
    {
      "cell_type": "markdown",
      "id": "b29194d7",
      "metadata": {
        "id": "b29194d7"
      },
      "source": [
        "We can see that the loaded dataset has two features: label and text."
      ]
    },
    {
      "cell_type": "code",
      "execution_count": 76,
      "id": "53743000",
      "metadata": {
        "colab": {
          "base_uri": "https://localhost:8080/"
        },
        "id": "53743000",
        "outputId": "b6ec6074-5c05-4324-9886-020d4fe0842c"
      },
      "outputs": [
        {
          "data": {
            "text/plain": [
              "Dataset({\n",
              "    features: ['label', 'text'],\n",
              "    num_rows: 139\n",
              "})"
            ]
          },
          "execution_count": 76,
          "metadata": {},
          "output_type": "execute_result"
        }
      ],
      "source": [
        "geah"
      ]
    },
    {
      "cell_type": "markdown",
      "id": "bef7beeb",
      "metadata": {
        "id": "bef7beeb"
      },
      "source": [
        "We can access examples from this dataset simply by indexing it similar to how we index a Python list."
      ]
    },
    {
      "cell_type": "code",
      "execution_count": 77,
      "id": "d86e540c",
      "metadata": {
        "colab": {
          "base_uri": "https://localhost:8080/"
        },
        "id": "d86e540c",
        "outputId": "13245bf2-4fb0-4fe6-fdd3-9aea964090b4"
      },
      "outputs": [
        {
          "data": {
            "text/plain": [
              "{'label': 'GUY', 'text': 'I do not like them here or there.'}"
            ]
          },
          "execution_count": 77,
          "metadata": {},
          "output_type": "execute_result"
        }
      ],
      "source": [
        "# The first example\n",
        "geah[0]"
      ]
    },
    {
      "cell_type": "code",
      "execution_count": 78,
      "id": "bb9406c9",
      "metadata": {
        "colab": {
          "base_uri": "https://localhost:8080/"
        },
        "id": "bb9406c9",
        "outputId": "5ab93d73-b050-4978-ac01-8a2bcb7cc49b"
      },
      "outputs": [
        {
          "data": {
            "text/plain": [
              "{'label': ['GUY', 'SAM', 'GUY', 'GUY'],\n",
              " 'text': ['I do not like them with a fox.',\n",
              "  'Would you?',\n",
              "  'And I would eat them in a boat.',\n",
              "  'Not in a house.']}"
            ]
          },
          "execution_count": 78,
          "metadata": {},
          "output_type": "execute_result"
        }
      ],
      "source": [
        "# The second to the fifth examples\n",
        "geah[1:5]"
      ]
    },
    {
      "cell_type": "markdown",
      "id": "12ff8cbf",
      "metadata": {
        "deletable": false,
        "editable": false,
        "id": "12ff8cbf"
      },
      "source": [
        "All [`dataset.Dataset`](https://huggingface.co/docs/datasets/package_reference/main_classes#datasets.Dataset) objects have a [`train_test_split`](https://huggingface.co/docs/datasets/package_reference/main_classes#datasets.Dataset.train_test_split) method that splits the dataset into two pieces, for instance, to have a separate training and test set. Use the `train_test_split` method to generate a 70%/30% split of the GEaH corpus into two subsets called `train` and `test`. Note that you need to pass `seed=random_seed` to make sure the splitting to be determinstic and to pass the tests.\n",
        "<!--\n",
        "BEGIN QUESTION\n",
        "name: dataset_split\n",
        "-->"
      ]
    },
    {
      "cell_type": "code",
      "execution_count": 79,
      "id": "33390d65",
      "metadata": {
        "id": "33390d65"
      },
      "outputs": [],
      "source": [
        "#TODO: Split geah into 70% training data and 30% test data\n",
        "# Make sure to pass `seed=random_seed`.\n",
        "train_test = \\\n",
        "    geah.train_test_split(train_size=0.7, test_size=0.3, seed=random_seed)\n",
        "train = train_test['train']\n",
        "test = train_test['test']"
      ]
    },
    {
      "cell_type": "code",
      "execution_count": 80,
      "id": "b47ca8ac",
      "metadata": {
        "colab": {
          "base_uri": "https://localhost:8080/",
          "height": 46
        },
        "deletable": false,
        "editable": false,
        "id": "b47ca8ac",
        "outputId": "9f54dcf5-db14-453f-dcf7-5d1af4e6c809"
      },
      "outputs": [
        {
          "data": {
            "text/html": [
              "\n",
              "    \n",
              "    \n",
              "        <p>All tests passed!</p>\n",
              "    \n",
              "    "
            ],
            "text/plain": [
              "\n",
              "    All tests passed!\n",
              "    "
            ]
          },
          "execution_count": 80,
          "metadata": {},
          "output_type": "execute_result"
        }
      ],
      "source": [
        "grader.check(\"dataset_split\")"
      ]
    },
    {
      "cell_type": "markdown",
      "id": "1ad7c5fb",
      "metadata": {
        "id": "1ad7c5fb"
      },
      "source": [
        "For the label feature, we can convert it to integer label ids to facilitate processing it with models such as neural networks using [`datasets.Dataset.class_encode_column`](https://huggingface.co/docs/datasets/v2.12.0/en/package_reference/main_classes#datasets.Dataset.class_encode_column)."
      ]
    },
    {
      "cell_type": "code",
      "execution_count": 81,
      "id": "1bed0860",
      "metadata": {
        "colab": {
          "base_uri": "https://localhost:8080/",
          "height": 17,
          "referenced_widgets": [
            "f107318656cf4fb1a4d93be10f0194cb",
            "4f4b3385a2d84d2583d1303710925743",
            "f713e17f4fcb4b73b6f159ba64e32b25",
            "326c6519a90144ce81aaad2b7848465b",
            "d9a02f2bd20542eb9867028a0c567bee",
            "9d2e74abdb2249f084f2dec862fb0f4e",
            "a1bd6700be294cfd9044cf2802828198",
            "998c0619e4de497081978cc27f5525ff",
            "6beb5cdeae5346bdb254aa6de1e96738",
            "972f27ac867f49879185a19237511e95",
            "e82d7ec2489c4a54babf8db808b6b233",
            "33b51425f8344e8186e676dc45592e07",
            "ee3497b9f6d44d99bd2607c66681c40e",
            "0b1e091c04474fceb880945ee8b5b60d",
            "9e8b72df09ba4346a01c87b99abd7719",
            "4c674835c0754130ad5ec15268c92560",
            "8366207cac984454ac0a4e51841aaa4f",
            "86789155fadc4e54be37999e2769f5f5",
            "4f05237cd0bb47d6b296a6afc2587482",
            "e14a31944d4141d1a46e8f733f677ed8",
            "6c6178c75113439c8af05c12c58f4a68",
            "974061a550e34630ac8baac1798b37f7",
            "1d385a3f575449ae863e4596f5d4e014",
            "4cd02fe9bb264513b17235f42e5d1737",
            "71be5666d6fa4853816969579ad3227a",
            "958dc16f8d974bef9158efb2ac0d1323",
            "51b88298661248f293a20eb14a6c8f2c",
            "c2c4c010268b4163808331f5fef99d05",
            "c27fb82054294813adb6b3e1e912b5f3",
            "ee6c49ba77ae4a9bad06de0b84ef43dd",
            "eee8d7aa0005439ca75b0b65c49947e4",
            "136a57d061f54124ac6c348f650be8f1",
            "03a4b5661a3a496081daa4ba5135236c",
            "4cefa48a101946d5963e7fdc4b6be062",
            "7f9c4c13587f4045b2be34b77d3d3082",
            "586036f9b21d4a12b663f977165b6ab6",
            "099a64b5670840c8892733fc152c2dbf",
            "d50c11309dfc4915b12e2a4edf338c0e",
            "e9706fad5742404d847a44bd62610342",
            "a646e461bb3b4706ab394ff57bc3c987",
            "5574508c5477497e9d6e8bb9c3cd0b4e",
            "eae983538a14478ab26d635a50ed0c8f",
            "e7d0f1f9379341c3b5d800b0cee16bf7",
            "19412486009f49f2b7b53c0074859a72",
            "c5123683606042a0afb8608e20564f15",
            "3ac48ac763914103925f6923ddc81f07",
            "502def375ba945c3b92233c62603afef",
            "3fab29f9a92040d692815430eb0cb208",
            "c069637a773a41fb821a500f53e71679",
            "5a07946ab3ca46b08e7bfd994a8bbc09",
            "1ed8fc5841c1418dbc2fb96ffecbf350",
            "79196b23c81349f3a0e07191f8888bd8",
            "4e8e63c174f24d23b3a1ccc48f376422",
            "16cb7094538a4330b703749e833cceca",
            "ae2ed2db13854c5dafcfa6adf591f7b8"
          ]
        },
        "id": "1bed0860",
        "outputId": "038c6f16-b454-4afb-8e6d-c94ca650a187"
      },
      "outputs": [
        {
          "data": {
            "application/vnd.jupyter.widget-view+json": {
              "model_id": "c9db16bee5bb4f0eaa0bdb958abe3803",
              "version_major": 2,
              "version_minor": 0
            },
            "text/plain": [
              "Flattening the indices:   0%|          | 0/97 [00:00<?, ? examples/s]"
            ]
          },
          "metadata": {},
          "output_type": "display_data"
        },
        {
          "data": {
            "application/vnd.jupyter.widget-view+json": {
              "model_id": "f58ed3fa7e344315b539ff53b7b943cf",
              "version_major": 2,
              "version_minor": 0
            },
            "text/plain": [
              "Flattening the indices:   0%|          | 0/42 [00:00<?, ? examples/s]"
            ]
          },
          "metadata": {},
          "output_type": "display_data"
        },
        {
          "data": {
            "application/vnd.jupyter.widget-view+json": {
              "model_id": "7c1e791db2654443a1d9c855219bbf10",
              "version_major": 2,
              "version_minor": 0
            },
            "text/plain": [
              "Casting to class labels:   0%|          | 0/97 [00:00<?, ? examples/s]"
            ]
          },
          "metadata": {},
          "output_type": "display_data"
        },
        {
          "data": {
            "application/vnd.jupyter.widget-view+json": {
              "model_id": "31147fcc067e4f119209727e6f026754",
              "version_major": 2,
              "version_minor": 0
            },
            "text/plain": [
              "Casting to class labels:   0%|          | 0/42 [00:00<?, ? examples/s]"
            ]
          },
          "metadata": {},
          "output_type": "display_data"
        },
        {
          "data": {
            "application/vnd.jupyter.widget-view+json": {
              "model_id": "f1526e4e73894fdba45ece3dc1599297",
              "version_major": 2,
              "version_minor": 0
            },
            "text/plain": [
              "Aligning the labels:   0%|          | 0/42 [00:00<?, ? examples/s]"
            ]
          },
          "metadata": {},
          "output_type": "display_data"
        }
      ],
      "source": [
        "train = train.add_column('label_id', train['label'])\n",
        "test = test.add_column('label_id', test['label'])\n",
        "train = train.class_encode_column('label_id')\n",
        "\n",
        "label2id = train.features['label_id']._str2int\n",
        "test = test.class_encode_column('label_id')\n",
        "test = test.align_labels_with_mapping(label2id, \"label_id\")"
      ]
    },
    {
      "cell_type": "markdown",
      "id": "92caf06c",
      "metadata": {
        "id": "92caf06c"
      },
      "source": [
        "The new feature `label_id` stores the label ids."
      ]
    },
    {
      "cell_type": "code",
      "execution_count": 82,
      "id": "8187ed5f",
      "metadata": {
        "colab": {
          "base_uri": "https://localhost:8080/"
        },
        "id": "8187ed5f",
        "outputId": "1e0933d1-eb0a-4720-a419-d4e218facc74"
      },
      "outputs": [
        {
          "data": {
            "text/plain": [
              "{'label': ['GUY', 'GUY', 'GUY', 'GUY'],\n",
              " 'text': ['Say!',\n",
              "  'Not in a tree!',\n",
              "  'You will see.',\n",
              "  'I would not eat them anywhere.'],\n",
              " 'label_id': [0, 0, 0, 0]}"
            ]
          },
          "execution_count": 82,
          "metadata": {},
          "output_type": "execute_result"
        }
      ],
      "source": [
        "train[1:5]"
      ]
    },
    {
      "cell_type": "markdown",
      "id": "7bb9ee9f",
      "metadata": {
        "id": "7bb9ee9f"
      },
      "source": [
        "Now let's turn our attention to text features. As we have explored in lab 1-1, text is usually represented as a sequence of integer word ids. In Huggingface datasets, we need to create a tokenizer which both specifies how to tokenize text into a sequence of tokens and also internally maintains a _vocabulary_ which establishes the mapping from types to indices. We will use the training corpus to establish the vocabulary."
      ]
    },
    {
      "cell_type": "code",
      "execution_count": 83,
      "id": "8fb4343e",
      "metadata": {
        "id": "8fb4343e"
      },
      "outputs": [],
      "source": [
        "unk_token = '[UNK]' # unknown token\n",
        "pad_token = '[PAD]' # padding token\n",
        "# Instantiate a tokenizer\n",
        "tokenizer = Tokenizer(WordLevel(unk_token=unk_token))  # WordLevel is a simplest tokenization model that doesn't split the words\n",
        "tokenizer.pre_tokenizer = Whitespace()  # pre-tokenizer splits the text into words    \n",
        "tokenizer.normalizer = normalizers.Lowercase() # normalizer lowercases the text\n",
        "\n",
        "# Build the vocabulary from training data\n",
        "trainer = WordLevelTrainer(special_tokens=[pad_token, unk_token]) # trainer is responsible for building the vocabulary\n",
        "tokenizer.train_from_iterator(train['text'], trainer=trainer)"
      ]
    },
    {
      "cell_type": "markdown",
      "id": "78d5cc55",
      "metadata": {
        "id": "78d5cc55"
      },
      "source": [
        "Let's try out the tokenizer on some examples."
      ]
    },
    {
      "cell_type": "code",
      "execution_count": 84,
      "id": "abd4e420",
      "metadata": {
        "colab": {
          "base_uri": "https://localhost:8080/"
        },
        "id": "abd4e420",
        "outputId": "670920c5-a831-47d3-9222-d744c252bfcb"
      },
      "outputs": [
        {
          "name": "stdout",
          "output_type": "stream",
          "text": [
            "tokens: ['i', 'am', 'sam', '.']\n",
            "word ids: [4, 21, 17, 3]\n",
            "converted back: i am sam .\n"
          ]
        }
      ],
      "source": [
        "encoded = tokenizer.encode('I am Sam.')\n",
        "print (f'tokens: {encoded.tokens}')\n",
        "print (f'word ids: {encoded.ids}')\n",
        "print (f'converted back: {tokenizer.decode(encoded.ids, skip_special_tokens=False)}')"
      ]
    },
    {
      "cell_type": "code",
      "execution_count": 85,
      "id": "00f71cdf",
      "metadata": {
        "colab": {
          "base_uri": "https://localhost:8080/"
        },
        "id": "00f71cdf",
        "outputId": "5c7f6ea6-2bac-4823-f680-3ce61a7d51eb"
      },
      "outputs": [
        {
          "name": "stdout",
          "output_type": "stream",
          "text": [
            "tokens: ['[UNK]', '[UNK]', 'with', '[UNK]', '[UNK]', '[UNK]', '.']\n",
            "word ids: [1, 1, 19, 1, 1, 1, 3]\n",
            "converted back: [UNK] [UNK] with [UNK] [UNK] [UNK] .\n"
          ]
        }
      ],
      "source": [
        "encoded = tokenizer.encode('An example with many unknown tokens.')\n",
        "print (f'tokens: {encoded.tokens}')\n",
        "print (f'word ids: {encoded.ids}')\n",
        "print (f'converted back: {tokenizer.decode(encoded.ids, skip_special_tokens=False)}')"
      ]
    },
    {
      "cell_type": "markdown",
      "id": "108b41ab",
      "metadata": {
        "id": "108b41ab"
      },
      "source": [
        "In future labs we will also use `tokenizer.post_processor` which can be used to post-process the tokenized text. In the following example we will add exclamation points `!` in the beginning and end of the tokenized text using [TemplateProcessing](https://huggingface.co/docs/tokenizers/v0.13.3/en/api/post-processors#tokenizers.processors.TemplateProcessing)."
      ]
    },
    {
      "cell_type": "code",
      "execution_count": 86,
      "id": "9a31e09e",
      "metadata": {
        "colab": {
          "base_uri": "https://localhost:8080/"
        },
        "id": "9a31e09e",
        "outputId": "1b3102d9-080e-44d3-8263-76d7f5cf3bd4"
      },
      "outputs": [
        {
          "name": "stdout",
          "output_type": "stream",
          "text": [
            "tokens: ['!', 'i', 'am', 'sam', '.', '!']\n",
            "word ids: [10, 4, 21, 17, 3, 10]\n",
            "converted back: ! i am sam . !\n"
          ]
        }
      ],
      "source": [
        "exclamation_point = '!'\n",
        "post_procssing_tokenizer = deepcopy(tokenizer) # we clone the tokenizer for this example\n",
        "post_procssing_tokenizer.post_processor = TemplateProcessing(single=f\"{exclamation_point} $A {exclamation_point}\", \n",
        "                                                             special_tokens=[(exclamation_point, post_procssing_tokenizer.token_to_id(exclamation_point))])\n",
        "\n",
        "encoded = post_procssing_tokenizer.encode('I am Sam.')\n",
        "print (f'tokens: {encoded.tokens}')\n",
        "print (f'word ids: {encoded.ids}')\n",
        "print (f'converted back: {post_procssing_tokenizer.decode(encoded.ids, skip_special_tokens=False)}')"
      ]
    },
    {
      "cell_type": "markdown",
      "id": "78dd6550",
      "metadata": {
        "id": "78dd6550"
      },
      "source": [
        "With a tokenizer, we can convert text strings into integer word ids using `datasets.Dataset.map`. But first we need to wrap `tokenizer` with the [`transformers.PreTrainedTokenizerFast`](https://huggingface.co/docs/transformers/v4.26.1/en/main_classes/tokenizer#transformers.PreTrainedTokenizerFast) class. `transformers.PreTrainedTokenizerFast` provide a convenient interface for tokenizers that are compatible with __PyTorch tensors__."
      ]
    },
    {
      "cell_type": "code",
      "execution_count": 87,
      "id": "25529119",
      "metadata": {
        "id": "25529119"
      },
      "outputs": [],
      "source": [
        "hf_tokenizer = PreTrainedTokenizerFast(tokenizer_object=tokenizer, pad_token=pad_token, unk_token=unk_token)"
      ]
    },
    {
      "cell_type": "markdown",
      "id": "9d954fbc",
      "metadata": {
        "id": "9d954fbc"
      },
      "source": [
        "This `hf_tokenizer` takes in a text string and converts it to a sequence of word ids stored in `input_ids` of the returned dictionary. (You can ignore `token_type_ids` and `attention_mask` for now.)"
      ]
    },
    {
      "cell_type": "code",
      "execution_count": 88,
      "id": "6d004d0e",
      "metadata": {
        "colab": {
          "base_uri": "https://localhost:8080/"
        },
        "id": "6d004d0e",
        "outputId": "15284fa9-8020-4029-f863-bad09f9f0a51"
      },
      "outputs": [
        {
          "data": {
            "text/plain": [
              "{'input_ids': [4, 21, 17, 3], 'token_type_ids': [0, 0, 0, 0], 'attention_mask': [1, 1, 1, 1]}"
            ]
          },
          "execution_count": 88,
          "metadata": {},
          "output_type": "execute_result"
        }
      ],
      "source": [
        "text = 'I am Sam.'\n",
        "hf_tokenizer(text)"
      ]
    },
    {
      "cell_type": "markdown",
      "id": "6874791f",
      "metadata": {
        "id": "6874791f"
      },
      "source": [
        "We can use the `hf_tokenizer` to get a list of tokens."
      ]
    },
    {
      "cell_type": "code",
      "execution_count": 89,
      "id": "a9db9f59",
      "metadata": {
        "colab": {
          "base_uri": "https://localhost:8080/"
        },
        "id": "a9db9f59",
        "outputId": "5977e689-5453-42ec-8921-d4c1d292382d"
      },
      "outputs": [
        {
          "data": {
            "text/plain": [
              "['i', 'am', 'sam', '.']"
            ]
          },
          "execution_count": 89,
          "metadata": {},
          "output_type": "execute_result"
        }
      ],
      "source": [
        "text = 'I am Sam.'\n",
        "hf_tokenizer.tokenize(text)"
      ]
    },
    {
      "cell_type": "markdown",
      "id": "763f2e91",
      "metadata": {
        "id": "763f2e91"
      },
      "source": [
        "`hf_tokenizer` can also be used to decode the encoded text."
      ]
    },
    {
      "cell_type": "code",
      "execution_count": 90,
      "id": "43c4e7ef",
      "metadata": {
        "colab": {
          "base_uri": "https://localhost:8080/"
        },
        "id": "43c4e7ef",
        "outputId": "6e65af52-e6a0-4d55-b422-2c31c42827c4"
      },
      "outputs": [
        {
          "name": "stdout",
          "output_type": "stream",
          "text": [
            "text: I am Sam.\n",
            "encoded_text: [4, 21, 17, 3]\n",
            "decoded_text: i am sam.\n",
            "decoded_token list: ['i', 'am', 'sam', '.']\n"
          ]
        }
      ],
      "source": [
        "text = 'I am Sam.'\n",
        "encoded_text = hf_tokenizer(text).input_ids\n",
        "decoded_text = hf_tokenizer.decode(encoded_text)\n",
        "decoded_tokens = hf_tokenizer.convert_ids_to_tokens(encoded_text)\n",
        "print(f\"text: {text}\")\n",
        "print(f\"encoded_text: {encoded_text}\")\n",
        "print(f\"decoded_text: {decoded_text}\")\n",
        "print(f\"decoded_token list: {decoded_tokens}\")"
      ]
    },
    {
      "cell_type": "markdown",
      "id": "d35b003d",
      "metadata": {
        "id": "d35b003d"
      },
      "source": [
        "Note that `hf_tokenizer` also stores the vocabulary and the special tokens we provide it in the initialization."
      ]
    },
    {
      "cell_type": "code",
      "execution_count": 91,
      "id": "06c7776d",
      "metadata": {
        "colab": {
          "base_uri": "https://localhost:8080/"
        },
        "id": "06c7776d",
        "outputId": "81fe4f30-478f-48e5-81e2-f37054541eb9"
      },
      "outputs": [
        {
          "name": "stdout",
          "output_type": "stream",
          "text": [
            "hf_tokenizer.unk_token: [UNK]\n",
            "hf_tokenizer.unk_token_id: 1\n",
            "hf_tokenizer.pad_token: [PAD]\n",
            "hf_tokenizer.pad_token_id: 0\n",
            "hf_tokenizer.get_vocab():\n",
            " {'green': 24, '[UNK]': 1, 'that': 50, 'box': 36, 'i': 4, 'boat': 42, 'so': 34, 'they': 51, 'in': 9, 'there': 32, 'the': 26, 'be': 54, 'let': 55, 'goat': 44, 'me': 56, 'and': 13, 'eggs': 23, 'would': 14, 'house': 38, 'ham': 25, 'say': 40, 'are': 47, 'good': 48, 'mouse': 28, 'not': 2, 'may': 45, 'here': 27, 'will': 18, '.': 3, '-': 15, 'sam': 17, 'you': 12, 'anywhere': 35, 'rain': 39, 'tree': 41, 'try': 52, '!': 10, 'see': 46, 'do': 11, 'them': 6, 'with': 19, 'eat': 16, ',': 7, 'car': 31, 'dark': 37, '[PAD]': 0, 'a': 5, 'like': 8, 'could': 22, '?': 20, '...': 53, 'or': 33, 'fox': 43, 'thank': 49, 'train': 30, 'on': 29, 'am': 21}\n",
            "len(hf_tokenizer) == len(hf_tokenizer.get_vocab()): 57\n"
          ]
        }
      ],
      "source": [
        "print(f\"hf_tokenizer.unk_token: {hf_tokenizer.unk_token}\")\n",
        "print(f\"hf_tokenizer.unk_token_id: {hf_tokenizer.unk_token_id}\")\n",
        "print(f\"hf_tokenizer.pad_token: {hf_tokenizer.pad_token}\")\n",
        "print(f\"hf_tokenizer.pad_token_id: {hf_tokenizer.pad_token_id}\")\n",
        "print(f\"hf_tokenizer.get_vocab():\\n {hf_tokenizer.get_vocab()}\")\n",
        "print(f\"len(hf_tokenizer) == len(hf_tokenizer.get_vocab()): {len(hf_tokenizer)}\")\n"
      ]
    },
    {
      "cell_type": "markdown",
      "id": "51166ff6",
      "metadata": {
        "id": "51166ff6"
      },
      "source": [
        "Now we can convert text into word ids using [`datasets.Dataset.map`](https://huggingface.co/docs/datasets/v2.12.0/en/package_reference/main_classes#datasets.Dataset.map)."
      ]
    },
    {
      "cell_type": "code",
      "execution_count": 92,
      "id": "19c3ec1d",
      "metadata": {
        "colab": {
          "base_uri": "https://localhost:8080/",
          "height": 17,
          "referenced_widgets": [
            "63d19c1d46c74c2189e4d763df1cd699",
            "688e82abea154fd1a6de37d5580d5cca",
            "0566582fabc34f2c8871a733e719e755",
            "faf4b0ad6ccf45ceb222e1bfb6d5232d",
            "93b48650853446229f6e70da689935f5",
            "ccb87f119a664753bcbb91b8c09938bf",
            "6c23e8b922d34214ab5b44e917f7aacb",
            "3090bc2e042e46c7a7ae2318bef8bb7c",
            "2255eff20eff482bbae433691069cac3",
            "01e1bc9fdd954651a9b743fd56dcfed5",
            "bf7be332710a4dcf926332fec96c9d14",
            "24d824f875de499f968d3a64fd3af248",
            "1f3c700d6e2d430aaf275c046afea4bf",
            "8be34d4a5c6b4c11b6eabb307ddc9388",
            "e5ce594f22164ffcaa81d21a84e348ca",
            "77eb6773105b4d72923b8727ad7f7efe",
            "1106ff317e054b9bb3a8f1326f0e4b07",
            "698d854006df44e084d08291f8db9f49",
            "f17778e94d9a4836acf39e1068ccfb04",
            "940179e25bec439897348792d9b5a09f",
            "6f95ba63ec1e46b5a3be9cd3ee729623",
            "b2faf837220f4e1aa7e33d32377f8891"
          ]
        },
        "id": "19c3ec1d",
        "outputId": "4fb4d998-1dd0-4be9-eed8-0a50086db245"
      },
      "outputs": [
        {
          "data": {
            "application/vnd.jupyter.widget-view+json": {
              "model_id": "28a879a298074f29b96aaf86acabe23b",
              "version_major": 2,
              "version_minor": 0
            },
            "text/plain": [
              "Map:   0%|          | 0/97 [00:00<?, ? examples/s]"
            ]
          },
          "metadata": {},
          "output_type": "display_data"
        },
        {
          "data": {
            "application/vnd.jupyter.widget-view+json": {
              "model_id": "2d19474accd54b4cafc5ee80edcaeeb5",
              "version_major": 2,
              "version_minor": 0
            },
            "text/plain": [
              "Map:   0%|          | 0/42 [00:00<?, ? examples/s]"
            ]
          },
          "metadata": {},
          "output_type": "display_data"
        }
      ],
      "source": [
        "def encode(example):\n",
        "    return hf_tokenizer(example['text'])\n",
        "\n",
        "train = train.map(encode)\n",
        "test = test.map(encode)"
      ]
    },
    {
      "cell_type": "markdown",
      "id": "449e8ba7",
      "metadata": {
        "id": "449e8ba7"
      },
      "source": [
        "Let's take a look at one example from the mapped dataset. The new feature `input_ids` contain the word ids."
      ]
    },
    {
      "cell_type": "code",
      "execution_count": 93,
      "id": "98634aa9",
      "metadata": {
        "colab": {
          "base_uri": "https://localhost:8080/"
        },
        "id": "98634aa9",
        "outputId": "26ed75be-df03-43ef-aa89-47e76c27b8fa"
      },
      "outputs": [
        {
          "data": {
            "text/plain": [
              "{'label': 'GUY',\n",
              " 'text': 'I will not eat them anywhere.',\n",
              " 'label_id': 0,\n",
              " 'input_ids': [4, 18, 2, 16, 6, 35, 3],\n",
              " 'token_type_ids': [0, 0, 0, 0, 0, 0, 0],\n",
              " 'attention_mask': [1, 1, 1, 1, 1, 1, 1]}"
            ]
          },
          "execution_count": 93,
          "metadata": {},
          "output_type": "execute_result"
        }
      ],
      "source": [
        "train[0]"
      ]
    },
    {
      "cell_type": "markdown",
      "id": "421c5674",
      "metadata": {
        "id": "421c5674"
      },
      "source": [
        "Again, we can view several examples at once."
      ]
    },
    {
      "cell_type": "code",
      "execution_count": 94,
      "id": "7e8032a5",
      "metadata": {
        "colab": {
          "base_uri": "https://localhost:8080/"
        },
        "id": "7e8032a5",
        "outputId": "63e73c4b-cef2-4fdf-8a22-f97700a12ebc"
      },
      "outputs": [
        {
          "data": {
            "text/plain": [
              "{'label': ['GUY', 'GUY', 'GUY', 'GUY'],\n",
              " 'text': ['Say!',\n",
              "  'Not in a tree!',\n",
              "  'You will see.',\n",
              "  'I would not eat them anywhere.'],\n",
              " 'label_id': [0, 0, 0, 0],\n",
              " 'input_ids': [[40, 10],\n",
              "  [2, 9, 5, 41, 10],\n",
              "  [12, 18, 46, 3],\n",
              "  [4, 14, 2, 16, 6, 35, 3]],\n",
              " 'token_type_ids': [[0, 0],\n",
              "  [0, 0, 0, 0, 0],\n",
              "  [0, 0, 0, 0],\n",
              "  [0, 0, 0, 0, 0, 0, 0]],\n",
              " 'attention_mask': [[1, 1],\n",
              "  [1, 1, 1, 1, 1],\n",
              "  [1, 1, 1, 1],\n",
              "  [1, 1, 1, 1, 1, 1, 1]]}"
            ]
          },
          "execution_count": 94,
          "metadata": {},
          "output_type": "execute_result"
        }
      ],
      "source": [
        "train[1:5]"
      ]
    },
    {
      "cell_type": "markdown",
      "id": "547c11e8",
      "metadata": {
        "id": "547c11e8"
      },
      "source": [
        "The text and label features now have vocabularies that maps the elements of the vocabulary to integer index representations of the elements, accessible via the below code."
      ]
    },
    {
      "cell_type": "code",
      "execution_count": 95,
      "id": "d03608d1",
      "metadata": {
        "id": "d03608d1"
      },
      "outputs": [],
      "source": [
        "text_vocab = tokenizer.get_vocab()\n",
        "label_vocab = train.features['label_id']._str2int"
      ]
    },
    {
      "cell_type": "code",
      "execution_count": 96,
      "id": "026ce8f9",
      "metadata": {
        "colab": {
          "base_uri": "https://localhost:8080/"
        },
        "id": "026ce8f9",
        "outputId": "70a012d9-eeae-4d1c-a5d1-6e55d68a22ad"
      },
      "outputs": [
        {
          "data": {
            "text/plain": [
              "{'GUY': 0, 'SAM': 1}"
            ]
          },
          "execution_count": 96,
          "metadata": {},
          "output_type": "execute_result"
        }
      ],
      "source": [
        "label_vocab"
      ]
    },
    {
      "cell_type": "code",
      "execution_count": 97,
      "id": "b29d0360",
      "metadata": {
        "colab": {
          "base_uri": "https://localhost:8080/"
        },
        "id": "b29d0360",
        "outputId": "dd46c27c-bfe6-43b3-f749-9da0b4f478bf"
      },
      "outputs": [
        {
          "data": {
            "text/plain": [
              "{'[UNK]': 1,\n",
              " 'they': 51,\n",
              " 'could': 22,\n",
              " 'say': 40,\n",
              " 'see': 46,\n",
              " 'that': 50,\n",
              " 'car': 31,\n",
              " '-': 15,\n",
              " 'house': 38,\n",
              " 'let': 55,\n",
              " 'so': 34,\n",
              " 'rain': 39,\n",
              " 'with': 19,\n",
              " 'may': 45,\n",
              " 'thank': 49,\n",
              " '...': 53,\n",
              " 'anywhere': 35,\n",
              " 'eggs': 23,\n",
              " 'and': 13,\n",
              " 'good': 48,\n",
              " 'am': 21,\n",
              " 'on': 29,\n",
              " 'box': 36,\n",
              " 'fox': 43,\n",
              " 'me': 56,\n",
              " 'would': 14,\n",
              " 'or': 33,\n",
              " 'try': 52,\n",
              " 'them': 6,\n",
              " 'green': 24,\n",
              " 'are': 47,\n",
              " 'do': 11,\n",
              " 'a': 5,\n",
              " 'tree': 41,\n",
              " '.': 3,\n",
              " 'there': 32,\n",
              " 'not': 2,\n",
              " 'in': 9,\n",
              " 'boat': 42,\n",
              " 'will': 18,\n",
              " 'here': 27,\n",
              " 'sam': 17,\n",
              " 'be': 54,\n",
              " '?': 20,\n",
              " 'like': 8,\n",
              " 'i': 4,\n",
              " 'mouse': 28,\n",
              " '[PAD]': 0,\n",
              " 'you': 12,\n",
              " 'goat': 44,\n",
              " 'eat': 16,\n",
              " ',': 7,\n",
              " 'the': 26,\n",
              " 'train': 30,\n",
              " '!': 10,\n",
              " 'ham': 25,\n",
              " 'dark': 37}"
            ]
          },
          "execution_count": 97,
          "metadata": {},
          "output_type": "execute_result"
        }
      ],
      "source": [
        "text_vocab"
      ]
    },
    {
      "cell_type": "markdown",
      "id": "484832bc",
      "metadata": {
        "deletable": false,
        "editable": false,
        "id": "484832bc"
      },
      "source": [
        "How many elements are there in these vocabularies? You can use the `len` function to find out.\n",
        "<!--\n",
        "BEGIN QUESTION\n",
        "name: vocab_sizes\n",
        "-->"
      ]
    },
    {
      "cell_type": "code",
      "execution_count": 98,
      "id": "9684cdcf",
      "metadata": {
        "id": "9684cdcf"
      },
      "outputs": [],
      "source": [
        "#TODO: Calculate the sizes of label_vocab and text_vocab\n",
        "label_vocab_size = len(label_vocab)\n",
        "text_vocab_size = len(text_vocab)"
      ]
    },
    {
      "cell_type": "code",
      "execution_count": 99,
      "id": "1d984d76",
      "metadata": {
        "colab": {
          "base_uri": "https://localhost:8080/",
          "height": 46
        },
        "deletable": false,
        "editable": false,
        "id": "1d984d76",
        "outputId": "2af2dbd4-2144-4b96-8f2f-6a750ee7f37d"
      },
      "outputs": [
        {
          "data": {
            "text/html": [
              "\n",
              "    \n",
              "    \n",
              "        <p>All tests passed!</p>\n",
              "    \n",
              "    "
            ],
            "text/plain": [
              "\n",
              "    All tests passed!\n",
              "    "
            ]
          },
          "execution_count": 99,
          "metadata": {},
          "output_type": "execute_result"
        }
      ],
      "source": [
        "grader.check(\"vocab_sizes\")"
      ]
    },
    {
      "cell_type": "code",
      "execution_count": 100,
      "id": "f922fcc4",
      "metadata": {
        "colab": {
          "base_uri": "https://localhost:8080/"
        },
        "id": "f922fcc4",
        "outputId": "6f1bd3e7-7548-45d7-b953-89d65ffe87d5"
      },
      "outputs": [
        {
          "name": "stdout",
          "output_type": "stream",
          "text": [
            "label vocabulary size is 2\n",
            "text vocabulary size is 57\n"
          ]
        }
      ],
      "source": [
        "print(f\"label vocabulary size is {label_vocab_size}\\n\"\n",
        "      f\"text vocabulary size is {text_vocab_size}\")"
      ]
    },
    {
      "cell_type": "markdown",
      "id": "552f82f4",
      "metadata": {
        "id": "552f82f4"
      },
      "source": [
        "## Operations over datasets\n",
        "\n",
        "We now have training and test datasets. You can experiment with the kinds of operations you'll need to do to implement models like Naive Bayes or logistic regression.\n",
        "\n",
        "For instance, you can inspect an example from the dataset."
      ]
    },
    {
      "cell_type": "code",
      "execution_count": 101,
      "id": "72dbaedf",
      "metadata": {
        "colab": {
          "base_uri": "https://localhost:8080/"
        },
        "id": "72dbaedf",
        "outputId": "a7ffa7db-2718-469a-ec48-a6cb8766a34a"
      },
      "outputs": [
        {
          "name": "stdout",
          "output_type": "stream",
          "text": [
            "text: Say!\n",
            "label: GUY\n"
          ]
        }
      ],
      "source": [
        "example = train[1] # the second instance\n",
        "print (f\"text: {example['text']}\\n\"\n",
        "       f\"label: {example['label']}\")"
      ]
    },
    {
      "cell_type": "markdown",
      "id": "6880741f",
      "metadata": {
        "deletable": false,
        "editable": false,
        "id": "6880741f"
      },
      "source": [
        "You might also need to iterate over the different class labels (`label_vocab`) or the word types (`text_vocab`). Define a function that iterates over a vocabulary and prints each one out in alphabetical order along with their corresponding ids like this:\n",
        "\n",
        "```\n",
        ">>> print_vocab(label_vocab)\n",
        "GUY: 0\n",
        "SAM: 1\n",
        "```\n",
        "\n",
        "<!--\n",
        "BEGIN QUESTION\n",
        "name: print_vocab\n",
        "-->"
      ]
    },
    {
      "cell_type": "code",
      "execution_count": 102,
      "id": "4f35a28e",
      "metadata": {
        "id": "4f35a28e"
      },
      "outputs": [],
      "source": [
        "#TODO: print out vocabulary in alphabetical order with ids\n",
        "def print_vocab(vocab):\n",
        "    sorted_dict = {key: value for key, value in sorted(vocab.items())}\n",
        "    for key, value in sorted_dict.items():\n",
        "        print(str(key) + \": \" + str(value))"
      ]
    },
    {
      "cell_type": "code",
      "execution_count": 103,
      "id": "2d94c5c2",
      "metadata": {
        "colab": {
          "base_uri": "https://localhost:8080/",
          "height": 46
        },
        "deletable": false,
        "editable": false,
        "id": "2d94c5c2",
        "outputId": "0b751dc7-6fcb-4ded-eec8-d610a8a83fa8"
      },
      "outputs": [
        {
          "data": {
            "text/html": [
              "\n",
              "    \n",
              "    \n",
              "        <p>All tests passed!</p>\n",
              "    \n",
              "    "
            ],
            "text/plain": [
              "\n",
              "    All tests passed!\n",
              "    "
            ]
          },
          "execution_count": 103,
          "metadata": {},
          "output_type": "execute_result"
        }
      ],
      "source": [
        "grader.check(\"print_vocab\")"
      ]
    },
    {
      "cell_type": "markdown",
      "id": "724f5ebc",
      "metadata": {
        "id": "724f5ebc"
      },
      "source": [
        " We can use the `print_vocab` function to print out the different class labels."
      ]
    },
    {
      "cell_type": "code",
      "execution_count": 104,
      "id": "2e9fbf0b",
      "metadata": {
        "colab": {
          "base_uri": "https://localhost:8080/"
        },
        "id": "2e9fbf0b",
        "outputId": "22dbf849-515f-47a3-c4df-14e1b990838f"
      },
      "outputs": [
        {
          "name": "stdout",
          "output_type": "stream",
          "text": [
            "GUY: 0\n",
            "SAM: 1\n"
          ]
        }
      ],
      "source": [
        "print_vocab(label_vocab)"
      ]
    },
    {
      "cell_type": "markdown",
      "id": "b62bffdc",
      "metadata": {
        "id": "b62bffdc"
      },
      "source": [
        "Similarly, we can also print out `text_vocab`."
      ]
    },
    {
      "cell_type": "code",
      "execution_count": 105,
      "id": "a922e5e2",
      "metadata": {
        "colab": {
          "base_uri": "https://localhost:8080/"
        },
        "id": "a922e5e2",
        "outputId": "21d73d34-a7bd-4e78-f5dc-c5b4771d2980"
      },
      "outputs": [
        {
          "name": "stdout",
          "output_type": "stream",
          "text": [
            "!: 10\n",
            ",: 7\n",
            "-: 15\n",
            ".: 3\n",
            "...: 53\n",
            "?: 20\n",
            "[PAD]: 0\n",
            "[UNK]: 1\n",
            "a: 5\n",
            "am: 21\n",
            "and: 13\n",
            "anywhere: 35\n",
            "are: 47\n",
            "be: 54\n",
            "boat: 42\n",
            "box: 36\n",
            "car: 31\n",
            "could: 22\n",
            "dark: 37\n",
            "do: 11\n",
            "eat: 16\n",
            "eggs: 23\n",
            "fox: 43\n",
            "goat: 44\n",
            "good: 48\n",
            "green: 24\n",
            "ham: 25\n",
            "here: 27\n",
            "house: 38\n",
            "i: 4\n",
            "in: 9\n",
            "let: 55\n",
            "like: 8\n",
            "may: 45\n",
            "me: 56\n",
            "mouse: 28\n",
            "not: 2\n",
            "on: 29\n",
            "or: 33\n",
            "rain: 39\n",
            "sam: 17\n",
            "say: 40\n",
            "see: 46\n",
            "so: 34\n",
            "thank: 49\n",
            "that: 50\n",
            "the: 26\n",
            "them: 6\n",
            "there: 32\n",
            "they: 51\n",
            "train: 30\n",
            "tree: 41\n",
            "try: 52\n",
            "will: 18\n",
            "with: 19\n",
            "would: 14\n",
            "you: 12\n"
          ]
        }
      ],
      "source": [
        "print_vocab(text_vocab)"
      ]
    },
    {
      "cell_type": "markdown",
      "id": "e4f7ac1d",
      "metadata": {
        "deletable": false,
        "editable": false,
        "id": "e4f7ac1d"
      },
      "source": [
        "Other simple calculations that will be useful in implementing the various models:\n",
        "\n",
        "1. Counting how many instances there are in a dataset.\n",
        "2. Counting how many instances of a certain class there are in a dataset.\n",
        "3. Counting how many tokens of a certain type there are in the text of an instance.\n",
        "\n",
        "Let's write functions for these. They'll come in handy in the first problem set.\n",
        "\n",
        "<!--\n",
        "BEGIN QUESTION\n",
        "name: count_instances\n",
        "-->"
      ]
    },
    {
      "cell_type": "code",
      "execution_count": 106,
      "id": "296e495c",
      "metadata": {
        "id": "296e495c"
      },
      "outputs": [],
      "source": [
        "#TODO - 1. Counting how many instances there are in a dataset.\n",
        "def count_instances(dataset):\n",
        "    return len(dataset)"
      ]
    },
    {
      "cell_type": "code",
      "execution_count": 107,
      "id": "0db0eb9f",
      "metadata": {
        "colab": {
          "base_uri": "https://localhost:8080/",
          "height": 46
        },
        "deletable": false,
        "editable": false,
        "id": "0db0eb9f",
        "outputId": "40aac9d2-3803-4824-b97e-47b02c87080c"
      },
      "outputs": [
        {
          "data": {
            "text/html": [
              "\n",
              "    \n",
              "    \n",
              "        <p>All tests passed!</p>\n",
              "    \n",
              "    "
            ],
            "text/plain": [
              "\n",
              "    All tests passed!\n",
              "    "
            ]
          },
          "execution_count": 107,
          "metadata": {},
          "output_type": "execute_result"
        }
      ],
      "source": [
        "grader.check(\"count_instances\")"
      ]
    },
    {
      "cell_type": "code",
      "execution_count": 108,
      "id": "791591b3",
      "metadata": {
        "id": "791591b3"
      },
      "outputs": [],
      "source": [
        "#TODO - 2. Counting how many instances of a certain class there are in a dataset.\n",
        "# Note: recall that you can access the label of an instance using `instance['label']`\n",
        "def count_instances_class(dataset, label):\n",
        "    return len([l for l in dataset[\"label\"] if l == label ])"
      ]
    },
    {
      "cell_type": "code",
      "execution_count": 109,
      "id": "1a3d9537",
      "metadata": {
        "colab": {
          "base_uri": "https://localhost:8080/",
          "height": 46
        },
        "deletable": false,
        "editable": false,
        "id": "1a3d9537",
        "outputId": "e28698b4-f998-4ea3-d89b-f49a7f8ddb5c"
      },
      "outputs": [
        {
          "data": {
            "text/html": [
              "\n",
              "    \n",
              "    \n",
              "        <p>All tests passed!</p>\n",
              "    \n",
              "    "
            ],
            "text/plain": [
              "\n",
              "    All tests passed!\n",
              "    "
            ]
          },
          "execution_count": 109,
          "metadata": {},
          "output_type": "execute_result"
        }
      ],
      "source": [
        "grader.check(\"count_instances_class\")"
      ]
    },
    {
      "cell_type": "code",
      "execution_count": 110,
      "id": "76a8ced4",
      "metadata": {
        "id": "76a8ced4"
      },
      "outputs": [],
      "source": [
        "#TODO - 3. Counting how many tokens of a certain type there are in the text of an instance.\n",
        "# Hint: we have provided code for extracting tokens from the text of an instance.\n",
        "def count_tokens_instance(instance, tokentype):\n",
        "    tokens = tokenizer.encode(instance['text']).tokens\n",
        "    return len([t for t in tokens if t == tokentype ])"
      ]
    },
    {
      "cell_type": "code",
      "execution_count": 111,
      "id": "10596b4b",
      "metadata": {
        "colab": {
          "base_uri": "https://localhost:8080/",
          "height": 46
        },
        "deletable": false,
        "editable": false,
        "id": "10596b4b",
        "outputId": "a2fe06e4-0b62-499e-e7d6-bf67108ef5e9"
      },
      "outputs": [
        {
          "data": {
            "text/html": [
              "\n",
              "    \n",
              "    \n",
              "        <p>All tests passed!</p>\n",
              "    \n",
              "    "
            ],
            "text/plain": [
              "\n",
              "    All tests passed!\n",
              "    "
            ]
          },
          "execution_count": 111,
          "metadata": {},
          "output_type": "execute_result"
        }
      ],
      "source": [
        "grader.check(\"count_tokens_instances\")"
      ]
    },
    {
      "cell_type": "markdown",
      "id": "5975e733",
      "metadata": {
        "id": "5975e733"
      },
      "source": [
        "Recall that the purpose of tokenizers is to map back and forth between strings and word ids. Below provides an example of how to do that."
      ]
    },
    {
      "cell_type": "code",
      "execution_count": 112,
      "id": "717008ca",
      "metadata": {
        "colab": {
          "base_uri": "https://localhost:8080/"
        },
        "id": "717008ca",
        "outputId": "ecbb8cb5-1919-49ed-be73-97ec228aa845"
      },
      "outputs": [
        {
          "name": "stdout",
          "output_type": "stream",
          "text": [
            "text: Say!\n",
            "Mapped to word ids: [40, 10]\n",
            "Mapped back: say!\n"
          ]
        }
      ],
      "source": [
        "example = train[1]\n",
        "print (f'text: {example[\"text\"]}')\n",
        "word_ids = hf_tokenizer(example['text']).input_ids\n",
        "print (f\"Mapped to word ids: {word_ids}\\n\"\n",
        "       f\"Mapped back: {hf_tokenizer.decode(word_ids)}\")"
      ]
    },
    {
      "cell_type": "markdown",
      "id": "f28b7652",
      "metadata": {
        "id": "f28b7652"
      },
      "source": [
        "We can also do the conversion for a batch of examples, which will be very useful in future labs when we take advantage of the parallelism provided by parallel hardware such as GPUs."
      ]
    },
    {
      "cell_type": "code",
      "execution_count": 113,
      "id": "5dd9e7a0",
      "metadata": {
        "colab": {
          "base_uri": "https://localhost:8080/"
        },
        "id": "5dd9e7a0",
        "outputId": "256af301-c096-45ee-ab4d-9e7540409678"
      },
      "outputs": [
        {
          "name": "stdout",
          "output_type": "stream",
          "text": [
            "text: ['Say!', 'Not in a tree!', 'You will see.', 'I would not eat them anywhere.']\n",
            "Mapped to word ids: [[40, 10], [2, 9, 5, 41, 10], [12, 18, 46, 3], [4, 14, 2, 16, 6, 35, 3]]\n",
            "Mapped back: ['say!', 'not in a tree!', 'you will see.', 'i would not eat them anywhere.']\n"
          ]
        }
      ],
      "source": [
        "examples = train[1:5]\n",
        "print (f'text: {examples[\"text\"]}')\n",
        "word_ids_batch = hf_tokenizer(examples['text']).input_ids\n",
        "print (f\"Mapped to word ids: {word_ids_batch}\\n\"\n",
        "       f\"Mapped back: {hf_tokenizer.batch_decode(word_ids_batch)}\")"
      ]
    },
    {
      "cell_type": "markdown",
      "id": "d72ba842",
      "metadata": {
        "id": "d72ba842"
      },
      "source": [
        "You might have noticed that in the above example, different sentences are of different lengths. This makes it hard for processing on parallel hardware, and we need to *pad* all sentences to the length of the longest sentence in each batch before converting them to tensors, as shown below. (You will see the below code in project 1 and in future labs.)"
      ]
    },
    {
      "cell_type": "code",
      "execution_count": 114,
      "id": "4200692c",
      "metadata": {
        "id": "4200692c"
      },
      "outputs": [],
      "source": [
        "pad_id = hf_tokenizer.pad_token_id\n",
        "BATCH_SIZE = 32\n",
        "\n",
        "# Defines how to batch a list of examples together\n",
        "def collate_fn(examples):\n",
        "    batch = {}\n",
        "    bsz = len(examples)\n",
        "    label_ids = []\n",
        "    for example in examples:\n",
        "        label_ids.append(example['label_id'])\n",
        "    label_batch = torch.LongTensor(label_ids).to(device)\n",
        "    input_ids = []\n",
        "    for example in examples:\n",
        "        input_ids.append(example['input_ids'])\n",
        "    max_length = max([len(word_ids) for word_ids in input_ids])\n",
        "    text_batch = torch.zeros(bsz, max_length).long().fill_(pad_id).to(device)\n",
        "    for b in range(bsz):\n",
        "        text_batch[b][:len(input_ids[b])] = torch.LongTensor(input_ids[b]).to(device)\n",
        "    \n",
        "    batch['label_ids'] = label_batch\n",
        "    batch['input_ids'] = text_batch\n",
        "    return batch\n",
        "\n",
        "train_iter = torch.utils.data.DataLoader(train, batch_size=BATCH_SIZE, collate_fn=collate_fn)\n",
        "test_iter = torch.utils.data.DataLoader(test, batch_size=BATCH_SIZE, collate_fn=collate_fn)"
      ]
    },
    {
      "cell_type": "markdown",
      "id": "f79ecccb",
      "metadata": {
        "id": "f79ecccb"
      },
      "source": [
        "Let's look at a single batch from one of these iterators. Note that padding is done with the special token `[PAD]` which has id `0`."
      ]
    },
    {
      "cell_type": "code",
      "execution_count": 115,
      "id": "cb2c905e",
      "metadata": {
        "colab": {
          "base_uri": "https://localhost:8080/"
        },
        "id": "cb2c905e",
        "outputId": "001863a8-d89e-470b-becf-8b26b6621c5d"
      },
      "outputs": [
        {
          "data": {
            "text/plain": [
              "{'label_ids': tensor([0, 0, 0, 0, 0, 0, 1, 0, 0, 0, 1, 0, 1, 0, 0, 0, 0, 1, 0, 0, 0, 0, 0, 0,\n",
              "         0, 1, 0, 0, 0, 1, 0, 0]),\n",
              " 'input_ids': tensor([[ 4, 18,  2, 16,  6, 35,  3,  0,  0,  0,  0,  0],\n",
              "         [40, 10,  0,  0,  0,  0,  0,  0,  0,  0,  0,  0],\n",
              "         [ 2,  9,  5, 41, 10,  0,  0,  0,  0,  0,  0,  0],\n",
              "         [12, 18, 46,  3,  0,  0,  0,  0,  0,  0,  0,  0],\n",
              "         [ 4, 14,  2, 16,  6, 35,  3,  0,  0,  0,  0,  0],\n",
              "         [51, 47, 34, 48,  7, 34, 48,  7, 12, 46, 10,  0],\n",
              "         [ 9,  5, 31, 20,  0,  0,  0,  0,  0,  0,  0,  0],\n",
              "         [ 2,  9,  5, 31,  3,  0,  0,  0,  0,  0,  0,  0],\n",
              "         [ 4, 11,  2,  8, 24, 23, 13, 25,  3,  0,  0,  0],\n",
              "         [ 4, 11,  2,  8, 24, 23, 13, 25,  3,  0,  0,  0],\n",
              "         [34, 12, 40,  3,  0,  0,  0,  0,  0,  0,  0,  0],\n",
              "         [ 4, 14,  2, 16, 24, 23, 13, 25,  3,  0,  0,  0],\n",
              "         [13, 12, 45,  3,  0,  0,  0,  0,  0,  0,  0,  0],\n",
              "         [ 4, 11,  2,  8, 24, 23, 13, 25, 10,  0,  0,  0],\n",
              "         [17, 10,  0,  0,  0,  0,  0,  0,  0,  0,  0,  0],\n",
              "         [ 4, 14,  2,  8,  6, 35,  3,  0,  0,  0,  0,  0],\n",
              "         [ 4, 14,  2,  7, 22,  2,  7, 19,  5, 43,  3,  0],\n",
              "         [ 5, 30, 10,  0,  0,  0,  0,  0,  0,  0,  0,  0],\n",
              "         [ 2,  9, 26, 37,  3,  0,  0,  0,  0,  0,  0,  0],\n",
              "         [13,  9, 26, 37,  3, 13, 29,  5, 30,  3,  0,  0],\n",
              "         [ 4, 11,  2,  8,  6, 35,  3,  0,  0,  0,  0,  0],\n",
              "         [ 4, 11,  2,  8,  6, 27, 33, 32,  3,  0,  0,  0],\n",
              "         [ 4, 14,  2,  7, 22,  2,  7,  9,  5, 31,  3,  0],\n",
              "         [ 4, 11,  2,  8,  6,  7, 17, 15,  4, 15, 21,  3],\n",
              "         [13,  4, 18, 16,  6, 19,  5, 28,  3,  0,  0,  0],\n",
              "         [14, 12,  8,  6, 19,  5, 28, 20,  0,  0,  0,  0],\n",
              "         [ 2,  9,  5, 41,  3,  0,  0,  0,  0,  0,  0,  0],\n",
              "         [ 2,  9,  5, 38,  3,  0,  0,  0,  0,  0,  0,  0],\n",
              "         [13,  4, 18, 16,  6,  9,  5, 38,  3,  0,  0,  0],\n",
              "         [14, 12,  7, 22, 12,  7,  9, 26, 39, 20,  0,  0],\n",
              "         [50, 17, 15,  4, 15, 21, 10,  0,  0,  0,  0,  0],\n",
              "         [ 4, 11,  2,  8,  6,  9,  5, 38,  3,  0,  0,  0]])}"
            ]
          },
          "execution_count": 115,
          "metadata": {},
          "output_type": "execute_result"
        }
      ],
      "source": [
        "next(iter(train_iter))"
      ]
    },
    {
      "cell_type": "markdown",
      "id": "3d93031a",
      "metadata": {
        "id": "3d93031a"
      },
      "source": [
        "# Training and testing with PyTorch\n",
        "\n",
        "Past labs have shown that all of the detail about \n",
        "\n",
        "* establishing models and their parameters,\n",
        "* using them to calculate the outputs for some inputs, \n",
        "* training them to optimize the parameters via stochastic gradient descent, and \n",
        "* evaluating them by testing on held-out data\n",
        "\n",
        "is tedious to manage. Fortunately, it is also so formulaic, at least for a certain class of models, that general tools can be deployed to manage the process. In the remainder of this lab, you'll use one such tool, PyTorch. For simplicity, rather than a natural-language task, you'll be training a model to fit a curve; it has an especially simple structure: one scalar input and one scalar output."
      ]
    },
    {
      "cell_type": "markdown",
      "id": "b569d2be",
      "metadata": {
        "id": "b569d2be"
      },
      "source": [
        "## Generating training and test data\n",
        "\n",
        "We start by generating some training and test data. The data is generated as a noisy sine function, calculated by the function `sinusoid`. (Here we make use of the PyTorch [distributions](https://pytorch.org/docs/stable/distributions.html) package, which was imported above as `ds`.) "
      ]
    },
    {
      "cell_type": "code",
      "execution_count": 116,
      "id": "32ba455a",
      "metadata": {
        "id": "32ba455a"
      },
      "outputs": [],
      "source": [
        "def sinusoid(x, amplitude=1., phase=0., frequency=1., noise=1e-5):\n",
        "    \"\"\"Returns the values on input(s) `x` of a sinusoid determined by `amplitude`, \n",
        "       `phase`, and angular `frequency`, with some added normal noise with variance \n",
        "       given by `noise`.\"\"\"\n",
        "    normal_noise = ds.normal.Normal(torch.tensor([0.0]), torch.tensor([noise]))\n",
        "    noise_sample = normal_noise.sample(x.size()).view(-1)\n",
        "    y = amplitude * torch.sin(x * frequency + phase) + noise_sample\n",
        "    return y"
      ]
    },
    {
      "cell_type": "markdown",
      "id": "95e992a2",
      "metadata": {
        "id": "95e992a2"
      },
      "source": [
        "We can generate data for training and testing by sampling this function."
      ]
    },
    {
      "cell_type": "code",
      "execution_count": 117,
      "id": "f687c817",
      "metadata": {
        "id": "f687c817"
      },
      "outputs": [],
      "source": [
        "def sample_input(func, count, bound, **kwargs):\n",
        "    \"\"\"Returns `count` samples of x-y pairs of function `func`, with the x \n",
        "       values sampled uniformly between +/-`bound`. The `kwargs` are passed\n",
        "       on to `func`.\"\"\"\n",
        "    input_unif = ds.uniform.Uniform(-bound, +bound)\n",
        "    x = input_unif.sample(torch.Size([count]))\n",
        "    y = func(x, **kwargs)\n",
        "    return x, y"
      ]
    },
    {
      "cell_type": "markdown",
      "id": "210740b1",
      "metadata": {
        "id": "210740b1"
      },
      "source": [
        "To give a sense of what a data sample looks like, we plot a sample of 100 points."
      ]
    },
    {
      "cell_type": "code",
      "execution_count": 118,
      "id": "82c3be7d",
      "metadata": {
        "id": "82c3be7d"
      },
      "outputs": [],
      "source": [
        "def plot_sample(data):\n",
        "    \"\"\"Plots `data` given as a single pair of inputs and outputs.\"\"\"\n",
        "    X, Y = data\n",
        "    plt.plot(X.tolist(), Y.tolist(), '.')\n",
        "    plt.xlabel('Input')\n",
        "    plt.ylabel('Output')\n",
        "    # we cannot use plt.show() because otter-grader does not support it"
      ]
    },
    {
      "cell_type": "code",
      "execution_count": 119,
      "id": "1d5e9c9b",
      "metadata": {
        "colab": {
          "base_uri": "https://localhost:8080/",
          "height": 449
        },
        "id": "1d5e9c9b",
        "outputId": "c19fcc3e-b70a-4f83-de17-1f520c56941b"
      },
      "outputs": [
        {
          "data": {
            "image/png": "[encoded data removed]",
            "text/plain": [
              "<Figure size 640x480 with 1 Axes>"
            ]
          },
          "metadata": {},
          "output_type": "display_data"
        }
      ],
      "source": [
        "plot_sample(sample_input(sinusoid, 100, 5, noise=0.1))"
      ]
    },
    {
      "cell_type": "markdown",
      "id": "e3438d5c",
      "metadata": {
        "id": "e3438d5c"
      },
      "source": [
        "## Specifying a feed-forward neural network\n",
        "\n",
        "\n",
        "<img src=\"https://github.com/nlp-236299/data/raw/master/Resources/ffnn-example.png\" width=33% align=right />\n",
        "\n",
        "The model that we will train to predict the output of this function based on a sample will consist of a series of sublayers as depicted in the figure at right. At the bottom of the figure, we start with $\\vect{x}$, the scalar input (of dimensionality $1$ as shown in the \"shape\" designation). The first layer is a perceptron layer, composed of a linear sublayer (with weights $\\vect{U}$) followed by a sigmoid sublayer. Since $\\vect{U}$ is of dimensionality $1 \\times D$, the output is a vector of dimensionality $D$. (We refer to $D$ as the *hidden dimension*.) Then comes another perceptron layer with input and output each of dimensionality $D$. Finally, a single linear layer reduces the dimensionality back to the predicted scalar output $\\tilde{y}$ of dimensionality $1$. The loss is calculated as the mean square error of $\\tilde{y}$ relative to $y$. (In this case, taking the mean for a single example is irrelevant, since $y$ is a scalar, though when training in \"batches\", the mean would be taken over the batch.)\n",
        "\n",
        "We define a class `FFNN` (**f**eed-**f**orward **n**eural **n**etwork), which inherits from the `nn.Module` class, PyTorch's class for neural network models. It takes an argument `hidden_dim` which is the size of the hidden layers, $D$ in the figure.\n",
        "\n",
        "The parameters of this model – the values that will be adjusted to minimize the loss – are the elements of the tensors $\\vect{U}$, $\\vect{V}$, and $\\vect{W}$. They don't appear explicitly in the code, but are PyTorch *parameters* created and tracked when the corresponding sublayers are created using `nn.Linear` and `nn.Sigmoid`. That's the wonder of using PyTorch – so much happens under the hood. But we can get access to the parameters because the `nn.Module` class provides a `parameters` method that returns an iterator over the parameters. (We use it to initialize the parameters to random values.)"
      ]
    },
    {
      "cell_type": "code",
      "execution_count": 120,
      "id": "15578132",
      "metadata": {
        "id": "15578132"
      },
      "outputs": [],
      "source": [
        "class FFNN(nn.Module):\n",
        "    def __init__(self, hidden_dim, init_low=-2, init_high=2):\n",
        "        super().__init__()\n",
        "        # dimensionality of hidden layers\n",
        "        self.hidden_dim = hidden_dim\n",
        "        #TODO: establish the sublayers -- two perceptrons (each has a linear layer and a sigmoid). and a final\n",
        "        # linear layer. Follow the dimensions from the description above.\n",
        "        self.sublayer1 = nn.Linear(in_features=1, out_features=hidden_dim)\n",
        "        self.sublayer2 = nn.Sigmoid()\n",
        "        self.sublayer3 = nn.Linear(in_features=hidden_dim, out_features=hidden_dim)\n",
        "        self.sublayer4 = nn.Sigmoid()\n",
        "        self.sublayer5 = nn.Linear(in_features=hidden_dim, out_features=1)\n",
        "        \n",
        "        # initialize parameters randomly\n",
        "        torch.manual_seed(random_seed)\n",
        "        for p in self.parameters():\n",
        "            p.data.uniform_(init_low, init_high)\n",
        "        # save a copy of the parameters to allow resetting\n",
        "        self.init_state = copy.deepcopy(self.state_dict())\n",
        "\n",
        "    # Resetting state: If you want to rerun a model, say, with a different\n",
        "    # training regime, you can reset the model's parameter state using\n",
        "    #    model.reset_state()\n",
        "    # before retraining, e.g., \n",
        "    #    train_model(model, criterion, optim, train_data, n_epochs=50)\n",
        "    def reset_state(self):\n",
        "        self.load_state_dict(self.init_state)\n",
        "        \n",
        "    def forward(self, x):\n",
        "        # first perceptron layer\n",
        "        z = self.sublayer2(self.sublayer1(x))\n",
        "        # second perceptron layer\n",
        "        z_prime = self.sublayer4(self.sublayer3(z))\n",
        "        # final linear layer\n",
        "        return self.sublayer5(z_prime)"
      ]
    },
    {
      "cell_type": "code",
      "execution_count": 121,
      "id": "dda76f5c",
      "metadata": {
        "colab": {
          "base_uri": "https://localhost:8080/",
          "height": 46
        },
        "deletable": false,
        "editable": false,
        "id": "dda76f5c",
        "outputId": "df47d126-979a-4190-c0d1-1ed6ec3f32c1"
      },
      "outputs": [
        {
          "data": {
            "text/html": [
              "\n",
              "    \n",
              "    \n",
              "        <p>All tests passed!</p>\n",
              "    \n",
              "    "
            ],
            "text/plain": [
              "\n",
              "    All tests passed!\n",
              "    "
            ]
          },
          "execution_count": 121,
          "metadata": {},
          "output_type": "execute_result"
        }
      ],
      "source": [
        "grader.check(\"FFNN\")"
      ]
    },
    {
      "cell_type": "markdown",
      "id": "e110906a",
      "metadata": {
        "id": "e110906a"
      },
      "source": [
        "We can build a model by instantiating the `FFNN` class. We'll do so with a hidden dimension of 4, being careful to move the model with its parameters to the device we're using for calculations (a GPU if one is available, as on Google Colab)."
      ]
    },
    {
      "cell_type": "code",
      "execution_count": 122,
      "id": "9d889a7c",
      "metadata": {
        "id": "9d889a7c"
      },
      "outputs": [],
      "source": [
        "HIDDEN_DIMENSION = 4\n",
        "model = FFNN(HIDDEN_DIMENSION).to(device)"
      ]
    },
    {
      "cell_type": "markdown",
      "id": "ce8b73a1",
      "metadata": {
        "id": "ce8b73a1"
      },
      "source": [
        "We specify the criterion to be optimized as the mean square error loss function provided by PyTorch."
      ]
    },
    {
      "cell_type": "code",
      "execution_count": 123,
      "id": "4493a20b",
      "metadata": {
        "id": "4493a20b"
      },
      "outputs": [],
      "source": [
        "criterion = nn.MSELoss(reduction='mean') "
      ]
    },
    {
      "cell_type": "markdown",
      "id": "a8c69617",
      "metadata": {
        "id": "a8c69617"
      },
      "source": [
        "## Evaluating data according to a model\n",
        "\n",
        "To evaluate how well the model performs on some test data, we run the model forward on the $x$ values and compute the loss relative to the $y$ values. We define a function `eval_model` to carry out this calculation."
      ]
    },
    {
      "cell_type": "code",
      "execution_count": 124,
      "id": "202a8356",
      "metadata": {
        "id": "202a8356"
      },
      "outputs": [],
      "source": [
        "def eval_model(model, criterion, data):\n",
        "    \"\"\"Applies the `model` to the x values in the `data` and returns the\n",
        "       loss relative to the y values in the `data` along with the predicted \n",
        "       y values.\"\"\"\n",
        "    model.eval()                          # turn on evaluation mode\n",
        "    with torch.no_grad():                 # turn off propagating gradients\n",
        "        X, Y = data                       # extract x and y values\n",
        "        X = X.view(-1, 1).to(device)      # convert x and y to column vectors\n",
        "        Y = Y.view(-1, 1).to(device)      # ...and move them to the device\n",
        "        predictions = model(X)            # calculate the predicted y values\n",
        "        loss = criterion(predictions, Y)  # see how far off they are\n",
        "    return loss.item(), predictions"
      ]
    },
    {
      "cell_type": "markdown",
      "id": "d59f594c",
      "metadata": {
        "id": "d59f594c"
      },
      "source": [
        "All that remains is training the model. We'll use one of PyTorch's built in optimizers, the `Adam` optimizer. We set a few parameters for the training process: the learning rate, the number of \"epochs\" (passes through the training data) to perform, and the number of examples to train on at a time (the \"batch size\")."
      ]
    },
    {
      "cell_type": "code",
      "execution_count": 125,
      "id": "dd9f5a06",
      "metadata": {
        "id": "dd9f5a06"
      },
      "outputs": [],
      "source": [
        "## Parameters of the training regimen\n",
        "LEARNING_RATE = 0.003\n",
        "NUMBER_EPOCHS = 25\n",
        "BATCH_SIZE = 20\n",
        "\n",
        "## Choices for optimizers:\n",
        "\n",
        "# Stochastic Gradient Descent (SGD) optimizer\n",
        "# optim = torch.optim.SGD(model.parameters(), lr=learning_rate)\n",
        "\n",
        "# The Adam optimizer, as described in the paper:\n",
        "# Kingma and Ba. 2014. Adam: A Method for Stochastic Optimization.\n",
        "# [https://arxiv.org/abs/1412.6980]\n",
        "optim = torch.optim.Adam(model.parameters(), lr=LEARNING_RATE)"
      ]
    },
    {
      "cell_type": "markdown",
      "id": "b14d9675",
      "metadata": {
        "id": "b14d9675"
      },
      "source": [
        "## Training the parameters of a model\n",
        "\n",
        "Finally, we get to the function to train the parameters of the model so as to best fit the predictions to the actual values. We've provided the code, except for a few lines that you'll need to provide (marked `#TODO`), making use of some of the tools defined above. Those lines, which form the heart of the computation, calculate \"forwards\" to get the output predictions for the inputs, calculate the loss for those predictions, and calculate \"backwards\" the gradients of the loss for each of the parameters of the model. This sets up the optimizer to take a step of updating the parameters, making use of the calculated gradients to determine the direction to step. The saved gradients can then be zeroed and the process repeated.\n",
        "\n",
        "> Note: The code we're asking you to write is *tiny*. If you find yourself writing more than a short line of code per `#TODO`, you're missing something."
      ]
    },
    {
      "cell_type": "code",
      "execution_count": 126,
      "id": "a06dceb6",
      "metadata": {
        "id": "a06dceb6"
      },
      "outputs": [],
      "source": [
        "def train_model(model, criterion, optimizer, data,\n",
        "                n_epochs=NUMBER_EPOCHS, batch_size=BATCH_SIZE):\n",
        "    \"\"\"Optimizes the parameters of the `model` by minimizing the `criterion`\n",
        "       on the training `data`, using the `optimizer` algorithm for updates.\"\"\"    \n",
        "    model.train()                     # Turn on training mode\n",
        "\n",
        "    X, Y = data\n",
        "    trainX_len = len(X)\n",
        "    \n",
        "    loss_per_epoch = math.inf\n",
        "    with tqdm(range(n_epochs)) as pbar:\n",
        "        for epoch in pbar:\n",
        "            pbar.set_postfix(epoch=epoch+1, loss=loss_per_epoch)\n",
        "            loss_per_epoch = 0.\n",
        "            for batch_i in range(int(trainX_len/batch_size)):\n",
        "                optimizer.zero_grad()     # new batch; zero the gradients of the parameters\n",
        "\n",
        "                # Input tensors and their corresponding output values for this batch\n",
        "                batch_X = (X[batch_i * batch_size\n",
        "                             : (batch_i+1) * batch_size] # extract examples in batch\n",
        "                           .view(-1, 1)                  # reshape to column vector\n",
        "                           .to(device)                   # move to device\n",
        "                          )\n",
        "                batch_Y = (Y[batch_i * batch_size \n",
        "                             : (batch_i+1) * batch_size]\n",
        "                           .view(-1, 1)\n",
        "                           .to(device)\n",
        "                          )\n",
        "\n",
        "                #TODO: Calculate predictions for the x values in this batch\n",
        "                predictions = model(batch_X)\n",
        "\n",
        "                #TODO: Calculate the loss for the predictions\n",
        "                loss = criterion(predictions, batch_Y)\n",
        "\n",
        "                #TODO: Perform backpropagation to calculate gradients\n",
        "                loss.backward()\n",
        "\n",
        "                # Update all parameters\n",
        "                optimizer.step()\n",
        "\n",
        "                loss_per_epoch += loss.item()"
      ]
    },
    {
      "cell_type": "markdown",
      "id": "129d9312",
      "metadata": {
        "id": "129d9312"
      },
      "source": [
        "## Putting it all together\n",
        "\n",
        "Let's try it out. We start by generating some training and test data. The training data will be 10,000 samples of a noisy sinusoid. The test data, 100 samples from the same sinusoid, will be noise-free, so we can see how close the predictions are to noise-free outputs."
      ]
    },
    {
      "cell_type": "code",
      "execution_count": 127,
      "id": "f600377e",
      "metadata": {
        "colab": {
          "base_uri": "https://localhost:8080/",
          "height": 449
        },
        "id": "f600377e",
        "outputId": "c8a05d62-2f7b-4c3d-8bb1-b67d34237122"
      },
      "outputs": [
        {
          "data": {
            "image/png": "[encoded data removed]",
            "text/plain": [
              "<Figure size 640x480 with 1 Axes>"
            ]
          },
          "metadata": {},
          "output_type": "display_data"
        }
      ],
      "source": [
        "train_data = sample_input(sinusoid, 10000, 5., frequency=1.5, noise=0.05)\n",
        "test_data = sample_input(sinusoid, 100, 5., frequency=1.5)\n",
        "\n",
        "plot_sample(train_data)"
      ]
    },
    {
      "cell_type": "markdown",
      "id": "478fda56",
      "metadata": {
        "id": "478fda56"
      },
      "source": [
        "We train the model."
      ]
    },
    {
      "cell_type": "code",
      "execution_count": 128,
      "id": "43d743cf",
      "metadata": {
        "colab": {
          "base_uri": "https://localhost:8080/"
        },
        "id": "43d743cf",
        "outputId": "53c96686-979b-4e29-af57-a6bf1cffa2bc"
      },
      "outputs": [
        {
          "name": "stderr",
          "output_type": "stream",
          "text": [
            "100%|██████████| 25/25 [00:02<00:00, 11.20it/s, epoch=25, loss=11.1]\n"
          ]
        }
      ],
      "source": [
        "model.reset_state()\n",
        "train_model(model, criterion, optim, train_data)"
      ]
    },
    {
      "cell_type": "markdown",
      "id": "8167766d",
      "metadata": {
        "id": "8167766d"
      },
      "source": [
        "...and test the trained model by evaluating it on the the test data."
      ]
    },
    {
      "cell_type": "code",
      "execution_count": 129,
      "id": "bc860d0a",
      "metadata": {
        "id": "bc860d0a"
      },
      "outputs": [],
      "source": [
        "loss, predictions = eval_model(model, criterion, test_data)"
      ]
    },
    {
      "cell_type": "code",
      "execution_count": 130,
      "id": "9e86f5fb",
      "metadata": {
        "colab": {
          "base_uri": "https://localhost:8080/",
          "height": 46
        },
        "deletable": false,
        "editable": false,
        "id": "9e86f5fb",
        "outputId": "af24c646-256c-49f7-8894-5fa598e565a9"
      },
      "outputs": [
        {
          "data": {
            "text/html": [
              "\n",
              "    \n",
              "    \n",
              "        <p>All tests passed!</p>\n",
              "    \n",
              "    "
            ],
            "text/plain": [
              "\n",
              "    All tests passed!\n",
              "    "
            ]
          },
          "execution_count": 130,
          "metadata": {},
          "output_type": "execute_result"
        }
      ],
      "source": [
        "grader.check(\"model_reduces_loss\")"
      ]
    },
    {
      "cell_type": "markdown",
      "id": "ef309230",
      "metadata": {
        "id": "ef309230"
      },
      "source": [
        "We can see how well the model works by plotting the test data (circles) along with the predicted values (crosses)."
      ]
    },
    {
      "cell_type": "code",
      "execution_count": 131,
      "id": "a1d0d047",
      "metadata": {
        "id": "a1d0d047"
      },
      "outputs": [],
      "source": [
        "def visualize_predictions(data, predictions):\n",
        "    X, Y = data\n",
        "    \n",
        "    # Plot the actual output values\n",
        "    plt.plot(X.tolist(), Y.tolist(), '.', label = 'Target Values')\n",
        "    \n",
        "    # Plot the predicted output values\n",
        "    predictions = predictions.view(-1, 1)\n",
        "    plt.plot(X.tolist(), predictions.tolist(), 'x', label = 'Predictions')\n",
        "    \n",
        "    plt.xlabel('Input')\n",
        "    plt.ylabel('Output')\n",
        "    plt.legend()\n",
        "    # we cannot use plt.show() because otter-grader does not support it"
      ]
    },
    {
      "cell_type": "code",
      "execution_count": 132,
      "id": "7bb64b1c",
      "metadata": {
        "colab": {
          "base_uri": "https://localhost:8080/",
          "height": 449
        },
        "id": "7bb64b1c",
        "outputId": "4e20a109-7729-4f82-a32d-2e740ad59280"
      },
      "outputs": [
        {
          "data": {
            "image/png": "[encoded data removed]",
            "text/plain": [
              "<Figure size 640x480 with 1 Axes>"
            ]
          },
          "metadata": {},
          "output_type": "display_data"
        }
      ],
      "source": [
        "# Visualize the predictions\n",
        "visualize_predictions(test_data, predictions)"
      ]
    },
    {
      "cell_type": "markdown",
      "id": "5a2a1498",
      "metadata": {
        "id": "5a2a1498"
      },
      "source": [
        "## Trying different models\n",
        "\n",
        "Now that we have the infrastructure, try experimenting with different models. Here are a few things you might play with. (No need to try them all.) What happens if you change the hidden dimension, increasing it to 8 or decreasing it to 2? What happens if you drop the middle layer? What about no middle layer but a much higher hidden dimension size? Does running for more epochs improve performance? Does the SGD optimizer work better or worse than the Adam optimizer?\n",
        "\n",
        "**Perform any experimentation in cells below this point, so you don't modify the cells above that are being unit tested.**"
      ]
    },
    {
      "cell_type": "markdown",
      "id": "20fe1d2a",
      "metadata": {
        "deletable": false,
        "editable": false,
        "id": "20fe1d2a"
      },
      "source": [
        "<!-- BEGIN QUESTION -->\n",
        "\n",
        "**Question:** What conclusions have you drawn from your experimentation?\n",
        "<!--\n",
        "BEGIN QUESTION\n",
        "name: open_response_testing_models\n",
        "manual: true\n",
        "-->"
      ]
    },
    {
      "cell_type": "markdown",
      "id": "78696492",
      "metadata": {
        "id": "78696492"
      },
      "source": [
        "Adding layers to the model gives us a more accurate result, however this takes longer to compute. While removing layers gives us a less acurate result, however takes shorter time to compute. Same goes for increasing the size of each layer. \n",
        "In addition we conclude that increasing the learining rate to 0.01 also improve the model performance, but increasing the learning rate even more leads to a regression, probably due to overfitting. "
      ]
    },
    {
      "cell_type": "markdown",
      "id": "7298e3d6",
      "metadata": {
        "deletable": false,
        "editable": false,
        "id": "7298e3d6"
      },
      "source": [
        "<!-- END QUESTION -->\n",
        "\n",
        "<!-- BEGIN QUESTION -->\n",
        "\n",
        "# Lab debrief\n",
        "\n",
        "**Question:** We're interested in any thoughts your group has about this lab so that we can improve this lab for later years, and to inform later labs for this year. Please list any issues that arose or comments you have to improve the lab. Useful things to comment on include the following: \n",
        "\n",
        "* Was the lab too long or too short?\n",
        "* Were the readings appropriate for the lab? \n",
        "* Was it clear (at least after you completed the lab) what the points of the exercises were? \n",
        "* Are there additions or changes you think would make the lab better?\n",
        "\n",
        "<!--\n",
        "BEGIN QUESTION\n",
        "name: open_response_debrief\n",
        "manual: true\n",
        "-->"
      ]
    },
    {
      "cell_type": "markdown",
      "id": "e4d08cee",
      "metadata": {
        "id": "e4d08cee"
      },
      "source": [
        "\n",
        "*   We have finished just on time.\n",
        "*   for the second part mosty\n",
        "*   Yes\n",
        "*   Maybe in the first functions (working with Huggingface Datasets), an explanation of how to work with csv files would help. \n",
        " "
      ]
    },
    {
      "cell_type": "markdown",
      "id": "ef6b42e5",
      "metadata": {
        "id": "ef6b42e5"
      },
      "source": [
        "<!-- END QUESTION -->\n",
        "\n",
        "\n",
        "\n",
        "# End of lab 1-5"
      ]
    },
    {
      "cell_type": "markdown",
      "id": "39d16a46",
      "metadata": {
        "deletable": false,
        "editable": false,
        "id": "39d16a46"
      },
      "source": [
        "---\n",
        "\n",
        "To double-check your work, the cell below will rerun all of the autograder tests."
      ]
    },
    {
      "cell_type": "code",
      "execution_count": 133,
      "id": "cfc77132",
      "metadata": {
        "colab": {
          "base_uri": "https://localhost:8080/",
          "height": 443
        },
        "deletable": false,
        "editable": false,
        "id": "cfc77132",
        "outputId": "550626fd-8663-4143-e9ab-aee5ddfb683e"
      },
      "outputs": [
        {
          "data": {
            "text/html": [
              "<p><strong>FFNN:</strong></p>\n",
              "\n",
              "    \n",
              "    \n",
              "        <p>All tests passed!</p>\n",
              "    \n",
              "    \n",
              "\n",
              "<p><strong>count_instances:</strong></p>\n",
              "\n",
              "    \n",
              "    \n",
              "        <p>All tests passed!</p>\n",
              "    \n",
              "    \n",
              "\n",
              "<p><strong>count_instances_class:</strong></p>\n",
              "\n",
              "    \n",
              "    \n",
              "        <p>All tests passed!</p>\n",
              "    \n",
              "    \n",
              "\n",
              "<p><strong>count_tokens_instances:</strong></p>\n",
              "\n",
              "    \n",
              "    \n",
              "        <p>All tests passed!</p>\n",
              "    \n",
              "    \n",
              "\n",
              "<p><strong>dataset_setup:</strong></p>\n",
              "\n",
              "    \n",
              "    \n",
              "        <p>All tests passed!</p>\n",
              "    \n",
              "    \n",
              "\n",
              "<p><strong>dataset_split:</strong></p>\n",
              "\n",
              "    \n",
              "    \n",
              "        <p>All tests passed!</p>\n",
              "    \n",
              "    \n",
              "\n",
              "<p><strong>model_reduces_loss:</strong></p>\n",
              "\n",
              "    \n",
              "    \n",
              "        <p>All tests passed!</p>\n",
              "    \n",
              "    \n",
              "\n",
              "<p><strong>print_vocab:</strong></p>\n",
              "\n",
              "    \n",
              "    \n",
              "        <p>All tests passed!</p>\n",
              "    \n",
              "    \n",
              "\n",
              "<p><strong>vocab_sizes:</strong></p>\n",
              "\n",
              "    \n",
              "    \n",
              "        <p>All tests passed!</p>\n",
              "    \n",
              "    \n",
              "\n"
            ],
            "text/plain": [
              "FFNN:\n",
              "\n",
              "    All tests passed!\n",
              "    \n",
              "\n",
              "count_instances:\n",
              "\n",
              "    All tests passed!\n",
              "    \n",
              "\n",
              "count_instances_class:\n",
              "\n",
              "    All tests passed!\n",
              "    \n",
              "\n",
              "count_tokens_instances:\n",
              "\n",
              "    All tests passed!\n",
              "    \n",
              "\n",
              "dataset_setup:\n",
              "\n",
              "    All tests passed!\n",
              "    \n",
              "\n",
              "dataset_split:\n",
              "\n",
              "    All tests passed!\n",
              "    \n",
              "\n",
              "model_reduces_loss:\n",
              "\n",
              "    All tests passed!\n",
              "    \n",
              "\n",
              "print_vocab:\n",
              "\n",
              "    All tests passed!\n",
              "    \n",
              "\n",
              "vocab_sizes:\n",
              "\n",
              "    All tests passed!\n",
              "    \n"
            ]
          },
          "execution_count": 133,
          "metadata": {},
          "output_type": "execute_result"
        }
      ],
      "source": [
        "grader.check_all()"
      ]
    }
  ],
  "metadata": {
    "accelerator": "GPU",
    "celltoolbar": "Edit Metadata",
    "colab": {
      "provenance": []
    },
    "gpuClass": "standard",
    "kernelspec": {
      "display_name": "otter-latest",
      "language": "python",
      "name": "python3"
    },
    "language_info": {
      "codemirror_mode": {
        "name": "ipython",
        "version": 3
      },
      "file_extension": ".py",
      "mimetype": "text/x-python",
      "name": "python",
      "nbconvert_exporter": "python",
      "pygments_lexer": "ipython3",
      "version": "3.10.8"
    },
    "title": "CS187 Lab 1-5: Scaling up: Huggingface Datasets, Tokenizers, and PyTorch",
    "vscode": {
      "interpreter": {
        "hash": "4fba83c08fc02185bb2310bd24d0cd81fb04529c933f82aa81c61aab9d5528dc"
      }
    },
    "widgets": {
      "application/vnd.jupyter.widget-state+json": {
        "01385fc80c8b4c6195c4b32932c2f116": {
          "model_module": "@jupyter-widgets/base",
          "model_module_version": "1.2.0",
          "model_name": "LayoutModel",
          "state": {
            "_model_module": "@jupyter-widgets/base",
            "_model_module_version": "1.2.0",
            "_model_name": "LayoutModel",
            "_view_count": null,
            "_view_module": "@jupyter-widgets/base",
            "_view_module_version": "1.2.0",
            "_view_name": "LayoutView",
            "align_content": null,
            "align_items": null,
            "align_self": null,
            "border": null,
            "bottom": null,
            "display": null,
            "flex": null,
            "flex_flow": null,
            "grid_area": null,
            "grid_auto_columns": null,
            "grid_auto_flow": null,
            "grid_auto_rows": null,
            "grid_column": null,
            "grid_gap": null,
            "grid_row": null,
            "grid_template_areas": null,
            "grid_template_columns": null,
            "grid_template_rows": null,
            "height": null,
            "justify_content": null,
            "justify_items": null,
            "left": null,
            "margin": null,
            "max_height": null,
            "max_width": null,
            "min_height": null,
            "min_width": null,
            "object_fit": null,
            "object_position": null,
            "order": null,
            "overflow": null,
            "overflow_x": null,
            "overflow_y": null,
            "padding": null,
            "right": null,
            "top": null,
            "visibility": null,
            "width": null
          }
        },
        "01e1bc9fdd954651a9b743fd56dcfed5": {
          "model_module": "@jupyter-widgets/base",
          "model_module_version": "1.2.0",
          "model_name": "LayoutModel",
          "state": {
            "_model_module": "@jupyter-widgets/base",
            "_model_module_version": "1.2.0",
            "_model_name": "LayoutModel",
            "_view_count": null,
            "_view_module": "@jupyter-widgets/base",
            "_view_module_version": "1.2.0",
            "_view_name": "LayoutView",
            "align_content": null,
            "align_items": null,
            "align_self": null,
            "border": null,
            "bottom": null,
            "display": null,
            "flex": null,
            "flex_flow": null,
            "grid_area": null,
            "grid_auto_columns": null,
            "grid_auto_flow": null,
            "grid_auto_rows": null,
            "grid_column": null,
            "grid_gap": null,
            "grid_row": null,
            "grid_template_areas": null,
            "grid_template_columns": null,
            "grid_template_rows": null,
            "height": null,
            "justify_content": null,
            "justify_items": null,
            "left": null,
            "margin": null,
            "max_height": null,
            "max_width": null,
            "min_height": null,
            "min_width": null,
            "object_fit": null,
            "object_position": null,
            "order": null,
            "overflow": null,
            "overflow_x": null,
            "overflow_y": null,
            "padding": null,
            "right": null,
            "top": null,
            "visibility": null,
            "width": null
          }
        },
        "03a4b5661a3a496081daa4ba5135236c": {
          "model_module": "@jupyter-widgets/controls",
          "model_module_version": "1.5.0",
          "model_name": "DescriptionStyleModel",
          "state": {
            "_model_module": "@jupyter-widgets/controls",
            "_model_module_version": "1.5.0",
            "_model_name": "DescriptionStyleModel",
            "_view_count": null,
            "_view_module": "@jupyter-widgets/base",
            "_view_module_version": "1.2.0",
            "_view_name": "StyleView",
            "description_width": ""
          }
        },
        "05620ddad91a444c9fd7b8f11f86c527": {
          "model_module": "@jupyter-widgets/base",
          "model_module_version": "1.2.0",
          "model_name": "LayoutModel",
          "state": {
            "_model_module": "@jupyter-widgets/base",
            "_model_module_version": "1.2.0",
            "_model_name": "LayoutModel",
            "_view_count": null,
            "_view_module": "@jupyter-widgets/base",
            "_view_module_version": "1.2.0",
            "_view_name": "LayoutView",
            "align_content": null,
            "align_items": null,
            "align_self": null,
            "border": null,
            "bottom": null,
            "display": null,
            "flex": null,
            "flex_flow": null,
            "grid_area": null,
            "grid_auto_columns": null,
            "grid_auto_flow": null,
            "grid_auto_rows": null,
            "grid_column": null,
            "grid_gap": null,
            "grid_row": null,
            "grid_template_areas": null,
            "grid_template_columns": null,
            "grid_template_rows": null,
            "height": null,
            "justify_content": null,
            "justify_items": null,
            "left": null,
            "margin": null,
            "max_height": null,
            "max_width": null,
            "min_height": null,
            "min_width": null,
            "object_fit": null,
            "object_position": null,
            "order": null,
            "overflow": null,
            "overflow_x": null,
            "overflow_y": null,
            "padding": null,
            "right": null,
            "top": null,
            "visibility": null,
            "width": null
          }
        },
        "0566582fabc34f2c8871a733e719e755": {
          "model_module": "@jupyter-widgets/controls",
          "model_module_version": "1.5.0",
          "model_name": "FloatProgressModel",
          "state": {
            "_dom_classes": [],
            "_model_module": "@jupyter-widgets/controls",
            "_model_module_version": "1.5.0",
            "_model_name": "FloatProgressModel",
            "_view_count": null,
            "_view_module": "@jupyter-widgets/controls",
            "_view_module_version": "1.5.0",
            "_view_name": "ProgressView",
            "bar_style": "",
            "description": "",
            "description_tooltip": null,
            "layout": "IPY_MODEL_3090bc2e042e46c7a7ae2318bef8bb7c",
            "max": 97,
            "min": 0,
            "orientation": "horizontal",
            "style": "IPY_MODEL_2255eff20eff482bbae433691069cac3",
            "value": 97
          }
        },
        "099a64b5670840c8892733fc152c2dbf": {
          "model_module": "@jupyter-widgets/controls",
          "model_module_version": "1.5.0",
          "model_name": "HTMLModel",
          "state": {
            "_dom_classes": [],
            "_model_module": "@jupyter-widgets/controls",
            "_model_module_version": "1.5.0",
            "_model_name": "HTMLModel",
            "_view_count": null,
            "_view_module": "@jupyter-widgets/controls",
            "_view_module_version": "1.5.0",
            "_view_name": "HTMLView",
            "description": "",
            "description_tooltip": null,
            "layout": "IPY_MODEL_e7d0f1f9379341c3b5d800b0cee16bf7",
            "placeholder": "​",
            "style": "IPY_MODEL_19412486009f49f2b7b53c0074859a72",
            "value": " 0/42 [00:00&lt;?, ? examples/s]"
          }
        },
        "0a264dcc47ae444b801c56c303850520": {
          "model_module": "@jupyter-widgets/controls",
          "model_module_version": "1.5.0",
          "model_name": "HTMLModel",
          "state": {
            "_dom_classes": [],
            "_model_module": "@jupyter-widgets/controls",
            "_model_module_version": "1.5.0",
            "_model_name": "HTMLModel",
            "_view_count": null,
            "_view_module": "@jupyter-widgets/controls",
            "_view_module_version": "1.5.0",
            "_view_name": "HTMLView",
            "description": "",
            "description_tooltip": null,
            "layout": "IPY_MODEL_0bb40ed850824dcbb8777c7fcf762fd6",
            "placeholder": "​",
            "style": "IPY_MODEL_c0c9f181f8914021b6df93b606976fc6",
            "value": " 1/1 [00:00&lt;00:00, 18.44it/s]"
          }
        },
        "0b1e091c04474fceb880945ee8b5b60d": {
          "model_module": "@jupyter-widgets/controls",
          "model_module_version": "1.5.0",
          "model_name": "FloatProgressModel",
          "state": {
            "_dom_classes": [],
            "_model_module": "@jupyter-widgets/controls",
            "_model_module_version": "1.5.0",
            "_model_name": "FloatProgressModel",
            "_view_count": null,
            "_view_module": "@jupyter-widgets/controls",
            "_view_module_version": "1.5.0",
            "_view_name": "ProgressView",
            "bar_style": "",
            "description": "",
            "description_tooltip": null,
            "layout": "IPY_MODEL_4f05237cd0bb47d6b296a6afc2587482",
            "max": 42,
            "min": 0,
            "orientation": "horizontal",
            "style": "IPY_MODEL_e14a31944d4141d1a46e8f733f677ed8",
            "value": 42
          }
        },
        "0bb40ed850824dcbb8777c7fcf762fd6": {
          "model_module": "@jupyter-widgets/base",
          "model_module_version": "1.2.0",
          "model_name": "LayoutModel",
          "state": {
            "_model_module": "@jupyter-widgets/base",
            "_model_module_version": "1.2.0",
            "_model_name": "LayoutModel",
            "_view_count": null,
            "_view_module": "@jupyter-widgets/base",
            "_view_module_version": "1.2.0",
            "_view_name": "LayoutView",
            "align_content": null,
            "align_items": null,
            "align_self": null,
            "border": null,
            "bottom": null,
            "display": null,
            "flex": null,
            "flex_flow": null,
            "grid_area": null,
            "grid_auto_columns": null,
            "grid_auto_flow": null,
            "grid_auto_rows": null,
            "grid_column": null,
            "grid_gap": null,
            "grid_row": null,
            "grid_template_areas": null,
            "grid_template_columns": null,
            "grid_template_rows": null,
            "height": null,
            "justify_content": null,
            "justify_items": null,
            "left": null,
            "margin": null,
            "max_height": null,
            "max_width": null,
            "min_height": null,
            "min_width": null,
            "object_fit": null,
            "object_position": null,
            "order": null,
            "overflow": null,
            "overflow_x": null,
            "overflow_y": null,
            "padding": null,
            "right": null,
            "top": null,
            "visibility": null,
            "width": null
          }
        },
        "1106ff317e054b9bb3a8f1326f0e4b07": {
          "model_module": "@jupyter-widgets/base",
          "model_module_version": "1.2.0",
          "model_name": "LayoutModel",
          "state": {
            "_model_module": "@jupyter-widgets/base",
            "_model_module_version": "1.2.0",
            "_model_name": "LayoutModel",
            "_view_count": null,
            "_view_module": "@jupyter-widgets/base",
            "_view_module_version": "1.2.0",
            "_view_name": "LayoutView",
            "align_content": null,
            "align_items": null,
            "align_self": null,
            "border": null,
            "bottom": null,
            "display": null,
            "flex": null,
            "flex_flow": null,
            "grid_area": null,
            "grid_auto_columns": null,
            "grid_auto_flow": null,
            "grid_auto_rows": null,
            "grid_column": null,
            "grid_gap": null,
            "grid_row": null,
            "grid_template_areas": null,
            "grid_template_columns": null,
            "grid_template_rows": null,
            "height": null,
            "justify_content": null,
            "justify_items": null,
            "left": null,
            "margin": null,
            "max_height": null,
            "max_width": null,
            "min_height": null,
            "min_width": null,
            "object_fit": null,
            "object_position": null,
            "order": null,
            "overflow": null,
            "overflow_x": null,
            "overflow_y": null,
            "padding": null,
            "right": null,
            "top": null,
            "visibility": null,
            "width": null
          }
        },
        "136a57d061f54124ac6c348f650be8f1": {
          "model_module": "@jupyter-widgets/base",
          "model_module_version": "1.2.0",
          "model_name": "LayoutModel",
          "state": {
            "_model_module": "@jupyter-widgets/base",
            "_model_module_version": "1.2.0",
            "_model_name": "LayoutModel",
            "_view_count": null,
            "_view_module": "@jupyter-widgets/base",
            "_view_module_version": "1.2.0",
            "_view_name": "LayoutView",
            "align_content": null,
            "align_items": null,
            "align_self": null,
            "border": null,
            "bottom": null,
            "display": null,
            "flex": null,
            "flex_flow": null,
            "grid_area": null,
            "grid_auto_columns": null,
            "grid_auto_flow": null,
            "grid_auto_rows": null,
            "grid_column": null,
            "grid_gap": null,
            "grid_row": null,
            "grid_template_areas": null,
            "grid_template_columns": null,
            "grid_template_rows": null,
            "height": null,
            "justify_content": null,
            "justify_items": null,
            "left": null,
            "margin": null,
            "max_height": null,
            "max_width": null,
            "min_height": null,
            "min_width": null,
            "object_fit": null,
            "object_position": null,
            "order": null,
            "overflow": null,
            "overflow_x": null,
            "overflow_y": null,
            "padding": null,
            "right": null,
            "top": null,
            "visibility": null,
            "width": null
          }
        },
        "16cb7094538a4330b703749e833cceca": {
          "model_module": "@jupyter-widgets/base",
          "model_module_version": "1.2.0",
          "model_name": "LayoutModel",
          "state": {
            "_model_module": "@jupyter-widgets/base",
            "_model_module_version": "1.2.0",
            "_model_name": "LayoutModel",
            "_view_count": null,
            "_view_module": "@jupyter-widgets/base",
            "_view_module_version": "1.2.0",
            "_view_name": "LayoutView",
            "align_content": null,
            "align_items": null,
            "align_self": null,
            "border": null,
            "bottom": null,
            "display": null,
            "flex": null,
            "flex_flow": null,
            "grid_area": null,
            "grid_auto_columns": null,
            "grid_auto_flow": null,
            "grid_auto_rows": null,
            "grid_column": null,
            "grid_gap": null,
            "grid_row": null,
            "grid_template_areas": null,
            "grid_template_columns": null,
            "grid_template_rows": null,
            "height": null,
            "justify_content": null,
            "justify_items": null,
            "left": null,
            "margin": null,
            "max_height": null,
            "max_width": null,
            "min_height": null,
            "min_width": null,
            "object_fit": null,
            "object_position": null,
            "order": null,
            "overflow": null,
            "overflow_x": null,
            "overflow_y": null,
            "padding": null,
            "right": null,
            "top": null,
            "visibility": null,
            "width": null
          }
        },
        "19412486009f49f2b7b53c0074859a72": {
          "model_module": "@jupyter-widgets/controls",
          "model_module_version": "1.5.0",
          "model_name": "DescriptionStyleModel",
          "state": {
            "_model_module": "@jupyter-widgets/controls",
            "_model_module_version": "1.5.0",
            "_model_name": "DescriptionStyleModel",
            "_view_count": null,
            "_view_module": "@jupyter-widgets/base",
            "_view_module_version": "1.2.0",
            "_view_name": "StyleView",
            "description_width": ""
          }
        },
        "1d385a3f575449ae863e4596f5d4e014": {
          "model_module": "@jupyter-widgets/controls",
          "model_module_version": "1.5.0",
          "model_name": "HBoxModel",
          "state": {
            "_dom_classes": [],
            "_model_module": "@jupyter-widgets/controls",
            "_model_module_version": "1.5.0",
            "_model_name": "HBoxModel",
            "_view_count": null,
            "_view_module": "@jupyter-widgets/controls",
            "_view_module_version": "1.5.0",
            "_view_name": "HBoxView",
            "box_style": "",
            "children": [
              "IPY_MODEL_4cd02fe9bb264513b17235f42e5d1737",
              "IPY_MODEL_71be5666d6fa4853816969579ad3227a",
              "IPY_MODEL_958dc16f8d974bef9158efb2ac0d1323"
            ],
            "layout": "IPY_MODEL_51b88298661248f293a20eb14a6c8f2c"
          }
        },
        "1ed8fc5841c1418dbc2fb96ffecbf350": {
          "model_module": "@jupyter-widgets/controls",
          "model_module_version": "1.5.0",
          "model_name": "DescriptionStyleModel",
          "state": {
            "_model_module": "@jupyter-widgets/controls",
            "_model_module_version": "1.5.0",
            "_model_name": "DescriptionStyleModel",
            "_view_count": null,
            "_view_module": "@jupyter-widgets/base",
            "_view_module_version": "1.2.0",
            "_view_name": "StyleView",
            "description_width": ""
          }
        },
        "1f3c700d6e2d430aaf275c046afea4bf": {
          "model_module": "@jupyter-widgets/controls",
          "model_module_version": "1.5.0",
          "model_name": "HTMLModel",
          "state": {
            "_dom_classes": [],
            "_model_module": "@jupyter-widgets/controls",
            "_model_module_version": "1.5.0",
            "_model_name": "HTMLModel",
            "_view_count": null,
            "_view_module": "@jupyter-widgets/controls",
            "_view_module_version": "1.5.0",
            "_view_name": "HTMLView",
            "description": "",
            "description_tooltip": null,
            "layout": "IPY_MODEL_1106ff317e054b9bb3a8f1326f0e4b07",
            "placeholder": "​",
            "style": "IPY_MODEL_698d854006df44e084d08291f8db9f49",
            "value": "Map:   0%"
          }
        },
        "2255eff20eff482bbae433691069cac3": {
          "model_module": "@jupyter-widgets/controls",
          "model_module_version": "1.5.0",
          "model_name": "ProgressStyleModel",
          "state": {
            "_model_module": "@jupyter-widgets/controls",
            "_model_module_version": "1.5.0",
            "_model_name": "ProgressStyleModel",
            "_view_count": null,
            "_view_module": "@jupyter-widgets/base",
            "_view_module_version": "1.2.0",
            "_view_name": "StyleView",
            "bar_color": null,
            "description_width": ""
          }
        },
        "24d824f875de499f968d3a64fd3af248": {
          "model_module": "@jupyter-widgets/controls",
          "model_module_version": "1.5.0",
          "model_name": "HBoxModel",
          "state": {
            "_dom_classes": [],
            "_model_module": "@jupyter-widgets/controls",
            "_model_module_version": "1.5.0",
            "_model_name": "HBoxModel",
            "_view_count": null,
            "_view_module": "@jupyter-widgets/controls",
            "_view_module_version": "1.5.0",
            "_view_name": "HBoxView",
            "box_style": "",
            "children": [
              "IPY_MODEL_1f3c700d6e2d430aaf275c046afea4bf",
              "IPY_MODEL_8be34d4a5c6b4c11b6eabb307ddc9388",
              "IPY_MODEL_e5ce594f22164ffcaa81d21a84e348ca"
            ],
            "layout": "IPY_MODEL_77eb6773105b4d72923b8727ad7f7efe"
          }
        },
        "29d913fef5384e5aafa1e7dbd1f16cd6": {
          "model_module": "@jupyter-widgets/base",
          "model_module_version": "1.2.0",
          "model_name": "LayoutModel",
          "state": {
            "_model_module": "@jupyter-widgets/base",
            "_model_module_version": "1.2.0",
            "_model_name": "LayoutModel",
            "_view_count": null,
            "_view_module": "@jupyter-widgets/base",
            "_view_module_version": "1.2.0",
            "_view_name": "LayoutView",
            "align_content": null,
            "align_items": null,
            "align_self": null,
            "border": null,
            "bottom": null,
            "display": null,
            "flex": null,
            "flex_flow": null,
            "grid_area": null,
            "grid_auto_columns": null,
            "grid_auto_flow": null,
            "grid_auto_rows": null,
            "grid_column": null,
            "grid_gap": null,
            "grid_row": null,
            "grid_template_areas": null,
            "grid_template_columns": null,
            "grid_template_rows": null,
            "height": null,
            "justify_content": null,
            "justify_items": null,
            "left": null,
            "margin": null,
            "max_height": null,
            "max_width": null,
            "min_height": null,
            "min_width": null,
            "object_fit": null,
            "object_position": null,
            "order": null,
            "overflow": null,
            "overflow_x": null,
            "overflow_y": null,
            "padding": null,
            "right": null,
            "top": null,
            "visibility": "hidden",
            "width": null
          }
        },
        "2c683f9255c642839fd982f56fd442d5": {
          "model_module": "@jupyter-widgets/base",
          "model_module_version": "1.2.0",
          "model_name": "LayoutModel",
          "state": {
            "_model_module": "@jupyter-widgets/base",
            "_model_module_version": "1.2.0",
            "_model_name": "LayoutModel",
            "_view_count": null,
            "_view_module": "@jupyter-widgets/base",
            "_view_module_version": "1.2.0",
            "_view_name": "LayoutView",
            "align_content": null,
            "align_items": null,
            "align_self": null,
            "border": null,
            "bottom": null,
            "display": null,
            "flex": null,
            "flex_flow": null,
            "grid_area": null,
            "grid_auto_columns": null,
            "grid_auto_flow": null,
            "grid_auto_rows": null,
            "grid_column": null,
            "grid_gap": null,
            "grid_row": null,
            "grid_template_areas": null,
            "grid_template_columns": null,
            "grid_template_rows": null,
            "height": null,
            "justify_content": null,
            "justify_items": null,
            "left": null,
            "margin": null,
            "max_height": null,
            "max_width": null,
            "min_height": null,
            "min_width": null,
            "object_fit": null,
            "object_position": null,
            "order": null,
            "overflow": null,
            "overflow_x": null,
            "overflow_y": null,
            "padding": null,
            "right": null,
            "top": null,
            "visibility": null,
            "width": null
          }
        },
        "3090bc2e042e46c7a7ae2318bef8bb7c": {
          "model_module": "@jupyter-widgets/base",
          "model_module_version": "1.2.0",
          "model_name": "LayoutModel",
          "state": {
            "_model_module": "@jupyter-widgets/base",
            "_model_module_version": "1.2.0",
            "_model_name": "LayoutModel",
            "_view_count": null,
            "_view_module": "@jupyter-widgets/base",
            "_view_module_version": "1.2.0",
            "_view_name": "LayoutView",
            "align_content": null,
            "align_items": null,
            "align_self": null,
            "border": null,
            "bottom": null,
            "display": null,
            "flex": null,
            "flex_flow": null,
            "grid_area": null,
            "grid_auto_columns": null,
            "grid_auto_flow": null,
            "grid_auto_rows": null,
            "grid_column": null,
            "grid_gap": null,
            "grid_row": null,
            "grid_template_areas": null,
            "grid_template_columns": null,
            "grid_template_rows": null,
            "height": null,
            "justify_content": null,
            "justify_items": null,
            "left": null,
            "margin": null,
            "max_height": null,
            "max_width": null,
            "min_height": null,
            "min_width": null,
            "object_fit": null,
            "object_position": null,
            "order": null,
            "overflow": null,
            "overflow_x": null,
            "overflow_y": null,
            "padding": null,
            "right": null,
            "top": null,
            "visibility": null,
            "width": null
          }
        },
        "326c6519a90144ce81aaad2b7848465b": {
          "model_module": "@jupyter-widgets/controls",
          "model_module_version": "1.5.0",
          "model_name": "HTMLModel",
          "state": {
            "_dom_classes": [],
            "_model_module": "@jupyter-widgets/controls",
            "_model_module_version": "1.5.0",
            "_model_name": "HTMLModel",
            "_view_count": null,
            "_view_module": "@jupyter-widgets/controls",
            "_view_module_version": "1.5.0",
            "_view_name": "HTMLView",
            "description": "",
            "description_tooltip": null,
            "layout": "IPY_MODEL_972f27ac867f49879185a19237511e95",
            "placeholder": "​",
            "style": "IPY_MODEL_e82d7ec2489c4a54babf8db808b6b233",
            "value": " 0/97 [00:00&lt;?, ? examples/s]"
          }
        },
        "33b51425f8344e8186e676dc45592e07": {
          "model_module": "@jupyter-widgets/controls",
          "model_module_version": "1.5.0",
          "model_name": "HBoxModel",
          "state": {
            "_dom_classes": [],
            "_model_module": "@jupyter-widgets/controls",
            "_model_module_version": "1.5.0",
            "_model_name": "HBoxModel",
            "_view_count": null,
            "_view_module": "@jupyter-widgets/controls",
            "_view_module_version": "1.5.0",
            "_view_name": "HBoxView",
            "box_style": "",
            "children": [
              "IPY_MODEL_ee3497b9f6d44d99bd2607c66681c40e",
              "IPY_MODEL_0b1e091c04474fceb880945ee8b5b60d",
              "IPY_MODEL_9e8b72df09ba4346a01c87b99abd7719"
            ],
            "layout": "IPY_MODEL_4c674835c0754130ad5ec15268c92560"
          }
        },
        "36d26c1f4acb47f4b19255ea6fc23243": {
          "model_module": "@jupyter-widgets/controls",
          "model_module_version": "1.5.0",
          "model_name": "FloatProgressModel",
          "state": {
            "_dom_classes": [],
            "_model_module": "@jupyter-widgets/controls",
            "_model_module_version": "1.5.0",
            "_model_name": "FloatProgressModel",
            "_view_count": null,
            "_view_module": "@jupyter-widgets/controls",
            "_view_module_version": "1.5.0",
            "_view_name": "ProgressView",
            "bar_style": "success",
            "description": "",
            "description_tooltip": null,
            "layout": "IPY_MODEL_2c683f9255c642839fd982f56fd442d5",
            "max": 1,
            "min": 0,
            "orientation": "horizontal",
            "style": "IPY_MODEL_df43189be2eb4b4db385d0565cfa048b",
            "value": 1
          }
        },
        "395870ed84114c658f0cd2e2c113d134": {
          "model_module": "@jupyter-widgets/base",
          "model_module_version": "1.2.0",
          "model_name": "LayoutModel",
          "state": {
            "_model_module": "@jupyter-widgets/base",
            "_model_module_version": "1.2.0",
            "_model_name": "LayoutModel",
            "_view_count": null,
            "_view_module": "@jupyter-widgets/base",
            "_view_module_version": "1.2.0",
            "_view_name": "LayoutView",
            "align_content": null,
            "align_items": null,
            "align_self": null,
            "border": null,
            "bottom": null,
            "display": null,
            "flex": null,
            "flex_flow": null,
            "grid_area": null,
            "grid_auto_columns": null,
            "grid_auto_flow": null,
            "grid_auto_rows": null,
            "grid_column": null,
            "grid_gap": null,
            "grid_row": null,
            "grid_template_areas": null,
            "grid_template_columns": null,
            "grid_template_rows": null,
            "height": null,
            "justify_content": null,
            "justify_items": null,
            "left": null,
            "margin": null,
            "max_height": null,
            "max_width": null,
            "min_height": null,
            "min_width": null,
            "object_fit": null,
            "object_position": null,
            "order": null,
            "overflow": null,
            "overflow_x": null,
            "overflow_y": null,
            "padding": null,
            "right": null,
            "top": null,
            "visibility": null,
            "width": null
          }
        },
        "3a56a95679a245919c5d362e4094da9f": {
          "model_module": "@jupyter-widgets/controls",
          "model_module_version": "1.5.0",
          "model_name": "DescriptionStyleModel",
          "state": {
            "_model_module": "@jupyter-widgets/controls",
            "_model_module_version": "1.5.0",
            "_model_name": "DescriptionStyleModel",
            "_view_count": null,
            "_view_module": "@jupyter-widgets/base",
            "_view_module_version": "1.2.0",
            "_view_name": "StyleView",
            "description_width": ""
          }
        },
        "3ac48ac763914103925f6923ddc81f07": {
          "model_module": "@jupyter-widgets/controls",
          "model_module_version": "1.5.0",
          "model_name": "HTMLModel",
          "state": {
            "_dom_classes": [],
            "_model_module": "@jupyter-widgets/controls",
            "_model_module_version": "1.5.0",
            "_model_name": "HTMLModel",
            "_view_count": null,
            "_view_module": "@jupyter-widgets/controls",
            "_view_module_version": "1.5.0",
            "_view_name": "HTMLView",
            "description": "",
            "description_tooltip": null,
            "layout": "IPY_MODEL_5a07946ab3ca46b08e7bfd994a8bbc09",
            "placeholder": "​",
            "style": "IPY_MODEL_1ed8fc5841c1418dbc2fb96ffecbf350",
            "value": "Aligning the labels:   0%"
          }
        },
        "3c5cd950ec434581a7645435aa970f1b": {
          "model_module": "@jupyter-widgets/controls",
          "model_module_version": "1.5.0",
          "model_name": "DescriptionStyleModel",
          "state": {
            "_model_module": "@jupyter-widgets/controls",
            "_model_module_version": "1.5.0",
            "_model_name": "DescriptionStyleModel",
            "_view_count": null,
            "_view_module": "@jupyter-widgets/base",
            "_view_module_version": "1.2.0",
            "_view_name": "StyleView",
            "description_width": ""
          }
        },
        "3d0a5abe159a4f10ac6c1b84eeb3dd39": {
          "model_module": "@jupyter-widgets/controls",
          "model_module_version": "1.5.0",
          "model_name": "HTMLModel",
          "state": {
            "_dom_classes": [],
            "_model_module": "@jupyter-widgets/controls",
            "_model_module_version": "1.5.0",
            "_model_name": "HTMLModel",
            "_view_count": null,
            "_view_module": "@jupyter-widgets/controls",
            "_view_module_version": "1.5.0",
            "_view_name": "HTMLView",
            "description": "",
            "description_tooltip": null,
            "layout": "IPY_MODEL_05620ddad91a444c9fd7b8f11f86c527",
            "placeholder": "​",
            "style": "IPY_MODEL_3c5cd950ec434581a7645435aa970f1b",
            "value": "Extracting data files: 100%"
          }
        },
        "3fab29f9a92040d692815430eb0cb208": {
          "model_module": "@jupyter-widgets/controls",
          "model_module_version": "1.5.0",
          "model_name": "HTMLModel",
          "state": {
            "_dom_classes": [],
            "_model_module": "@jupyter-widgets/controls",
            "_model_module_version": "1.5.0",
            "_model_name": "HTMLModel",
            "_view_count": null,
            "_view_module": "@jupyter-widgets/controls",
            "_view_module_version": "1.5.0",
            "_view_name": "HTMLView",
            "description": "",
            "description_tooltip": null,
            "layout": "IPY_MODEL_16cb7094538a4330b703749e833cceca",
            "placeholder": "​",
            "style": "IPY_MODEL_ae2ed2db13854c5dafcfa6adf591f7b8",
            "value": " 0/42 [00:00&lt;?, ? examples/s]"
          }
        },
        "46e0f86ac3ca4d419c3d9602049897c0": {
          "model_module": "@jupyter-widgets/controls",
          "model_module_version": "1.5.0",
          "model_name": "DescriptionStyleModel",
          "state": {
            "_model_module": "@jupyter-widgets/controls",
            "_model_module_version": "1.5.0",
            "_model_name": "DescriptionStyleModel",
            "_view_count": null,
            "_view_module": "@jupyter-widgets/base",
            "_view_module_version": "1.2.0",
            "_view_name": "StyleView",
            "description_width": ""
          }
        },
        "489c06592661483f9a005f305154702c": {
          "model_module": "@jupyter-widgets/base",
          "model_module_version": "1.2.0",
          "model_name": "LayoutModel",
          "state": {
            "_model_module": "@jupyter-widgets/base",
            "_model_module_version": "1.2.0",
            "_model_name": "LayoutModel",
            "_view_count": null,
            "_view_module": "@jupyter-widgets/base",
            "_view_module_version": "1.2.0",
            "_view_name": "LayoutView",
            "align_content": null,
            "align_items": null,
            "align_self": null,
            "border": null,
            "bottom": null,
            "display": null,
            "flex": null,
            "flex_flow": null,
            "grid_area": null,
            "grid_auto_columns": null,
            "grid_auto_flow": null,
            "grid_auto_rows": null,
            "grid_column": null,
            "grid_gap": null,
            "grid_row": null,
            "grid_template_areas": null,
            "grid_template_columns": null,
            "grid_template_rows": null,
            "height": null,
            "justify_content": null,
            "justify_items": null,
            "left": null,
            "margin": null,
            "max_height": null,
            "max_width": null,
            "min_height": null,
            "min_width": null,
            "object_fit": null,
            "object_position": null,
            "order": null,
            "overflow": null,
            "overflow_x": null,
            "overflow_y": null,
            "padding": null,
            "right": null,
            "top": null,
            "visibility": null,
            "width": null
          }
        },
        "4a34545b68c3491da32551e135ea238f": {
          "model_module": "@jupyter-widgets/base",
          "model_module_version": "1.2.0",
          "model_name": "LayoutModel",
          "state": {
            "_model_module": "@jupyter-widgets/base",
            "_model_module_version": "1.2.0",
            "_model_name": "LayoutModel",
            "_view_count": null,
            "_view_module": "@jupyter-widgets/base",
            "_view_module_version": "1.2.0",
            "_view_name": "LayoutView",
            "align_content": null,
            "align_items": null,
            "align_self": null,
            "border": null,
            "bottom": null,
            "display": null,
            "flex": null,
            "flex_flow": null,
            "grid_area": null,
            "grid_auto_columns": null,
            "grid_auto_flow": null,
            "grid_auto_rows": null,
            "grid_column": null,
            "grid_gap": null,
            "grid_row": null,
            "grid_template_areas": null,
            "grid_template_columns": null,
            "grid_template_rows": null,
            "height": null,
            "justify_content": null,
            "justify_items": null,
            "left": null,
            "margin": null,
            "max_height": null,
            "max_width": null,
            "min_height": null,
            "min_width": null,
            "object_fit": null,
            "object_position": null,
            "order": null,
            "overflow": null,
            "overflow_x": null,
            "overflow_y": null,
            "padding": null,
            "right": null,
            "top": null,
            "visibility": null,
            "width": null
          }
        },
        "4c674835c0754130ad5ec15268c92560": {
          "model_module": "@jupyter-widgets/base",
          "model_module_version": "1.2.0",
          "model_name": "LayoutModel",
          "state": {
            "_model_module": "@jupyter-widgets/base",
            "_model_module_version": "1.2.0",
            "_model_name": "LayoutModel",
            "_view_count": null,
            "_view_module": "@jupyter-widgets/base",
            "_view_module_version": "1.2.0",
            "_view_name": "LayoutView",
            "align_content": null,
            "align_items": null,
            "align_self": null,
            "border": null,
            "bottom": null,
            "display": null,
            "flex": null,
            "flex_flow": null,
            "grid_area": null,
            "grid_auto_columns": null,
            "grid_auto_flow": null,
            "grid_auto_rows": null,
            "grid_column": null,
            "grid_gap": null,
            "grid_row": null,
            "grid_template_areas": null,
            "grid_template_columns": null,
            "grid_template_rows": null,
            "height": null,
            "justify_content": null,
            "justify_items": null,
            "left": null,
            "margin": null,
            "max_height": null,
            "max_width": null,
            "min_height": null,
            "min_width": null,
            "object_fit": null,
            "object_position": null,
            "order": null,
            "overflow": null,
            "overflow_x": null,
            "overflow_y": null,
            "padding": null,
            "right": null,
            "top": null,
            "visibility": "hidden",
            "width": null
          }
        },
        "4c9a1e8e387f4e51b960d038d87a186c": {
          "model_module": "@jupyter-widgets/controls",
          "model_module_version": "1.5.0",
          "model_name": "HBoxModel",
          "state": {
            "_dom_classes": [],
            "_model_module": "@jupyter-widgets/controls",
            "_model_module_version": "1.5.0",
            "_model_name": "HBoxModel",
            "_view_count": null,
            "_view_module": "@jupyter-widgets/controls",
            "_view_module_version": "1.5.0",
            "_view_name": "HBoxView",
            "box_style": "",
            "children": [
              "IPY_MODEL_3d0a5abe159a4f10ac6c1b84eeb3dd39",
              "IPY_MODEL_36d26c1f4acb47f4b19255ea6fc23243",
              "IPY_MODEL_0a264dcc47ae444b801c56c303850520"
            ],
            "layout": "IPY_MODEL_8e35241e57e5471b9c295581a83a50de"
          }
        },
        "4cd02fe9bb264513b17235f42e5d1737": {
          "model_module": "@jupyter-widgets/controls",
          "model_module_version": "1.5.0",
          "model_name": "HTMLModel",
          "state": {
            "_dom_classes": [],
            "_model_module": "@jupyter-widgets/controls",
            "_model_module_version": "1.5.0",
            "_model_name": "HTMLModel",
            "_view_count": null,
            "_view_module": "@jupyter-widgets/controls",
            "_view_module_version": "1.5.0",
            "_view_name": "HTMLView",
            "description": "",
            "description_tooltip": null,
            "layout": "IPY_MODEL_c2c4c010268b4163808331f5fef99d05",
            "placeholder": "​",
            "style": "IPY_MODEL_c27fb82054294813adb6b3e1e912b5f3",
            "value": "Casting to class labels:   0%"
          }
        },
        "4cefa48a101946d5963e7fdc4b6be062": {
          "model_module": "@jupyter-widgets/controls",
          "model_module_version": "1.5.0",
          "model_name": "HBoxModel",
          "state": {
            "_dom_classes": [],
            "_model_module": "@jupyter-widgets/controls",
            "_model_module_version": "1.5.0",
            "_model_name": "HBoxModel",
            "_view_count": null,
            "_view_module": "@jupyter-widgets/controls",
            "_view_module_version": "1.5.0",
            "_view_name": "HBoxView",
            "box_style": "",
            "children": [
              "IPY_MODEL_7f9c4c13587f4045b2be34b77d3d3082",
              "IPY_MODEL_586036f9b21d4a12b663f977165b6ab6",
              "IPY_MODEL_099a64b5670840c8892733fc152c2dbf"
            ],
            "layout": "IPY_MODEL_d50c11309dfc4915b12e2a4edf338c0e"
          }
        },
        "4d5cb3dbdaa646cc91f910a961eac089": {
          "model_module": "@jupyter-widgets/controls",
          "model_module_version": "1.5.0",
          "model_name": "HTMLModel",
          "state": {
            "_dom_classes": [],
            "_model_module": "@jupyter-widgets/controls",
            "_model_module_version": "1.5.0",
            "_model_name": "HTMLModel",
            "_view_count": null,
            "_view_module": "@jupyter-widgets/controls",
            "_view_module_version": "1.5.0",
            "_view_name": "HTMLView",
            "description": "",
            "description_tooltip": null,
            "layout": "IPY_MODEL_395870ed84114c658f0cd2e2c113d134",
            "placeholder": "​",
            "style": "IPY_MODEL_61a6f41b92584a84bc2a59295e2dbf7b",
            "value": "Downloading data files: 100%"
          }
        },
        "4e8e63c174f24d23b3a1ccc48f376422": {
          "model_module": "@jupyter-widgets/controls",
          "model_module_version": "1.5.0",
          "model_name": "ProgressStyleModel",
          "state": {
            "_model_module": "@jupyter-widgets/controls",
            "_model_module_version": "1.5.0",
            "_model_name": "ProgressStyleModel",
            "_view_count": null,
            "_view_module": "@jupyter-widgets/base",
            "_view_module_version": "1.2.0",
            "_view_name": "StyleView",
            "bar_color": null,
            "description_width": ""
          }
        },
        "4f05237cd0bb47d6b296a6afc2587482": {
          "model_module": "@jupyter-widgets/base",
          "model_module_version": "1.2.0",
          "model_name": "LayoutModel",
          "state": {
            "_model_module": "@jupyter-widgets/base",
            "_model_module_version": "1.2.0",
            "_model_name": "LayoutModel",
            "_view_count": null,
            "_view_module": "@jupyter-widgets/base",
            "_view_module_version": "1.2.0",
            "_view_name": "LayoutView",
            "align_content": null,
            "align_items": null,
            "align_self": null,
            "border": null,
            "bottom": null,
            "display": null,
            "flex": null,
            "flex_flow": null,
            "grid_area": null,
            "grid_auto_columns": null,
            "grid_auto_flow": null,
            "grid_auto_rows": null,
            "grid_column": null,
            "grid_gap": null,
            "grid_row": null,
            "grid_template_areas": null,
            "grid_template_columns": null,
            "grid_template_rows": null,
            "height": null,
            "justify_content": null,
            "justify_items": null,
            "left": null,
            "margin": null,
            "max_height": null,
            "max_width": null,
            "min_height": null,
            "min_width": null,
            "object_fit": null,
            "object_position": null,
            "order": null,
            "overflow": null,
            "overflow_x": null,
            "overflow_y": null,
            "padding": null,
            "right": null,
            "top": null,
            "visibility": null,
            "width": null
          }
        },
        "4f4b3385a2d84d2583d1303710925743": {
          "model_module": "@jupyter-widgets/controls",
          "model_module_version": "1.5.0",
          "model_name": "HTMLModel",
          "state": {
            "_dom_classes": [],
            "_model_module": "@jupyter-widgets/controls",
            "_model_module_version": "1.5.0",
            "_model_name": "HTMLModel",
            "_view_count": null,
            "_view_module": "@jupyter-widgets/controls",
            "_view_module_version": "1.5.0",
            "_view_name": "HTMLView",
            "description": "",
            "description_tooltip": null,
            "layout": "IPY_MODEL_9d2e74abdb2249f084f2dec862fb0f4e",
            "placeholder": "​",
            "style": "IPY_MODEL_a1bd6700be294cfd9044cf2802828198",
            "value": "Flattening the indices:   0%"
          }
        },
        "502def375ba945c3b92233c62603afef": {
          "model_module": "@jupyter-widgets/controls",
          "model_module_version": "1.5.0",
          "model_name": "FloatProgressModel",
          "state": {
            "_dom_classes": [],
            "_model_module": "@jupyter-widgets/controls",
            "_model_module_version": "1.5.0",
            "_model_name": "FloatProgressModel",
            "_view_count": null,
            "_view_module": "@jupyter-widgets/controls",
            "_view_module_version": "1.5.0",
            "_view_name": "ProgressView",
            "bar_style": "",
            "description": "",
            "description_tooltip": null,
            "layout": "IPY_MODEL_79196b23c81349f3a0e07191f8888bd8",
            "max": 42,
            "min": 0,
            "orientation": "horizontal",
            "style": "IPY_MODEL_4e8e63c174f24d23b3a1ccc48f376422",
            "value": 42
          }
        },
        "51b88298661248f293a20eb14a6c8f2c": {
          "model_module": "@jupyter-widgets/base",
          "model_module_version": "1.2.0",
          "model_name": "LayoutModel",
          "state": {
            "_model_module": "@jupyter-widgets/base",
            "_model_module_version": "1.2.0",
            "_model_name": "LayoutModel",
            "_view_count": null,
            "_view_module": "@jupyter-widgets/base",
            "_view_module_version": "1.2.0",
            "_view_name": "LayoutView",
            "align_content": null,
            "align_items": null,
            "align_self": null,
            "border": null,
            "bottom": null,
            "display": null,
            "flex": null,
            "flex_flow": null,
            "grid_area": null,
            "grid_auto_columns": null,
            "grid_auto_flow": null,
            "grid_auto_rows": null,
            "grid_column": null,
            "grid_gap": null,
            "grid_row": null,
            "grid_template_areas": null,
            "grid_template_columns": null,
            "grid_template_rows": null,
            "height": null,
            "justify_content": null,
            "justify_items": null,
            "left": null,
            "margin": null,
            "max_height": null,
            "max_width": null,
            "min_height": null,
            "min_width": null,
            "object_fit": null,
            "object_position": null,
            "order": null,
            "overflow": null,
            "overflow_x": null,
            "overflow_y": null,
            "padding": null,
            "right": null,
            "top": null,
            "visibility": "hidden",
            "width": null
          }
        },
        "53bd5b727b1948a1aff1659ec4932b9c": {
          "model_module": "@jupyter-widgets/controls",
          "model_module_version": "1.5.0",
          "model_name": "HTMLModel",
          "state": {
            "_dom_classes": [],
            "_model_module": "@jupyter-widgets/controls",
            "_model_module_version": "1.5.0",
            "_model_name": "HTMLModel",
            "_view_count": null,
            "_view_module": "@jupyter-widgets/controls",
            "_view_module_version": "1.5.0",
            "_view_name": "HTMLView",
            "description": "",
            "description_tooltip": null,
            "layout": "IPY_MODEL_88d85d9dc0ed46af9b2003aac980ed88",
            "placeholder": "​",
            "style": "IPY_MODEL_fb70ea9339654864947c9b1d2f3818ae",
            "value": " 1/1 [00:00&lt;00:00, 16.39it/s]"
          }
        },
        "5574508c5477497e9d6e8bb9c3cd0b4e": {
          "model_module": "@jupyter-widgets/base",
          "model_module_version": "1.2.0",
          "model_name": "LayoutModel",
          "state": {
            "_model_module": "@jupyter-widgets/base",
            "_model_module_version": "1.2.0",
            "_model_name": "LayoutModel",
            "_view_count": null,
            "_view_module": "@jupyter-widgets/base",
            "_view_module_version": "1.2.0",
            "_view_name": "LayoutView",
            "align_content": null,
            "align_items": null,
            "align_self": null,
            "border": null,
            "bottom": null,
            "display": null,
            "flex": null,
            "flex_flow": null,
            "grid_area": null,
            "grid_auto_columns": null,
            "grid_auto_flow": null,
            "grid_auto_rows": null,
            "grid_column": null,
            "grid_gap": null,
            "grid_row": null,
            "grid_template_areas": null,
            "grid_template_columns": null,
            "grid_template_rows": null,
            "height": null,
            "justify_content": null,
            "justify_items": null,
            "left": null,
            "margin": null,
            "max_height": null,
            "max_width": null,
            "min_height": null,
            "min_width": null,
            "object_fit": null,
            "object_position": null,
            "order": null,
            "overflow": null,
            "overflow_x": null,
            "overflow_y": null,
            "padding": null,
            "right": null,
            "top": null,
            "visibility": null,
            "width": null
          }
        },
        "586036f9b21d4a12b663f977165b6ab6": {
          "model_module": "@jupyter-widgets/controls",
          "model_module_version": "1.5.0",
          "model_name": "FloatProgressModel",
          "state": {
            "_dom_classes": [],
            "_model_module": "@jupyter-widgets/controls",
            "_model_module_version": "1.5.0",
            "_model_name": "FloatProgressModel",
            "_view_count": null,
            "_view_module": "@jupyter-widgets/controls",
            "_view_module_version": "1.5.0",
            "_view_name": "ProgressView",
            "bar_style": "",
            "description": "",
            "description_tooltip": null,
            "layout": "IPY_MODEL_5574508c5477497e9d6e8bb9c3cd0b4e",
            "max": 42,
            "min": 0,
            "orientation": "horizontal",
            "style": "IPY_MODEL_eae983538a14478ab26d635a50ed0c8f",
            "value": 42
          }
        },
        "5a07946ab3ca46b08e7bfd994a8bbc09": {
          "model_module": "@jupyter-widgets/base",
          "model_module_version": "1.2.0",
          "model_name": "LayoutModel",
          "state": {
            "_model_module": "@jupyter-widgets/base",
            "_model_module_version": "1.2.0",
            "_model_name": "LayoutModel",
            "_view_count": null,
            "_view_module": "@jupyter-widgets/base",
            "_view_module_version": "1.2.0",
            "_view_name": "LayoutView",
            "align_content": null,
            "align_items": null,
            "align_self": null,
            "border": null,
            "bottom": null,
            "display": null,
            "flex": null,
            "flex_flow": null,
            "grid_area": null,
            "grid_auto_columns": null,
            "grid_auto_flow": null,
            "grid_auto_rows": null,
            "grid_column": null,
            "grid_gap": null,
            "grid_row": null,
            "grid_template_areas": null,
            "grid_template_columns": null,
            "grid_template_rows": null,
            "height": null,
            "justify_content": null,
            "justify_items": null,
            "left": null,
            "margin": null,
            "max_height": null,
            "max_width": null,
            "min_height": null,
            "min_width": null,
            "object_fit": null,
            "object_position": null,
            "order": null,
            "overflow": null,
            "overflow_x": null,
            "overflow_y": null,
            "padding": null,
            "right": null,
            "top": null,
            "visibility": null,
            "width": null
          }
        },
        "61a6f41b92584a84bc2a59295e2dbf7b": {
          "model_module": "@jupyter-widgets/controls",
          "model_module_version": "1.5.0",
          "model_name": "DescriptionStyleModel",
          "state": {
            "_model_module": "@jupyter-widgets/controls",
            "_model_module_version": "1.5.0",
            "_model_name": "DescriptionStyleModel",
            "_view_count": null,
            "_view_module": "@jupyter-widgets/base",
            "_view_module_version": "1.2.0",
            "_view_name": "StyleView",
            "description_width": ""
          }
        },
        "62a245891c494be2bc4c7378a4eb6fc0": {
          "model_module": "@jupyter-widgets/controls",
          "model_module_version": "1.5.0",
          "model_name": "HBoxModel",
          "state": {
            "_dom_classes": [],
            "_model_module": "@jupyter-widgets/controls",
            "_model_module_version": "1.5.0",
            "_model_name": "HBoxModel",
            "_view_count": null,
            "_view_module": "@jupyter-widgets/controls",
            "_view_module_version": "1.5.0",
            "_view_name": "HBoxView",
            "box_style": "",
            "children": [
              "IPY_MODEL_4d5cb3dbdaa646cc91f910a961eac089",
              "IPY_MODEL_abe65f1718244860978da50d46b1ae55",
              "IPY_MODEL_53bd5b727b1948a1aff1659ec4932b9c"
            ],
            "layout": "IPY_MODEL_01385fc80c8b4c6195c4b32932c2f116"
          }
        },
        "63d19c1d46c74c2189e4d763df1cd699": {
          "model_module": "@jupyter-widgets/controls",
          "model_module_version": "1.5.0",
          "model_name": "HBoxModel",
          "state": {
            "_dom_classes": [],
            "_model_module": "@jupyter-widgets/controls",
            "_model_module_version": "1.5.0",
            "_model_name": "HBoxModel",
            "_view_count": null,
            "_view_module": "@jupyter-widgets/controls",
            "_view_module_version": "1.5.0",
            "_view_name": "HBoxView",
            "box_style": "",
            "children": [
              "IPY_MODEL_688e82abea154fd1a6de37d5580d5cca",
              "IPY_MODEL_0566582fabc34f2c8871a733e719e755",
              "IPY_MODEL_faf4b0ad6ccf45ceb222e1bfb6d5232d"
            ],
            "layout": "IPY_MODEL_93b48650853446229f6e70da689935f5"
          }
        },
        "63f8b66128f64139b0a423b823c52390": {
          "model_module": "@jupyter-widgets/controls",
          "model_module_version": "1.5.0",
          "model_name": "HTMLModel",
          "state": {
            "_dom_classes": [],
            "_model_module": "@jupyter-widgets/controls",
            "_model_module_version": "1.5.0",
            "_model_name": "HTMLModel",
            "_view_count": null,
            "_view_module": "@jupyter-widgets/controls",
            "_view_module_version": "1.5.0",
            "_view_name": "HTMLView",
            "description": "",
            "description_tooltip": null,
            "layout": "IPY_MODEL_489c06592661483f9a005f305154702c",
            "placeholder": "​",
            "style": "IPY_MODEL_46e0f86ac3ca4d419c3d9602049897c0",
            "value": "Generating train split: "
          }
        },
        "688e82abea154fd1a6de37d5580d5cca": {
          "model_module": "@jupyter-widgets/controls",
          "model_module_version": "1.5.0",
          "model_name": "HTMLModel",
          "state": {
            "_dom_classes": [],
            "_model_module": "@jupyter-widgets/controls",
            "_model_module_version": "1.5.0",
            "_model_name": "HTMLModel",
            "_view_count": null,
            "_view_module": "@jupyter-widgets/controls",
            "_view_module_version": "1.5.0",
            "_view_name": "HTMLView",
            "description": "",
            "description_tooltip": null,
            "layout": "IPY_MODEL_ccb87f119a664753bcbb91b8c09938bf",
            "placeholder": "​",
            "style": "IPY_MODEL_6c23e8b922d34214ab5b44e917f7aacb",
            "value": "Map:  77%"
          }
        },
        "698d854006df44e084d08291f8db9f49": {
          "model_module": "@jupyter-widgets/controls",
          "model_module_version": "1.5.0",
          "model_name": "DescriptionStyleModel",
          "state": {
            "_model_module": "@jupyter-widgets/controls",
            "_model_module_version": "1.5.0",
            "_model_name": "DescriptionStyleModel",
            "_view_count": null,
            "_view_module": "@jupyter-widgets/base",
            "_view_module_version": "1.2.0",
            "_view_name": "StyleView",
            "description_width": ""
          }
        },
        "6beb5cdeae5346bdb254aa6de1e96738": {
          "model_module": "@jupyter-widgets/controls",
          "model_module_version": "1.5.0",
          "model_name": "ProgressStyleModel",
          "state": {
            "_model_module": "@jupyter-widgets/controls",
            "_model_module_version": "1.5.0",
            "_model_name": "ProgressStyleModel",
            "_view_count": null,
            "_view_module": "@jupyter-widgets/base",
            "_view_module_version": "1.2.0",
            "_view_name": "StyleView",
            "bar_color": null,
            "description_width": ""
          }
        },
        "6c23e8b922d34214ab5b44e917f7aacb": {
          "model_module": "@jupyter-widgets/controls",
          "model_module_version": "1.5.0",
          "model_name": "DescriptionStyleModel",
          "state": {
            "_model_module": "@jupyter-widgets/controls",
            "_model_module_version": "1.5.0",
            "_model_name": "DescriptionStyleModel",
            "_view_count": null,
            "_view_module": "@jupyter-widgets/base",
            "_view_module_version": "1.2.0",
            "_view_name": "StyleView",
            "description_width": ""
          }
        },
        "6c6178c75113439c8af05c12c58f4a68": {
          "model_module": "@jupyter-widgets/base",
          "model_module_version": "1.2.0",
          "model_name": "LayoutModel",
          "state": {
            "_model_module": "@jupyter-widgets/base",
            "_model_module_version": "1.2.0",
            "_model_name": "LayoutModel",
            "_view_count": null,
            "_view_module": "@jupyter-widgets/base",
            "_view_module_version": "1.2.0",
            "_view_name": "LayoutView",
            "align_content": null,
            "align_items": null,
            "align_self": null,
            "border": null,
            "bottom": null,
            "display": null,
            "flex": null,
            "flex_flow": null,
            "grid_area": null,
            "grid_auto_columns": null,
            "grid_auto_flow": null,
            "grid_auto_rows": null,
            "grid_column": null,
            "grid_gap": null,
            "grid_row": null,
            "grid_template_areas": null,
            "grid_template_columns": null,
            "grid_template_rows": null,
            "height": null,
            "justify_content": null,
            "justify_items": null,
            "left": null,
            "margin": null,
            "max_height": null,
            "max_width": null,
            "min_height": null,
            "min_width": null,
            "object_fit": null,
            "object_position": null,
            "order": null,
            "overflow": null,
            "overflow_x": null,
            "overflow_y": null,
            "padding": null,
            "right": null,
            "top": null,
            "visibility": null,
            "width": null
          }
        },
        "6f95ba63ec1e46b5a3be9cd3ee729623": {
          "model_module": "@jupyter-widgets/base",
          "model_module_version": "1.2.0",
          "model_name": "LayoutModel",
          "state": {
            "_model_module": "@jupyter-widgets/base",
            "_model_module_version": "1.2.0",
            "_model_name": "LayoutModel",
            "_view_count": null,
            "_view_module": "@jupyter-widgets/base",
            "_view_module_version": "1.2.0",
            "_view_name": "LayoutView",
            "align_content": null,
            "align_items": null,
            "align_self": null,
            "border": null,
            "bottom": null,
            "display": null,
            "flex": null,
            "flex_flow": null,
            "grid_area": null,
            "grid_auto_columns": null,
            "grid_auto_flow": null,
            "grid_auto_rows": null,
            "grid_column": null,
            "grid_gap": null,
            "grid_row": null,
            "grid_template_areas": null,
            "grid_template_columns": null,
            "grid_template_rows": null,
            "height": null,
            "justify_content": null,
            "justify_items": null,
            "left": null,
            "margin": null,
            "max_height": null,
            "max_width": null,
            "min_height": null,
            "min_width": null,
            "object_fit": null,
            "object_position": null,
            "order": null,
            "overflow": null,
            "overflow_x": null,
            "overflow_y": null,
            "padding": null,
            "right": null,
            "top": null,
            "visibility": null,
            "width": null
          }
        },
        "71be5666d6fa4853816969579ad3227a": {
          "model_module": "@jupyter-widgets/controls",
          "model_module_version": "1.5.0",
          "model_name": "FloatProgressModel",
          "state": {
            "_dom_classes": [],
            "_model_module": "@jupyter-widgets/controls",
            "_model_module_version": "1.5.0",
            "_model_name": "FloatProgressModel",
            "_view_count": null,
            "_view_module": "@jupyter-widgets/controls",
            "_view_module_version": "1.5.0",
            "_view_name": "ProgressView",
            "bar_style": "",
            "description": "",
            "description_tooltip": null,
            "layout": "IPY_MODEL_ee6c49ba77ae4a9bad06de0b84ef43dd",
            "max": 97,
            "min": 0,
            "orientation": "horizontal",
            "style": "IPY_MODEL_eee8d7aa0005439ca75b0b65c49947e4",
            "value": 97
          }
        },
        "77eb6773105b4d72923b8727ad7f7efe": {
          "model_module": "@jupyter-widgets/base",
          "model_module_version": "1.2.0",
          "model_name": "LayoutModel",
          "state": {
            "_model_module": "@jupyter-widgets/base",
            "_model_module_version": "1.2.0",
            "_model_name": "LayoutModel",
            "_view_count": null,
            "_view_module": "@jupyter-widgets/base",
            "_view_module_version": "1.2.0",
            "_view_name": "LayoutView",
            "align_content": null,
            "align_items": null,
            "align_self": null,
            "border": null,
            "bottom": null,
            "display": null,
            "flex": null,
            "flex_flow": null,
            "grid_area": null,
            "grid_auto_columns": null,
            "grid_auto_flow": null,
            "grid_auto_rows": null,
            "grid_column": null,
            "grid_gap": null,
            "grid_row": null,
            "grid_template_areas": null,
            "grid_template_columns": null,
            "grid_template_rows": null,
            "height": null,
            "justify_content": null,
            "justify_items": null,
            "left": null,
            "margin": null,
            "max_height": null,
            "max_width": null,
            "min_height": null,
            "min_width": null,
            "object_fit": null,
            "object_position": null,
            "order": null,
            "overflow": null,
            "overflow_x": null,
            "overflow_y": null,
            "padding": null,
            "right": null,
            "top": null,
            "visibility": "hidden",
            "width": null
          }
        },
        "79196b23c81349f3a0e07191f8888bd8": {
          "model_module": "@jupyter-widgets/base",
          "model_module_version": "1.2.0",
          "model_name": "LayoutModel",
          "state": {
            "_model_module": "@jupyter-widgets/base",
            "_model_module_version": "1.2.0",
            "_model_name": "LayoutModel",
            "_view_count": null,
            "_view_module": "@jupyter-widgets/base",
            "_view_module_version": "1.2.0",
            "_view_name": "LayoutView",
            "align_content": null,
            "align_items": null,
            "align_self": null,
            "border": null,
            "bottom": null,
            "display": null,
            "flex": null,
            "flex_flow": null,
            "grid_area": null,
            "grid_auto_columns": null,
            "grid_auto_flow": null,
            "grid_auto_rows": null,
            "grid_column": null,
            "grid_gap": null,
            "grid_row": null,
            "grid_template_areas": null,
            "grid_template_columns": null,
            "grid_template_rows": null,
            "height": null,
            "justify_content": null,
            "justify_items": null,
            "left": null,
            "margin": null,
            "max_height": null,
            "max_width": null,
            "min_height": null,
            "min_width": null,
            "object_fit": null,
            "object_position": null,
            "order": null,
            "overflow": null,
            "overflow_x": null,
            "overflow_y": null,
            "padding": null,
            "right": null,
            "top": null,
            "visibility": null,
            "width": null
          }
        },
        "7f9c4c13587f4045b2be34b77d3d3082": {
          "model_module": "@jupyter-widgets/controls",
          "model_module_version": "1.5.0",
          "model_name": "HTMLModel",
          "state": {
            "_dom_classes": [],
            "_model_module": "@jupyter-widgets/controls",
            "_model_module_version": "1.5.0",
            "_model_name": "HTMLModel",
            "_view_count": null,
            "_view_module": "@jupyter-widgets/controls",
            "_view_module_version": "1.5.0",
            "_view_name": "HTMLView",
            "description": "",
            "description_tooltip": null,
            "layout": "IPY_MODEL_e9706fad5742404d847a44bd62610342",
            "placeholder": "​",
            "style": "IPY_MODEL_a646e461bb3b4706ab394ff57bc3c987",
            "value": "Casting to class labels:   0%"
          }
        },
        "8366207cac984454ac0a4e51841aaa4f": {
          "model_module": "@jupyter-widgets/base",
          "model_module_version": "1.2.0",
          "model_name": "LayoutModel",
          "state": {
            "_model_module": "@jupyter-widgets/base",
            "_model_module_version": "1.2.0",
            "_model_name": "LayoutModel",
            "_view_count": null,
            "_view_module": "@jupyter-widgets/base",
            "_view_module_version": "1.2.0",
            "_view_name": "LayoutView",
            "align_content": null,
            "align_items": null,
            "align_self": null,
            "border": null,
            "bottom": null,
            "display": null,
            "flex": null,
            "flex_flow": null,
            "grid_area": null,
            "grid_auto_columns": null,
            "grid_auto_flow": null,
            "grid_auto_rows": null,
            "grid_column": null,
            "grid_gap": null,
            "grid_row": null,
            "grid_template_areas": null,
            "grid_template_columns": null,
            "grid_template_rows": null,
            "height": null,
            "justify_content": null,
            "justify_items": null,
            "left": null,
            "margin": null,
            "max_height": null,
            "max_width": null,
            "min_height": null,
            "min_width": null,
            "object_fit": null,
            "object_position": null,
            "order": null,
            "overflow": null,
            "overflow_x": null,
            "overflow_y": null,
            "padding": null,
            "right": null,
            "top": null,
            "visibility": null,
            "width": null
          }
        },
        "86789155fadc4e54be37999e2769f5f5": {
          "model_module": "@jupyter-widgets/controls",
          "model_module_version": "1.5.0",
          "model_name": "DescriptionStyleModel",
          "state": {
            "_model_module": "@jupyter-widgets/controls",
            "_model_module_version": "1.5.0",
            "_model_name": "DescriptionStyleModel",
            "_view_count": null,
            "_view_module": "@jupyter-widgets/base",
            "_view_module_version": "1.2.0",
            "_view_name": "StyleView",
            "description_width": ""
          }
        },
        "88d85d9dc0ed46af9b2003aac980ed88": {
          "model_module": "@jupyter-widgets/base",
          "model_module_version": "1.2.0",
          "model_name": "LayoutModel",
          "state": {
            "_model_module": "@jupyter-widgets/base",
            "_model_module_version": "1.2.0",
            "_model_name": "LayoutModel",
            "_view_count": null,
            "_view_module": "@jupyter-widgets/base",
            "_view_module_version": "1.2.0",
            "_view_name": "LayoutView",
            "align_content": null,
            "align_items": null,
            "align_self": null,
            "border": null,
            "bottom": null,
            "display": null,
            "flex": null,
            "flex_flow": null,
            "grid_area": null,
            "grid_auto_columns": null,
            "grid_auto_flow": null,
            "grid_auto_rows": null,
            "grid_column": null,
            "grid_gap": null,
            "grid_row": null,
            "grid_template_areas": null,
            "grid_template_columns": null,
            "grid_template_rows": null,
            "height": null,
            "justify_content": null,
            "justify_items": null,
            "left": null,
            "margin": null,
            "max_height": null,
            "max_width": null,
            "min_height": null,
            "min_width": null,
            "object_fit": null,
            "object_position": null,
            "order": null,
            "overflow": null,
            "overflow_x": null,
            "overflow_y": null,
            "padding": null,
            "right": null,
            "top": null,
            "visibility": null,
            "width": null
          }
        },
        "8be34d4a5c6b4c11b6eabb307ddc9388": {
          "model_module": "@jupyter-widgets/controls",
          "model_module_version": "1.5.0",
          "model_name": "FloatProgressModel",
          "state": {
            "_dom_classes": [],
            "_model_module": "@jupyter-widgets/controls",
            "_model_module_version": "1.5.0",
            "_model_name": "FloatProgressModel",
            "_view_count": null,
            "_view_module": "@jupyter-widgets/controls",
            "_view_module_version": "1.5.0",
            "_view_name": "ProgressView",
            "bar_style": "",
            "description": "",
            "description_tooltip": null,
            "layout": "IPY_MODEL_f17778e94d9a4836acf39e1068ccfb04",
            "max": 42,
            "min": 0,
            "orientation": "horizontal",
            "style": "IPY_MODEL_940179e25bec439897348792d9b5a09f",
            "value": 42
          }
        },
        "8e35241e57e5471b9c295581a83a50de": {
          "model_module": "@jupyter-widgets/base",
          "model_module_version": "1.2.0",
          "model_name": "LayoutModel",
          "state": {
            "_model_module": "@jupyter-widgets/base",
            "_model_module_version": "1.2.0",
            "_model_name": "LayoutModel",
            "_view_count": null,
            "_view_module": "@jupyter-widgets/base",
            "_view_module_version": "1.2.0",
            "_view_name": "LayoutView",
            "align_content": null,
            "align_items": null,
            "align_self": null,
            "border": null,
            "bottom": null,
            "display": null,
            "flex": null,
            "flex_flow": null,
            "grid_area": null,
            "grid_auto_columns": null,
            "grid_auto_flow": null,
            "grid_auto_rows": null,
            "grid_column": null,
            "grid_gap": null,
            "grid_row": null,
            "grid_template_areas": null,
            "grid_template_columns": null,
            "grid_template_rows": null,
            "height": null,
            "justify_content": null,
            "justify_items": null,
            "left": null,
            "margin": null,
            "max_height": null,
            "max_width": null,
            "min_height": null,
            "min_width": null,
            "object_fit": null,
            "object_position": null,
            "order": null,
            "overflow": null,
            "overflow_x": null,
            "overflow_y": null,
            "padding": null,
            "right": null,
            "top": null,
            "visibility": null,
            "width": null
          }
        },
        "93b48650853446229f6e70da689935f5": {
          "model_module": "@jupyter-widgets/base",
          "model_module_version": "1.2.0",
          "model_name": "LayoutModel",
          "state": {
            "_model_module": "@jupyter-widgets/base",
            "_model_module_version": "1.2.0",
            "_model_name": "LayoutModel",
            "_view_count": null,
            "_view_module": "@jupyter-widgets/base",
            "_view_module_version": "1.2.0",
            "_view_name": "LayoutView",
            "align_content": null,
            "align_items": null,
            "align_self": null,
            "border": null,
            "bottom": null,
            "display": null,
            "flex": null,
            "flex_flow": null,
            "grid_area": null,
            "grid_auto_columns": null,
            "grid_auto_flow": null,
            "grid_auto_rows": null,
            "grid_column": null,
            "grid_gap": null,
            "grid_row": null,
            "grid_template_areas": null,
            "grid_template_columns": null,
            "grid_template_rows": null,
            "height": null,
            "justify_content": null,
            "justify_items": null,
            "left": null,
            "margin": null,
            "max_height": null,
            "max_width": null,
            "min_height": null,
            "min_width": null,
            "object_fit": null,
            "object_position": null,
            "order": null,
            "overflow": null,
            "overflow_x": null,
            "overflow_y": null,
            "padding": null,
            "right": null,
            "top": null,
            "visibility": "hidden",
            "width": null
          }
        },
        "940179e25bec439897348792d9b5a09f": {
          "model_module": "@jupyter-widgets/controls",
          "model_module_version": "1.5.0",
          "model_name": "ProgressStyleModel",
          "state": {
            "_model_module": "@jupyter-widgets/controls",
            "_model_module_version": "1.5.0",
            "_model_name": "ProgressStyleModel",
            "_view_count": null,
            "_view_module": "@jupyter-widgets/base",
            "_view_module_version": "1.2.0",
            "_view_name": "StyleView",
            "bar_color": null,
            "description_width": ""
          }
        },
        "94d92176bd54472e8e2345c1c392ee3a": {
          "model_module": "@jupyter-widgets/controls",
          "model_module_version": "1.5.0",
          "model_name": "HTMLModel",
          "state": {
            "_dom_classes": [],
            "_model_module": "@jupyter-widgets/controls",
            "_model_module_version": "1.5.0",
            "_model_name": "HTMLModel",
            "_view_count": null,
            "_view_module": "@jupyter-widgets/controls",
            "_view_module_version": "1.5.0",
            "_view_name": "HTMLView",
            "description": "",
            "description_tooltip": null,
            "layout": "IPY_MODEL_4a34545b68c3491da32551e135ea238f",
            "placeholder": "​",
            "style": "IPY_MODEL_3a56a95679a245919c5d362e4094da9f",
            "value": " 0/0 [00:00&lt;?, ? examples/s]"
          }
        },
        "9509739dbdcc4499b21c3c6bd667aa64": {
          "model_module": "@jupyter-widgets/controls",
          "model_module_version": "1.5.0",
          "model_name": "HBoxModel",
          "state": {
            "_dom_classes": [],
            "_model_module": "@jupyter-widgets/controls",
            "_model_module_version": "1.5.0",
            "_model_name": "HBoxModel",
            "_view_count": null,
            "_view_module": "@jupyter-widgets/controls",
            "_view_module_version": "1.5.0",
            "_view_name": "HBoxView",
            "box_style": "",
            "children": [
              "IPY_MODEL_63f8b66128f64139b0a423b823c52390",
              "IPY_MODEL_c2c906a09a014f5a903725607bc8ad50",
              "IPY_MODEL_94d92176bd54472e8e2345c1c392ee3a"
            ],
            "layout": "IPY_MODEL_29d913fef5384e5aafa1e7dbd1f16cd6"
          }
        },
        "958dc16f8d974bef9158efb2ac0d1323": {
          "model_module": "@jupyter-widgets/controls",
          "model_module_version": "1.5.0",
          "model_name": "HTMLModel",
          "state": {
            "_dom_classes": [],
            "_model_module": "@jupyter-widgets/controls",
            "_model_module_version": "1.5.0",
            "_model_name": "HTMLModel",
            "_view_count": null,
            "_view_module": "@jupyter-widgets/controls",
            "_view_module_version": "1.5.0",
            "_view_name": "HTMLView",
            "description": "",
            "description_tooltip": null,
            "layout": "IPY_MODEL_136a57d061f54124ac6c348f650be8f1",
            "placeholder": "​",
            "style": "IPY_MODEL_03a4b5661a3a496081daa4ba5135236c",
            "value": " 0/97 [00:00&lt;?, ? examples/s]"
          }
        },
        "972f27ac867f49879185a19237511e95": {
          "model_module": "@jupyter-widgets/base",
          "model_module_version": "1.2.0",
          "model_name": "LayoutModel",
          "state": {
            "_model_module": "@jupyter-widgets/base",
            "_model_module_version": "1.2.0",
            "_model_name": "LayoutModel",
            "_view_count": null,
            "_view_module": "@jupyter-widgets/base",
            "_view_module_version": "1.2.0",
            "_view_name": "LayoutView",
            "align_content": null,
            "align_items": null,
            "align_self": null,
            "border": null,
            "bottom": null,
            "display": null,
            "flex": null,
            "flex_flow": null,
            "grid_area": null,
            "grid_auto_columns": null,
            "grid_auto_flow": null,
            "grid_auto_rows": null,
            "grid_column": null,
            "grid_gap": null,
            "grid_row": null,
            "grid_template_areas": null,
            "grid_template_columns": null,
            "grid_template_rows": null,
            "height": null,
            "justify_content": null,
            "justify_items": null,
            "left": null,
            "margin": null,
            "max_height": null,
            "max_width": null,
            "min_height": null,
            "min_width": null,
            "object_fit": null,
            "object_position": null,
            "order": null,
            "overflow": null,
            "overflow_x": null,
            "overflow_y": null,
            "padding": null,
            "right": null,
            "top": null,
            "visibility": null,
            "width": null
          }
        },
        "974061a550e34630ac8baac1798b37f7": {
          "model_module": "@jupyter-widgets/controls",
          "model_module_version": "1.5.0",
          "model_name": "DescriptionStyleModel",
          "state": {
            "_model_module": "@jupyter-widgets/controls",
            "_model_module_version": "1.5.0",
            "_model_name": "DescriptionStyleModel",
            "_view_count": null,
            "_view_module": "@jupyter-widgets/base",
            "_view_module_version": "1.2.0",
            "_view_name": "StyleView",
            "description_width": ""
          }
        },
        "998c0619e4de497081978cc27f5525ff": {
          "model_module": "@jupyter-widgets/base",
          "model_module_version": "1.2.0",
          "model_name": "LayoutModel",
          "state": {
            "_model_module": "@jupyter-widgets/base",
            "_model_module_version": "1.2.0",
            "_model_name": "LayoutModel",
            "_view_count": null,
            "_view_module": "@jupyter-widgets/base",
            "_view_module_version": "1.2.0",
            "_view_name": "LayoutView",
            "align_content": null,
            "align_items": null,
            "align_self": null,
            "border": null,
            "bottom": null,
            "display": null,
            "flex": null,
            "flex_flow": null,
            "grid_area": null,
            "grid_auto_columns": null,
            "grid_auto_flow": null,
            "grid_auto_rows": null,
            "grid_column": null,
            "grid_gap": null,
            "grid_row": null,
            "grid_template_areas": null,
            "grid_template_columns": null,
            "grid_template_rows": null,
            "height": null,
            "justify_content": null,
            "justify_items": null,
            "left": null,
            "margin": null,
            "max_height": null,
            "max_width": null,
            "min_height": null,
            "min_width": null,
            "object_fit": null,
            "object_position": null,
            "order": null,
            "overflow": null,
            "overflow_x": null,
            "overflow_y": null,
            "padding": null,
            "right": null,
            "top": null,
            "visibility": null,
            "width": null
          }
        },
        "9d2b2bd75029408cbd68ab81dbc19a90": {
          "model_module": "@jupyter-widgets/base",
          "model_module_version": "1.2.0",
          "model_name": "LayoutModel",
          "state": {
            "_model_module": "@jupyter-widgets/base",
            "_model_module_version": "1.2.0",
            "_model_name": "LayoutModel",
            "_view_count": null,
            "_view_module": "@jupyter-widgets/base",
            "_view_module_version": "1.2.0",
            "_view_name": "LayoutView",
            "align_content": null,
            "align_items": null,
            "align_self": null,
            "border": null,
            "bottom": null,
            "display": null,
            "flex": null,
            "flex_flow": null,
            "grid_area": null,
            "grid_auto_columns": null,
            "grid_auto_flow": null,
            "grid_auto_rows": null,
            "grid_column": null,
            "grid_gap": null,
            "grid_row": null,
            "grid_template_areas": null,
            "grid_template_columns": null,
            "grid_template_rows": null,
            "height": null,
            "justify_content": null,
            "justify_items": null,
            "left": null,
            "margin": null,
            "max_height": null,
            "max_width": null,
            "min_height": null,
            "min_width": null,
            "object_fit": null,
            "object_position": null,
            "order": null,
            "overflow": null,
            "overflow_x": null,
            "overflow_y": null,
            "padding": null,
            "right": null,
            "top": null,
            "visibility": null,
            "width": null
          }
        },
        "9d2e74abdb2249f084f2dec862fb0f4e": {
          "model_module": "@jupyter-widgets/base",
          "model_module_version": "1.2.0",
          "model_name": "LayoutModel",
          "state": {
            "_model_module": "@jupyter-widgets/base",
            "_model_module_version": "1.2.0",
            "_model_name": "LayoutModel",
            "_view_count": null,
            "_view_module": "@jupyter-widgets/base",
            "_view_module_version": "1.2.0",
            "_view_name": "LayoutView",
            "align_content": null,
            "align_items": null,
            "align_self": null,
            "border": null,
            "bottom": null,
            "display": null,
            "flex": null,
            "flex_flow": null,
            "grid_area": null,
            "grid_auto_columns": null,
            "grid_auto_flow": null,
            "grid_auto_rows": null,
            "grid_column": null,
            "grid_gap": null,
            "grid_row": null,
            "grid_template_areas": null,
            "grid_template_columns": null,
            "grid_template_rows": null,
            "height": null,
            "justify_content": null,
            "justify_items": null,
            "left": null,
            "margin": null,
            "max_height": null,
            "max_width": null,
            "min_height": null,
            "min_width": null,
            "object_fit": null,
            "object_position": null,
            "order": null,
            "overflow": null,
            "overflow_x": null,
            "overflow_y": null,
            "padding": null,
            "right": null,
            "top": null,
            "visibility": null,
            "width": null
          }
        },
        "9e8b72df09ba4346a01c87b99abd7719": {
          "model_module": "@jupyter-widgets/controls",
          "model_module_version": "1.5.0",
          "model_name": "HTMLModel",
          "state": {
            "_dom_classes": [],
            "_model_module": "@jupyter-widgets/controls",
            "_model_module_version": "1.5.0",
            "_model_name": "HTMLModel",
            "_view_count": null,
            "_view_module": "@jupyter-widgets/controls",
            "_view_module_version": "1.5.0",
            "_view_name": "HTMLView",
            "description": "",
            "description_tooltip": null,
            "layout": "IPY_MODEL_6c6178c75113439c8af05c12c58f4a68",
            "placeholder": "​",
            "style": "IPY_MODEL_974061a550e34630ac8baac1798b37f7",
            "value": " 0/42 [00:00&lt;?, ? examples/s]"
          }
        },
        "a1bd6700be294cfd9044cf2802828198": {
          "model_module": "@jupyter-widgets/controls",
          "model_module_version": "1.5.0",
          "model_name": "DescriptionStyleModel",
          "state": {
            "_model_module": "@jupyter-widgets/controls",
            "_model_module_version": "1.5.0",
            "_model_name": "DescriptionStyleModel",
            "_view_count": null,
            "_view_module": "@jupyter-widgets/base",
            "_view_module_version": "1.2.0",
            "_view_name": "StyleView",
            "description_width": ""
          }
        },
        "a646e461bb3b4706ab394ff57bc3c987": {
          "model_module": "@jupyter-widgets/controls",
          "model_module_version": "1.5.0",
          "model_name": "DescriptionStyleModel",
          "state": {
            "_model_module": "@jupyter-widgets/controls",
            "_model_module_version": "1.5.0",
            "_model_name": "DescriptionStyleModel",
            "_view_count": null,
            "_view_module": "@jupyter-widgets/base",
            "_view_module_version": "1.2.0",
            "_view_name": "StyleView",
            "description_width": ""
          }
        },
        "abe65f1718244860978da50d46b1ae55": {
          "model_module": "@jupyter-widgets/controls",
          "model_module_version": "1.5.0",
          "model_name": "FloatProgressModel",
          "state": {
            "_dom_classes": [],
            "_model_module": "@jupyter-widgets/controls",
            "_model_module_version": "1.5.0",
            "_model_name": "FloatProgressModel",
            "_view_count": null,
            "_view_module": "@jupyter-widgets/controls",
            "_view_module_version": "1.5.0",
            "_view_name": "ProgressView",
            "bar_style": "success",
            "description": "",
            "description_tooltip": null,
            "layout": "IPY_MODEL_9d2b2bd75029408cbd68ab81dbc19a90",
            "max": 1,
            "min": 0,
            "orientation": "horizontal",
            "style": "IPY_MODEL_e96bcc52c0ab4e89afd1ce1079da4b24",
            "value": 1
          }
        },
        "ae2ed2db13854c5dafcfa6adf591f7b8": {
          "model_module": "@jupyter-widgets/controls",
          "model_module_version": "1.5.0",
          "model_name": "DescriptionStyleModel",
          "state": {
            "_model_module": "@jupyter-widgets/controls",
            "_model_module_version": "1.5.0",
            "_model_name": "DescriptionStyleModel",
            "_view_count": null,
            "_view_module": "@jupyter-widgets/base",
            "_view_module_version": "1.2.0",
            "_view_name": "StyleView",
            "description_width": ""
          }
        },
        "b2faf837220f4e1aa7e33d32377f8891": {
          "model_module": "@jupyter-widgets/controls",
          "model_module_version": "1.5.0",
          "model_name": "DescriptionStyleModel",
          "state": {
            "_model_module": "@jupyter-widgets/controls",
            "_model_module_version": "1.5.0",
            "_model_name": "DescriptionStyleModel",
            "_view_count": null,
            "_view_module": "@jupyter-widgets/base",
            "_view_module_version": "1.2.0",
            "_view_name": "StyleView",
            "description_width": ""
          }
        },
        "b8a082d06e994249b1be62648c354f64": {
          "model_module": "@jupyter-widgets/controls",
          "model_module_version": "1.5.0",
          "model_name": "ProgressStyleModel",
          "state": {
            "_model_module": "@jupyter-widgets/controls",
            "_model_module_version": "1.5.0",
            "_model_name": "ProgressStyleModel",
            "_view_count": null,
            "_view_module": "@jupyter-widgets/base",
            "_view_module_version": "1.2.0",
            "_view_name": "StyleView",
            "bar_color": null,
            "description_width": ""
          }
        },
        "bf7be332710a4dcf926332fec96c9d14": {
          "model_module": "@jupyter-widgets/controls",
          "model_module_version": "1.5.0",
          "model_name": "DescriptionStyleModel",
          "state": {
            "_model_module": "@jupyter-widgets/controls",
            "_model_module_version": "1.5.0",
            "_model_name": "DescriptionStyleModel",
            "_view_count": null,
            "_view_module": "@jupyter-widgets/base",
            "_view_module_version": "1.2.0",
            "_view_name": "StyleView",
            "description_width": ""
          }
        },
        "c069637a773a41fb821a500f53e71679": {
          "model_module": "@jupyter-widgets/base",
          "model_module_version": "1.2.0",
          "model_name": "LayoutModel",
          "state": {
            "_model_module": "@jupyter-widgets/base",
            "_model_module_version": "1.2.0",
            "_model_name": "LayoutModel",
            "_view_count": null,
            "_view_module": "@jupyter-widgets/base",
            "_view_module_version": "1.2.0",
            "_view_name": "LayoutView",
            "align_content": null,
            "align_items": null,
            "align_self": null,
            "border": null,
            "bottom": null,
            "display": null,
            "flex": null,
            "flex_flow": null,
            "grid_area": null,
            "grid_auto_columns": null,
            "grid_auto_flow": null,
            "grid_auto_rows": null,
            "grid_column": null,
            "grid_gap": null,
            "grid_row": null,
            "grid_template_areas": null,
            "grid_template_columns": null,
            "grid_template_rows": null,
            "height": null,
            "justify_content": null,
            "justify_items": null,
            "left": null,
            "margin": null,
            "max_height": null,
            "max_width": null,
            "min_height": null,
            "min_width": null,
            "object_fit": null,
            "object_position": null,
            "order": null,
            "overflow": null,
            "overflow_x": null,
            "overflow_y": null,
            "padding": null,
            "right": null,
            "top": null,
            "visibility": "hidden",
            "width": null
          }
        },
        "c0c9f181f8914021b6df93b606976fc6": {
          "model_module": "@jupyter-widgets/controls",
          "model_module_version": "1.5.0",
          "model_name": "DescriptionStyleModel",
          "state": {
            "_model_module": "@jupyter-widgets/controls",
            "_model_module_version": "1.5.0",
            "_model_name": "DescriptionStyleModel",
            "_view_count": null,
            "_view_module": "@jupyter-widgets/base",
            "_view_module_version": "1.2.0",
            "_view_name": "StyleView",
            "description_width": ""
          }
        },
        "c27fb82054294813adb6b3e1e912b5f3": {
          "model_module": "@jupyter-widgets/controls",
          "model_module_version": "1.5.0",
          "model_name": "DescriptionStyleModel",
          "state": {
            "_model_module": "@jupyter-widgets/controls",
            "_model_module_version": "1.5.0",
            "_model_name": "DescriptionStyleModel",
            "_view_count": null,
            "_view_module": "@jupyter-widgets/base",
            "_view_module_version": "1.2.0",
            "_view_name": "StyleView",
            "description_width": ""
          }
        },
        "c2c4c010268b4163808331f5fef99d05": {
          "model_module": "@jupyter-widgets/base",
          "model_module_version": "1.2.0",
          "model_name": "LayoutModel",
          "state": {
            "_model_module": "@jupyter-widgets/base",
            "_model_module_version": "1.2.0",
            "_model_name": "LayoutModel",
            "_view_count": null,
            "_view_module": "@jupyter-widgets/base",
            "_view_module_version": "1.2.0",
            "_view_name": "LayoutView",
            "align_content": null,
            "align_items": null,
            "align_self": null,
            "border": null,
            "bottom": null,
            "display": null,
            "flex": null,
            "flex_flow": null,
            "grid_area": null,
            "grid_auto_columns": null,
            "grid_auto_flow": null,
            "grid_auto_rows": null,
            "grid_column": null,
            "grid_gap": null,
            "grid_row": null,
            "grid_template_areas": null,
            "grid_template_columns": null,
            "grid_template_rows": null,
            "height": null,
            "justify_content": null,
            "justify_items": null,
            "left": null,
            "margin": null,
            "max_height": null,
            "max_width": null,
            "min_height": null,
            "min_width": null,
            "object_fit": null,
            "object_position": null,
            "order": null,
            "overflow": null,
            "overflow_x": null,
            "overflow_y": null,
            "padding": null,
            "right": null,
            "top": null,
            "visibility": null,
            "width": null
          }
        },
        "c2c906a09a014f5a903725607bc8ad50": {
          "model_module": "@jupyter-widgets/controls",
          "model_module_version": "1.5.0",
          "model_name": "FloatProgressModel",
          "state": {
            "_dom_classes": [],
            "_model_module": "@jupyter-widgets/controls",
            "_model_module_version": "1.5.0",
            "_model_name": "FloatProgressModel",
            "_view_count": null,
            "_view_module": "@jupyter-widgets/controls",
            "_view_module_version": "1.5.0",
            "_view_name": "ProgressView",
            "bar_style": "info",
            "description": "",
            "description_tooltip": null,
            "layout": "IPY_MODEL_e1fb0e2853744cb1b181b66dc6c5b9b7",
            "max": 1,
            "min": 0,
            "orientation": "horizontal",
            "style": "IPY_MODEL_b8a082d06e994249b1be62648c354f64",
            "value": 1
          }
        },
        "c5123683606042a0afb8608e20564f15": {
          "model_module": "@jupyter-widgets/controls",
          "model_module_version": "1.5.0",
          "model_name": "HBoxModel",
          "state": {
            "_dom_classes": [],
            "_model_module": "@jupyter-widgets/controls",
            "_model_module_version": "1.5.0",
            "_model_name": "HBoxModel",
            "_view_count": null,
            "_view_module": "@jupyter-widgets/controls",
            "_view_module_version": "1.5.0",
            "_view_name": "HBoxView",
            "box_style": "",
            "children": [
              "IPY_MODEL_3ac48ac763914103925f6923ddc81f07",
              "IPY_MODEL_502def375ba945c3b92233c62603afef",
              "IPY_MODEL_3fab29f9a92040d692815430eb0cb208"
            ],
            "layout": "IPY_MODEL_c069637a773a41fb821a500f53e71679"
          }
        },
        "ccb87f119a664753bcbb91b8c09938bf": {
          "model_module": "@jupyter-widgets/base",
          "model_module_version": "1.2.0",
          "model_name": "LayoutModel",
          "state": {
            "_model_module": "@jupyter-widgets/base",
            "_model_module_version": "1.2.0",
            "_model_name": "LayoutModel",
            "_view_count": null,
            "_view_module": "@jupyter-widgets/base",
            "_view_module_version": "1.2.0",
            "_view_name": "LayoutView",
            "align_content": null,
            "align_items": null,
            "align_self": null,
            "border": null,
            "bottom": null,
            "display": null,
            "flex": null,
            "flex_flow": null,
            "grid_area": null,
            "grid_auto_columns": null,
            "grid_auto_flow": null,
            "grid_auto_rows": null,
            "grid_column": null,
            "grid_gap": null,
            "grid_row": null,
            "grid_template_areas": null,
            "grid_template_columns": null,
            "grid_template_rows": null,
            "height": null,
            "justify_content": null,
            "justify_items": null,
            "left": null,
            "margin": null,
            "max_height": null,
            "max_width": null,
            "min_height": null,
            "min_width": null,
            "object_fit": null,
            "object_position": null,
            "order": null,
            "overflow": null,
            "overflow_x": null,
            "overflow_y": null,
            "padding": null,
            "right": null,
            "top": null,
            "visibility": null,
            "width": null
          }
        },
        "d50c11309dfc4915b12e2a4edf338c0e": {
          "model_module": "@jupyter-widgets/base",
          "model_module_version": "1.2.0",
          "model_name": "LayoutModel",
          "state": {
            "_model_module": "@jupyter-widgets/base",
            "_model_module_version": "1.2.0",
            "_model_name": "LayoutModel",
            "_view_count": null,
            "_view_module": "@jupyter-widgets/base",
            "_view_module_version": "1.2.0",
            "_view_name": "LayoutView",
            "align_content": null,
            "align_items": null,
            "align_self": null,
            "border": null,
            "bottom": null,
            "display": null,
            "flex": null,
            "flex_flow": null,
            "grid_area": null,
            "grid_auto_columns": null,
            "grid_auto_flow": null,
            "grid_auto_rows": null,
            "grid_column": null,
            "grid_gap": null,
            "grid_row": null,
            "grid_template_areas": null,
            "grid_template_columns": null,
            "grid_template_rows": null,
            "height": null,
            "justify_content": null,
            "justify_items": null,
            "left": null,
            "margin": null,
            "max_height": null,
            "max_width": null,
            "min_height": null,
            "min_width": null,
            "object_fit": null,
            "object_position": null,
            "order": null,
            "overflow": null,
            "overflow_x": null,
            "overflow_y": null,
            "padding": null,
            "right": null,
            "top": null,
            "visibility": "hidden",
            "width": null
          }
        },
        "d9a02f2bd20542eb9867028a0c567bee": {
          "model_module": "@jupyter-widgets/base",
          "model_module_version": "1.2.0",
          "model_name": "LayoutModel",
          "state": {
            "_model_module": "@jupyter-widgets/base",
            "_model_module_version": "1.2.0",
            "_model_name": "LayoutModel",
            "_view_count": null,
            "_view_module": "@jupyter-widgets/base",
            "_view_module_version": "1.2.0",
            "_view_name": "LayoutView",
            "align_content": null,
            "align_items": null,
            "align_self": null,
            "border": null,
            "bottom": null,
            "display": null,
            "flex": null,
            "flex_flow": null,
            "grid_area": null,
            "grid_auto_columns": null,
            "grid_auto_flow": null,
            "grid_auto_rows": null,
            "grid_column": null,
            "grid_gap": null,
            "grid_row": null,
            "grid_template_areas": null,
            "grid_template_columns": null,
            "grid_template_rows": null,
            "height": null,
            "justify_content": null,
            "justify_items": null,
            "left": null,
            "margin": null,
            "max_height": null,
            "max_width": null,
            "min_height": null,
            "min_width": null,
            "object_fit": null,
            "object_position": null,
            "order": null,
            "overflow": null,
            "overflow_x": null,
            "overflow_y": null,
            "padding": null,
            "right": null,
            "top": null,
            "visibility": "hidden",
            "width": null
          }
        },
        "df43189be2eb4b4db385d0565cfa048b": {
          "model_module": "@jupyter-widgets/controls",
          "model_module_version": "1.5.0",
          "model_name": "ProgressStyleModel",
          "state": {
            "_model_module": "@jupyter-widgets/controls",
            "_model_module_version": "1.5.0",
            "_model_name": "ProgressStyleModel",
            "_view_count": null,
            "_view_module": "@jupyter-widgets/base",
            "_view_module_version": "1.2.0",
            "_view_name": "StyleView",
            "bar_color": null,
            "description_width": ""
          }
        },
        "e14a31944d4141d1a46e8f733f677ed8": {
          "model_module": "@jupyter-widgets/controls",
          "model_module_version": "1.5.0",
          "model_name": "ProgressStyleModel",
          "state": {
            "_model_module": "@jupyter-widgets/controls",
            "_model_module_version": "1.5.0",
            "_model_name": "ProgressStyleModel",
            "_view_count": null,
            "_view_module": "@jupyter-widgets/base",
            "_view_module_version": "1.2.0",
            "_view_name": "StyleView",
            "bar_color": null,
            "description_width": ""
          }
        },
        "e1fb0e2853744cb1b181b66dc6c5b9b7": {
          "model_module": "@jupyter-widgets/base",
          "model_module_version": "1.2.0",
          "model_name": "LayoutModel",
          "state": {
            "_model_module": "@jupyter-widgets/base",
            "_model_module_version": "1.2.0",
            "_model_name": "LayoutModel",
            "_view_count": null,
            "_view_module": "@jupyter-widgets/base",
            "_view_module_version": "1.2.0",
            "_view_name": "LayoutView",
            "align_content": null,
            "align_items": null,
            "align_self": null,
            "border": null,
            "bottom": null,
            "display": null,
            "flex": null,
            "flex_flow": null,
            "grid_area": null,
            "grid_auto_columns": null,
            "grid_auto_flow": null,
            "grid_auto_rows": null,
            "grid_column": null,
            "grid_gap": null,
            "grid_row": null,
            "grid_template_areas": null,
            "grid_template_columns": null,
            "grid_template_rows": null,
            "height": null,
            "justify_content": null,
            "justify_items": null,
            "left": null,
            "margin": null,
            "max_height": null,
            "max_width": null,
            "min_height": null,
            "min_width": null,
            "object_fit": null,
            "object_position": null,
            "order": null,
            "overflow": null,
            "overflow_x": null,
            "overflow_y": null,
            "padding": null,
            "right": null,
            "top": null,
            "visibility": null,
            "width": "20px"
          }
        },
        "e5ce594f22164ffcaa81d21a84e348ca": {
          "model_module": "@jupyter-widgets/controls",
          "model_module_version": "1.5.0",
          "model_name": "HTMLModel",
          "state": {
            "_dom_classes": [],
            "_model_module": "@jupyter-widgets/controls",
            "_model_module_version": "1.5.0",
            "_model_name": "HTMLModel",
            "_view_count": null,
            "_view_module": "@jupyter-widgets/controls",
            "_view_module_version": "1.5.0",
            "_view_name": "HTMLView",
            "description": "",
            "description_tooltip": null,
            "layout": "IPY_MODEL_6f95ba63ec1e46b5a3be9cd3ee729623",
            "placeholder": "​",
            "style": "IPY_MODEL_b2faf837220f4e1aa7e33d32377f8891",
            "value": " 0/42 [00:00&lt;?, ? examples/s]"
          }
        },
        "e7d0f1f9379341c3b5d800b0cee16bf7": {
          "model_module": "@jupyter-widgets/base",
          "model_module_version": "1.2.0",
          "model_name": "LayoutModel",
          "state": {
            "_model_module": "@jupyter-widgets/base",
            "_model_module_version": "1.2.0",
            "_model_name": "LayoutModel",
            "_view_count": null,
            "_view_module": "@jupyter-widgets/base",
            "_view_module_version": "1.2.0",
            "_view_name": "LayoutView",
            "align_content": null,
            "align_items": null,
            "align_self": null,
            "border": null,
            "bottom": null,
            "display": null,
            "flex": null,
            "flex_flow": null,
            "grid_area": null,
            "grid_auto_columns": null,
            "grid_auto_flow": null,
            "grid_auto_rows": null,
            "grid_column": null,
            "grid_gap": null,
            "grid_row": null,
            "grid_template_areas": null,
            "grid_template_columns": null,
            "grid_template_rows": null,
            "height": null,
            "justify_content": null,
            "justify_items": null,
            "left": null,
            "margin": null,
            "max_height": null,
            "max_width": null,
            "min_height": null,
            "min_width": null,
            "object_fit": null,
            "object_position": null,
            "order": null,
            "overflow": null,
            "overflow_x": null,
            "overflow_y": null,
            "padding": null,
            "right": null,
            "top": null,
            "visibility": null,
            "width": null
          }
        },
        "e82d7ec2489c4a54babf8db808b6b233": {
          "model_module": "@jupyter-widgets/controls",
          "model_module_version": "1.5.0",
          "model_name": "DescriptionStyleModel",
          "state": {
            "_model_module": "@jupyter-widgets/controls",
            "_model_module_version": "1.5.0",
            "_model_name": "DescriptionStyleModel",
            "_view_count": null,
            "_view_module": "@jupyter-widgets/base",
            "_view_module_version": "1.2.0",
            "_view_name": "StyleView",
            "description_width": ""
          }
        },
        "e96bcc52c0ab4e89afd1ce1079da4b24": {
          "model_module": "@jupyter-widgets/controls",
          "model_module_version": "1.5.0",
          "model_name": "ProgressStyleModel",
          "state": {
            "_model_module": "@jupyter-widgets/controls",
            "_model_module_version": "1.5.0",
            "_model_name": "ProgressStyleModel",
            "_view_count": null,
            "_view_module": "@jupyter-widgets/base",
            "_view_module_version": "1.2.0",
            "_view_name": "StyleView",
            "bar_color": null,
            "description_width": ""
          }
        },
        "e9706fad5742404d847a44bd62610342": {
          "model_module": "@jupyter-widgets/base",
          "model_module_version": "1.2.0",
          "model_name": "LayoutModel",
          "state": {
            "_model_module": "@jupyter-widgets/base",
            "_model_module_version": "1.2.0",
            "_model_name": "LayoutModel",
            "_view_count": null,
            "_view_module": "@jupyter-widgets/base",
            "_view_module_version": "1.2.0",
            "_view_name": "LayoutView",
            "align_content": null,
            "align_items": null,
            "align_self": null,
            "border": null,
            "bottom": null,
            "display": null,
            "flex": null,
            "flex_flow": null,
            "grid_area": null,
            "grid_auto_columns": null,
            "grid_auto_flow": null,
            "grid_auto_rows": null,
            "grid_column": null,
            "grid_gap": null,
            "grid_row": null,
            "grid_template_areas": null,
            "grid_template_columns": null,
            "grid_template_rows": null,
            "height": null,
            "justify_content": null,
            "justify_items": null,
            "left": null,
            "margin": null,
            "max_height": null,
            "max_width": null,
            "min_height": null,
            "min_width": null,
            "object_fit": null,
            "object_position": null,
            "order": null,
            "overflow": null,
            "overflow_x": null,
            "overflow_y": null,
            "padding": null,
            "right": null,
            "top": null,
            "visibility": null,
            "width": null
          }
        },
        "eae983538a14478ab26d635a50ed0c8f": {
          "model_module": "@jupyter-widgets/controls",
          "model_module_version": "1.5.0",
          "model_name": "ProgressStyleModel",
          "state": {
            "_model_module": "@jupyter-widgets/controls",
            "_model_module_version": "1.5.0",
            "_model_name": "ProgressStyleModel",
            "_view_count": null,
            "_view_module": "@jupyter-widgets/base",
            "_view_module_version": "1.2.0",
            "_view_name": "StyleView",
            "bar_color": null,
            "description_width": ""
          }
        },
        "ee3497b9f6d44d99bd2607c66681c40e": {
          "model_module": "@jupyter-widgets/controls",
          "model_module_version": "1.5.0",
          "model_name": "HTMLModel",
          "state": {
            "_dom_classes": [],
            "_model_module": "@jupyter-widgets/controls",
            "_model_module_version": "1.5.0",
            "_model_name": "HTMLModel",
            "_view_count": null,
            "_view_module": "@jupyter-widgets/controls",
            "_view_module_version": "1.5.0",
            "_view_name": "HTMLView",
            "description": "",
            "description_tooltip": null,
            "layout": "IPY_MODEL_8366207cac984454ac0a4e51841aaa4f",
            "placeholder": "​",
            "style": "IPY_MODEL_86789155fadc4e54be37999e2769f5f5",
            "value": "Flattening the indices:   0%"
          }
        },
        "ee6c49ba77ae4a9bad06de0b84ef43dd": {
          "model_module": "@jupyter-widgets/base",
          "model_module_version": "1.2.0",
          "model_name": "LayoutModel",
          "state": {
            "_model_module": "@jupyter-widgets/base",
            "_model_module_version": "1.2.0",
            "_model_name": "LayoutModel",
            "_view_count": null,
            "_view_module": "@jupyter-widgets/base",
            "_view_module_version": "1.2.0",
            "_view_name": "LayoutView",
            "align_content": null,
            "align_items": null,
            "align_self": null,
            "border": null,
            "bottom": null,
            "display": null,
            "flex": null,
            "flex_flow": null,
            "grid_area": null,
            "grid_auto_columns": null,
            "grid_auto_flow": null,
            "grid_auto_rows": null,
            "grid_column": null,
            "grid_gap": null,
            "grid_row": null,
            "grid_template_areas": null,
            "grid_template_columns": null,
            "grid_template_rows": null,
            "height": null,
            "justify_content": null,
            "justify_items": null,
            "left": null,
            "margin": null,
            "max_height": null,
            "max_width": null,
            "min_height": null,
            "min_width": null,
            "object_fit": null,
            "object_position": null,
            "order": null,
            "overflow": null,
            "overflow_x": null,
            "overflow_y": null,
            "padding": null,
            "right": null,
            "top": null,
            "visibility": null,
            "width": null
          }
        },
        "eee8d7aa0005439ca75b0b65c49947e4": {
          "model_module": "@jupyter-widgets/controls",
          "model_module_version": "1.5.0",
          "model_name": "ProgressStyleModel",
          "state": {
            "_model_module": "@jupyter-widgets/controls",
            "_model_module_version": "1.5.0",
            "_model_name": "ProgressStyleModel",
            "_view_count": null,
            "_view_module": "@jupyter-widgets/base",
            "_view_module_version": "1.2.0",
            "_view_name": "StyleView",
            "bar_color": null,
            "description_width": ""
          }
        },
        "f107318656cf4fb1a4d93be10f0194cb": {
          "model_module": "@jupyter-widgets/controls",
          "model_module_version": "1.5.0",
          "model_name": "HBoxModel",
          "state": {
            "_dom_classes": [],
            "_model_module": "@jupyter-widgets/controls",
            "_model_module_version": "1.5.0",
            "_model_name": "HBoxModel",
            "_view_count": null,
            "_view_module": "@jupyter-widgets/controls",
            "_view_module_version": "1.5.0",
            "_view_name": "HBoxView",
            "box_style": "",
            "children": [
              "IPY_MODEL_4f4b3385a2d84d2583d1303710925743",
              "IPY_MODEL_f713e17f4fcb4b73b6f159ba64e32b25",
              "IPY_MODEL_326c6519a90144ce81aaad2b7848465b"
            ],
            "layout": "IPY_MODEL_d9a02f2bd20542eb9867028a0c567bee"
          }
        },
        "f17778e94d9a4836acf39e1068ccfb04": {
          "model_module": "@jupyter-widgets/base",
          "model_module_version": "1.2.0",
          "model_name": "LayoutModel",
          "state": {
            "_model_module": "@jupyter-widgets/base",
            "_model_module_version": "1.2.0",
            "_model_name": "LayoutModel",
            "_view_count": null,
            "_view_module": "@jupyter-widgets/base",
            "_view_module_version": "1.2.0",
            "_view_name": "LayoutView",
            "align_content": null,
            "align_items": null,
            "align_self": null,
            "border": null,
            "bottom": null,
            "display": null,
            "flex": null,
            "flex_flow": null,
            "grid_area": null,
            "grid_auto_columns": null,
            "grid_auto_flow": null,
            "grid_auto_rows": null,
            "grid_column": null,
            "grid_gap": null,
            "grid_row": null,
            "grid_template_areas": null,
            "grid_template_columns": null,
            "grid_template_rows": null,
            "height": null,
            "justify_content": null,
            "justify_items": null,
            "left": null,
            "margin": null,
            "max_height": null,
            "max_width": null,
            "min_height": null,
            "min_width": null,
            "object_fit": null,
            "object_position": null,
            "order": null,
            "overflow": null,
            "overflow_x": null,
            "overflow_y": null,
            "padding": null,
            "right": null,
            "top": null,
            "visibility": null,
            "width": null
          }
        },
        "f713e17f4fcb4b73b6f159ba64e32b25": {
          "model_module": "@jupyter-widgets/controls",
          "model_module_version": "1.5.0",
          "model_name": "FloatProgressModel",
          "state": {
            "_dom_classes": [],
            "_model_module": "@jupyter-widgets/controls",
            "_model_module_version": "1.5.0",
            "_model_name": "FloatProgressModel",
            "_view_count": null,
            "_view_module": "@jupyter-widgets/controls",
            "_view_module_version": "1.5.0",
            "_view_name": "ProgressView",
            "bar_style": "",
            "description": "",
            "description_tooltip": null,
            "layout": "IPY_MODEL_998c0619e4de497081978cc27f5525ff",
            "max": 97,
            "min": 0,
            "orientation": "horizontal",
            "style": "IPY_MODEL_6beb5cdeae5346bdb254aa6de1e96738",
            "value": 97
          }
        },
        "faf4b0ad6ccf45ceb222e1bfb6d5232d": {
          "model_module": "@jupyter-widgets/controls",
          "model_module_version": "1.5.0",
          "model_name": "HTMLModel",
          "state": {
            "_dom_classes": [],
            "_model_module": "@jupyter-widgets/controls",
            "_model_module_version": "1.5.0",
            "_model_name": "HTMLModel",
            "_view_count": null,
            "_view_module": "@jupyter-widgets/controls",
            "_view_module_version": "1.5.0",
            "_view_name": "HTMLView",
            "description": "",
            "description_tooltip": null,
            "layout": "IPY_MODEL_01e1bc9fdd954651a9b743fd56dcfed5",
            "placeholder": "​",
            "style": "IPY_MODEL_bf7be332710a4dcf926332fec96c9d14",
            "value": " 75/97 [00:00&lt;00:00, 621.39 examples/s]"
          }
        },
        "fb70ea9339654864947c9b1d2f3818ae": {
          "model_module": "@jupyter-widgets/controls",
          "model_module_version": "1.5.0",
          "model_name": "DescriptionStyleModel",
          "state": {
            "_model_module": "@jupyter-widgets/controls",
            "_model_module_version": "1.5.0",
            "_model_name": "DescriptionStyleModel",
            "_view_count": null,
            "_view_module": "@jupyter-widgets/base",
            "_view_module_version": "1.2.0",
            "_view_name": "StyleView",
            "description_width": ""
          }
        }
      }
    }
  },
  "nbformat": 4,
  "nbformat_minor": 5
}
