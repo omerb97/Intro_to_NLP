{
  "cells": [
    {
      "cell_type": "code",
      "execution_count": 23,
      "id": "240b69e6",
      "metadata": {
        "colab": {
          "base_uri": "https://localhost:8080/"
        },
        "deletable": false,
        "editable": false,
        "id": "240b69e6",
        "jupyter": {
          "outputs_hidden": true,
          "source_hidden": true
        },
        "outputId": "188916b1-e93a-454f-9493-1a1c22778749"
      },
      "outputs": [
        {
          "name": "stdout",
          "output_type": "stream",
          "text": [
            "\n"
          ]
        },
        {
          "name": "stderr",
          "output_type": "stream",
          "text": [
            "\n",
            "\u001b[1m[\u001b[0m\u001b[34;49mnotice\u001b[0m\u001b[1;39;49m]\u001b[0m\u001b[39;49m A new release of pip is available: \u001b[0m\u001b[31;49m23.0.1\u001b[0m\u001b[39;49m -> \u001b[0m\u001b[32;49m23.1.2\u001b[0m\n",
            "\u001b[1m[\u001b[0m\u001b[34;49mnotice\u001b[0m\u001b[1;39;49m]\u001b[0m\u001b[39;49m To update, run: \u001b[0m\u001b[32;49mpython3.10 -m pip install --upgrade pip\u001b[0m\n"
          ]
        }
      ],
      "source": [
        "# Please do not change this cell because some hidden tests might depend on it.\n",
        "import os\n",
        "\n",
        "# Otter grader does not handle ! commands well, so we define and use our\n",
        "# own function to execute shell commands.\n",
        "def shell(commands, warn=True):\n",
        "    \"\"\"Executes the string `commands` as a sequence of shell commands.\n",
        "     \n",
        "       Prints the result to stdout and returns the exit status. \n",
        "       Provides a printed warning on non-zero exit status unless `warn` \n",
        "       flag is unset.\n",
        "    \"\"\"\n",
        "    file = os.popen(commands)\n",
        "    print (file.read().rstrip('\\n'))\n",
        "    exit_status = file.close()\n",
        "    if warn and exit_status != None:\n",
        "        print(f\"Completed with errors. Exit status: {exit_status}\\n\")\n",
        "    return exit_status\n",
        "\n",
        "shell(\"\"\"\n",
        "ls requirements.txt >/dev/null 2>&1\n",
        "if [ ! $? = 0 ]; then\n",
        " rm -rf .tmp\n",
        " git clone https://github.com/cs236299-2023-spring/lab2-2.git .tmp\n",
        " mv .tmp/tests ./\n",
        " mv .tmp/requirements.txt ./\n",
        " rm -rf .tmp\n",
        "fi\n",
        "pip install -q -r requirements.txt\n",
        "\"\"\")"
      ]
    },
    {
      "cell_type": "code",
      "execution_count": 24,
      "id": "505f7b1d",
      "metadata": {
        "deletable": false,
        "editable": false,
        "id": "505f7b1d"
      },
      "outputs": [],
      "source": [
        "# Initialize Otter\n",
        "import otter\n",
        "grader = otter.Notebook()"
      ]
    },
    {
      "cell_type": "raw",
      "id": "077f8c98",
      "metadata": {
        "id": "077f8c98",
        "jupyter": {
          "source_hidden": true
        }
      },
      "source": [
        "%%latex\n",
        "\\newcommand{\\vect}[1]{\\mathbf{#1}}\n",
        "\\newcommand{\\cnt}[1]{\\sharp(#1)}\n",
        "\\newcommand{\\argmax}[1]{\\underset{#1}{\\operatorname{argmax}}}\n",
        "\\newcommand{\\softmax}{\\operatorname{softmax}}\n",
        "\\newcommand{\\Prob}{\\Pr}\n",
        "\\newcommand{\\given}{\\,|\\,}"
      ]
    },
    {
      "attachments": {},
      "cell_type": "markdown",
      "id": "687a8be7",
      "metadata": {
        "id": "687a8be7",
        "jupyter": {
          "source_hidden": true
        },
        "tags": [
          "remove_for_latex"
        ]
      },
      "source": [
        "$$\n",
        "\\renewcommand{\\vect}[1]{\\mathbf{#1}}\n",
        "\\renewcommand{\\cnt}[1]{\\sharp(#1)}\n",
        "\\renewcommand{\\argmax}[1]{\\underset{#1}{\\operatorname{argmax}}}\n",
        "\\renewcommand{\\softmax}{\\operatorname{softmax}}\n",
        "\\renewcommand{\\Prob}{\\Pr}\n",
        "\\renewcommand{\\given}{\\,|\\,}\n",
        "$$"
      ]
    },
    {
      "attachments": {},
      "cell_type": "markdown",
      "id": "27ea80fb",
      "metadata": {
        "id": "27ea80fb",
        "tags": [
          "remove_for_latex"
        ]
      },
      "source": [
        "# Course  236299\n",
        "## Lab 2-2 – Recurrent neural networks"
      ]
    },
    {
      "attachments": {},
      "cell_type": "markdown",
      "id": "bdfa1a0d",
      "metadata": {
        "id": "bdfa1a0d"
      },
      "source": [
        "You've read about recurrent neural networks, but there's nothing like carrying out the calculations yourself to really understand what's going on in these systems. In this lab, you'll carry out RNN calculations by hand or by programming – both forward (calculating outputs from inputs) and backward (computing gradients) – and use RNNs to simulate bigram language models."
      ]
    },
    {
      "attachments": {},
      "cell_type": "markdown",
      "id": "763113ed",
      "metadata": {
        "id": "763113ed"
      },
      "source": [
        "New bits of Python used for the first time in the _solution set_ for this lab, and which you may therefore find useful:\n",
        "\n",
        "* [`torch.clamp`](https://pytorch.org/docs/stable/generated/torch.clamp.html#torch.clamp): restricts all elements of a tensor to a specific range\n",
        "* [`torch.diag`](https://pytorch.org/docs/stable/generated/torch.diag.html#torch-diag): creates a tensor with the given inputs as the diagonal\n",
        "* [`torch.eye`](https://pytorch.org/docs/stable/generated/torch.eye.html#torch-eye): creates an identity matrix\n",
        "* [`torch.mv`](https://pytorch.org/docs/stable/generated/torch.mv.html#torch-mv) (typically invoked via the `@` operator): matrix-vector multiplication\n",
        "* [`torch.prod`](https://pytorch.org/docs/stable/generated/torch.prod.html#torch-prod): takes the product of elements in a vector\n",
        "* [`torch.T`](https://pytorch.org/docs/stable/generated/torch.t.html#torch.t): returns the transpose of a tensor\n",
        "* [`torch.zeros`](https://pytorch.org/docs/stable/generated/torch.zeros.html#torch-zeros): creates a matrix of zeros"
      ]
    },
    {
      "attachments": {},
      "cell_type": "markdown",
      "id": "66b0107a",
      "metadata": {
        "id": "66b0107a"
      },
      "source": [
        "# Preparation – Loading packages"
      ]
    },
    {
      "cell_type": "code",
      "execution_count": 25,
      "id": "b4d51c7b",
      "metadata": {
        "deletable": false,
        "editable": false,
        "id": "b4d51c7b"
      },
      "outputs": [],
      "source": [
        "import sys\n",
        "import torch\n",
        "import wget\n",
        "import math\n",
        "\n",
        "# Script for visualizing computation graphs\n",
        "data_dir = \"data/\"\n",
        "sys.path.append(data_dir)\n",
        "os.makedirs(data_dir, exist_ok=True)\n",
        "\n",
        "wget.download('https://raw.githubusercontent.com/nlp-236299/data/master/scripts/makedot.py', out=data_dir)\n",
        "from makedot import make_dot"
      ]
    },
    {
      "attachments": {},
      "cell_type": "markdown",
      "id": "a8aca98e",
      "metadata": {
        "id": "a8aca98e"
      },
      "source": [
        "# The forward step\n",
        "\n",
        "A recurrent neural network (RNN) works by calculating a sequence of hidden states $\\vect{h} = \\langle h_0, \\ldots, h_N \\rangle$ and outputs $\\vect{o} = \\langle o_1, \\ldots, o_N \\rangle$ from a sequence of inputs $\\vect{x} =  \\langle x_1, \\ldots, x_N \\rangle$. (We're notating the elements, like $x_t$, $h_t$, and $o_t$ as if they are scalars, but you should keep in mind that they might well be vectors themselves.)\n",
        "\n",
        "\n",
        "<img src=\"https://github.com/nlp-236299/data/raw/master/Resources/rnn-unfolded-figure.png\" width=350 align=right />\n",
        "Each hidden state $h_t$ and output $o_t$ of an RNN is calculated from an input $x_{t}$ and the previous hidden state $h_{t - 1}$ using a set of weights $\\vect{U}$, $\\vect{V}$, and $\\vect{W}$ according to the following equations. (We ignore all bias terms for simplicity, and due to the fact that in large neural networks they make no big difference.)\n",
        "\n",
        "\\begin{align}\n",
        "h_t &= \\sigma(\\vect{U}x_t + \\vect{V}h_{t - 1}) && \\mbox{hidden state} \\\\\n",
        "o_t &= \\vect{W}h_t && \\mbox{output score} \\\\\n",
        "\\hat{y}_t &= \\sigma(o_t) && \\mbox{predicted output distribution}\n",
        "\\end{align}\n",
        "\n",
        "The figure at right may be helpful in giving a picture of the RNN computation."
      ]
    },
    {
      "attachments": {},
      "cell_type": "markdown",
      "id": "841b881d",
      "metadata": {
        "deletable": false,
        "editable": false,
        "id": "841b881d"
      },
      "source": [
        "<!-- BEGIN QUESTION -->\n",
        "\n",
        "<!--\n",
        "BEGIN QUESTION\n",
        "name: open_response_numbering\n",
        "manual: true\n",
        "-->\n",
        "\n",
        "**Question:** To check your understanding, notice that we've defined $\\vect{h}$ so that it has one more element than $\\vect{x}$ and $\\vect{o}$. Why is this?"
      ]
    },
    {
      "attachments": {},
      "cell_type": "markdown",
      "id": "9cf91f0f",
      "metadata": {
        "id": "9cf91f0f"
      },
      "source": [
        "The recursive defenition of $h_t$ requires a base case which is only used to calculate $h_1$, yields no output by itself, and requires no $x$ to be calculated - this is by defenition $h_0$ and therefore $h$ has one more element than the inputs or the outputs.\n",
        "In this notebook $h_0$ is a vector of zeros and therefore $h_1$ is simply equal to $\\sigma(Ux_1)$."
      ]
    },
    {
      "attachments": {},
      "cell_type": "markdown",
      "id": "b42e7ed3",
      "metadata": {
        "id": "b42e7ed3"
      },
      "source": [
        "<!-- END QUESTION -->\n",
        "\n",
        "\n",
        "\n",
        "## Defining the RNN and its input\n",
        "\n",
        "To better understand this process, we set up an example of some RNN parameters and values for $x_1$ and $x_2$ in the next cell, so that you can carry out the RNN operations yourself to calculate $h_1$, $h_2$, $o_1$, and $o_2$. (In this example, the length of the input $N$ is 2, and the dimensionality of the $x$, $h$, and $o$ vectors are also 2. Thus, $\\vect{U}$, $\\vect{V}$, and $\\vect{W}$ are all $2\\times 2$ matrices.)"
      ]
    },
    {
      "cell_type": "code",
      "execution_count": 26,
      "id": "43dc7bdd",
      "metadata": {
        "id": "43dc7bdd"
      },
      "outputs": [],
      "source": [
        "# RNN parameters\n",
        "U = torch.Tensor([ [-0.3,  0.6],\n",
        "                   [ 0.2,  0.1] ])\n",
        "V = torch.Tensor([ [ 0.4,  0.4],\n",
        "                   [ 0.9, -0.7] ])\n",
        "W = torch.Tensor([ [ 0.2,  0.1],\n",
        "                   [-0.2,  0.5] ])\n",
        "\n",
        "# inputs\n",
        "x1 = torch.Tensor([0.0, 1.0])\n",
        "x2 = torch.Tensor([0.3, 0.4])\n",
        "\n",
        "# initial value for the hidden state, a zero vector\n",
        "h0 = torch.Tensor([0, 0])\n",
        "\n",
        "# Set which nodes to visualize for later\n",
        "visualized_nodes = [U, V, W, x1, x2, h0]\n",
        "for p in visualized_nodes:\n",
        "    p.requires_grad = True"
      ]
    },
    {
      "attachments": {},
      "cell_type": "markdown",
      "id": "7a416231",
      "metadata": {
        "deletable": false,
        "editable": false,
        "id": "7a416231"
      },
      "source": [
        "## Carrying out the forward step\n",
        "\n",
        "Given these definitions, calculate values for $h_1$, $h_2$, $o_1$, and $o_2$ using `torch` operations.\n",
        "\n",
        "You may assume for this problem that the nonlinearity $\\sigma$ used in calculating $h_t$ is a Rectified Linear Unit (ReLU), defined by \n",
        "\n",
        "$$\\operatorname{ReLU}(x) = \\max(0, x)$$ \n",
        "\n",
        "> ReLU can be implemented as `torch.clamp(x, min=0)`\n",
        "\n",
        "<!--\n",
        "BEGIN QUESTION\n",
        "name: forward\n",
        "-->"
      ]
    },
    {
      "cell_type": "code",
      "execution_count": 27,
      "id": "f9e65bd1",
      "metadata": {
        "id": "f9e65bd1"
      },
      "outputs": [],
      "source": [
        "# TODO: calculate h1, h2, o1, and o2 using torch operations\n",
        "h1 = torch.clamp(U@x1+V@h0, min=0)\n",
        "o1 = W@h1\n",
        "h2 = torch.clamp(U@x2+V@h1, min=0)\n",
        "o2 = W@h2"
      ]
    },
    {
      "cell_type": "code",
      "execution_count": 28,
      "id": "992620f2",
      "metadata": {
        "colab": {
          "base_uri": "https://localhost:8080/",
          "height": 46
        },
        "deletable": false,
        "editable": false,
        "id": "992620f2",
        "outputId": "b0308cf9-4395-4778-a748-0d953c448fff"
      },
      "outputs": [
        {
          "data": {
            "text/html": [
              "\n",
              "    \n",
              "    \n",
              "        <p>All tests passed!</p>\n",
              "    \n",
              "    "
            ],
            "text/plain": [
              "\n",
              "    All tests passed!\n",
              "    "
            ]
          },
          "execution_count": 28,
          "metadata": {},
          "output_type": "execute_result"
        }
      ],
      "source": [
        "grader.check(\"forward\")"
      ]
    },
    {
      "attachments": {},
      "cell_type": "markdown",
      "id": "6cb8630c",
      "metadata": {
        "id": "6cb8630c"
      },
      "source": [
        "We print out the results for manual verification"
      ]
    },
    {
      "cell_type": "code",
      "execution_count": 29,
      "id": "35ceb7d2",
      "metadata": {
        "colab": {
          "base_uri": "https://localhost:8080/"
        },
        "id": "35ceb7d2",
        "outputId": "b855b04e-294e-488d-b4ff-1e7939f6d522"
      },
      "outputs": [
        {
          "name": "stdout",
          "output_type": "stream",
          "text": [
            "o1:\ttensor([ 0.1300, -0.0700], grad_fn=<MvBackward0>) \n",
            "o2:\ttensor([0.1430, 0.1990], grad_fn=<MvBackward0>)\n"
          ]
        }
      ],
      "source": [
        "print (f\"o1:\\t{o1} \\n\"\n",
        "       f\"o2:\\t{o2}\")"
      ]
    },
    {
      "attachments": {},
      "cell_type": "markdown",
      "id": "4cdd2ccc",
      "metadata": {
        "id": "4cdd2ccc"
      },
      "source": [
        "## Visualizing the computation graph\n",
        "\n",
        "Now, we can visualize the computation graph, that is, the graph of how $o_1$ and $o_2$ are computed from other variables and parameters. \n",
        "\n",
        "> Note that to make the below code work, you need to install `graphviz`:\n",
        ">\n",
        "> * MacOS: `brew install graphviz`\n",
        "> * Deepnote: already installed\n",
        "> * Google Colab: already installed\n",
        "> * Ubuntu: `sudo apt-get install graphviz`\n",
        ">\n",
        "> On Deepnote, the below code might not show anything, but you can check the generated PDF in `computation_graph.pdf`."
      ]
    },
    {
      "cell_type": "code",
      "execution_count": 30,
      "id": "555db118",
      "metadata": {
        "colab": {
          "base_uri": "https://localhost:8080/",
          "height": 661
        },
        "id": "555db118",
        "outputId": "e531bffa-83a6-4f3d-9775-dd72d9234299"
      },
      "outputs": [
        {
          "data": {
            "image/svg+xml": [
              "<?xml version=\"1.0\" encoding=\"UTF-8\" standalone=\"no\"?>\n",
              "<!DOCTYPE svg PUBLIC \"-//W3C//DTD SVG 1.1//EN\"\n",
              " \"http://www.w3.org/Graphics/SVG/1.1/DTD/svg11.dtd\">\n",
              "<!-- Generated by graphviz version 8.0.5 (20230430.1635)\n",
              " -->\n",
              "<!-- Pages: 1 -->\n",
              "<svg width=\"350pt\" height=\"495pt\"\n",
              " viewBox=\"0.00 0.00 350.00 495.00\" xmlns=\"http://www.w3.org/2000/svg\" xmlns:xlink=\"http://www.w3.org/1999/xlink\">\n",
              "<g id=\"graph0\" class=\"graph\" transform=\"scale(1 1) rotate(0) translate(4 491)\">\n",
              "<polygon fill=\"white\" stroke=\"none\" points=\"-4,4 -4,-491 346,-491 346,4 -4,4\"/>\n",
              "<!-- 5196673904 -->\n",
              "<g id=\"node1\" class=\"node\">\n",
              "<title>5196673904</title>\n",
              "<polygon fill=\"#caff70\" stroke=\"black\" points=\"132,-239.75 78,-239.75 78,-203.25 132,-203.25 132,-239.75\"/>\n",
              "<text text-anchor=\"middle\" x=\"105\" y=\"-224.35\" font-family=\"Times,serif\" font-size=\"12.00\">Mul</text>\n",
              "<text text-anchor=\"middle\" x=\"105\" y=\"-210.1\" font-family=\"Times,serif\" font-size=\"12.00\">o1</text>\n",
              "</g>\n",
              "<!-- 5196674672 -->\n",
              "<g id=\"node2\" class=\"node\">\n",
              "<title>5196674672</title>\n",
              "<polygon fill=\"lightblue\" stroke=\"black\" points=\"104,-305.12 50,-305.12 50,-282.88 104,-282.88 104,-305.12\"/>\n",
              "<text text-anchor=\"middle\" x=\"77\" y=\"-289.73\" font-family=\"Times,serif\" font-size=\"12.00\">W</text>\n",
              "</g>\n",
              "<!-- 5196674672&#45;&gt;5196673904 -->\n",
              "<g id=\"edge1\" class=\"edge\">\n",
              "<title>5196674672&#45;&gt;5196673904</title>\n",
              "<path fill=\"none\" stroke=\"black\" d=\"M81.13,-282.6C84.53,-274.03 89.51,-261.49 94.05,-250.08\"/>\n",
              "<polygon fill=\"black\" stroke=\"black\" points=\"97.59,-251.64 98.03,-241.06 91.08,-249.06 97.59,-251.64\"/>\n",
              "</g>\n",
              "<!-- 5196668960 -->\n",
              "<g id=\"node11\" class=\"node\">\n",
              "<title>5196668960</title>\n",
              "<polygon fill=\"#caff70\" stroke=\"black\" points=\"132,-36.5 78,-36.5 78,0 132,0 132,-36.5\"/>\n",
              "<text text-anchor=\"middle\" x=\"105\" y=\"-21.1\" font-family=\"Times,serif\" font-size=\"12.00\">Mul</text>\n",
              "<text text-anchor=\"middle\" x=\"105\" y=\"-6.85\" font-family=\"Times,serif\" font-size=\"12.00\">o2</text>\n",
              "</g>\n",
              "<!-- 5196674672&#45;&gt;5196668960 -->\n",
              "<g id=\"edge10\" class=\"edge\">\n",
              "<title>5196674672&#45;&gt;5196668960</title>\n",
              "<path fill=\"none\" stroke=\"black\" d=\"M74.94,-282.44C72.96,-271.74 70.11,-254.67 69,-239.75 63.79,-169.95 83.81,-88.99 96.08,-47.29\"/>\n",
              "<polygon fill=\"black\" stroke=\"black\" points=\"99.7,-48.43 99.24,-37.85 93,-46.41 99.7,-48.43\"/>\n",
              "</g>\n",
              "<!-- 5196676256 -->\n",
              "<g id=\"node3\" class=\"node\">\n",
              "<title>5196676256</title>\n",
              "<polygon fill=\"lightblue\" stroke=\"black\" points=\"242,-312.25 188,-312.25 188,-275.75 242,-275.75 242,-312.25\"/>\n",
              "<text text-anchor=\"middle\" x=\"215\" y=\"-296.85\" font-family=\"Times,serif\" font-size=\"12.00\">Clamp1</text>\n",
              "<text text-anchor=\"middle\" x=\"215\" y=\"-282.6\" font-family=\"Times,serif\" font-size=\"12.00\">h1</text>\n",
              "</g>\n",
              "<!-- 5196676256&#45;&gt;5196673904 -->\n",
              "<g id=\"edge2\" class=\"edge\">\n",
              "<title>5196676256&#45;&gt;5196673904</title>\n",
              "<path fill=\"none\" stroke=\"black\" d=\"M187.53,-275.39C173.51,-266.41 156.28,-255.36 141.19,-245.7\"/>\n",
              "<polygon fill=\"black\" stroke=\"black\" points=\"143.43,-242.33 133.12,-239.88 139.65,-248.23 143.43,-242.33\"/>\n",
              "</g>\n",
              "<!-- 5196673280 -->\n",
              "<g id=\"node16\" class=\"node\">\n",
              "<title>5196673280</title>\n",
              "<polygon fill=\"lightgrey\" stroke=\"black\" points=\"242,-232.62 188,-232.62 188,-210.38 242,-210.38 242,-232.62\"/>\n",
              "<text text-anchor=\"middle\" x=\"215\" y=\"-217.22\" font-family=\"Times,serif\" font-size=\"12.00\">Mul</text>\n",
              "</g>\n",
              "<!-- 5196676256&#45;&gt;5196673280 -->\n",
              "<g id=\"edge18\" class=\"edge\">\n",
              "<title>5196676256&#45;&gt;5196673280</title>\n",
              "<path fill=\"none\" stroke=\"black\" d=\"M215,-275.57C215,-265.96 215,-253.95 215,-243.78\"/>\n",
              "<polygon fill=\"black\" stroke=\"black\" points=\"218.5,-243.95 215,-233.95 211.5,-243.95 218.5,-243.95\"/>\n",
              "</g>\n",
              "<!-- 5196665264 -->\n",
              "<g id=\"node4\" class=\"node\">\n",
              "<title>5196665264</title>\n",
              "<polygon fill=\"lightgrey\" stroke=\"black\" points=\"242,-370.5 188,-370.5 188,-348.25 242,-348.25 242,-370.5\"/>\n",
              "<text text-anchor=\"middle\" x=\"215\" y=\"-355.1\" font-family=\"Times,serif\" font-size=\"12.00\">Add</text>\n",
              "</g>\n",
              "<!-- 5196665264&#45;&gt;5196676256 -->\n",
              "<g id=\"edge3\" class=\"edge\">\n",
              "<title>5196665264&#45;&gt;5196676256</title>\n",
              "<path fill=\"none\" stroke=\"black\" d=\"M215,-347.91C215,-341.26 215,-332.3 215,-323.65\"/>\n",
              "<polygon fill=\"black\" stroke=\"black\" points=\"218.5,-323.67 215,-313.67 211.5,-323.67 218.5,-323.67\"/>\n",
              "</g>\n",
              "<!-- 5196671120 -->\n",
              "<g id=\"node5\" class=\"node\">\n",
              "<title>5196671120</title>\n",
              "<polygon fill=\"lightgrey\" stroke=\"black\" points=\"198,-428.75 144,-428.75 144,-406.5 198,-406.5 198,-428.75\"/>\n",
              "<text text-anchor=\"middle\" x=\"171\" y=\"-413.35\" font-family=\"Times,serif\" font-size=\"12.00\">Mul</text>\n",
              "</g>\n",
              "<!-- 5196671120&#45;&gt;5196665264 -->\n",
              "<g id=\"edge4\" class=\"edge\">\n",
              "<title>5196671120&#45;&gt;5196665264</title>\n",
              "<path fill=\"none\" stroke=\"black\" d=\"M179.28,-406.04C185.11,-398.58 193.1,-388.37 200.04,-379.5\"/>\n",
              "<polygon fill=\"black\" stroke=\"black\" points=\"203.36,-381.94 206.76,-371.91 197.84,-377.63 203.36,-381.94\"/>\n",
              "</g>\n",
              "<!-- 5196672224 -->\n",
              "<g id=\"node6\" class=\"node\">\n",
              "<title>5196672224</title>\n",
              "<polygon fill=\"lightblue\" stroke=\"black\" points=\"126,-487 72,-487 72,-464.75 126,-464.75 126,-487\"/>\n",
              "<text text-anchor=\"middle\" x=\"99\" y=\"-471.6\" font-family=\"Times,serif\" font-size=\"12.00\">U</text>\n",
              "</g>\n",
              "<!-- 5196672224&#45;&gt;5196671120 -->\n",
              "<g id=\"edge5\" class=\"edge\">\n",
              "<title>5196672224&#45;&gt;5196671120</title>\n",
              "<path fill=\"none\" stroke=\"black\" d=\"M112.54,-464.29C122.8,-456.28 137.11,-445.1 149,-435.81\"/>\n",
              "<polygon fill=\"black\" stroke=\"black\" points=\"150.79,-438.07 156.52,-429.16 146.48,-432.56 150.79,-438.07\"/>\n",
              "</g>\n",
              "<!-- 5196673760 -->\n",
              "<g id=\"node14\" class=\"node\">\n",
              "<title>5196673760</title>\n",
              "<polygon fill=\"lightgrey\" stroke=\"black\" points=\"126,-428.75 72,-428.75 72,-406.5 126,-406.5 126,-428.75\"/>\n",
              "<text text-anchor=\"middle\" x=\"99\" y=\"-413.35\" font-family=\"Times,serif\" font-size=\"12.00\">Mul</text>\n",
              "</g>\n",
              "<!-- 5196672224&#45;&gt;5196673760 -->\n",
              "<g id=\"edge14\" class=\"edge\">\n",
              "<title>5196672224&#45;&gt;5196673760</title>\n",
              "<path fill=\"none\" stroke=\"black\" d=\"M99,-464.29C99,-457.46 99,-448.32 99,-440.02\"/>\n",
              "<polygon fill=\"black\" stroke=\"black\" points=\"102.5,-440.16 99,-430.16 95.5,-440.16 102.5,-440.16\"/>\n",
              "</g>\n",
              "<!-- 5196674576 -->\n",
              "<g id=\"node7\" class=\"node\">\n",
              "<title>5196674576</title>\n",
              "<polygon fill=\"lightblue\" stroke=\"black\" points=\"198,-487 144,-487 144,-464.75 198,-464.75 198,-487\"/>\n",
              "<text text-anchor=\"middle\" x=\"171\" y=\"-471.6\" font-family=\"Times,serif\" font-size=\"12.00\">x1</text>\n",
              "</g>\n",
              "<!-- 5196674576&#45;&gt;5196671120 -->\n",
              "<g id=\"edge6\" class=\"edge\">\n",
              "<title>5196674576&#45;&gt;5196671120</title>\n",
              "<path fill=\"none\" stroke=\"black\" d=\"M171,-464.29C171,-457.46 171,-448.32 171,-440.02\"/>\n",
              "<polygon fill=\"black\" stroke=\"black\" points=\"174.5,-440.16 171,-430.16 167.5,-440.16 174.5,-440.16\"/>\n",
              "</g>\n",
              "<!-- 5196675968 -->\n",
              "<g id=\"node8\" class=\"node\">\n",
              "<title>5196675968</title>\n",
              "<polygon fill=\"lightgrey\" stroke=\"black\" points=\"270,-428.75 216,-428.75 216,-406.5 270,-406.5 270,-428.75\"/>\n",
              "<text text-anchor=\"middle\" x=\"243\" y=\"-413.35\" font-family=\"Times,serif\" font-size=\"12.00\">Mul</text>\n",
              "</g>\n",
              "<!-- 5196675968&#45;&gt;5196665264 -->\n",
              "<g id=\"edge7\" class=\"edge\">\n",
              "<title>5196675968&#45;&gt;5196665264</title>\n",
              "<path fill=\"none\" stroke=\"black\" d=\"M237.73,-406.04C234.17,-398.9 229.36,-389.23 225.08,-380.63\"/>\n",
              "<polygon fill=\"black\" stroke=\"black\" points=\"227.83,-379.3 220.24,-371.91 221.57,-382.42 227.83,-379.3\"/>\n",
              "</g>\n",
              "<!-- 5196676064 -->\n",
              "<g id=\"node9\" class=\"node\">\n",
              "<title>5196676064</title>\n",
              "<polygon fill=\"lightblue\" stroke=\"black\" points=\"342,-487 288,-487 288,-464.75 342,-464.75 342,-487\"/>\n",
              "<text text-anchor=\"middle\" x=\"315\" y=\"-471.6\" font-family=\"Times,serif\" font-size=\"12.00\">V</text>\n",
              "</g>\n",
              "<!-- 5196676064&#45;&gt;5196675968 -->\n",
              "<g id=\"edge8\" class=\"edge\">\n",
              "<title>5196676064&#45;&gt;5196675968</title>\n",
              "<path fill=\"none\" stroke=\"black\" d=\"M301.46,-464.29C291.2,-456.28 276.89,-445.1 265,-435.81\"/>\n",
              "<polygon fill=\"black\" stroke=\"black\" points=\"267.52,-432.56 257.48,-429.16 263.21,-438.07 267.52,-432.56\"/>\n",
              "</g>\n",
              "<!-- 5196676064&#45;&gt;5196673280 -->\n",
              "<g id=\"edge17\" class=\"edge\">\n",
              "<title>5196676064&#45;&gt;5196673280</title>\n",
              "<path fill=\"none\" stroke=\"black\" d=\"M312.77,-464.54C306.05,-434.39 284.36,-344.32 251,-275.75 245.16,-263.73 236.9,-251.31 229.77,-241.49\"/>\n",
              "<polygon fill=\"black\" stroke=\"black\" points=\"232.19,-239.88 223.4,-233.97 226.59,-244.07 232.19,-239.88\"/>\n",
              "</g>\n",
              "<!-- 5196676016 -->\n",
              "<g id=\"node10\" class=\"node\">\n",
              "<title>5196676016</title>\n",
              "<polygon fill=\"lightblue\" stroke=\"black\" points=\"270,-487 216,-487 216,-464.75 270,-464.75 270,-487\"/>\n",
              "<text text-anchor=\"middle\" x=\"243\" y=\"-471.6\" font-family=\"Times,serif\" font-size=\"12.00\">h0</text>\n",
              "</g>\n",
              "<!-- 5196676016&#45;&gt;5196675968 -->\n",
              "<g id=\"edge9\" class=\"edge\">\n",
              "<title>5196676016&#45;&gt;5196675968</title>\n",
              "<path fill=\"none\" stroke=\"black\" d=\"M243,-464.29C243,-457.46 243,-448.32 243,-440.02\"/>\n",
              "<polygon fill=\"black\" stroke=\"black\" points=\"246.5,-440.16 243,-430.16 239.5,-440.16 246.5,-440.16\"/>\n",
              "</g>\n",
              "<!-- 5196669104 -->\n",
              "<g id=\"node12\" class=\"node\">\n",
              "<title>5196669104</title>\n",
              "<polygon fill=\"lightblue\" stroke=\"black\" points=\"160,-109 106,-109 106,-72.5 160,-72.5 160,-109\"/>\n",
              "<text text-anchor=\"middle\" x=\"133\" y=\"-93.6\" font-family=\"Times,serif\" font-size=\"12.00\">Clamp1</text>\n",
              "<text text-anchor=\"middle\" x=\"133\" y=\"-79.35\" font-family=\"Times,serif\" font-size=\"12.00\">h2</text>\n",
              "</g>\n",
              "<!-- 5196669104&#45;&gt;5196668960 -->\n",
              "<g id=\"edge11\" class=\"edge\">\n",
              "<title>5196669104&#45;&gt;5196668960</title>\n",
              "<path fill=\"none\" stroke=\"black\" d=\"M126.08,-72.32C123.04,-64.67 119.4,-55.5 116,-46.94\"/>\n",
              "<polygon fill=\"black\" stroke=\"black\" points=\"118.98,-45.97 112.04,-37.97 112.47,-48.55 118.98,-45.97\"/>\n",
              "</g>\n",
              "<!-- 5196667904 -->\n",
              "<g id=\"node13\" class=\"node\">\n",
              "<title>5196667904</title>\n",
              "<polygon fill=\"lightgrey\" stroke=\"black\" points=\"187,-167.25 133,-167.25 133,-145 187,-145 187,-167.25\"/>\n",
              "<text text-anchor=\"middle\" x=\"160\" y=\"-151.85\" font-family=\"Times,serif\" font-size=\"12.00\">Add</text>\n",
              "</g>\n",
              "<!-- 5196667904&#45;&gt;5196669104 -->\n",
              "<g id=\"edge12\" class=\"edge\">\n",
              "<title>5196667904&#45;&gt;5196669104</title>\n",
              "<path fill=\"none\" stroke=\"black\" d=\"M155.54,-144.66C152.61,-137.79 148.63,-128.45 144.83,-119.53\"/>\n",
              "<polygon fill=\"black\" stroke=\"black\" points=\"147.67,-118.25 140.53,-110.42 141.23,-121 147.67,-118.25\"/>\n",
              "</g>\n",
              "<!-- 5196673760&#45;&gt;5196667904 -->\n",
              "<g id=\"edge13\" class=\"edge\">\n",
              "<title>5196673760&#45;&gt;5196667904</title>\n",
              "<path fill=\"none\" stroke=\"black\" d=\"M101.49,-406.26C108.02,-379.01 126.2,-303.06 141,-239.75 145.93,-218.67 151.46,-194.54 155.28,-177.83\"/>\n",
              "<polygon fill=\"black\" stroke=\"black\" points=\"158.81,-179.09 157.62,-168.57 151.99,-177.54 158.81,-179.09\"/>\n",
              "</g>\n",
              "<!-- 5196666656 -->\n",
              "<g id=\"node15\" class=\"node\">\n",
              "<title>5196666656</title>\n",
              "<polygon fill=\"lightblue\" stroke=\"black\" points=\"54,-487 0,-487 0,-464.75 54,-464.75 54,-487\"/>\n",
              "<text text-anchor=\"middle\" x=\"27\" y=\"-471.6\" font-family=\"Times,serif\" font-size=\"12.00\">x2</text>\n",
              "</g>\n",
              "<!-- 5196666656&#45;&gt;5196673760 -->\n",
              "<g id=\"edge15\" class=\"edge\">\n",
              "<title>5196666656&#45;&gt;5196673760</title>\n",
              "<path fill=\"none\" stroke=\"black\" d=\"M40.54,-464.29C50.8,-456.28 65.11,-445.1 77,-435.81\"/>\n",
              "<polygon fill=\"black\" stroke=\"black\" points=\"78.79,-438.07 84.52,-429.16 74.48,-432.56 78.79,-438.07\"/>\n",
              "</g>\n",
              "<!-- 5196673280&#45;&gt;5196667904 -->\n",
              "<g id=\"edge16\" class=\"edge\">\n",
              "<title>5196673280&#45;&gt;5196667904</title>\n",
              "<path fill=\"none\" stroke=\"black\" d=\"M205.92,-210.03C197.83,-200.71 185.8,-186.86 176.09,-175.66\"/>\n",
              "<polygon fill=\"black\" stroke=\"black\" points=\"178.11,-173.65 168.91,-168.4 172.82,-178.24 178.11,-173.65\"/>\n",
              "</g>\n",
              "</g>\n",
              "</svg>\n"
            ],
            "text/plain": [
              "<graphviz.graphs.Digraph at 0x135bed6f0>"
            ]
          },
          "execution_count": 30,
          "metadata": {},
          "output_type": "execute_result"
        }
      ],
      "source": [
        "# Define the mapping from variable name to variable,\n",
        "# so that the nodes in our computation graph can be labeled\n",
        "params = {k: eval(k) for k in ['U', 'V', 'W', \n",
        "                               'x1', 'x2', \n",
        "                               'h0', \n",
        "                               'h1', 'o1', \n",
        "                               'h2', 'o2']}\n",
        "\n",
        "# Visualize the computation graph constructed by PyTorch\n",
        "dot = make_dot((o1, o2), params=params)\n",
        "\n",
        "# Save Graph to `computation_graph.pdf`\n",
        "dot.render(data_dir + 'computation_graph')\n",
        "\n",
        "# Visualize (not working in Deepnote)\n",
        "dot"
      ]
    },
    {
      "attachments": {},
      "cell_type": "markdown",
      "id": "225ebd3c",
      "metadata": {
        "id": "225ebd3c"
      },
      "source": [
        "Is the generated computation graph what you expected?"
      ]
    },
    {
      "attachments": {},
      "cell_type": "markdown",
      "id": "db8cb55a",
      "metadata": {
        "id": "db8cb55a"
      },
      "source": [
        "# Expressing bigram language models via RNNs\n",
        "\n",
        "In this section, as an exercise in understanding how RNNs work, you'll design an RNN to behave like a bigram model, thereby show that RNNs are (not surprisingly) more expressive than bigram language models.\n",
        "\n",
        "## Bigram language models\n",
        "\n",
        "Recall that a bigram language model uses the previous word to predict the next word in a sequence $w_1 \\cdots w_N$. A bigram model over a vocabulary $\\vect{v} = \\{v_1, \\ldots, v_V\\}$ is specified by a set of probabilities $\\Prob(w_{t+1} = v_j \\given w_t = v_i)$, the probability that a word of type $v_j$ follows a word of type $v_i$. \n",
        "(As usual, we'll abbreviate this probability $\\Prob(v_j \\given v_i)$, since the probability is assumed to be the same for all $t$.)\n",
        "\n",
        "We can pack these probabilities into a single table $T$ with $V$ rows and $V$ columns such that  \n",
        "\n",
        "$$T_{ij} = \\Prob(v_j \\given v_i)$$\n",
        "\n",
        "Importantly, the sum $\\sum_{j=1}^{V} T_{ij}$ is $1$ for all $i$. The vector $T_i$ (the $i$-th row of table $T$) thus constitutes the probability distribution for the word following $v_i$.\n",
        "\n",
        "For this activity, we use a vocabulary with only two tokens (we can think of them as $a$ and $b$) encoded as one-hot vectors ($v_1=$ `[1,0]` and $v_2=$  `[0,1]`) and we provide a transition table $T$. We also define two sample sequences representing $aaaaaabbaa$ and $babbbbabbb$."
      ]
    },
    {
      "cell_type": "code",
      "execution_count": 31,
      "id": "fe53398e",
      "metadata": {
        "id": "fe53398e"
      },
      "outputs": [],
      "source": [
        "# the vocabulary V\n",
        "Vocab = torch.Tensor([ [1, 0], \n",
        "                       [0, 1] ])\n",
        "\n",
        "# the bigram probabilities T_ij\n",
        "T = torch.Tensor([ [0.6, 0.4],\n",
        "                   [0.3, 0.7] ])\n",
        "\n",
        "# two sample sequences\n",
        "seq1 = torch.Tensor(\n",
        "    [ [1,0], [1,0], [1,0], [1,0], [1,0], \n",
        "      [1,0], [0,1], [0,1], [1,0], [1,0] ])\n",
        "seq2 = torch.Tensor(\n",
        "    [ [0,1], [1,0], [0,1], [0,1], [0,1],\n",
        "      [0,1], [1,0], [0,1], [0,1], [0,1] ])"
      ]
    },
    {
      "attachments": {},
      "cell_type": "markdown",
      "id": "595c5d41",
      "metadata": {
        "deletable": false,
        "editable": false,
        "id": "595c5d41"
      },
      "source": [
        "Before proceeding, take a guess as to which of the two sequences would be more likely according to the provided bigram model. (We won't hold you to the guess.)\n",
        "\n",
        "Now write a function `sequence_probability` to find the probability of a sequence according to the bigram model. Below, we'll use that function to check your guess.\n",
        "\n",
        "> As in the previous lab, we'll ignore the contribution of the first $n-1$ tokens (the first token in the case of this example), since it doesn't have sufficient context. In a full $n$-gram model, we'd pad the start of the string with $n-1$ \"start of sequence\" tokens that are not part of the main vocabulary and have probability 1. It's standard also to add an \"end of sequence\" token at the end as well. But we'll pass on these niceties for now, if for no other reason than that it would double the size of the vocabulary you'd have to deal with.\n",
        "\n",
        "<!--\n",
        "BEGIN QUESTION\n",
        "name: bigram\n",
        "-->"
      ]
    },
    {
      "cell_type": "code",
      "execution_count": 32,
      "id": "1b8253aa",
      "metadata": {
        "id": "1b8253aa"
      },
      "outputs": [],
      "source": [
        "import math\n",
        "# TODO -- Write a function to find the probability of a sequence given a bigram table\n",
        "def sequence_probability(seq, T):\n",
        "    \"\"\"Returns the probability of a sequence `seq` under a bigram table `T`.\n",
        "    Arguments:\n",
        "      seq: a sequence of size N x vocab_size, where seq[i] is the one-hot\n",
        "           representation for the i-th word.\n",
        "      T: a bigram table, where T_{ij} = P(v_j | v_i).\n",
        "    Returns: the probability of the sequence, a tensor of a single element.\"\"\"\n",
        "    prob = 1\n",
        "    if len(seq) == 0:\n",
        "      return prob\n",
        "    before = seq[0]\n",
        "    for s in seq[1:]:\n",
        "      prob *= torch.sum((T@s) * before).item()\n",
        "      before = s\n",
        "    return prob"
      ]
    },
    {
      "cell_type": "code",
      "execution_count": 33,
      "id": "d080bf4c",
      "metadata": {
        "colab": {
          "base_uri": "https://localhost:8080/",
          "height": 46
        },
        "deletable": false,
        "editable": false,
        "id": "d080bf4c",
        "outputId": "c46480db-6202-4719-a942-d47ff24ab381"
      },
      "outputs": [
        {
          "data": {
            "text/html": [
              "\n",
              "    \n",
              "    \n",
              "        <p>All tests passed!</p>\n",
              "    \n",
              "    "
            ],
            "text/plain": [
              "\n",
              "    All tests passed!\n",
              "    "
            ]
          },
          "execution_count": 33,
          "metadata": {},
          "output_type": "execute_result"
        }
      ],
      "source": [
        "grader.check(\"bigram\")"
      ]
    },
    {
      "attachments": {},
      "cell_type": "markdown",
      "id": "b40bd777",
      "metadata": {
        "id": "b40bd777"
      },
      "source": [
        "We can use the `sequence_probability` function to find the probabilities of the two sequences."
      ]
    },
    {
      "cell_type": "code",
      "execution_count": 34,
      "id": "d656330d",
      "metadata": {
        "colab": {
          "base_uri": "https://localhost:8080/"
        },
        "id": "d656330d",
        "outputId": "f0d69b9b-318f-4de6-c9bb-3f43f1467393"
      },
      "outputs": [
        {
          "name": "stdout",
          "output_type": "stream",
          "text": [
            "Probability of A: 0.00392\n",
            "Probability of B: 0.00242\n"
          ]
        }
      ],
      "source": [
        "print(f\"Probability of A: {sequence_probability(seq1, T):.5f}\\n\"\n",
        "      f\"Probability of B: {sequence_probability(seq2, T):.5f}\")"
      ]
    },
    {
      "attachments": {},
      "cell_type": "markdown",
      "id": "0de39e82",
      "metadata": {
        "id": "0de39e82"
      },
      "source": [
        "Was your guess correct?"
      ]
    },
    {
      "attachments": {},
      "cell_type": "markdown",
      "id": "fc88acbb",
      "metadata": {
        "deletable": false,
        "editable": false,
        "id": "fc88acbb"
      },
      "source": [
        "## Tiny bigram RNN\n",
        "\n",
        "In theory, given enough capacity, [an RNN can approximate any function arbitrarily well](https://citeseerx.ist.psu.edu/viewdoc/download?doi=10.1.1.16.7590&rep=rep1&type=pdf). (In practice, we don't have infinite capacity, and even if we did have sufficient capacity, that doesn't mean that a particular optimization method, like stochastic gradient descent as you've been using in project segment 1, can find the global optimum.) \n",
        "\n",
        "In this section, you'll show that an RNN is at least as expressive as a bigram language model. You'll design the activation function $\\sigma$ and the parameters $\\vect{U}$, $\\vect{V}$, and $\\vect{W}$ of an RNN such that it behaves exactly like the particular bigram model above, by taking as input a sequence of one-hot representations of words, and outputting at each step a vector with the probabilities of the next word.\n",
        "\n",
        "For instance, the probabilities for the word following $v_i$ should be $T_i$, the row from the transition matrix. Given a sequence beginning with $v_1$, represented by the one-hot encoding [1, 0], your RNN's first output should be\n",
        "\n",
        "$$ o_1 = \\vect{W}h_1= \\vect{W} \\sigma\\left(\\vect{U} \\begin{bmatrix} 1 \\\\ 0 \\end{bmatrix} \n",
        "                            + \\vect{V} h_0\n",
        "                            \\right) \n",
        "       = T_1 $$\n",
        "\n",
        "etc. Assume that $h_0$, the initial $h$ value, is $\\begin{bmatrix} 0 \\\\ 0 \\end{bmatrix}$. \n",
        "\n",
        "> Hint 1: Use $\\sigma(x) = x$ for simplicity. \n",
        ">\n",
        "> Hint 2: You're going to want to work this out on paper before filling in your solution in the next cell.\n",
        "\n",
        "<!--\n",
        "BEGIN QUESTION\n",
        "name: tiny_bigram_RNN\n",
        "-->"
      ]
    },
    {
      "cell_type": "code",
      "execution_count": 35,
      "id": "7ce9f413",
      "metadata": {
        "id": "7ce9f413"
      },
      "outputs": [],
      "source": [
        "#TODO -- Define the parameters of the model in terms of the bigram probability matrix `T` and other constants\n",
        "h0 = torch.zeros(2)\n",
        "sigma = lambda x: x\n",
        "U = torch.t(T)\n",
        "V = torch.zeros(2,2)\n",
        "W = torch.eye(2)"
      ]
    },
    {
      "cell_type": "code",
      "execution_count": 36,
      "id": "ae2a0e5b",
      "metadata": {
        "colab": {
          "base_uri": "https://localhost:8080/",
          "height": 46
        },
        "deletable": false,
        "editable": false,
        "id": "ae2a0e5b",
        "outputId": "985fe5c5-523b-46e1-ed0e-d9c88af59e8c"
      },
      "outputs": [
        {
          "data": {
            "text/html": [
              "\n",
              "    \n",
              "    \n",
              "        <p>All tests passed!</p>\n",
              "    \n",
              "    "
            ],
            "text/plain": [
              "\n",
              "    All tests passed!\n",
              "    "
            ]
          },
          "execution_count": 36,
          "metadata": {},
          "output_type": "execute_result"
        }
      ],
      "source": [
        "grader.check(\"tiny_bigram_RNN\")"
      ]
    },
    {
      "attachments": {},
      "cell_type": "markdown",
      "id": "6dd0588a",
      "metadata": {
        "deletable": false,
        "editable": false,
        "id": "6dd0588a"
      },
      "source": [
        "<!-- BEGIN QUESTION -->\n",
        "\n",
        "## General bigram RNN\n",
        "\n",
        "> **This section is more open-ended in nature.**\n",
        "\n",
        "Above, you worked out the solution for implementing a bigram model for a two-word vocabulary as an RNN. But the construction can be generalized for bigram models over vocabularies of arbitrary size, say, $N$ word types.\n",
        "\n",
        "<!--\n",
        "BEGIN QUESTION\n",
        "name: open_response_bigram\n",
        "manual: true\n",
        "-->\n",
        "\n",
        "---\n",
        "\n",
        "**Question:** \n",
        "In general, given an $N \\times N$ bigram probability matrix $T_{ij}$ what would be the activation function $\\sigma$ and the parameters $\\vect{U}$, $\\vect{V}$, and $\\vect{W}$,  of an RNN that outputs $T_i$ given $v_i$ as an input?"
      ]
    },
    {
      "attachments": {},
      "cell_type": "markdown",
      "id": "045d3ce1",
      "metadata": {
        "id": "045d3ce1"
      },
      "source": [
        "$U$ will still be $T^T$ and by thus $Ux$ when $x$ is an one-hot vector will yield the row in the matrix corresponding to the word represented by $x$ (the transpose makes the product be the $ith$ row instead of the $ith$ column).\n",
        "$V$ will still be a zero-matrix, in the size of $N\\times N$, this is because $T$ is already given, we don't use the previews hidden layer.\n",
        "As mentioned before, we already have the wanted $T_i$ and therefore we will choose the activation function to simply be $\\sigma(x)=x$ and $W$ to be the identety function from the size of $N\\times N$. "
      ]
    },
    {
      "attachments": {},
      "cell_type": "markdown",
      "id": "4618355e",
      "metadata": {
        "id": "4618355e"
      },
      "source": [
        "<!-- END QUESTION -->\n",
        "\n",
        "\n",
        "\n",
        "# The backward step\n",
        "\n",
        "The remainder of the lab needs you to do math derivations. In these exercises you will both build your intuition and gain a concrete understanding of how back-propagation works in an RNN.\n",
        "\n",
        "Back-propagation is the method used to compute the gradients of an RNN. First, the RNN runs forward on some inputs, and then we calculate the loss as a function of the output (a measure of how far off the RNN's output $o_t$ was from the desired output $y_t$). The loss function we will be using is the squared error:\n",
        "\n",
        "$$ L = \\sum_{t = 1}^{N} (y_{t} - o_{t})^2 $$\n",
        "\n",
        "For the particular case of a language model, the \"desired output\" is just the next word in the sequence, so we have \n",
        "\n",
        "$$ L = \\sum_{t = 1}^{N} (x_{t+1} - o_{t})^2 $$\n",
        "\n",
        "> There's a little issue with the last step, since $x_{N+1}$ doesn't exist. Let's pretend that $x_{N+1}$ exists below for brevity of notations. (See the comment above about end-of-sequence tokens.)\n",
        "\n",
        "> Note that we use squared error loss here mainly for simplicity. In real language modeling tasks people use cross entropy loss, which you've seen in project segment 1.\n",
        "\n",
        "We then find the derivatives of the loss with respect to each parameter and use the derivatives to make small adjustments to the parameters to reduce the loss. This process is repeated until the loss is minimized.\n",
        "\n",
        "To minimize the loss function, we need to calculate the derivative of the loss $L$ with respect to all parameters. In this lab, we only consider how to calculate the derivative of $L$ with respect to $\\vect{U}$, but other parameters work similarly.\n",
        "\n",
        "For simplicity, let's assume for now that $h_0, \\ldots, h_N$, $x_1, \\ldots, x_N$ and $o_1, \\ldots, o_N$ are all scalars. Therefore, the parameters $\\vect{U}$, $\\vect{V}$, $\\vect{W}$ are all scalars as well. Such an assumption avoids taking gradients of vectors and matrices, although the below results can be easily generalized.\n",
        "\n",
        "In the next few subsections, you'll derive the gradient formulas for RNNs operating on sequences first of length 1, then 2, then 3, and finally on arbitrary length sequences."
      ]
    },
    {
      "attachments": {},
      "cell_type": "markdown",
      "id": "ac3ef9eb",
      "metadata": {
        "id": "ac3ef9eb"
      },
      "source": [
        "## RNN backprop on very very short sequences\n",
        "\n",
        "Consider an RNN run on an input sequence of length 1. This RNN's output sequence will therefore consist only of a single output $o_1$.\n",
        "\n",
        "As you can see from the loss function given above, $L = (x_2 - o_1)^2$ is a function of $o_1$ and $x_2$, therefore we can find \n",
        "\n",
        "$$\\frac{\\partial L(o_1, x_2)}{\\partial o_1} = 2(o_1 - x_2)$$\n",
        "\n",
        "Furthermore, $o_1$ is a function of $h_1$ and $\\vect{W}$, so we can find $\\frac{\\partial o_1(h_1, \\vect{W})}{\\partial h_1}$. Finally, $h_1$ is a function of $\\vect{U}$, $\\vect{V}$, $h_0$, and $x_1$, so we can find $\\frac{\\partial h_1(\\vect{U}, \\vect{V}, h_0, x_1)}{\\partial \\vect{U}}$."
      ]
    },
    {
      "attachments": {},
      "cell_type": "markdown",
      "id": "69a936f7",
      "metadata": {
        "id": "69a936f7"
      },
      "source": [
        "First, let's visualize the computation graph for more intuition. Note that different from the previous computation graph, we only show the variables that we are interested in."
      ]
    },
    {
      "cell_type": "code",
      "execution_count": 37,
      "id": "3980c099",
      "metadata": {
        "colab": {
          "base_uri": "https://localhost:8080/",
          "height": 568
        },
        "id": "3980c099",
        "outputId": "83c373c2-8202-408e-cf9e-541602797ab9"
      },
      "outputs": [
        {
          "data": {
            "image/svg+xml": [
              "<?xml version=\"1.0\" encoding=\"UTF-8\" standalone=\"no\"?>\n",
              "<!DOCTYPE svg PUBLIC \"-//W3C//DTD SVG 1.1//EN\"\n",
              " \"http://www.w3.org/Graphics/SVG/1.1/DTD/svg11.dtd\">\n",
              "<!-- Generated by graphviz version 8.0.5 (20230430.1635)\n",
              " -->\n",
              "<!-- Pages: 1 -->\n",
              "<svg width=\"62pt\" height=\"423pt\"\n",
              " viewBox=\"0.00 0.00 62.00 422.50\" xmlns=\"http://www.w3.org/2000/svg\" xmlns:xlink=\"http://www.w3.org/1999/xlink\">\n",
              "<g id=\"graph0\" class=\"graph\" transform=\"scale(1 1) rotate(0) translate(4 418.5)\">\n",
              "<polygon fill=\"white\" stroke=\"none\" points=\"-4,4 -4,-418.5 58,-418.5 58,4 -4,4\"/>\n",
              "<!-- 5196663824 -->\n",
              "<g id=\"node1\" class=\"node\">\n",
              "<title>5196663824</title>\n",
              "<polygon fill=\"#caff70\" stroke=\"black\" points=\"54,-36.5 0,-36.5 0,0 54,0 54,-36.5\"/>\n",
              "<text text-anchor=\"middle\" x=\"27\" y=\"-21.1\" font-family=\"Times,serif\" font-size=\"12.00\">Pow</text>\n",
              "<text text-anchor=\"middle\" x=\"27\" y=\"-6.85\" font-family=\"Times,serif\" font-size=\"12.00\">L</text>\n",
              "</g>\n",
              "<!-- 5196665888 -->\n",
              "<g id=\"node2\" class=\"node\">\n",
              "<title>5196665888</title>\n",
              "<polygon fill=\"lightgrey\" stroke=\"black\" points=\"54,-94.75 0,-94.75 0,-72.5 54,-72.5 54,-94.75\"/>\n",
              "<text text-anchor=\"middle\" x=\"27\" y=\"-79.35\" font-family=\"Times,serif\" font-size=\"12.00\">Sub</text>\n",
              "</g>\n",
              "<!-- 5196665888&#45;&gt;5196663824 -->\n",
              "<g id=\"edge1\" class=\"edge\">\n",
              "<title>5196665888&#45;&gt;5196663824</title>\n",
              "<path fill=\"none\" stroke=\"black\" d=\"M27,-72.16C27,-65.51 27,-56.55 27,-47.9\"/>\n",
              "<polygon fill=\"black\" stroke=\"black\" points=\"30.5,-47.92 27,-37.92 23.5,-47.92 30.5,-47.92\"/>\n",
              "</g>\n",
              "<!-- 5196676736 -->\n",
              "<g id=\"node3\" class=\"node\">\n",
              "<title>5196676736</title>\n",
              "<polygon fill=\"lightblue\" stroke=\"black\" points=\"54,-167.25 0,-167.25 0,-130.75 54,-130.75 54,-167.25\"/>\n",
              "<text text-anchor=\"middle\" x=\"27\" y=\"-151.85\" font-family=\"Times,serif\" font-size=\"12.00\">Mul</text>\n",
              "<text text-anchor=\"middle\" x=\"27\" y=\"-137.6\" font-family=\"Times,serif\" font-size=\"12.00\">o1</text>\n",
              "</g>\n",
              "<!-- 5196676736&#45;&gt;5196665888 -->\n",
              "<g id=\"edge2\" class=\"edge\">\n",
              "<title>5196676736&#45;&gt;5196665888</title>\n",
              "<path fill=\"none\" stroke=\"black\" d=\"M27,-130.35C27,-122.86 27,-114.05 27,-106.18\"/>\n",
              "<polygon fill=\"black\" stroke=\"black\" points=\"30.5,-106.24 27,-96.24 23.5,-106.24 30.5,-106.24\"/>\n",
              "</g>\n",
              "<!-- 5196667760 -->\n",
              "<g id=\"node4\" class=\"node\">\n",
              "<title>5196667760</title>\n",
              "<polygon fill=\"lightblue\" stroke=\"black\" points=\"54,-239.75 0,-239.75 0,-203.25 54,-203.25 54,-239.75\"/>\n",
              "<text text-anchor=\"middle\" x=\"27\" y=\"-224.35\" font-family=\"Times,serif\" font-size=\"12.00\">Clamp1</text>\n",
              "<text text-anchor=\"middle\" x=\"27\" y=\"-210.1\" font-family=\"Times,serif\" font-size=\"12.00\">h1</text>\n",
              "</g>\n",
              "<!-- 5196667760&#45;&gt;5196676736 -->\n",
              "<g id=\"edge3\" class=\"edge\">\n",
              "<title>5196667760&#45;&gt;5196676736</title>\n",
              "<path fill=\"none\" stroke=\"black\" d=\"M27,-203.07C27,-195.67 27,-186.85 27,-178.54\"/>\n",
              "<polygon fill=\"black\" stroke=\"black\" points=\"30.5,-178.72 27,-168.72 23.5,-178.72 30.5,-178.72\"/>\n",
              "</g>\n",
              "<!-- 5196669776 -->\n",
              "<g id=\"node5\" class=\"node\">\n",
              "<title>5196669776</title>\n",
              "<polygon fill=\"lightgrey\" stroke=\"black\" points=\"54,-298 0,-298 0,-275.75 54,-275.75 54,-298\"/>\n",
              "<text text-anchor=\"middle\" x=\"27\" y=\"-282.6\" font-family=\"Times,serif\" font-size=\"12.00\">Add</text>\n",
              "</g>\n",
              "<!-- 5196669776&#45;&gt;5196667760 -->\n",
              "<g id=\"edge4\" class=\"edge\">\n",
              "<title>5196669776&#45;&gt;5196667760</title>\n",
              "<path fill=\"none\" stroke=\"black\" d=\"M27,-275.41C27,-268.76 27,-259.8 27,-251.15\"/>\n",
              "<polygon fill=\"black\" stroke=\"black\" points=\"30.5,-251.17 27,-241.17 23.5,-251.17 30.5,-251.17\"/>\n",
              "</g>\n",
              "<!-- 5196671360 -->\n",
              "<g id=\"node6\" class=\"node\">\n",
              "<title>5196671360</title>\n",
              "<polygon fill=\"lightgrey\" stroke=\"black\" points=\"54,-356.25 0,-356.25 0,-334 54,-334 54,-356.25\"/>\n",
              "<text text-anchor=\"middle\" x=\"27\" y=\"-340.85\" font-family=\"Times,serif\" font-size=\"12.00\">Mul</text>\n",
              "</g>\n",
              "<!-- 5196671360&#45;&gt;5196669776 -->\n",
              "<g id=\"edge5\" class=\"edge\">\n",
              "<title>5196671360&#45;&gt;5196669776</title>\n",
              "<path fill=\"none\" stroke=\"black\" d=\"M27,-333.54C27,-326.71 27,-317.57 27,-309.27\"/>\n",
              "<polygon fill=\"black\" stroke=\"black\" points=\"30.5,-309.41 27,-299.41 23.5,-309.41 30.5,-309.41\"/>\n",
              "</g>\n",
              "<!-- 5196666368 -->\n",
              "<g id=\"node7\" class=\"node\">\n",
              "<title>5196666368</title>\n",
              "<polygon fill=\"lightblue\" stroke=\"black\" points=\"54,-414.5 0,-414.5 0,-392.25 54,-392.25 54,-414.5\"/>\n",
              "<text text-anchor=\"middle\" x=\"27\" y=\"-399.1\" font-family=\"Times,serif\" font-size=\"12.00\">U</text>\n",
              "</g>\n",
              "<!-- 5196666368&#45;&gt;5196671360 -->\n",
              "<g id=\"edge6\" class=\"edge\">\n",
              "<title>5196666368&#45;&gt;5196671360</title>\n",
              "<path fill=\"none\" stroke=\"black\" d=\"M27,-391.79C27,-384.96 27,-375.82 27,-367.52\"/>\n",
              "<polygon fill=\"black\" stroke=\"black\" points=\"30.5,-367.66 27,-357.66 23.5,-367.66 30.5,-367.66\"/>\n",
              "</g>\n",
              "</g>\n",
              "</svg>\n"
            ],
            "text/plain": [
              "<graphviz.graphs.Digraph at 0x135bef040>"
            ]
          },
          "execution_count": 37,
          "metadata": {},
          "output_type": "execute_result"
        }
      ],
      "source": [
        "# RNN parameters\n",
        "U_ = torch.Tensor([0.1]) # we use U_ instead of U (etc.) to avoid autograding issues\n",
        "V_ = torch.Tensor([0.2])\n",
        "W_ = torch.Tensor([0.3])\n",
        "\n",
        "# inputs\n",
        "x1_ = torch.Tensor([0.5])\n",
        "x2_ = torch.Tensor([0.6])\n",
        "x3_ = torch.Tensor([0.7])\n",
        "\n",
        "# initial value for the hidden state, a zero vector\n",
        "h0_ = torch.Tensor([0])\n",
        "\n",
        "# Set which nodes to visualize later\n",
        "visualized_nodes = [U_, ]\n",
        "for p in visualized_nodes:\n",
        "    p.requires_grad = True\n",
        "\n",
        "# Calculate h1, o1\n",
        "h1_ = torch.clamp(U_ * x1_ + V_ * h0_, min=0)\n",
        "o1_ = W_ * h1_\n",
        "\n",
        "L_ = (o1_ - x2_) ** 2\n",
        "\n",
        "params = {k: eval(k+'_') for k in ['L', 'U', 'h1', 'o1']}\n",
        "dot = make_dot(L_, params=params)\n",
        "# Save Graph to `computation_graph_1.pdf`\n",
        "dot.render(data_dir + 'computation_graph_1')\n",
        "dot"
      ]
    },
    {
      "attachments": {},
      "cell_type": "markdown",
      "id": "e40e7ce5",
      "metadata": {
        "deletable": false,
        "editable": false,
        "id": "e40e7ce5"
      },
      "source": [
        "<!-- BEGIN QUESTION -->\n",
        "\n",
        "**Question:** Find a formula for $\\frac{\\partial L(\\vect{U}, \\vect{V}, \\vect{W}, x_1, x_2, h_0)}{\\partial \\vect{U}}$ in terms of $\\frac{\\partial L(o_1, x_2)}{\\partial o_1}$, $\\frac{\\partial o_1(\\vect{W}, h_1)}{\\partial h_1}$ ,and $\\frac{\\partial h_1(\\vect{U}, \\vect{V}, h_0, x_1)}{\\partial \\vect{U}}$. You might find the above computation graph useful: how does $L$ depend on $\\vect{U}$? \n",
        "\n",
        ">Note that in your answer you can omit the arguments of the functions for brevity (e.g., you can use $\\frac{\\partial L}{\\partial o_1}$ instead of $\\frac{\\partial L(o_1, x_2)}{\\partial o_1}$), but keep in mind that the arguments are important: e.g., $o_1$ eventually depends on $\\vect{U}$, so $\\frac{\\partial o_1(\\vect{U}, \\vect{V}, \\vect{W}, x_1, x_2, h_0)}{\\partial \\vect{U}}$ is likely not zero, but if instead we assume its arguments are $h_1$ and $\\vect{W}$, i.e., $o_1 = o_1(h_1, \\vect{W})$, then $\\frac{\\partial o_1}{\\partial U}$ is undefined or 0, as when we take partial derivatives, we hold other arguments ($h_1$ and $\\vect{W}$ in this case) as constant.\n",
        "\n",
        ">Hint: Use the chain rule.\n",
        "\n",
        "<!--\n",
        "BEGIN QUESTION\n",
        "name: open_response_backprop1\n",
        "manual: true\n",
        "-->"
      ]
    },
    {
      "attachments": {},
      "cell_type": "markdown",
      "id": "e3a5d2fd",
      "metadata": {
        "id": "e3a5d2fd"
      },
      "source": [
        "Using the chain rule we simply get:\n",
        "$$\\frac{\\partial L}{\\partial U}= \\frac{\\partial L}{\\partial o_1}\\cdot \\frac{\\partial o_1}{\\partial U}=\\frac{\\partial L}{\\partial o_1}\\cdot \\frac{\\partial o_1}{\\partial h_1}\\cdot \\frac{\\partial h_1}{\\partial U}$$"
      ]
    },
    {
      "attachments": {},
      "cell_type": "markdown",
      "id": "7fb40a4a",
      "metadata": {
        "id": "7fb40a4a"
      },
      "source": [
        "<!-- END QUESTION -->\n",
        "\n",
        "\n",
        "\n",
        "## RNN backprop on very short sequences\n",
        "\n",
        "Consider an RNN run on an input sequence of length 2. This RNN's output sequence $o$ will consist of $o_1$ and $o_2$ and the loss will be\n",
        "\n",
        "$$ L = (x_2 - o_1)^2 + (x_3 - o_2)^2 $$\n",
        "\n",
        "Let's visualize the computation graph."
      ]
    },
    {
      "cell_type": "code",
      "execution_count": 38,
      "id": "22d2492d",
      "metadata": {
        "colab": {
          "base_uri": "https://localhost:8080/",
          "height": 907
        },
        "id": "22d2492d",
        "outputId": "3c89b8d1-5cb4-4f36-fbf7-5c05f79d8561"
      },
      "outputs": [
        {
          "data": {
            "image/svg+xml": [
              "<?xml version=\"1.0\" encoding=\"UTF-8\" standalone=\"no\"?>\n",
              "<!DOCTYPE svg PUBLIC \"-//W3C//DTD SVG 1.1//EN\"\n",
              " \"http://www.w3.org/Graphics/SVG/1.1/DTD/svg11.dtd\">\n",
              "<!-- Generated by graphviz version 8.0.5 (20230430.1635)\n",
              " -->\n",
              "<!-- Pages: 1 -->\n",
              "<svg width=\"189pt\" height=\"684pt\"\n",
              " viewBox=\"0.00 0.00 189.00 684.00\" xmlns=\"http://www.w3.org/2000/svg\" xmlns:xlink=\"http://www.w3.org/1999/xlink\">\n",
              "<g id=\"graph0\" class=\"graph\" transform=\"scale(1 1) rotate(0) translate(4 680)\">\n",
              "<polygon fill=\"white\" stroke=\"none\" points=\"-4,4 -4,-680 185,-680 185,4 -4,4\"/>\n",
              "<!-- 5196669680 -->\n",
              "<g id=\"node1\" class=\"node\">\n",
              "<title>5196669680</title>\n",
              "<polygon fill=\"#caff70\" stroke=\"black\" points=\"89,-36.5 35,-36.5 35,0 89,0 89,-36.5\"/>\n",
              "<text text-anchor=\"middle\" x=\"62\" y=\"-21.1\" font-family=\"Times,serif\" font-size=\"12.00\">Add</text>\n",
              "<text text-anchor=\"middle\" x=\"62\" y=\"-6.85\" font-family=\"Times,serif\" font-size=\"12.00\">L</text>\n",
              "</g>\n",
              "<!-- 5196676160 -->\n",
              "<g id=\"node2\" class=\"node\">\n",
              "<title>5196676160</title>\n",
              "<polygon fill=\"lightgrey\" stroke=\"black\" points=\"54,-218.38 0,-218.38 0,-196.12 54,-196.12 54,-218.38\"/>\n",
              "<text text-anchor=\"middle\" x=\"27\" y=\"-202.97\" font-family=\"Times,serif\" font-size=\"12.00\">Pow</text>\n",
              "</g>\n",
              "<!-- 5196676160&#45;&gt;5196669680 -->\n",
              "<g id=\"edge1\" class=\"edge\">\n",
              "<title>5196676160&#45;&gt;5196669680</title>\n",
              "<path fill=\"none\" stroke=\"black\" d=\"M28.98,-195.66C34.27,-167.42 48.83,-89.6 56.73,-47.38\"/>\n",
              "<polygon fill=\"black\" stroke=\"black\" points=\"60.33,-48.2 58.73,-37.73 53.45,-46.92 60.33,-48.2\"/>\n",
              "</g>\n",
              "<!-- 5196670928 -->\n",
              "<g id=\"node3\" class=\"node\">\n",
              "<title>5196670928</title>\n",
              "<polygon fill=\"lightgrey\" stroke=\"black\" points=\"54,-356.25 0,-356.25 0,-334 54,-334 54,-356.25\"/>\n",
              "<text text-anchor=\"middle\" x=\"27\" y=\"-340.85\" font-family=\"Times,serif\" font-size=\"12.00\">Sub</text>\n",
              "</g>\n",
              "<!-- 5196670928&#45;&gt;5196676160 -->\n",
              "<g id=\"edge2\" class=\"edge\">\n",
              "<title>5196670928&#45;&gt;5196676160</title>\n",
              "<path fill=\"none\" stroke=\"black\" d=\"M27,-333.91C27,-311.78 27,-259.01 27,-229.37\"/>\n",
              "<polygon fill=\"black\" stroke=\"black\" points=\"30.5,-229.58 27,-219.58 23.5,-229.58 30.5,-229.58\"/>\n",
              "</g>\n",
              "<!-- 5196672944 -->\n",
              "<g id=\"node4\" class=\"node\">\n",
              "<title>5196672944</title>\n",
              "<polygon fill=\"lightblue\" stroke=\"black\" points=\"54,-428.75 0,-428.75 0,-392.25 54,-392.25 54,-428.75\"/>\n",
              "<text text-anchor=\"middle\" x=\"27\" y=\"-413.35\" font-family=\"Times,serif\" font-size=\"12.00\">Mul</text>\n",
              "<text text-anchor=\"middle\" x=\"27\" y=\"-399.1\" font-family=\"Times,serif\" font-size=\"12.00\">o1</text>\n",
              "</g>\n",
              "<!-- 5196672944&#45;&gt;5196670928 -->\n",
              "<g id=\"edge3\" class=\"edge\">\n",
              "<title>5196672944&#45;&gt;5196670928</title>\n",
              "<path fill=\"none\" stroke=\"black\" d=\"M27,-391.85C27,-384.36 27,-375.55 27,-367.68\"/>\n",
              "<polygon fill=\"black\" stroke=\"black\" points=\"30.5,-367.74 27,-357.74 23.5,-367.74 30.5,-367.74\"/>\n",
              "</g>\n",
              "<!-- 5196661088 -->\n",
              "<g id=\"node5\" class=\"node\">\n",
              "<title>5196661088</title>\n",
              "<polygon fill=\"lightblue\" stroke=\"black\" points=\"109,-501.25 55,-501.25 55,-464.75 109,-464.75 109,-501.25\"/>\n",
              "<text text-anchor=\"middle\" x=\"82\" y=\"-485.85\" font-family=\"Times,serif\" font-size=\"12.00\">Clamp1</text>\n",
              "<text text-anchor=\"middle\" x=\"82\" y=\"-471.6\" font-family=\"Times,serif\" font-size=\"12.00\">h1</text>\n",
              "</g>\n",
              "<!-- 5196661088&#45;&gt;5196672944 -->\n",
              "<g id=\"edge4\" class=\"edge\">\n",
              "<title>5196661088&#45;&gt;5196672944</title>\n",
              "<path fill=\"none\" stroke=\"black\" d=\"M68.4,-464.57C62.11,-456.5 54.49,-446.73 47.51,-437.79\"/>\n",
              "<polygon fill=\"black\" stroke=\"black\" points=\"49.73,-435.95 40.82,-430.22 44.21,-440.25 49.73,-435.95\"/>\n",
              "</g>\n",
              "<!-- 5196675872 -->\n",
              "<g id=\"node15\" class=\"node\">\n",
              "<title>5196675872</title>\n",
              "<polygon fill=\"lightgrey\" stroke=\"black\" points=\"126,-421.62 72,-421.62 72,-399.38 126,-399.38 126,-421.62\"/>\n",
              "<text text-anchor=\"middle\" x=\"99\" y=\"-406.23\" font-family=\"Times,serif\" font-size=\"12.00\">Mul</text>\n",
              "</g>\n",
              "<!-- 5196661088&#45;&gt;5196675872 -->\n",
              "<g id=\"edge16\" class=\"edge\">\n",
              "<title>5196661088&#45;&gt;5196675872</title>\n",
              "<path fill=\"none\" stroke=\"black\" d=\"M86.2,-464.57C88.55,-454.86 91.48,-442.69 93.95,-432.45\"/>\n",
              "<polygon fill=\"black\" stroke=\"black\" points=\"97.54,-433.5 96.48,-422.95 90.73,-431.86 97.54,-433.5\"/>\n",
              "</g>\n",
              "<!-- 5196668480 -->\n",
              "<g id=\"node6\" class=\"node\">\n",
              "<title>5196668480</title>\n",
              "<polygon fill=\"lightgrey\" stroke=\"black\" points=\"109,-559.5 55,-559.5 55,-537.25 109,-537.25 109,-559.5\"/>\n",
              "<text text-anchor=\"middle\" x=\"82\" y=\"-544.1\" font-family=\"Times,serif\" font-size=\"12.00\">Add</text>\n",
              "</g>\n",
              "<!-- 5196668480&#45;&gt;5196661088 -->\n",
              "<g id=\"edge5\" class=\"edge\">\n",
              "<title>5196668480&#45;&gt;5196661088</title>\n",
              "<path fill=\"none\" stroke=\"black\" d=\"M82,-536.91C82,-530.26 82,-521.3 82,-512.65\"/>\n",
              "<polygon fill=\"black\" stroke=\"black\" points=\"85.5,-512.67 82,-502.67 78.5,-512.67 85.5,-512.67\"/>\n",
              "</g>\n",
              "<!-- 5196676448 -->\n",
              "<g id=\"node7\" class=\"node\">\n",
              "<title>5196676448</title>\n",
              "<polygon fill=\"lightgrey\" stroke=\"black\" points=\"117,-617.75 63,-617.75 63,-595.5 117,-595.5 117,-617.75\"/>\n",
              "<text text-anchor=\"middle\" x=\"90\" y=\"-602.35\" font-family=\"Times,serif\" font-size=\"12.00\">Mul</text>\n",
              "</g>\n",
              "<!-- 5196676448&#45;&gt;5196668480 -->\n",
              "<g id=\"edge6\" class=\"edge\">\n",
              "<title>5196676448&#45;&gt;5196668480</title>\n",
              "<path fill=\"none\" stroke=\"black\" d=\"M88.5,-595.04C87.52,-588.21 86.22,-579.07 85.04,-570.77\"/>\n",
              "<polygon fill=\"black\" stroke=\"black\" points=\"88.37,-570.32 83.5,-560.91 81.44,-571.3 88.37,-570.32\"/>\n",
              "</g>\n",
              "<!-- 5196673376 -->\n",
              "<g id=\"node8\" class=\"node\">\n",
              "<title>5196673376</title>\n",
              "<polygon fill=\"lightblue\" stroke=\"black\" points=\"144,-676 90,-676 90,-653.75 144,-653.75 144,-676\"/>\n",
              "<text text-anchor=\"middle\" x=\"117\" y=\"-660.6\" font-family=\"Times,serif\" font-size=\"12.00\">U</text>\n",
              "</g>\n",
              "<!-- 5196673376&#45;&gt;5196676448 -->\n",
              "<g id=\"edge7\" class=\"edge\">\n",
              "<title>5196673376&#45;&gt;5196676448</title>\n",
              "<path fill=\"none\" stroke=\"black\" d=\"M111.92,-653.29C108.49,-646.15 103.85,-636.48 99.72,-627.88\"/>\n",
              "<polygon fill=\"black\" stroke=\"black\" points=\"102.54,-626.66 95.06,-619.16 96.23,-629.69 102.54,-626.66\"/>\n",
              "</g>\n",
              "<!-- 5196662672 -->\n",
              "<g id=\"node14\" class=\"node\">\n",
              "<title>5196662672</title>\n",
              "<polygon fill=\"lightgrey\" stroke=\"black\" points=\"181,-559.5 127,-559.5 127,-537.25 181,-537.25 181,-559.5\"/>\n",
              "<text text-anchor=\"middle\" x=\"154\" y=\"-544.1\" font-family=\"Times,serif\" font-size=\"12.00\">Mul</text>\n",
              "</g>\n",
              "<!-- 5196673376&#45;&gt;5196662672 -->\n",
              "<g id=\"edge14\" class=\"edge\">\n",
              "<title>5196673376&#45;&gt;5196662672</title>\n",
              "<path fill=\"none\" stroke=\"black\" d=\"M120.41,-653.31C126.5,-634.48 139.32,-594.8 147.24,-570.28\"/>\n",
              "<polygon fill=\"black\" stroke=\"black\" points=\"150.85,-571.51 150.59,-560.92 144.19,-569.36 150.85,-571.51\"/>\n",
              "</g>\n",
              "<!-- 5196673520 -->\n",
              "<g id=\"node9\" class=\"node\">\n",
              "<title>5196673520</title>\n",
              "<polygon fill=\"lightgrey\" stroke=\"black\" points=\"121,-94.75 67,-94.75 67,-72.5 121,-72.5 121,-94.75\"/>\n",
              "<text text-anchor=\"middle\" x=\"94\" y=\"-79.35\" font-family=\"Times,serif\" font-size=\"12.00\">Pow</text>\n",
              "</g>\n",
              "<!-- 5196673520&#45;&gt;5196669680 -->\n",
              "<g id=\"edge8\" class=\"edge\">\n",
              "<title>5196673520&#45;&gt;5196669680</title>\n",
              "<path fill=\"none\" stroke=\"black\" d=\"M88.72,-72.16C85.21,-65.21 80.43,-55.74 75.88,-46.74\"/>\n",
              "<polygon fill=\"black\" stroke=\"black\" points=\"78.56,-45.27 70.92,-37.92 72.31,-48.43 78.56,-45.27\"/>\n",
              "</g>\n",
              "<!-- 5196670352 -->\n",
              "<g id=\"node10\" class=\"node\">\n",
              "<title>5196670352</title>\n",
              "<polygon fill=\"lightgrey\" stroke=\"black\" points=\"123,-153 69,-153 69,-130.75 123,-130.75 123,-153\"/>\n",
              "<text text-anchor=\"middle\" x=\"96\" y=\"-137.6\" font-family=\"Times,serif\" font-size=\"12.00\">Sub</text>\n",
              "</g>\n",
              "<!-- 5196670352&#45;&gt;5196673520 -->\n",
              "<g id=\"edge9\" class=\"edge\">\n",
              "<title>5196670352&#45;&gt;5196673520</title>\n",
              "<path fill=\"none\" stroke=\"black\" d=\"M95.62,-130.29C95.38,-123.46 95.06,-114.32 94.76,-106.02\"/>\n",
              "<polygon fill=\"black\" stroke=\"black\" points=\"98.23,-106.03 94.37,-96.16 91.23,-106.28 98.23,-106.03\"/>\n",
              "</g>\n",
              "<!-- 5196674288 -->\n",
              "<g id=\"node11\" class=\"node\">\n",
              "<title>5196674288</title>\n",
              "<polygon fill=\"lightblue\" stroke=\"black\" points=\"126,-225.5 72,-225.5 72,-189 126,-189 126,-225.5\"/>\n",
              "<text text-anchor=\"middle\" x=\"99\" y=\"-210.1\" font-family=\"Times,serif\" font-size=\"12.00\">Mul</text>\n",
              "<text text-anchor=\"middle\" x=\"99\" y=\"-195.85\" font-family=\"Times,serif\" font-size=\"12.00\">o2</text>\n",
              "</g>\n",
              "<!-- 5196674288&#45;&gt;5196670352 -->\n",
              "<g id=\"edge10\" class=\"edge\">\n",
              "<title>5196674288&#45;&gt;5196670352</title>\n",
              "<path fill=\"none\" stroke=\"black\" d=\"M98.16,-188.6C97.81,-181.11 97.39,-172.3 97.02,-164.43\"/>\n",
              "<polygon fill=\"black\" stroke=\"black\" points=\"100.47,-164.32 96.5,-154.49 93.48,-164.65 100.47,-164.32\"/>\n",
              "</g>\n",
              "<!-- 5196672320 -->\n",
              "<g id=\"node12\" class=\"node\">\n",
              "<title>5196672320</title>\n",
              "<polygon fill=\"lightblue\" stroke=\"black\" points=\"126,-298 72,-298 72,-261.5 126,-261.5 126,-298\"/>\n",
              "<text text-anchor=\"middle\" x=\"99\" y=\"-282.6\" font-family=\"Times,serif\" font-size=\"12.00\">Clamp1</text>\n",
              "<text text-anchor=\"middle\" x=\"99\" y=\"-268.35\" font-family=\"Times,serif\" font-size=\"12.00\">h2</text>\n",
              "</g>\n",
              "<!-- 5196672320&#45;&gt;5196674288 -->\n",
              "<g id=\"edge11\" class=\"edge\">\n",
              "<title>5196672320&#45;&gt;5196674288</title>\n",
              "<path fill=\"none\" stroke=\"black\" d=\"M99,-261.32C99,-253.92 99,-245.1 99,-236.79\"/>\n",
              "<polygon fill=\"black\" stroke=\"black\" points=\"102.5,-236.97 99,-226.97 95.5,-236.97 102.5,-236.97\"/>\n",
              "</g>\n",
              "<!-- 5196670784 -->\n",
              "<g id=\"node13\" class=\"node\">\n",
              "<title>5196670784</title>\n",
              "<polygon fill=\"lightgrey\" stroke=\"black\" points=\"126,-356.25 72,-356.25 72,-334 126,-334 126,-356.25\"/>\n",
              "<text text-anchor=\"middle\" x=\"99\" y=\"-340.85\" font-family=\"Times,serif\" font-size=\"12.00\">Add</text>\n",
              "</g>\n",
              "<!-- 5196670784&#45;&gt;5196672320 -->\n",
              "<g id=\"edge12\" class=\"edge\">\n",
              "<title>5196670784&#45;&gt;5196672320</title>\n",
              "<path fill=\"none\" stroke=\"black\" d=\"M99,-333.66C99,-327.01 99,-318.05 99,-309.4\"/>\n",
              "<polygon fill=\"black\" stroke=\"black\" points=\"102.5,-309.42 99,-299.42 95.5,-309.42 102.5,-309.42\"/>\n",
              "</g>\n",
              "<!-- 5196662672&#45;&gt;5196670784 -->\n",
              "<g id=\"edge13\" class=\"edge\">\n",
              "<title>5196662672&#45;&gt;5196670784</title>\n",
              "<path fill=\"none\" stroke=\"black\" d=\"M154.59,-537.1C155.66,-511.53 156.16,-443.4 135,-392.25 130.82,-382.16 123.8,-372.4 117.07,-364.49\"/>\n",
              "<polygon fill=\"black\" stroke=\"black\" points=\"120.05,-362.47 110.75,-357.41 114.87,-367.17 120.05,-362.47\"/>\n",
              "</g>\n",
              "<!-- 5196675872&#45;&gt;5196670784 -->\n",
              "<g id=\"edge15\" class=\"edge\">\n",
              "<title>5196675872&#45;&gt;5196670784</title>\n",
              "<path fill=\"none\" stroke=\"black\" d=\"M99,-399.03C99,-390.45 99,-378.03 99,-367.37\"/>\n",
              "<polygon fill=\"black\" stroke=\"black\" points=\"102.5,-367.4 99,-357.4 95.5,-367.4 102.5,-367.4\"/>\n",
              "</g>\n",
              "</g>\n",
              "</svg>\n"
            ],
            "text/plain": [
              "<graphviz.graphs.Digraph at 0x135bed120>"
            ]
          },
          "execution_count": 38,
          "metadata": {},
          "output_type": "execute_result"
        }
      ],
      "source": [
        "# RNN parameters\n",
        "U_ = torch.Tensor([0.1])\n",
        "V_ = torch.Tensor([0.2])\n",
        "W_ = torch.Tensor([0.3])\n",
        "\n",
        "# inputs\n",
        "x1_ = torch.Tensor([0.5])\n",
        "x2_ = torch.Tensor([0.6])\n",
        "x3_ = torch.Tensor([0.7])\n",
        "\n",
        "# initial value for the hidden state, a zero vector\n",
        "h0_ = torch.Tensor([0])\n",
        "\n",
        "# Set which nodes to visualize later\n",
        "visualized_nodes = [U_, ]\n",
        "for p in visualized_nodes:\n",
        "    p.requires_grad = True\n",
        "\n",
        "# Calculate h1, o1\n",
        "h1_ = torch.clamp(U_ * x1_ + V_ * h0_, min=0)\n",
        "h2_ = torch.clamp(U_ * x2_ + V_ * h1_, min=0)\n",
        "o2_ = W_ * h2_\n",
        "o1_ = W_ * h1_\n",
        "\n",
        "L_ = (o1_ - x2_)**2 + (o2_ - x3_)**2\n",
        "\n",
        "params = {k: eval(k+'_') for k in ['L', 'U', 'h1', 'o1', 'h2', 'o2']}\n",
        "\n",
        "dot = make_dot(L_, params=params)\n",
        "# Save Graph to `computation_graph_2.pdf`\n",
        "dot.render(data_dir + 'computation_graph_2')\n",
        "dot"
      ]
    },
    {
      "attachments": {},
      "cell_type": "markdown",
      "id": "1833806b",
      "metadata": {
        "deletable": false,
        "editable": false,
        "id": "1833806b"
      },
      "source": [
        "<!-- BEGIN QUESTION -->\n",
        "\n",
        "**Question:** This time, find the formula for $\\frac{\\partial L(\\vect{U}, \\vect{V}, \\vect{W}, x_1, x_2, x_3, h_0)}{\\partial \\vect{U}}$, the derivative of the loss $L$ with respect to the parameter $\\vect{U}$ in terms of $\\frac{\\partial L(o_1, o_2, x_2, x_3)}{\\partial o_t}$, $\\frac{\\partial o_t( \\vect{W}, h_t)}{\\partial h_t}$, $\\frac{\\partial h_2(\\vect{U}, \\vect{V}, h_1, x_2)}{\\partial h_1}$, and $\\frac{\\partial h_t(\\vect{U}, \\vect{V}, h_{t-1}, x_t)}{\\partial \\vect{U}}$ for $t \\in \\{1,2\\}$. You might find the above computation graph useful.\n",
        "\n",
        "> How many possible paths are there in the computation graph from $\\vect{U}$ to $L$? Each path corresponds to a term in the final answer.\n",
        "\n",
        "> Hint: when we take $\\frac{\\partial h_2(\\vect{U}, \\vect{V}, h_1, x_2)}{\\partial \\vect{U}}$, we are holding other arguments (other than $\\vect{U}$) as constants, such as $h_1$. Therefore, $\\frac{\\partial h_2}{\\partial \\vect{U}}$ does not reflect the path through $h_1$ where $\\vect{U}$ can also exert influence on $h_2$: $\\vect{U} \\to h_1 \\to h_2$.\n",
        "\n",
        "<!--\n",
        "BEGIN QUESTION\n",
        "name: open_response_backprop2\n",
        "manual: true\n",
        "-->"
      ]
    },
    {
      "attachments": {},
      "cell_type": "markdown",
      "id": "f39d9821",
      "metadata": {
        "id": "f39d9821"
      },
      "source": [
        "Using the chain rule we simply get:\n",
        "$$\\frac{\\partial L}{\\partial U}= \\frac{\\partial L}{\\partial o_1}\\cdot \\frac{\\partial o_1}{\\partial U}+\\frac{\\partial L}{\\partial o_2}\\cdot \\frac{\\partial o_2}{\\partial U}=$$$$\\frac{\\partial L}{\\partial o_1}\\cdot \\frac{\\partial o_1}{\\partial h_1}\\cdot \\frac{\\partial h_1}{\\partial U}+\\frac{\\partial L}{\\partial o_2}\\cdot \\frac{\\partial o_2}{\\partial h_2}\\cdot \\left(\\frac{\\partial h_2}{\\partial U}+\\frac{\\partial h_2}{\\partial h_1}\\cdot\\frac{\\partial h_1}{\\partial U}\\right)$$"
      ]
    },
    {
      "attachments": {},
      "cell_type": "markdown",
      "id": "0eceda35",
      "metadata": {
        "id": "0eceda35"
      },
      "source": [
        "<!-- END QUESTION -->\n",
        "\n",
        "\n",
        "\n",
        "## RNN backprop on short sequences\n",
        "\n",
        "For the penultimate backprop challenge, consider an RNN run on an input sequence of length 3. This RNN's output sequence $o$ will consist of $o_1$, $o_2$, and $o_3$.\n",
        "\n",
        "Let's look at the computation graph. How many possible paths are there from $\\vect{U}$ to $L$? How many $h$ elements are there in each path?"
      ]
    },
    {
      "cell_type": "code",
      "execution_count": 39,
      "id": "a8ebceb4",
      "metadata": {
        "colab": {
          "base_uri": "https://localhost:8080/",
          "height": 1000
        },
        "id": "a8ebceb4",
        "outputId": "9cf38b89-8cfe-4e68-8817-0a850289ce7b"
      },
      "outputs": [
        {
          "data": {
            "image/svg+xml": [
              "<?xml version=\"1.0\" encoding=\"UTF-8\" standalone=\"no\"?>\n",
              "<!DOCTYPE svg PUBLIC \"-//W3C//DTD SVG 1.1//EN\"\n",
              " \"http://www.w3.org/Graphics/SVG/1.1/DTD/svg11.dtd\">\n",
              "<!-- Generated by graphviz version 8.0.5 (20230430.1635)\n",
              " -->\n",
              "<!-- Pages: 1 -->\n",
              "<svg width=\"238pt\" height=\"864pt\"\n",
              " viewBox=\"0.00 0.00 237.61 864.00\" xmlns=\"http://www.w3.org/2000/svg\" xmlns:xlink=\"http://www.w3.org/1999/xlink\">\n",
              "<g id=\"graph0\" class=\"graph\" transform=\"scale(0.973795 0.973795) rotate(0) translate(4 883.25)\">\n",
              "<polygon fill=\"white\" stroke=\"none\" points=\"-4,4 -4,-883.25 240,-883.25 240,4 -4,4\"/>\n",
              "<!-- 5196662432 -->\n",
              "<g id=\"node1\" class=\"node\">\n",
              "<title>5196662432</title>\n",
              "<polygon fill=\"#caff70\" stroke=\"black\" points=\"144,-36.5 90,-36.5 90,0 144,0 144,-36.5\"/>\n",
              "<text text-anchor=\"middle\" x=\"117\" y=\"-21.1\" font-family=\"Times,serif\" font-size=\"12.00\">Add</text>\n",
              "<text text-anchor=\"middle\" x=\"117\" y=\"-6.85\" font-family=\"Times,serif\" font-size=\"12.00\">L</text>\n",
              "</g>\n",
              "<!-- 5196666224 -->\n",
              "<g id=\"node2\" class=\"node\">\n",
              "<title>5196666224</title>\n",
              "<polygon fill=\"lightgrey\" stroke=\"black\" points=\"109,-218.38 55,-218.38 55,-196.12 109,-196.12 109,-218.38\"/>\n",
              "<text text-anchor=\"middle\" x=\"82\" y=\"-202.97\" font-family=\"Times,serif\" font-size=\"12.00\">Add</text>\n",
              "</g>\n",
              "<!-- 5196666224&#45;&gt;5196662432 -->\n",
              "<g id=\"edge1\" class=\"edge\">\n",
              "<title>5196666224&#45;&gt;5196662432</title>\n",
              "<path fill=\"none\" stroke=\"black\" d=\"M83.98,-195.66C89.27,-167.42 103.83,-89.6 111.73,-47.38\"/>\n",
              "<polygon fill=\"black\" stroke=\"black\" points=\"115.33,-48.2 113.73,-37.73 108.45,-46.92 115.33,-48.2\"/>\n",
              "</g>\n",
              "<!-- 5196671744 -->\n",
              "<g id=\"node3\" class=\"node\">\n",
              "<title>5196671744</title>\n",
              "<polygon fill=\"lightgrey\" stroke=\"black\" points=\"54,-494.12 0,-494.12 0,-471.88 54,-471.88 54,-494.12\"/>\n",
              "<text text-anchor=\"middle\" x=\"27\" y=\"-478.73\" font-family=\"Times,serif\" font-size=\"12.00\">Pow</text>\n",
              "</g>\n",
              "<!-- 5196671744&#45;&gt;5196666224 -->\n",
              "<g id=\"edge2\" class=\"edge\">\n",
              "<title>5196671744&#45;&gt;5196666224</title>\n",
              "<path fill=\"none\" stroke=\"black\" d=\"M26.08,-471.5C23.63,-439.11 18.82,-338.29 46,-261.5 50.4,-249.06 58.42,-236.76 65.77,-227.11\"/>\n",
              "<polygon fill=\"black\" stroke=\"black\" points=\"68.94,-229.75 72.47,-219.77 63.48,-225.37 68.94,-229.75\"/>\n",
              "</g>\n",
              "<!-- 5196673712 -->\n",
              "<g id=\"node4\" class=\"node\">\n",
              "<title>5196673712</title>\n",
              "<polygon fill=\"lightgrey\" stroke=\"black\" points=\"54,-559.5 0,-559.5 0,-537.25 54,-537.25 54,-559.5\"/>\n",
              "<text text-anchor=\"middle\" x=\"27\" y=\"-544.1\" font-family=\"Times,serif\" font-size=\"12.00\">Sub</text>\n",
              "</g>\n",
              "<!-- 5196673712&#45;&gt;5196671744 -->\n",
              "<g id=\"edge3\" class=\"edge\">\n",
              "<title>5196673712&#45;&gt;5196671744</title>\n",
              "<path fill=\"none\" stroke=\"black\" d=\"M27,-536.91C27,-528.33 27,-515.9 27,-505.25\"/>\n",
              "<polygon fill=\"black\" stroke=\"black\" points=\"30.5,-505.27 27,-495.27 23.5,-505.27 30.5,-505.27\"/>\n",
              "</g>\n",
              "<!-- 5196666704 -->\n",
              "<g id=\"node5\" class=\"node\">\n",
              "<title>5196666704</title>\n",
              "<polygon fill=\"lightblue\" stroke=\"black\" points=\"54,-632 0,-632 0,-595.5 54,-595.5 54,-632\"/>\n",
              "<text text-anchor=\"middle\" x=\"27\" y=\"-616.6\" font-family=\"Times,serif\" font-size=\"12.00\">Mul</text>\n",
              "<text text-anchor=\"middle\" x=\"27\" y=\"-602.35\" font-family=\"Times,serif\" font-size=\"12.00\">o1</text>\n",
              "</g>\n",
              "<!-- 5196666704&#45;&gt;5196673712 -->\n",
              "<g id=\"edge4\" class=\"edge\">\n",
              "<title>5196666704&#45;&gt;5196673712</title>\n",
              "<path fill=\"none\" stroke=\"black\" d=\"M27,-595.1C27,-587.61 27,-578.8 27,-570.93\"/>\n",
              "<polygon fill=\"black\" stroke=\"black\" points=\"30.5,-570.99 27,-560.99 23.5,-570.99 30.5,-570.99\"/>\n",
              "</g>\n",
              "<!-- 5196674192 -->\n",
              "<g id=\"node6\" class=\"node\">\n",
              "<title>5196674192</title>\n",
              "<polygon fill=\"lightblue\" stroke=\"black\" points=\"109,-704.5 55,-704.5 55,-668 109,-668 109,-704.5\"/>\n",
              "<text text-anchor=\"middle\" x=\"82\" y=\"-689.1\" font-family=\"Times,serif\" font-size=\"12.00\">Clamp1</text>\n",
              "<text text-anchor=\"middle\" x=\"82\" y=\"-674.85\" font-family=\"Times,serif\" font-size=\"12.00\">h1</text>\n",
              "</g>\n",
              "<!-- 5196674192&#45;&gt;5196666704 -->\n",
              "<g id=\"edge5\" class=\"edge\">\n",
              "<title>5196674192&#45;&gt;5196666704</title>\n",
              "<path fill=\"none\" stroke=\"black\" d=\"M68.4,-667.82C62.11,-659.75 54.49,-649.98 47.51,-641.04\"/>\n",
              "<polygon fill=\"black\" stroke=\"black\" points=\"49.73,-639.2 40.82,-633.47 44.21,-643.5 49.73,-639.2\"/>\n",
              "</g>\n",
              "<!-- 5196675152 -->\n",
              "<g id=\"node16\" class=\"node\">\n",
              "<title>5196675152</title>\n",
              "<polygon fill=\"lightgrey\" stroke=\"black\" points=\"126,-624.88 72,-624.88 72,-602.62 126,-602.62 126,-624.88\"/>\n",
              "<text text-anchor=\"middle\" x=\"99\" y=\"-609.48\" font-family=\"Times,serif\" font-size=\"12.00\">Mul</text>\n",
              "</g>\n",
              "<!-- 5196674192&#45;&gt;5196675152 -->\n",
              "<g id=\"edge17\" class=\"edge\">\n",
              "<title>5196674192&#45;&gt;5196675152</title>\n",
              "<path fill=\"none\" stroke=\"black\" d=\"M86.2,-667.82C88.55,-658.11 91.48,-645.94 93.95,-635.7\"/>\n",
              "<polygon fill=\"black\" stroke=\"black\" points=\"97.54,-636.75 96.48,-626.2 90.73,-635.11 97.54,-636.75\"/>\n",
              "</g>\n",
              "<!-- 5196663872 -->\n",
              "<g id=\"node7\" class=\"node\">\n",
              "<title>5196663872</title>\n",
              "<polygon fill=\"lightgrey\" stroke=\"black\" points=\"114,-762.75 60,-762.75 60,-740.5 114,-740.5 114,-762.75\"/>\n",
              "<text text-anchor=\"middle\" x=\"87\" y=\"-747.35\" font-family=\"Times,serif\" font-size=\"12.00\">Add</text>\n",
              "</g>\n",
              "<!-- 5196663872&#45;&gt;5196674192 -->\n",
              "<g id=\"edge6\" class=\"edge\">\n",
              "<title>5196663872&#45;&gt;5196674192</title>\n",
              "<path fill=\"none\" stroke=\"black\" d=\"M86.17,-740.16C85.64,-733.44 84.93,-724.35 84.24,-715.61\"/>\n",
              "<polygon fill=\"black\" stroke=\"black\" points=\"87.67,-715.62 83.39,-705.92 80.69,-716.17 87.67,-715.62\"/>\n",
              "</g>\n",
              "<!-- 5196672800 -->\n",
              "<g id=\"node8\" class=\"node\">\n",
              "<title>5196672800</title>\n",
              "<polygon fill=\"lightgrey\" stroke=\"black\" points=\"122,-821 68,-821 68,-798.75 122,-798.75 122,-821\"/>\n",
              "<text text-anchor=\"middle\" x=\"95\" y=\"-805.6\" font-family=\"Times,serif\" font-size=\"12.00\">Mul</text>\n",
              "</g>\n",
              "<!-- 5196672800&#45;&gt;5196663872 -->\n",
              "<g id=\"edge7\" class=\"edge\">\n",
              "<title>5196672800&#45;&gt;5196663872</title>\n",
              "<path fill=\"none\" stroke=\"black\" d=\"M93.5,-798.29C92.52,-791.46 91.22,-782.32 90.04,-774.02\"/>\n",
              "<polygon fill=\"black\" stroke=\"black\" points=\"93.37,-773.57 88.5,-764.16 86.44,-774.55 93.37,-773.57\"/>\n",
              "</g>\n",
              "<!-- 5196664112 -->\n",
              "<g id=\"node9\" class=\"node\">\n",
              "<title>5196664112</title>\n",
              "<polygon fill=\"lightblue\" stroke=\"black\" points=\"181,-879.25 127,-879.25 127,-857 181,-857 181,-879.25\"/>\n",
              "<text text-anchor=\"middle\" x=\"154\" y=\"-863.85\" font-family=\"Times,serif\" font-size=\"12.00\">U</text>\n",
              "</g>\n",
              "<!-- 5196664112&#45;&gt;5196672800 -->\n",
              "<g id=\"edge8\" class=\"edge\">\n",
              "<title>5196664112&#45;&gt;5196672800</title>\n",
              "<path fill=\"none\" stroke=\"black\" d=\"M142.9,-856.54C134.74,-848.77 123.46,-838.01 113.89,-828.89\"/>\n",
              "<polygon fill=\"black\" stroke=\"black\" points=\"116.7,-826.77 107.05,-822.41 111.87,-831.84 116.7,-826.77\"/>\n",
              "</g>\n",
              "<!-- 5196670592 -->\n",
              "<g id=\"node15\" class=\"node\">\n",
              "<title>5196670592</title>\n",
              "<polygon fill=\"lightgrey\" stroke=\"black\" points=\"181,-697.38 127,-697.38 127,-675.12 181,-675.12 181,-697.38\"/>\n",
              "<text text-anchor=\"middle\" x=\"154\" y=\"-681.98\" font-family=\"Times,serif\" font-size=\"12.00\">Mul</text>\n",
              "</g>\n",
              "<!-- 5196664112&#45;&gt;5196670592 -->\n",
              "<g id=\"edge15\" class=\"edge\">\n",
              "<title>5196664112&#45;&gt;5196670592</title>\n",
              "<path fill=\"none\" stroke=\"black\" d=\"M154,-856.68C154,-827.93 154,-747.22 154,-708.5\"/>\n",
              "<polygon fill=\"black\" stroke=\"black\" points=\"157.5,-708.73 154,-698.73 150.5,-708.73 157.5,-708.73\"/>\n",
              "</g>\n",
              "<!-- 5196664832 -->\n",
              "<g id=\"node22\" class=\"node\">\n",
              "<title>5196664832</title>\n",
              "<polygon fill=\"lightgrey\" stroke=\"black\" points=\"236,-762.75 182,-762.75 182,-740.5 236,-740.5 236,-762.75\"/>\n",
              "<text text-anchor=\"middle\" x=\"209\" y=\"-747.35\" font-family=\"Times,serif\" font-size=\"12.00\">Mul</text>\n",
              "</g>\n",
              "<!-- 5196664112&#45;&gt;5196664832 -->\n",
              "<g id=\"edge24\" class=\"edge\">\n",
              "<title>5196664112&#45;&gt;5196664832</title>\n",
              "<path fill=\"none\" stroke=\"black\" d=\"M159.08,-856.56C168.2,-837.56 187.53,-797.33 199.28,-772.87\"/>\n",
              "<polygon fill=\"black\" stroke=\"black\" points=\"202.76,-774.7 203.94,-764.17 196.45,-771.66 202.76,-774.7\"/>\n",
              "</g>\n",
              "<!-- 5196672032 -->\n",
              "<g id=\"node10\" class=\"node\">\n",
              "<title>5196672032</title>\n",
              "<polygon fill=\"lightgrey\" stroke=\"black\" points=\"109,-290.88 55,-290.88 55,-268.62 109,-268.62 109,-290.88\"/>\n",
              "<text text-anchor=\"middle\" x=\"82\" y=\"-275.48\" font-family=\"Times,serif\" font-size=\"12.00\">Pow</text>\n",
              "</g>\n",
              "<!-- 5196672032&#45;&gt;5196666224 -->\n",
              "<g id=\"edge9\" class=\"edge\">\n",
              "<title>5196672032&#45;&gt;5196666224</title>\n",
              "<path fill=\"none\" stroke=\"black\" d=\"M82,-268.35C82,-258.14 82,-242.28 82,-229.42\"/>\n",
              "<polygon fill=\"black\" stroke=\"black\" points=\"85.5,-229.7 82,-219.7 78.5,-229.7 85.5,-229.7\"/>\n",
              "</g>\n",
              "<!-- 5196666320 -->\n",
              "<g id=\"node11\" class=\"node\">\n",
              "<title>5196666320</title>\n",
              "<polygon fill=\"lightgrey\" stroke=\"black\" points=\"109,-356.25 55,-356.25 55,-334 109,-334 109,-356.25\"/>\n",
              "<text text-anchor=\"middle\" x=\"82\" y=\"-340.85\" font-family=\"Times,serif\" font-size=\"12.00\">Sub</text>\n",
              "</g>\n",
              "<!-- 5196666320&#45;&gt;5196672032 -->\n",
              "<g id=\"edge10\" class=\"edge\">\n",
              "<title>5196666320&#45;&gt;5196672032</title>\n",
              "<path fill=\"none\" stroke=\"black\" d=\"M82,-333.66C82,-325.08 82,-312.65 82,-302\"/>\n",
              "<polygon fill=\"black\" stroke=\"black\" points=\"85.5,-302.02 82,-292.02 78.5,-302.02 85.5,-302.02\"/>\n",
              "</g>\n",
              "<!-- 5196667616 -->\n",
              "<g id=\"node12\" class=\"node\">\n",
              "<title>5196667616</title>\n",
              "<polygon fill=\"lightblue\" stroke=\"black\" points=\"109,-428.75 55,-428.75 55,-392.25 109,-392.25 109,-428.75\"/>\n",
              "<text text-anchor=\"middle\" x=\"82\" y=\"-413.35\" font-family=\"Times,serif\" font-size=\"12.00\">Mul</text>\n",
              "<text text-anchor=\"middle\" x=\"82\" y=\"-399.1\" font-family=\"Times,serif\" font-size=\"12.00\">o2</text>\n",
              "</g>\n",
              "<!-- 5196667616&#45;&gt;5196666320 -->\n",
              "<g id=\"edge11\" class=\"edge\">\n",
              "<title>5196667616&#45;&gt;5196666320</title>\n",
              "<path fill=\"none\" stroke=\"black\" d=\"M82,-391.85C82,-384.36 82,-375.55 82,-367.68\"/>\n",
              "<polygon fill=\"black\" stroke=\"black\" points=\"85.5,-367.74 82,-357.74 78.5,-367.74 85.5,-367.74\"/>\n",
              "</g>\n",
              "<!-- 5196664544 -->\n",
              "<g id=\"node13\" class=\"node\">\n",
              "<title>5196664544</title>\n",
              "<polygon fill=\"lightblue\" stroke=\"black\" points=\"154,-501.25 100,-501.25 100,-464.75 154,-464.75 154,-501.25\"/>\n",
              "<text text-anchor=\"middle\" x=\"127\" y=\"-485.85\" font-family=\"Times,serif\" font-size=\"12.00\">Clamp1</text>\n",
              "<text text-anchor=\"middle\" x=\"127\" y=\"-471.6\" font-family=\"Times,serif\" font-size=\"12.00\">h2</text>\n",
              "</g>\n",
              "<!-- 5196664544&#45;&gt;5196667616 -->\n",
              "<g id=\"edge12\" class=\"edge\">\n",
              "<title>5196664544&#45;&gt;5196667616</title>\n",
              "<path fill=\"none\" stroke=\"black\" d=\"M115.88,-464.57C110.83,-456.67 104.75,-447.14 99.14,-438.35\"/>\n",
              "<polygon fill=\"black\" stroke=\"black\" points=\"101.64,-436.76 93.31,-430.22 95.74,-440.53 101.64,-436.76\"/>\n",
              "</g>\n",
              "<!-- 5196662912 -->\n",
              "<g id=\"node23\" class=\"node\">\n",
              "<title>5196662912</title>\n",
              "<polygon fill=\"lightgrey\" stroke=\"black\" points=\"181,-421.62 127,-421.62 127,-399.38 181,-399.38 181,-421.62\"/>\n",
              "<text text-anchor=\"middle\" x=\"154\" y=\"-406.23\" font-family=\"Times,serif\" font-size=\"12.00\">Mul</text>\n",
              "</g>\n",
              "<!-- 5196664544&#45;&gt;5196662912 -->\n",
              "<g id=\"edge26\" class=\"edge\">\n",
              "<title>5196664544&#45;&gt;5196662912</title>\n",
              "<path fill=\"none\" stroke=\"black\" d=\"M133.67,-464.57C137.44,-454.75 142.16,-442.42 146.1,-432.12\"/>\n",
              "<polygon fill=\"black\" stroke=\"black\" points=\"149.69,-433.55 150,-422.95 143.15,-431.04 149.69,-433.55\"/>\n",
              "</g>\n",
              "<!-- 5196665792 -->\n",
              "<g id=\"node14\" class=\"node\">\n",
              "<title>5196665792</title>\n",
              "<polygon fill=\"lightgrey\" stroke=\"black\" points=\"154,-559.5 100,-559.5 100,-537.25 154,-537.25 154,-559.5\"/>\n",
              "<text text-anchor=\"middle\" x=\"127\" y=\"-544.1\" font-family=\"Times,serif\" font-size=\"12.00\">Add</text>\n",
              "</g>\n",
              "<!-- 5196665792&#45;&gt;5196664544 -->\n",
              "<g id=\"edge13\" class=\"edge\">\n",
              "<title>5196665792&#45;&gt;5196664544</title>\n",
              "<path fill=\"none\" stroke=\"black\" d=\"M127,-536.91C127,-530.26 127,-521.3 127,-512.65\"/>\n",
              "<polygon fill=\"black\" stroke=\"black\" points=\"130.5,-512.67 127,-502.67 123.5,-512.67 130.5,-512.67\"/>\n",
              "</g>\n",
              "<!-- 5196670592&#45;&gt;5196665792 -->\n",
              "<g id=\"edge14\" class=\"edge\">\n",
              "<title>5196670592&#45;&gt;5196665792</title>\n",
              "<path fill=\"none\" stroke=\"black\" d=\"M151.97,-675.04C147.55,-652.81 136.99,-599.66 131.12,-570.1\"/>\n",
              "<polygon fill=\"black\" stroke=\"black\" points=\"134.43,-569.83 129.05,-560.71 127.57,-571.2 134.43,-569.83\"/>\n",
              "</g>\n",
              "<!-- 5196675152&#45;&gt;5196665792 -->\n",
              "<g id=\"edge16\" class=\"edge\">\n",
              "<title>5196675152&#45;&gt;5196665792</title>\n",
              "<path fill=\"none\" stroke=\"black\" d=\"M103.62,-602.28C107.54,-593.43 113.26,-580.47 118.07,-569.6\"/>\n",
              "<polygon fill=\"black\" stroke=\"black\" points=\"121.62,-571.21 122.46,-560.65 115.22,-568.38 121.62,-571.21\"/>\n",
              "</g>\n",
              "<!-- 5196668384 -->\n",
              "<g id=\"node17\" class=\"node\">\n",
              "<title>5196668384</title>\n",
              "<polygon fill=\"lightgrey\" stroke=\"black\" points=\"176,-94.75 122,-94.75 122,-72.5 176,-72.5 176,-94.75\"/>\n",
              "<text text-anchor=\"middle\" x=\"149\" y=\"-79.35\" font-family=\"Times,serif\" font-size=\"12.00\">Pow</text>\n",
              "</g>\n",
              "<!-- 5196668384&#45;&gt;5196662432 -->\n",
              "<g id=\"edge18\" class=\"edge\">\n",
              "<title>5196668384&#45;&gt;5196662432</title>\n",
              "<path fill=\"none\" stroke=\"black\" d=\"M143.72,-72.16C140.21,-65.21 135.43,-55.74 130.88,-46.74\"/>\n",
              "<polygon fill=\"black\" stroke=\"black\" points=\"133.56,-45.27 125.92,-37.92 127.31,-48.43 133.56,-45.27\"/>\n",
              "</g>\n",
              "<!-- 5196673616 -->\n",
              "<g id=\"node18\" class=\"node\">\n",
              "<title>5196673616</title>\n",
              "<polygon fill=\"lightgrey\" stroke=\"black\" points=\"178,-153 124,-153 124,-130.75 178,-130.75 178,-153\"/>\n",
              "<text text-anchor=\"middle\" x=\"151\" y=\"-137.6\" font-family=\"Times,serif\" font-size=\"12.00\">Sub</text>\n",
              "</g>\n",
              "<!-- 5196673616&#45;&gt;5196668384 -->\n",
              "<g id=\"edge19\" class=\"edge\">\n",
              "<title>5196673616&#45;&gt;5196668384</title>\n",
              "<path fill=\"none\" stroke=\"black\" d=\"M150.62,-130.29C150.38,-123.46 150.06,-114.32 149.76,-106.02\"/>\n",
              "<polygon fill=\"black\" stroke=\"black\" points=\"153.23,-106.03 149.37,-96.16 146.23,-106.28 153.23,-106.03\"/>\n",
              "</g>\n",
              "<!-- 5196663488 -->\n",
              "<g id=\"node19\" class=\"node\">\n",
              "<title>5196663488</title>\n",
              "<polygon fill=\"lightblue\" stroke=\"black\" points=\"181,-225.5 127,-225.5 127,-189 181,-189 181,-225.5\"/>\n",
              "<text text-anchor=\"middle\" x=\"154\" y=\"-210.1\" font-family=\"Times,serif\" font-size=\"12.00\">Mul</text>\n",
              "<text text-anchor=\"middle\" x=\"154\" y=\"-195.85\" font-family=\"Times,serif\" font-size=\"12.00\">o3</text>\n",
              "</g>\n",
              "<!-- 5196663488&#45;&gt;5196673616 -->\n",
              "<g id=\"edge20\" class=\"edge\">\n",
              "<title>5196663488&#45;&gt;5196673616</title>\n",
              "<path fill=\"none\" stroke=\"black\" d=\"M153.16,-188.6C152.81,-181.11 152.39,-172.3 152.02,-164.43\"/>\n",
              "<polygon fill=\"black\" stroke=\"black\" points=\"155.47,-164.32 151.5,-154.49 148.48,-164.65 155.47,-164.32\"/>\n",
              "</g>\n",
              "<!-- 5196668768 -->\n",
              "<g id=\"node20\" class=\"node\">\n",
              "<title>5196668768</title>\n",
              "<polygon fill=\"lightblue\" stroke=\"black\" points=\"181,-298 127,-298 127,-261.5 181,-261.5 181,-298\"/>\n",
              "<text text-anchor=\"middle\" x=\"154\" y=\"-282.6\" font-family=\"Times,serif\" font-size=\"12.00\">Clamp1</text>\n",
              "<text text-anchor=\"middle\" x=\"154\" y=\"-268.35\" font-family=\"Times,serif\" font-size=\"12.00\">h3</text>\n",
              "</g>\n",
              "<!-- 5196668768&#45;&gt;5196663488 -->\n",
              "<g id=\"edge21\" class=\"edge\">\n",
              "<title>5196668768&#45;&gt;5196663488</title>\n",
              "<path fill=\"none\" stroke=\"black\" d=\"M154,-261.32C154,-253.92 154,-245.1 154,-236.79\"/>\n",
              "<polygon fill=\"black\" stroke=\"black\" points=\"157.5,-236.97 154,-226.97 150.5,-236.97 157.5,-236.97\"/>\n",
              "</g>\n",
              "<!-- 5196664160 -->\n",
              "<g id=\"node21\" class=\"node\">\n",
              "<title>5196664160</title>\n",
              "<polygon fill=\"lightgrey\" stroke=\"black\" points=\"181,-356.25 127,-356.25 127,-334 181,-334 181,-356.25\"/>\n",
              "<text text-anchor=\"middle\" x=\"154\" y=\"-340.85\" font-family=\"Times,serif\" font-size=\"12.00\">Add</text>\n",
              "</g>\n",
              "<!-- 5196664160&#45;&gt;5196668768 -->\n",
              "<g id=\"edge22\" class=\"edge\">\n",
              "<title>5196664160&#45;&gt;5196668768</title>\n",
              "<path fill=\"none\" stroke=\"black\" d=\"M154,-333.66C154,-327.01 154,-318.05 154,-309.4\"/>\n",
              "<polygon fill=\"black\" stroke=\"black\" points=\"157.5,-309.42 154,-299.42 150.5,-309.42 157.5,-309.42\"/>\n",
              "</g>\n",
              "<!-- 5196664832&#45;&gt;5196664160 -->\n",
              "<g id=\"edge23\" class=\"edge\">\n",
              "<title>5196664832&#45;&gt;5196664160</title>\n",
              "<path fill=\"none\" stroke=\"black\" d=\"M209,-740.05C209,-717.2 209,-661.46 209,-614.75 209,-614.75 209,-614.75 209,-482 209,-441.23 207.21,-429.21 190,-392.25 185.39,-382.35 178.3,-372.63 171.63,-364.68\"/>\n",
              "<polygon fill=\"black\" stroke=\"black\" points=\"174.68,-362.71 165.43,-357.55 169.44,-367.36 174.68,-362.71\"/>\n",
              "</g>\n",
              "<!-- 5196662912&#45;&gt;5196664160 -->\n",
              "<g id=\"edge25\" class=\"edge\">\n",
              "<title>5196662912&#45;&gt;5196664160</title>\n",
              "<path fill=\"none\" stroke=\"black\" d=\"M154,-399.03C154,-390.45 154,-378.03 154,-367.37\"/>\n",
              "<polygon fill=\"black\" stroke=\"black\" points=\"157.5,-367.4 154,-357.4 150.5,-367.4 157.5,-367.4\"/>\n",
              "</g>\n",
              "</g>\n",
              "</svg>\n"
            ],
            "text/plain": [
              "<graphviz.graphs.Digraph at 0x135befeb0>"
            ]
          },
          "execution_count": 39,
          "metadata": {},
          "output_type": "execute_result"
        }
      ],
      "source": [
        "# RNN parameters\n",
        "U_ = torch.Tensor([0.1])\n",
        "V_ = torch.Tensor([0.2])\n",
        "W_ = torch.Tensor([0.3])\n",
        "\n",
        "# inputs\n",
        "x1_ = torch.Tensor([0.5])\n",
        "x2_ = torch.Tensor([0.6])\n",
        "x3_ = torch.Tensor([0.7])\n",
        "x4_ = torch.Tensor([0.8])\n",
        "\n",
        "# initial value for the hidden state, a zero vector\n",
        "h0_ = torch.Tensor([0])\n",
        "\n",
        "# Set which nodes to visualize later\n",
        "visualized_nodes = [U_, ]\n",
        "for p in visualized_nodes:\n",
        "    p.requires_grad = True\n",
        "\n",
        "# Calculate h1, o1\n",
        "h1_ = torch.clamp(U_ * x1_ + V_ * h0_, min=0)\n",
        "h2_ = torch.clamp(U_ * x2_ + V_ * h1_, min=0)\n",
        "h3_ = torch.clamp(U_ * x3_ + V_ * h2_, min=0)\n",
        "o3_ = W_ * h3_\n",
        "o2_ = W_ * h2_\n",
        "o1_ = W_ * h1_\n",
        "\n",
        "L_ = (o1_ - x2_)**2 + (o2_ - x3_)**2 + (o3_ - x4_)**2\n",
        "\n",
        "params = {k: eval(k+'_') for k in ['L', 'U', 'h1', 'o1', 'h2', 'o2', 'h3', 'o3']}\n",
        "\n",
        "dot = make_dot(L_, params=params)\n",
        "# Save Graph to `computation_graph_3.pdf`\n",
        "dot.render(data_dir + 'computation_graph_3')\n",
        "dot"
      ]
    },
    {
      "attachments": {},
      "cell_type": "markdown",
      "id": "a5444d80",
      "metadata": {
        "deletable": false,
        "editable": false,
        "id": "a5444d80"
      },
      "source": [
        "<!-- BEGIN QUESTION -->\n",
        "\n",
        "**Question:** This time, find the formula for $\\frac{\\partial L(\\vect{U}, \\vect{V}, \\vect{W}, x_1, x_2, x_3, x_4, h_0)}{\\partial \\vect{U}}$ in terms of $\\frac{\\partial L(o_1,o_2,o_3,x_2,x_3,x_{4})}{\\partial o_t}$, $\\frac{\\partial o_t(\\vect{W}, h_t)}{\\partial h_t}$, $\\frac{\\partial h_t(\\vect{U}, \\vect{V}, h_{t-1}, x_t)}{\\partial h_{t-1}}$, and $\\frac{\\partial h_t(\\vect{U}, \\vect{V}, h_{t-1}, x_t)}{\\partial \\vect{U}}$ for $t \\in \\{1, 2, 3\\}$.\n",
        "\n",
        "> You should start to see a pattern emerging from this solution.\n",
        "\n",
        "<!--\n",
        "BEGIN QUESTION\n",
        "name: open_response_backprop3\n",
        "manual: true\n",
        "-->"
      ]
    },
    {
      "attachments": {},
      "cell_type": "markdown",
      "id": "0a4dbc29",
      "metadata": {
        "id": "0a4dbc29"
      },
      "source": [
        "**deep breath**\n",
        "\n",
        "Using the chain rule we \"simply\" get:\n",
        "\n",
        "$\\frac{\\partial L}{\\partial U}= \\frac{\\partial L}{\\partial o_1}\\cdot \\frac{\\partial o_1}{\\partial h_1}\\cdot \\frac{\\partial h_1}{\\partial U}+\\frac{\\partial L}{\\partial o_2}\\cdot \\frac{\\partial o_2}{\\partial h_2}\\cdot \\left(\\frac{\\partial h_2}{\\partial U}+\\frac{\\partial h_2}{\\partial h_1}\\cdot\\frac{\\partial h_1}{\\partial U}\\right)+\\frac{\\partial L}{\\partial o_3} \\cdot\\frac{\\partial o_3}{\\partial h_3}\\cdot\\left(\\frac{\\partial h_3}{\\partial U} + \\frac{\\partial h_3}{\\partial h_2}\\cdot\\left(\\frac{\\partial h_2}{\\partial U}+\\frac{\\partial h_2}{\\partial h_1} \\cdot \\frac{\\partial h_1}{\\partial U}\\right)\\right)$"
      ]
    },
    {
      "attachments": {},
      "cell_type": "markdown",
      "id": "aa080120",
      "metadata": {
        "deletable": false,
        "editable": false,
        "id": "aa080120"
      },
      "source": [
        "<!-- END QUESTION -->\n",
        "\n",
        "<!-- BEGIN QUESTION -->\n",
        "\n",
        "## Looking back\n",
        "\n",
        "In the last few problems your answers were in terms of partial derivatives that we gave you. In this exercise you will calculate part of a partial derivative.\n",
        "\n",
        "**Question:** Referring back to the first problem in this lab, recall that \n",
        "\n",
        "$$ \\vect{U} = \\begin{bmatrix} -0.3 & 0.6 \\\\ 0.2 & 0.1 \\end{bmatrix}, \\vect{V} = \\begin{bmatrix} 0.4 & 0.4 \\\\ 0.9 & -0.7 \\end{bmatrix}, x_1 = \\begin{bmatrix} 0 \\\\ 1 \\end{bmatrix},   h_0 = \\begin{bmatrix} 0 \\\\ 0 \\end{bmatrix}$$\n",
        "               \n",
        "Find the partial derivative $\\frac{\\partial h_{1}}{\\partial U_{1,1}}$, where $U_{1,1}$ is the element in the first row and first column of the matrix $\\vect{U}$.\n",
        "\n",
        "> **Hint:** We didn't tell you what the function $\\sigma$ is. Turns out you will not need it! If you set it up right, you will see that you will not have to do much math at all.\n",
        "\n",
        "<!--\n",
        "BEGIN QUESTION\n",
        "name: open_response_looking_back\n",
        "manual: true\n",
        "-->"
      ]
    },
    {
      "attachments": {},
      "cell_type": "markdown",
      "id": "36e81fea",
      "metadata": {
        "id": "36e81fea"
      },
      "source": [
        "$h_1=\\sigma(Ux_1+Vh_0)=\\sigma(U[0,1]^T+V[0,0]^T)=\\sigma(U_2)$\n",
        "\n",
        "When $U_2$ is the second column in $U$.\n",
        "\n",
        "Hence, $h_1$ is independent of $U_{1,1}$ and therefore\n",
        "$$\\frac{\\partial h_{1}}{\\partial U_{1,1}}=0$$\n",
        "(Any change in the value of $U_{1,1}$ will not change the value of $h_1$)"
      ]
    },
    {
      "attachments": {},
      "cell_type": "markdown",
      "id": "d04c9954",
      "metadata": {
        "deletable": false,
        "editable": false,
        "id": "d04c9954"
      },
      "source": [
        "<!-- END QUESTION -->\n",
        "\n",
        "Now, let's verify your solution above using PyTorch, which can calculate gradients automatically. We show an example below of how to calculate gradients. Adapt it to find the gradients of $\\frac{\\partial h_{1,1}}{\\partial \\vect{U}}$ (where $h_{1,1}$ denotes the first element of vector $h_1$, and here we are taking the derivative with respect to the entire matrix $\\vect{U}$). Use ReLU as $\\sigma$.\n",
        "\n",
        "\n",
        "<!--\n",
        "BEGIN QUESTION\n",
        "name: automatic_diff\n",
        "-->"
      ]
    },
    {
      "cell_type": "code",
      "execution_count": 40,
      "id": "bd321e6e",
      "metadata": {
        "colab": {
          "base_uri": "https://localhost:8080/"
        },
        "id": "bd321e6e",
        "outputId": "405ed313-526e-47fd-de17-414572f70283"
      },
      "outputs": [
        {
          "name": "stdout",
          "output_type": "stream",
          "text": [
            "Gradient of W: tensor([[0., 1.],\n",
            "        [0., 0.]])\n"
          ]
        }
      ],
      "source": [
        "# TODO: modify the code below to find the gradients of \n",
        "# $\\frac{\\partial h_{1,1}}{\\partial \\vect{U}}$\n",
        "\n",
        "# RNN parameters\n",
        "U_ = torch.Tensor([ [-0.3,  0.6],\n",
        "               [ 0.2,  0.1] ])\n",
        "V_ = torch.Tensor([ [ 0.4,  0.4],\n",
        "               [ 0.9, -0.7] ])\n",
        "U_.requires_grad = True\n",
        "\n",
        "# inputs\n",
        "x1_ = torch.Tensor([0.0, 1.0])\n",
        "\n",
        "# initial value for the hidden state, a zero vector\n",
        "h0_ = torch.Tensor([0, 0])\n",
        "h1_ = torch.clamp(U_@x1_+V_@h0, min=0)\n",
        "h11 = h1_[0]\n",
        "\n",
        "# The magic gradient computation\n",
        "h11.backward()\n",
        "U_grad = U_.grad\n",
        "print (f'Gradient of W: {U_grad}')"
      ]
    },
    {
      "cell_type": "code",
      "execution_count": 41,
      "id": "87b78c7c",
      "metadata": {
        "colab": {
          "base_uri": "https://localhost:8080/",
          "height": 46
        },
        "deletable": false,
        "editable": false,
        "id": "87b78c7c",
        "outputId": "2ecf6683-8f6a-4dae-f3bf-90b24c5540e0"
      },
      "outputs": [
        {
          "data": {
            "text/html": [
              "\n",
              "    \n",
              "    \n",
              "        <p>All tests passed!</p>\n",
              "    \n",
              "    "
            ],
            "text/plain": [
              "\n",
              "    All tests passed!\n",
              "    "
            ]
          },
          "execution_count": 41,
          "metadata": {},
          "output_type": "execute_result"
        }
      ],
      "source": [
        "grader.check(\"automatic_diff\")"
      ]
    },
    {
      "attachments": {},
      "cell_type": "markdown",
      "id": "1f5196a1",
      "metadata": {
        "id": "1f5196a1"
      },
      "source": [
        "Does the computed gradient agree with your calculation of $\\frac{\\partial h_{1}}{\\partial U_{1,1}}$? (Note that here you only calculated $\\frac{\\partial h_{1,1}}{\\partial \\vect{U}}$ through PyTorch, so let's just focus on $\\frac{\\partial h_{1,1}}{\\partial U_{1,1}}$.)"
      ]
    },
    {
      "attachments": {},
      "cell_type": "markdown",
      "id": "cf70bcf4",
      "metadata": {
        "id": "cf70bcf4"
      },
      "source": [
        "By now, hopefully you have got some idea of how PyTorch computes gradients with respect to $\\vect{U}$ by calling a `backward` function on `h11`: the reason is that PyTorch maintains an underlying computation graph, and it can find all ancestors of `h11` (including $\\vect{U}$). The gradient computation process is essentially applying chain rules on this computation graph. (Think of how you would implement it yourself.)"
      ]
    },
    {
      "attachments": {},
      "cell_type": "markdown",
      "id": "aa601847",
      "metadata": {
        "deletable": false,
        "editable": false,
        "id": "aa601847"
      },
      "source": [
        "<!-- BEGIN QUESTION -->\n",
        "\n",
        "## Bonus section: RNN backprop on arbitrary sequences\n",
        "\n",
        "> **This section is more challenging in nature and is therefore a bonus.**\n",
        "\n",
        "The final challenge! Consider an RNN run on an input sequence of arbitrary length $N$. \n",
        "\n",
        "**Question:** Find a general formula for $\\frac{\\partial L(\\vect{U}, \\vect{V}, \\vect{W}, x_1,\\cdots, x_{N+1}, h_0)}{\\partial \\vect{U}}$ in terms of $\\frac{\\partial L(o_1,\\cdots,o_N, x_2, \\cdots, x_{N+1})}{\\partial o_t}$, $\\frac{\\partial o_t(\\vect{W}, h_t)}{\\partial h_t}$, $\\frac{\\partial h_t(\\vect{U}, \\vect{V}, h_{t-1}, x_t)}{\\partial h_{t-1}}$, and $\\frac{\\partial h_t(\\vect{U}, \\vect{V}, h_{t-1}, x_t)}{\\partial \\vect{U}}$ for $t \\in \\{1, \\ldots, N\\}$.\n",
        "\n",
        "> Hint: How many terms are there when $N$ is 1, 2, or 3? How many possible paths are there from $\\vect{U}$ to $L$ in the computation graph?\n",
        "\n",
        "> Hint: Your solution might look a little like\n",
        "$$ \\sum + \\sum\\left(\\sum\\left(\\prod\\right)\\right) $$\n",
        "\n",
        "<!--\n",
        "BEGIN QUESTION\n",
        "name: open_response_backprop4\n",
        "manual: true\n",
        "-->"
      ]
    },
    {
      "attachments": {},
      "cell_type": "markdown",
      "id": "edd5ab61",
      "metadata": {
        "id": "edd5ab61"
      },
      "source": [
        "$$\\frac{\\partial L}{\\partial U}=\\sum_{t=1}^{N} \\left[\\left(\\frac{\\partial L}{\\partial o_t}\\cdot\\frac{\\partial o_t}{\\partial h_t}\\right)\\cdot \\sum_{i=1}^{t} \\left[\\frac{\\partial h_i}{\\partial U}\\cdot \\prod_{j=k+1}^{t} \\frac{\\partial h_i}{\\partial h_{i-1}}\\right]\\right]$$"
      ]
    },
    {
      "attachments": {},
      "cell_type": "markdown",
      "id": "f8ac9cc7",
      "metadata": {
        "deletable": false,
        "editable": false,
        "id": "f8ac9cc7"
      },
      "source": [
        "<!-- END QUESTION -->\n",
        "\n",
        "<!-- BEGIN QUESTION -->\n",
        "\n",
        "# Lab debrief\n",
        "\n",
        "**Question:** We're interested in any thoughts your group has about this lab so that we can improve this lab for later years, and to inform later labs for this year. Please list any issues that arose or comments you have to improve the lab. Useful things to comment on include the following: \n",
        "\n",
        "* Was the lab too long or too short?\n",
        "* Were the readings appropriate for the lab? \n",
        "* Was it clear (at least after you completed the lab) what the points of the exercises were? \n",
        "* Are there additions or changes you think would make the lab better?\n",
        "\n",
        "<!--\n",
        "BEGIN QUESTION\n",
        "name: open_response_debrief\n",
        "manual: true\n",
        "-->"
      ]
    },
    {
      "attachments": {},
      "cell_type": "markdown",
      "id": "ae545613",
      "metadata": {
        "id": "ae545613"
      },
      "source": [
        "_Type your answer here, replacing this text._"
      ]
    },
    {
      "attachments": {},
      "cell_type": "markdown",
      "id": "e9e8975c",
      "metadata": {
        "id": "e9e8975c"
      },
      "source": [
        "<!-- END QUESTION -->\n",
        "\n",
        "\n",
        "\n",
        "# End of lab 2-2"
      ]
    },
    {
      "attachments": {},
      "cell_type": "markdown",
      "id": "3d581a5a",
      "metadata": {
        "deletable": false,
        "editable": false,
        "id": "3d581a5a"
      },
      "source": [
        "---\n",
        "\n",
        "To double-check your work, the cell below will rerun all of the autograder tests."
      ]
    },
    {
      "cell_type": "code",
      "execution_count": 42,
      "id": "3d2efe3e",
      "metadata": {
        "colab": {
          "base_uri": "https://localhost:8080/",
          "height": 210
        },
        "deletable": false,
        "editable": false,
        "id": "3d2efe3e",
        "outputId": "25f5aa36-b587-4d4b-d58e-5c0a151ee668"
      },
      "outputs": [
        {
          "data": {
            "text/html": [
              "<p><strong>automatic_diff:</strong></p>\n",
              "\n",
              "    \n",
              "    \n",
              "        <p>All tests passed!</p>\n",
              "    \n",
              "    \n",
              "\n",
              "<p><strong>bigram:</strong></p>\n",
              "\n",
              "    \n",
              "    \n",
              "        <p>All tests passed!</p>\n",
              "    \n",
              "    \n",
              "\n",
              "<p><strong>forward:</strong></p>\n",
              "\n",
              "    \n",
              "    \n",
              "        <p>All tests passed!</p>\n",
              "    \n",
              "    \n",
              "\n",
              "<p><strong>tiny_bigram_RNN:</strong></p>\n",
              "\n",
              "    \n",
              "    \n",
              "        <p>All tests passed!</p>\n",
              "    \n",
              "    \n",
              "\n"
            ],
            "text/plain": [
              "automatic_diff:\n",
              "\n",
              "    All tests passed!\n",
              "    \n",
              "\n",
              "bigram:\n",
              "\n",
              "    All tests passed!\n",
              "    \n",
              "\n",
              "forward:\n",
              "\n",
              "    All tests passed!\n",
              "    \n",
              "\n",
              "tiny_bigram_RNN:\n",
              "\n",
              "    All tests passed!\n",
              "    \n"
            ]
          },
          "execution_count": 42,
          "metadata": {},
          "output_type": "execute_result"
        }
      ],
      "source": [
        "grader.check_all()"
      ]
    },
    {
      "cell_type": "code",
      "execution_count": null,
      "id": "g0c16JNOsyvo",
      "metadata": {
        "id": "g0c16JNOsyvo"
      },
      "outputs": [],
      "source": []
    }
  ],
  "metadata": {
    "colab": {
      "provenance": []
    },
    "kernelspec": {
      "display_name": "Python 3 (ipykernel)",
      "language": "python",
      "name": "python3"
    },
    "language_info": {
      "codemirror_mode": {
        "name": "ipython",
        "version": 3
      },
      "file_extension": ".py",
      "mimetype": "text/x-python",
      "name": "python",
      "nbconvert_exporter": "python",
      "pygments_lexer": "ipython3",
      "version": "3.10.11"
    },
    "title": "CS236299 Lab 2-2 – Recurrent neural networks"
  },
  "nbformat": 4,
  "nbformat_minor": 5
}
