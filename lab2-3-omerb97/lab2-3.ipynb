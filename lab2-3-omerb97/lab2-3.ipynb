{
  "cells": [
    {
      "cell_type": "code",
      "execution_count": 42,
      "id": "e173bf2d",
      "metadata": {
        "colab": {
          "base_uri": "https://localhost:8080/"
        },
        "deletable": false,
        "editable": false,
        "id": "e173bf2d",
        "jupyter": {
          "outputs_hidden": true,
          "source_hidden": true
        },
        "outputId": "cae77c12-67ed-43b5-fc17-c73746544b22"
      },
      "outputs": [
        {
          "name": "stdout",
          "output_type": "stream",
          "text": [
            "huggingface/tokenizers: The current process just got forked, after parallelism has already been used. Disabling parallelism to avoid deadlocks...\n",
            "To disable this warning, you can either:\n",
            "\t- Avoid using `tokenizers` before the fork if possible\n",
            "\t- Explicitly set the environment variable TOKENIZERS_PARALLELISM=(true | false)\n",
            "\n"
          ]
        },
        {
          "name": "stderr",
          "output_type": "stream",
          "text": [
            "\n",
            "\u001b[1m[\u001b[0m\u001b[34;49mnotice\u001b[0m\u001b[1;39;49m]\u001b[0m\u001b[39;49m A new release of pip is available: \u001b[0m\u001b[31;49m23.0.1\u001b[0m\u001b[39;49m -> \u001b[0m\u001b[32;49m23.1.2\u001b[0m\n",
            "\u001b[1m[\u001b[0m\u001b[34;49mnotice\u001b[0m\u001b[1;39;49m]\u001b[0m\u001b[39;49m To update, run: \u001b[0m\u001b[32;49mpython3.10 -m pip install --upgrade pip\u001b[0m\n"
          ]
        }
      ],
      "source": [
        "# Please do not change this cell because some hidden tests might depend on it.\n",
        "import os\n",
        "\n",
        "# Otter grader does not handle ! commands well, so we define and use our\n",
        "# own function to execute shell commands.\n",
        "def shell(commands, warn=True):\n",
        "    \"\"\"Executes the string `commands` as a sequence of shell commands.\n",
        "     \n",
        "       Prints the result to stdout and returns the exit status. \n",
        "       Provides a printed warning on non-zero exit status unless `warn` \n",
        "       flag is unset.\n",
        "    \"\"\"\n",
        "    file = os.popen(commands)\n",
        "    print (file.read().rstrip('\\n'))\n",
        "    exit_status = file.close()\n",
        "    if warn and exit_status != None:\n",
        "        print(f\"Completed with errors. Exit status: {exit_status}\\n\")\n",
        "    return exit_status\n",
        "\n",
        "shell(\"\"\"\n",
        "ls requirements.txt >/dev/null 2>&1\n",
        "if [ ! $? = 0 ]; then\n",
        " rm -rf .tmp\n",
        " git clone git@github.com:cs236299-2023-spring/lab2-3.git .tmp\n",
        " mv .tmp/tests ./\n",
        " mv .tmp/requirements.txt ./\n",
        " rm -rf .tmp\n",
        "fi\n",
        "pip install -q -r requirements.txt\n",
        "\"\"\")"
      ]
    },
    {
      "cell_type": "code",
      "execution_count": 43,
      "id": "b6654103",
      "metadata": {
        "deletable": false,
        "editable": false,
        "id": "b6654103"
      },
      "outputs": [],
      "source": [
        "# Initialize Otter\n",
        "import otter\n",
        "grader = otter.Notebook()"
      ]
    },
    {
      "attachments": {},
      "cell_type": "markdown",
      "id": "336e8c2d",
      "metadata": {
        "id": "336e8c2d",
        "tags": [
          "remove_for_latex"
        ]
      },
      "source": [
        "# Course 236299\n",
        "## Lab 2-3 – Language modeling with neural networks"
      ]
    },
    {
      "attachments": {},
      "cell_type": "markdown",
      "id": "852d842b",
      "metadata": {
        "id": "852d842b"
      },
      "source": [
        "In lab 2-1, you built and tested $n$-gram language models. Recall that some problems with $n$-gram language models are:\n",
        "\n",
        "1. They are profligate with memory.\n",
        "2. They are sensitive to very limited context.\n",
        "3. They don't generalize well across similar words.\n",
        "\n",
        "As promised, in this lab, you'll explore neural models to address these failings. You will:\n",
        "\n",
        "1. Build and test a neural $n$-gram language model.\n",
        "2. Build and test a neural RNN language model.\n",
        "3. Use language models for classification (*Federalist* author identification)."
      ]
    },
    {
      "attachments": {},
      "cell_type": "markdown",
      "id": "752a3b61",
      "metadata": {
        "id": "752a3b61"
      },
      "source": [
        "# Preparation – Loading packages and data"
      ]
    },
    {
      "cell_type": "raw",
      "id": "d931cbbb",
      "metadata": {
        "id": "d931cbbb",
        "jupyter": {
          "source_hidden": true
        }
      },
      "source": [
        "%%latex\n",
        "\\newcommand{\\vect}[1]{\\mathbf{#1}}\n",
        "\\newcommand{\\cnt}[1]{\\sharp(#1)}\n",
        "\\newcommand{\\argmax}[1]{\\underset{#1}{\\operatorname{argmax}}}\n",
        "\\newcommand{\\softmax}{\\operatorname{softmax}}\n",
        "\\newcommand{\\Prob}{\\Pr}\n",
        "\\newcommand{\\given}{\\,|\\,}"
      ]
    },
    {
      "attachments": {},
      "cell_type": "markdown",
      "id": "14c564d5",
      "metadata": {
        "id": "14c564d5",
        "jupyter": {
          "source_hidden": true
        },
        "tags": [
          "remove_for_latex"
        ]
      },
      "source": [
        "$$\n",
        "\\renewcommand{\\vect}[1]{\\mathbf{#1}}\n",
        "\\renewcommand{\\cnt}[1]{\\sharp(#1)}\n",
        "\\renewcommand{\\argmax}[1]{\\underset{#1}{\\operatorname{argmax}}}\n",
        "\\renewcommand{\\softmax}{\\operatorname{softmax}}\n",
        "\\renewcommand{\\Prob}{\\Pr}\n",
        "\\renewcommand{\\given}{\\,|\\,}\n",
        "$$"
      ]
    },
    {
      "cell_type": "code",
      "execution_count": 44,
      "id": "4a90ded8",
      "metadata": {
        "deletable": false,
        "id": "4a90ded8"
      },
      "outputs": [],
      "source": [
        "import json\n",
        "import math\n",
        "import random\n",
        "import wget\n",
        "\n",
        "import torch\n",
        "\n",
        "from tokenizers import Tokenizer\n",
        "from transformers import PreTrainedTokenizerFast\n",
        "\n",
        "from tqdm.auto import tqdm"
      ]
    },
    {
      "cell_type": "code",
      "execution_count": 45,
      "id": "5a773bea",
      "metadata": {
        "colab": {
          "base_uri": "https://localhost:8080/"
        },
        "id": "5a773bea",
        "outputId": "687e2c5f-400e-456d-e2e9-fed6875bb118"
      },
      "outputs": [
        {
          "name": "stdout",
          "output_type": "stream",
          "text": [
            "cpu\n"
          ]
        }
      ],
      "source": [
        "# Set random seeds\n",
        "SEED = 1234\n",
        "torch.manual_seed(SEED)\n",
        "random.seed(SEED)\n",
        "\n",
        "# GPU check, sets runtime type to \"GPU\" where available\n",
        "device = torch.device(\"cuda\" if torch.cuda.is_available() else \"cpu\")\n",
        "print(device)"
      ]
    },
    {
      "attachments": {},
      "cell_type": "markdown",
      "id": "11807d3e",
      "metadata": {
        "id": "11807d3e"
      },
      "source": [
        "The corpus used throughout this lab is the *Federalist* papers. We've trained and provided neural language models on papers authored by Hamilton and Madison, respectively, which we download here."
      ]
    },
    {
      "cell_type": "code",
      "execution_count": 46,
      "id": "09876dbd",
      "metadata": {
        "id": "09876dbd"
      },
      "outputs": [],
      "source": [
        "# Prepare to download needed data\n",
        "def download_if_needed(source, dest, filename):\n",
        "    os.path.exists(f\"./{dest}{filename}\") or wget.download(source + filename, out=dest)\n",
        "\n",
        "source_path = \"https://raw.githubusercontent.com/nlp-236299/data/master/Federalist/\"\n",
        "data_path = \"data/\"\n",
        "\n",
        "os.makedirs(data_path, exist_ok=True)\n",
        "# Download files, including pretrained language models\n",
        "for filename in [\"federalist_data_raw2.json\",\n",
        "                 \"tokenizer.pt\",\n",
        "                 # language models:\n",
        "                 # Hamilton        Madison\n",
        "                 \"ffnn_lm_h.pt\",   \"ffnn_lm_m.pt\", # feedforward NN\n",
        "                 \"rnn_lm_h.pt\",    \"rnn_lm_m.pt\"   # RNN\n",
        "                ]:\n",
        "    download_if_needed(source_path, data_path, filename)\n",
        "\n",
        "# Read in the raw data\n",
        "dataset = json.load(open(data_path + \"federalist_data_raw2.json\"))\n",
        "\n",
        "# Read in the pretrained tokenizer\n",
        "hf_tokenizer = torch.load(data_path + \"tokenizer.pt\")"
      ]
    },
    {
      "attachments": {},
      "cell_type": "markdown",
      "id": "8ecc150b",
      "metadata": {
        "id": "8ecc150b"
      },
      "source": [
        "First, let's split the dataset into training, validation, and test sets. Since we have provided pretrained models, you won't be using the training set in this lab. In the problem sets you will have opportunities to train models yourself.\n",
        "\n",
        "For this lab, we use a test set `testing`, which is the same as we used in lab 1-2. But for the validation set, we have separate ones for papers authored by Hamilton (`validation_hamilton`) and papers authored by Madison (`validation_madison`)."
      ]
    },
    {
      "cell_type": "code",
      "execution_count": 47,
      "id": "d0c4b5d3",
      "metadata": {
        "colab": {
          "base_uri": "https://localhost:8080/"
        },
        "id": "d0c4b5d3",
        "outputId": "0cb03b5e-87ea-4fb4-fdd6-99095c7aa27e"
      },
      "outputs": [
        {
          "name": "stdout",
          "output_type": "stream",
          "text": [
            "Madison validation size:  3 documents\n",
            "Hamilton validation size: 6 documents\n"
          ]
        }
      ],
      "source": [
        "# Split training, validation, and test sets\n",
        "TRAIN_RATIO = 0.9\n",
        "# Extract the papers of unknown authorship\n",
        "testing = list(filter(lambda ex: ex['authors'] == 'Hamilton or Madison',\n",
        "                      dataset))\n",
        "# Change gold labels in-place\n",
        "for ex in testing:\n",
        "  ex['authors'] = 'Madison'\n",
        "\n",
        "# Extract the papers by Madison\n",
        "dataset_madison = list(filter(lambda ex: ex['authors']=='Madison', dataset))\n",
        "random.seed(SEED)\n",
        "random.shuffle(dataset_madison)\n",
        "training_size_madison = int(math.floor(TRAIN_RATIO * len(dataset_madison)))\n",
        "validation_madison = dataset_madison[training_size_madison:]\n",
        "\n",
        "# Extract the papers by Hamilton\n",
        "dataset_hamilton = list(filter(lambda ex: ex['authors']=='Hamilton', dataset))\n",
        "random.seed(SEED)\n",
        "random.shuffle(dataset_hamilton)\n",
        "training_size_hamilton = int(math.floor(TRAIN_RATIO * len(dataset_hamilton)))\n",
        "validation_hamilton = dataset_hamilton[training_size_hamilton:]\n",
        "\n",
        "# We only consider the first 200 tokens of each document for speed\n",
        "def truncate(s, k=200):\n",
        "  for document in s:\n",
        "    document['tokens'] = document['tokens'][:k]\n",
        "truncate(validation_madison)\n",
        "truncate(validation_hamilton)\n",
        "truncate(testing)\n",
        "\n",
        "print (f\"Madison validation size:  {len(validation_madison)} documents\\n\"\n",
        "       f\"Hamilton validation size: {len(validation_hamilton)} documents\")"
      ]
    },
    {
      "attachments": {},
      "cell_type": "markdown",
      "id": "4caa5767",
      "metadata": {
        "id": "4caa5767"
      },
      "source": [
        "Note that, unlike in labs 1-2 and 1-3, here we consider _all_ word types in the data. Let's look at an example:"
      ]
    },
    {
      "cell_type": "code",
      "execution_count": 48,
      "id": "0005a0cc",
      "metadata": {
        "colab": {
          "base_uri": "https://localhost:8080/"
        },
        "id": "0005a0cc",
        "outputId": "5ae374a0-1b60-4eae-d662-cd169a8d7e51"
      },
      "outputs": [
        {
          "name": "stdout",
          "output_type": "stream",
          "text": [
            "Example (Madison): ['it', 'is', 'not', 'a', 'little', 'remarkable', 'that', 'in', 'every', 'case', 'reported', 'by', 'ancient', 'history', ',', 'in', 'which', 'government', 'has', 'been', 'established', 'with', 'deliberation', 'and', 'consent', ',', 'the', 'task', 'of', 'framing', 'it', 'has', 'not', 'been', 'committed', 'to', 'an', 'assembly', 'of', 'men', ',', 'but', 'has', 'been', 'performed', 'by', 'some', 'individual', 'citizen', 'of', 'preeminent', 'wisdom', 'and', 'approved', 'integrity', '.', 'minos', ',', 'we', 'learn', ',', 'was', 'the', 'primitive', 'founder', 'of', 'the', 'government', 'of', 'crete', ',', 'as', 'zaleucus', 'was', 'of', 'that', 'of', 'the', 'locrians', '.', 'theseus', 'first', ',', 'and', 'after', 'him', 'draco', 'and', 'solon', ',', 'instituted', 'the', 'government', 'of', 'athens', '.', 'lycurgus', 'was', 'the', 'lawgiver', 'of', 'sparta', '.', 'the', 'foundation', 'of', 'the', 'original', 'government', 'of', 'rome', 'was', 'laid', 'by', 'romulus', ',', 'and', 'the', 'work', 'completed', 'by', 'two', 'of', 'his', 'elective', 'successors', ',', 'numa', 'and', 'tullius', 'hostilius', '.', 'on', 'the', 'abolition', 'of', 'royalty', 'the', 'consular', 'administration', 'was', 'substituted', 'by', 'brutus', ',', 'who', 'stepped', 'forward', 'with', 'a', 'project', 'for', 'such', 'a', 'reform', ',', 'which', ',', 'he', 'alleged', ',', 'had', 'been', 'prepared', 'by', 'tullius', 'hostilius', ',', 'and', 'to', 'which', 'his', 'address', 'obtained', 'the', 'assent', 'and', 'ratification', 'of', 'the', 'senate', 'and', 'people', '.', 'this', 'remark', 'is', 'applicable', 'to', 'confederate', 'governments', 'also', '.', 'amphictyon', ',', 'we', 'are', 'told', ',', 'was']\n",
            "\n",
            "Example (Hamilton): ['the', 'administration', 'of', 'government', ',', 'in', 'its', 'largest', 'sense', ',', 'comprehends', 'all', 'the', 'operations', 'of', 'the', 'body', 'politic', ',', 'whether', 'legislative', ',', 'executive', ',', 'or', 'judiciary', 'but', 'in', 'its', 'most', 'usual', ',', 'and', 'perhaps', 'its', 'most', 'precise', 'signification', '.', 'it', 'is', 'limited', 'to', 'executive', 'details', ',', 'and', 'falls', 'peculiarly', 'within', 'the', 'province', 'of', 'the', 'executive', 'department', '.', 'the', 'actual', 'conduct', 'of', 'foreign', 'negotiations', ',', 'the', 'preparatory', 'plans', 'of', 'finance', ',', 'the', 'application', 'and', 'disbursement', 'of', 'the', 'public', 'moneys', 'in', 'conformity', 'to', 'the', 'general', 'appropriations', 'of', 'the', 'legislature', ',', 'the', 'arrangement', 'of', 'the', 'army', 'and', 'navy', ',', 'the', 'directions', 'of', 'the', 'operations', 'of', 'war', ',', 'these', ',', 'and', 'other', 'matters', 'of', 'a', 'like', 'nature', ',', 'constitute', 'what', 'seems', 'to', 'be', 'most', 'properly', 'understood', 'by', 'the', 'administration', 'of', 'government', '.', 'the', 'persons', ',', 'therefore', ',', 'to', 'whose', 'immediate', 'management', 'these', 'different', 'matters', 'are', 'committed', ',', 'ought', 'to', 'be', 'considered', 'as', 'the', 'assistants', 'or', 'deputies', 'of', 'the', 'chief', 'magistrate', ',', 'and', 'on', 'this', 'account', ',', 'they', 'ought', 'to', 'derive', 'their', 'offices', 'from', 'his', 'appointment', ',', 'at', 'least', 'from', 'his', 'nomination', ',', 'and', 'ought', 'to', 'be', 'subject', 'to', 'his', 'superintendence', '.', 'this', 'view', 'of', 'the', 'subject', 'will', 'at', 'once', 'suggest', 'to', 'us', 'the', 'intimate']\n"
          ]
        }
      ],
      "source": [
        "print (f\"Example (Madison): {validation_madison[0]['tokens']}\\n\\n\"\n",
        "       f\"Example (Hamilton): {validation_hamilton[0]['tokens']}\")"
      ]
    },
    {
      "attachments": {},
      "cell_type": "markdown",
      "id": "5e71c0b0",
      "metadata": {
        "id": "5e71c0b0"
      },
      "source": [
        "# The $n$-gram feedforward network\n",
        "\n",
        "In lab 2-1, you built an $n$-gram language model using a lookup table. However, that model assigns zero probability to any $n$-gram that doesn't appear in the training text (without smoothing). In this lab, we consider a neural-network-based approach, which can address this issue.\n",
        "\n",
        "Recall that in $n$-gram language modeling, we made the assumption that the probability of a word only depends on its previous $n-1$ words:\n",
        "\n",
        "\\begin{align*}\n",
        "\\Prob(w_1, w_2, \\ldots, w_M) & = \\Prob(w_1) \\cdot \\Prob(w_2, \\ldots, w_M\\given w_1) \\\\\n",
        "& = \\Prob(w_1) \\cdot \\Prob(w_2 \\given w_1) \\cdot \\Prob(w_3 \\ldots, w_M \\given w_1, w_2) \\\\\n",
        "& \\cdots \\\\\n",
        "& = \\prod_{i=1}^M \\Prob (w_i \\given w_1, \\cdots, w_{i-1}) \\\\\n",
        "& \\approx \\prod_{i=1}^M \\Prob (w_i \\given w_{i-n+1}, \\cdots, w_{i-1}),\n",
        "\\end{align*}\n",
        "\n",
        "and we used the empirical frequencies to estimate these conditional probabilities:\n",
        "\n",
        "$$\n",
        "\\Pr (w_i \\given w_{i-n+1}, \\cdots, w_{i-1})= \\frac{\\cnt{w_{i-n+1}, \\cdots, w_{i-1}, w_i}}{\\sum_{x'} \\cnt{w_{i-n+1}, \\cdots, w_{i-1}, x'}}\n",
        "$$\n",
        "\n",
        "We can immediately see the problem with using a large $n$: the numerator would be 0 for any $n$-grams unseen in the training data.\n",
        "\n",
        "One way of solving this issue is to use a \"smoother\" function. We parameterize the conditional probabilities using a neural network that computes a function $f$, which we use to estimate the probabilities\n",
        "\n",
        "$$\n",
        "\\Pr (w_i \\given w_{i-n+1}, \\cdots, w_{i-1}) \\approx f_i(w_{i-n+1}, \\cdots, w_{i-1}),\n",
        "$$\n",
        "\n",
        "where $f$ is a function returning a vector of size $V$ ($V$ being the vocabulary size). The $j$-th element of the returned vector $f_j$ stores the probability of generating the $j$-th word in the vocabulary. (We're being a little fast and loose with notation here. Strictly speaking, we should define these probability estiamets in terms of word ids, that is, indices into the vocabulary.)\n",
        "\n",
        "To specify $f$, we can use a feedforward neural network. We'll represent words not by their ids or a one-hot representation but isntead we map each word type in the vocabulary to a trainable vector called an _embedding_ of size `embedding_size`. \n",
        "\n",
        "Why do we represent words with such embeddings? To answer this question, let's consider two alternative representations: (1) word indices and (2) one-hot vectors (which we used in lab 1-1). (We cannot directly use the strings themselves because they are of varying lengths.) A desirable word representation system should be such that *the similarity of words can be reflected in the closeness of word representations*. Ideally, if two words have similar meaning and syntactic function, they should have similar representations, in order to alleviate the burden of learning such similarities by the rest of the model. For option (1), closeness in terms of word indices is meaningless: the 365-th word in the vocabulary is probably not more similar to the 366-th word than it is to other words, since the assignment of index in the vocabulary is arbitrary. For option (2), two different word types always have orthogonal vector representations, but we would hope that similar words can be placed near each other (at least we don't want to eliminate that possibility from the beginning).\n",
        "\n",
        "Therefore, we use an embedding, a vector representation for each word type in the vocabulary, which has been separately learned in a manner that has been shown to cluster similar words together. There are many such embeddings; the particular embedding we'll use is _word2vec_, a mapping from words to vectors of embedding size 128 trained under a task called \"masked language modeling\". If you are interested in more details, you should read the original [word2vec paper](https://papers.nips.cc/paper/5021-distributed-representations-of-words-and-phrases-and-their-compositionality.pdf). For our purposes, we can treat the embedding as just given to us.\n",
        "\n",
        "Now let's get back to the parameterization of $f(w_{i-n+1}, \\cdots, w_{i-1})$. We first map each word in $\\langle w_{i-n+1}, \\cdots, w_{i-1}\\rangle$ to its embedding $\\langle x_{i-n+1}, \\cdots, x_{i-1}\\rangle$ ($n-1$ vectors each of size `embedding_size`), and we concatenate these embeddings to a vector (of size `(n-1) * embedding_size`). Then, we apply a linear projection to project it down to size `hidden_size`, followed by a nonlinear function, and another linear projection to project to size $V$, followed by a softmax to normalize to probabilities. In this case, the nonlinear function we use is not a sigmoid. Instead, we use a Rectified Linear Unit (ReLU), which is simply a componentwise function that clips negative numbers at zero: \n",
        "\n",
        "$$ReLU(x) = \\max(0, x)$$\n",
        "\n",
        "We use $n=5$ in this lab."
      ]
    },
    {
      "cell_type": "code",
      "execution_count": 49,
      "id": "967c61cc",
      "metadata": {
        "id": "967c61cc"
      },
      "outputs": [],
      "source": [
        "n = 5"
      ]
    },
    {
      "attachments": {},
      "cell_type": "markdown",
      "id": "e0c50754",
      "metadata": {
        "deletable": false,
        "editable": false,
        "id": "e0c50754"
      },
      "source": [
        "<!--\n",
        "BEGIN QUESTION\n",
        "name: ffnn_forward\n",
        "-->\n",
        "\n",
        "Implement the missing part of the `forward` function below. This function takes the previous words (the entire previous history, not just the $n$-gram context) as input, and returns the probabilities of generating the next word (the target). (This design decision to take the entire history even though the $n-1$-gram context is all that is needed is for consistency with the RNN language model that will be introduced later, which does use the full context.)\n",
        "\n",
        "The returned value should be a dictionary, with word types as keys and their respective probabilities as values."
      ]
    },
    {
      "cell_type": "code",
      "execution_count": 50,
      "id": "8877e9e5",
      "metadata": {
        "id": "8877e9e5"
      },
      "outputs": [],
      "source": [
        "class FFNNLM(torch.nn.Module):\n",
        "  def __init__(self, n, hf_tokenizer, embedding_size, hidden_size):\n",
        "    super().__init__()\n",
        "    self.n = n\n",
        "    self.hf_tokenizer = hf_tokenizer\n",
        "    self.vocab = hf_tokenizer.get_vocab()\n",
        "    vocab_size = len(self.vocab)\n",
        "    \n",
        "    self.pad_index = hf_tokenizer.pad_token_id\n",
        "\n",
        "    # Create modules\n",
        "    self.embed = torch.nn.Embedding(vocab_size, embedding_size)           # Embedding\n",
        "    self.sublayer1 = torch.nn.Linear((n-1) * embedding_size, hidden_size) # First layer\n",
        "    self.sublayer2 = torch.nn.ReLU()                                      # Second layer\n",
        "    self.hidden2output = torch.nn.Linear(hidden_size, vocab_size)         # Last layer\n",
        "\n",
        "  def forward(self, history_words):\n",
        "    \"\"\"Computes the distribution over the next word given context `history_words`.\n",
        "    Arguments:\n",
        "      history_words: a list of word strings, could be an empty list when generating\n",
        "                     the first word.\n",
        "    Returns: \n",
        "      the distribution over the next word given the context, stored as a dictionary, \n",
        "      with word types as keys, and probability values as values. The probability of\n",
        "      generating an unknown word is stored in dictionary[\"<unk>\"]\".\"\"\"\n",
        "    # Switch to \"evaluation\" mode\n",
        "    self.eval()\n",
        "    # Convert strings to word ids\n",
        "    context = self.hf_tokenizer(history_words, is_split_into_words=True, return_tensors='pt')['input_ids']\\\n",
        "                  .long()\\\n",
        "                  .to(device) # 1, context_len\n",
        "    context_len = context.size(1)\n",
        "    if context_len < self.n-1:\n",
        "      # Pad to the left if we don't have enough context words\n",
        "      padding = context.new(1, self.n-1-context_len).fill_(self.pad_index)\n",
        "      context = torch.cat([padding, context], 1)\n",
        "    else:\n",
        "      # TODO: prepare proper context (the previous n-1 words) from the full history\n",
        "      context = context[:,-(self.n-1):]\n",
        "    embeddings = self.embed(context)           # 1, n-1, embedding_size\n",
        "    embeddings = embeddings.view(1, -1)        # 1, (n-1)*embedding_size\n",
        "    # TODO: finish feedforward and set logits from output\n",
        "    # Logits should be a tensor of size (1, vocab_size)\n",
        "    # The structure of the network is\n",
        "    #   embeddings -> sublayer1 -> sublayer2 -> hidden2output -> softmax\n",
        "    logits = self.hidden2output(self.sublayer2(self.sublayer1(embeddings)))\n",
        "    \n",
        "    # Normalize to get probabilities\n",
        "    probs = torch.softmax(logits, -1).view(-1) # vocab_size\n",
        "\n",
        "    # Match probabilities with actual word types\n",
        "    distribution = {}\n",
        "    for i, prob in enumerate(probs):\n",
        "      word = self.hf_tokenizer.decode(i)\n",
        "      distribution[word] = prob.item()\n",
        "    return distribution"
      ]
    },
    {
      "attachments": {},
      "cell_type": "markdown",
      "id": "83d2d62e",
      "metadata": {
        "id": "83d2d62e"
      },
      "source": [
        "Now, let's load the pretrained feedforward language models for Hamilton and Madison. The model `ffnn_lm_madison` was trained on documents authored by Madison, whereas `ffnn_lm_hamilton` was trained on documents authored by Hamilton."
      ]
    },
    {
      "cell_type": "code",
      "execution_count": 51,
      "id": "a46d5aa2",
      "metadata": {
        "colab": {
          "base_uri": "https://localhost:8080/"
        },
        "id": "a46d5aa2",
        "outputId": "65915a3d-ab66-4333-d911-d56b83ae20a6"
      },
      "outputs": [
        {
          "data": {
            "text/plain": [
              "<All keys matched successfully>"
            ]
          },
          "execution_count": 51,
          "metadata": {},
          "output_type": "execute_result"
        }
      ],
      "source": [
        "# Create and load feedforward LM for Madison\n",
        "ffnn_lm_madison = FFNNLM(n, hf_tokenizer,\n",
        "               embedding_size=128, \n",
        "               hidden_size=128, \n",
        "               ).to(device)\n",
        "ffnn_lm_madison.load_state_dict(torch.load(data_path + 'ffnn_lm_m.pt', map_location=device))\n",
        "\n",
        "# Create and load feedforward LM for Hamilton\n",
        "ffnn_lm_hamilton = FFNNLM(n, hf_tokenizer,\n",
        "               embedding_size=128, \n",
        "               hidden_size=128, \n",
        "               ).to(device)\n",
        "ffnn_lm_hamilton.load_state_dict(torch.load(data_path + 'ffnn_lm_h.pt', map_location=device))"
      ]
    },
    {
      "attachments": {},
      "cell_type": "markdown",
      "id": "616f392c",
      "metadata": {
        "id": "616f392c"
      },
      "source": [
        "## Sampling from an $n$-gram feedforward network\n",
        "\n",
        "Recall from lab 2-1 that we can sample a sequence of text from a model using the functions below. Again, the `sample` function here takes as an argument the full context instead of just the previous $n-1$ words, for consistency with the later RNN model."
      ]
    },
    {
      "cell_type": "code",
      "execution_count": 52,
      "id": "7e5801f7",
      "metadata": {
        "id": "7e5801f7"
      },
      "outputs": [],
      "source": [
        "def sample(model, context):\n",
        "    \"\"\"Returns a token sampled from the `model` assuming the `context`\"\"\"\n",
        "    distribution = model(context) # calls internally to model.forward(context)\n",
        "    prob_remaining = random.random()\n",
        "    for token, prob in sorted(distribution.items()):\n",
        "        if prob_remaining < prob:\n",
        "            return token\n",
        "        else:\n",
        "            prob_remaining -= prob\n",
        "    raise ValueError\n",
        "\n",
        "def sample_sequence(model, start_context, count=100):\n",
        "    \"\"\"Returns a sequence of tokens of length `count` sampled successively\n",
        "       from the `model` starting with the `start_context`\n",
        "    \"\"\"\n",
        "    random.seed(SEED) # for reproducibility\n",
        "    context = list(start_context)\n",
        "    result = list(start_context)\n",
        "    for i in range(0, count):\n",
        "        next = sample(model, tuple(context))\n",
        "        result.append(next)\n",
        "        context = context + [next]\n",
        "    return result"
      ]
    },
    {
      "attachments": {},
      "cell_type": "markdown",
      "id": "fa3ceab2",
      "metadata": {
        "id": "fa3ceab2"
      },
      "source": [
        "Let's try to sample from our models. (Don't expect much fluency in the samples, since the dataset it is trained on is small.)"
      ]
    },
    {
      "cell_type": "code",
      "execution_count": 53,
      "id": "35458cab",
      "metadata": {
        "colab": {
          "base_uri": "https://localhost:8080/"
        },
        "id": "35458cab",
        "outputId": "af42e1ac-97ae-4252-9c17-37fabb2522d4"
      },
      "outputs": [
        {
          "name": "stdout",
          "output_type": "stream",
          "text": [
            "constitution proposed by the united states , which will have laid against the elevation but the federal innovations is [UNK] , and , is very [UNK] invested in the authors of that reason . little far as we have have [UNK] like , and in mankind , or as more and to the union , at a constitution passions , and very [UNK] taxes , if gives give the legislative powers falling that they is the rights of any commission , and mean them in the people of its portion of civil suffrages , and the principles of powerful acts . a enjoyed and \n",
            "\n",
            "constitution proposed by the usual has , very time never it , the convention , the general models of course , and , in treat . the legislature may are merchants . the person of nations . we have far [UNK] less , and instance , adopt properly be less [UNK] to the union , has , except to be allowed to acquire the [UNK] hands of one situation ? these is sometimes take it to serve by a [UNK] in a measures than members of the political difference have prospect for this determinate augmented states should propriety either [UNK] from a distribution but\n"
          ]
        }
      ],
      "source": [
        "print(' '.join(sample_sequence(ffnn_lm_madison, ('constitution', 'proposed', 'by', 'the'))), \"\\n\")\n",
        "print(' '.join(sample_sequence(ffnn_lm_hamilton, ('constitution', 'proposed', 'by', 'the'))))"
      ]
    },
    {
      "cell_type": "code",
      "execution_count": 54,
      "id": "6a5bb376",
      "metadata": {
        "colab": {
          "base_uri": "https://localhost:8080/",
          "height": 46
        },
        "deletable": false,
        "editable": false,
        "id": "6a5bb376",
        "outputId": "6b306898-340e-4372-8e95-770acf7e48b7"
      },
      "outputs": [
        {
          "data": {
            "text/html": [
              "\n",
              "    \n",
              "    \n",
              "        <p>All tests passed!</p>\n",
              "    \n",
              "    "
            ],
            "text/plain": [
              "\n",
              "    All tests passed!\n",
              "    "
            ]
          },
          "execution_count": 54,
          "metadata": {},
          "output_type": "execute_result"
        }
      ],
      "source": [
        "grader.check(\"ffnn_sample\")"
      ]
    },
    {
      "attachments": {},
      "cell_type": "markdown",
      "id": "6366b1d0",
      "metadata": {
        "id": "6366b1d0"
      },
      "source": [
        "## Evaluating text according to an $n$-gram feedforward network\n",
        "\n",
        "Now let's use our language model to score text. Since the $n$-gram feedforward network is able to score with zero context -- internally, it pads on the left with instances of the padding token -- `ffnn_lm_hamilton([])` will return the probability distribution $\\Pr(x_1)$ for the first word in a document."
      ]
    },
    {
      "cell_type": "code",
      "execution_count": 55,
      "id": "5fdc73ef",
      "metadata": {
        "colab": {
          "base_uri": "https://localhost:8080/"
        },
        "id": "5fdc73ef",
        "outputId": "ed89d474-6f5f-4b28-e486-645eb175c38e"
      },
      "outputs": [
        {
          "name": "stdout",
          "output_type": "stream",
          "text": [
            "top 1 word: ,        Pr(x1): 0.048\n",
            "top 2 word: the      Pr(x1): 0.046\n",
            "top 3 word: of       Pr(x1): 0.031\n",
            "top 4 word: in       Pr(x1): 0.028\n",
            "top 5 word: [UNK]    Pr(x1): 0.027\n",
            "top 6 word: that     Pr(x1): 0.020\n",
            "top 7 word: which    Pr(x1): 0.019\n",
            "top 8 word: to       Pr(x1): 0.018\n",
            "top 9 word: and      Pr(x1): 0.016\n"
          ]
        }
      ],
      "source": [
        "Pr_x1 = ffnn_lm_hamilton([]) # calls internally to ffnn_lm_hamilton.forward([])\n",
        "topk = 9\n",
        "\n",
        "# Sort by probabilities\n",
        "for i, word in enumerate(sorted(Pr_x1, key=lambda word: Pr_x1[word], reverse=True)[:topk]):\n",
        "    print (f\"top {i+1} word: {word:<8} Pr(x1): {Pr_x1[word]:.3f}\")"
      ]
    },
    {
      "attachments": {},
      "cell_type": "markdown",
      "id": "3e4ce770",
      "metadata": {
        "deletable": false,
        "editable": false,
        "id": "3e4ce770"
      },
      "source": [
        "Define a function `neglogprob` that takes a token sequence and a language model and returns the negative log probability of the _entire_ token sequence according to the model (using log base 2). Note that you need to use the probability for the unknown word type `\"[UNK]\"` if a token does not appear in the vocabulary.\n",
        "\n",
        "<!--\n",
        "BEGIN QUESTION\n",
        "name: ffnn_neglogprob\n",
        "-->"
      ]
    },
    {
      "cell_type": "code",
      "execution_count": 56,
      "id": "4de86692",
      "metadata": {
        "id": "4de86692"
      },
      "outputs": [],
      "source": [
        "# TODO\n",
        "def neglogprob(tokens, model):\n",
        "    \"\"\"Returns the negative log probability of a sequence of `tokens`\n",
        "       according to a `model`\n",
        "    \"\"\"\n",
        "    score = 0\n",
        "    for index in range(len(tokens)):\n",
        "      before = tokens[:index] \n",
        "      probability_values = model(before)\n",
        "      if tokens[index] in probability_values.keys():\n",
        "        score += -math.log2(probability_values[tokens[index]])\n",
        "      else:\n",
        "        score += -math.log2(probability_values[\"[UNK]\"])\n",
        "    return score"
      ]
    },
    {
      "cell_type": "code",
      "execution_count": 57,
      "id": "9c470f17",
      "metadata": {
        "colab": {
          "base_uri": "https://localhost:8080/",
          "height": 46
        },
        "deletable": false,
        "editable": false,
        "id": "9c470f17",
        "outputId": "a97d61ae-c9c5-4002-94f0-8daa25b345c3"
      },
      "outputs": [
        {
          "data": {
            "text/html": [
              "\n",
              "    \n",
              "    \n",
              "        <p>All tests passed!</p>\n",
              "    \n",
              "    "
            ],
            "text/plain": [
              "\n",
              "    All tests passed!\n",
              "    "
            ]
          },
          "execution_count": 57,
          "metadata": {},
          "output_type": "execute_result"
        }
      ],
      "source": [
        "grader.check(\"ffnn_neglogprob\")"
      ]
    },
    {
      "cell_type": "code",
      "execution_count": 58,
      "id": "44499676",
      "metadata": {
        "colab": {
          "base_uri": "https://localhost:8080/"
        },
        "id": "44499676",
        "outputId": "e9b11087-6bfa-43a2-c9ed-5f4f7fcf6722"
      },
      "outputs": [
        {
          "data": {
            "text/plain": [
              "13.35"
            ]
          },
          "execution_count": 58,
          "metadata": {},
          "output_type": "execute_result"
        }
      ],
      "source": [
        "round(neglogprob([\"constitution\",], ffnn_lm_madison), 2)"
      ]
    },
    {
      "attachments": {},
      "cell_type": "markdown",
      "id": "2a0b8f92",
      "metadata": {
        "deletable": false,
        "editable": false,
        "id": "2a0b8f92"
      },
      "source": [
        "Define a function `perplexity` that takes a token sequence and a language model and returns the perplexity of the _entire_ token sequence according to the model.\n",
        "\n",
        "<!--\n",
        "BEGIN QUESTION\n",
        "name: ffnn_perplexity\n",
        "-->\n"
      ]
    },
    {
      "cell_type": "code",
      "execution_count": 59,
      "id": "0b465661",
      "metadata": {
        "id": "0b465661"
      },
      "outputs": [],
      "source": [
        "# TODO\n",
        "def perplexity(tokens, model):\n",
        "    \"\"\"Returns the perplexity of a sequence of `tokens` according to a `model`\n",
        "    \"\"\"\n",
        "    return 2**(neglogprob(tokens,model)/len(tokens))"
      ]
    },
    {
      "attachments": {},
      "cell_type": "markdown",
      "id": "e7063b59",
      "metadata": {
        "id": "e7063b59"
      },
      "source": [
        "What's the perplexity of each document in the validation set under the language model trained on papers authored by Madison? What about Hamilton? Let's start with one document from each author."
      ]
    },
    {
      "cell_type": "code",
      "execution_count": 60,
      "id": "679ecb3d",
      "metadata": {
        "id": "679ecb3d"
      },
      "outputs": [],
      "source": [
        "document_madison = validation_madison[0]['tokens']\n",
        "document_hamilton = validation_hamilton[0]['tokens']"
      ]
    },
    {
      "attachments": {},
      "cell_type": "markdown",
      "id": "82ae2673",
      "metadata": {
        "deletable": false,
        "editable": false,
        "id": "82ae2673"
      },
      "source": [
        "Calculate the perplexity of each model on `document_madison` and  `document_hamilton`.\n",
        "\n",
        "<!--\n",
        "BEGIN QUESTION\n",
        "name: ffnn_ppl\n",
        "-->"
      ]
    },
    {
      "cell_type": "code",
      "execution_count": 61,
      "id": "e6729697",
      "metadata": {
        "id": "e6729697"
      },
      "outputs": [],
      "source": [
        "# TODO\n",
        "ppl_madison_model_madison_document = perplexity(document_madison, ffnn_lm_madison)\n",
        "ppl_hamilton_model_madison_document = perplexity(document_madison, ffnn_lm_hamilton)\n",
        "ppl_madison_model_hamilton_document = perplexity(document_hamilton, ffnn_lm_madison)\n",
        "ppl_hamilton_model_hamilton_document = perplexity(document_hamilton, ffnn_lm_hamilton)"
      ]
    },
    {
      "cell_type": "code",
      "execution_count": 62,
      "id": "c85d0559",
      "metadata": {
        "colab": {
          "base_uri": "https://localhost:8080/",
          "height": 46
        },
        "deletable": false,
        "editable": false,
        "id": "c85d0559",
        "outputId": "d0b3fee5-c6f3-4f46-a66a-99a4a2d7f95b"
      },
      "outputs": [
        {
          "data": {
            "text/html": [
              "\n",
              "    \n",
              "    \n",
              "        <p>All tests passed!</p>\n",
              "    \n",
              "    "
            ],
            "text/plain": [
              "\n",
              "    All tests passed!\n",
              "    "
            ]
          },
          "execution_count": 62,
          "metadata": {},
          "output_type": "execute_result"
        }
      ],
      "source": [
        "grader.check(\"ffnn_ppl\")"
      ]
    },
    {
      "attachments": {},
      "cell_type": "markdown",
      "id": "340888f8",
      "metadata": {
        "id": "340888f8"
      },
      "source": [
        "Now, let's compare those perplexity values."
      ]
    },
    {
      "cell_type": "code",
      "execution_count": 63,
      "id": "f4f5a35a",
      "metadata": {
        "colab": {
          "base_uri": "https://localhost:8080/"
        },
        "id": "f4f5a35a",
        "outputId": "3dcf832a-d1ba-4c8e-aef0-b4eaa11ce086"
      },
      "outputs": [
        {
          "name": "stdout",
          "output_type": "stream",
          "text": [
            "Author    Madison Model    Hamilton Model\n",
            "Madison      126.5            172.6\n",
            "Hamilton     140.5            107.5\n"
          ]
        }
      ],
      "source": [
        "print (f\"Author    Madison Model    Hamilton Model\\n\"\n",
        "       f\"Madison      {ppl_madison_model_madison_document:5.1f}            {ppl_hamilton_model_madison_document:5.1f}\\n\"\n",
        "       f\"Hamilton     {ppl_madison_model_hamilton_document:5.1f}            {ppl_hamilton_model_hamilton_document:5.1f}\")"
      ]
    },
    {
      "attachments": {},
      "cell_type": "markdown",
      "id": "de4c7d2e",
      "metadata": {
        "deletable": false,
        "editable": false,
        "id": "de4c7d2e"
      },
      "source": [
        "<!-- BEGIN QUESTION -->\n",
        "\n",
        "**Question:** What do you find? Why?\n",
        "\n",
        "<!--\n",
        "BEGIN QUESTION\n",
        "name: open_response_ppl\n",
        "manual: true\n",
        "-->"
      ]
    },
    {
      "attachments": {},
      "cell_type": "markdown",
      "id": "871a0219",
      "metadata": {
        "id": "871a0219"
      },
      "source": [
        "As expected, Madison's Model did better on Madison's documents (lower preplexity of 126.5) and Hamilton's Model did better on Hamilton's documents (lower preplexity of 107.5) than over the texts which do not correspond to the writer.\n",
        "A lower preplexity is better because it is inversely to the probability - which makes sense, Madison's Model was trained on Madison's documents and therefore patterns that appear in Madison's test document appear, with good probability, already in Madison's training set and hence will receive a higher score, same with Hamilton.\n",
        "On the other hand some patterns that appear in Hamilton's test document do not appear, with good probability,in Madison's training set and hence will receive a lower score, and vice versa."
      ]
    },
    {
      "attachments": {},
      "cell_type": "markdown",
      "id": "551c89d6",
      "metadata": {
        "deletable": false,
        "editable": false,
        "id": "551c89d6"
      },
      "source": [
        "<!-- END QUESTION -->\n",
        "\n",
        "<!-- BEGIN QUESTION -->\n",
        "\n",
        "Now, let's revisit our motivation for parameterizing conditional probabilities using a feedforward neural network instead of through counting.\n",
        "\n",
        "**Question:** Compare the pros and cons of feedforward neural language model and the original $n$-gram language model (possibly with smoothing). Which is better?\n",
        "\n",
        "<!--\n",
        "BEGIN QUESTION\n",
        "name: open_response_nn_v_ngram\n",
        "manual: true\n",
        "-->"
      ]
    },
    {
      "attachments": {},
      "cell_type": "markdown",
      "id": "623340fe",
      "metadata": {
        "id": "623340fe"
      },
      "source": [
        "The pros of the feedforward neural language model over the original n-gram language model are the following:\n",
        "* The ff-model learns a more complex function by learning weights for different words, and by thus giving the importance of some words over the others and even the combination of words a representation - the function is more expressive.\n",
        "* Furthermore, the ff-model is more scalable - it does not directly rely on counting the appearances of sequences. The porblem with the n-gram models for large n was that long sequences tend to get rare and therefore the probabillity of sequences in the unseen text to appear in the training set is low and drastically lower the score of the text, even if it was written by the same author.\n",
        "* FF-model usually uses an embedding layer, captchering the similarity between words and by thus assigning a higher score for words that already similar words to them appeared in the context (the cat and dog problem).\n",
        "\n",
        "The cons of the feedforward neural networks is that regarding training and predicting they are computationally expansive."
      ]
    },
    {
      "attachments": {},
      "cell_type": "markdown",
      "id": "b0041502",
      "metadata": {
        "id": "b0041502"
      },
      "source": [
        "<!-- END QUESTION -->\n",
        "\n",
        "\n",
        "\n",
        "# The $n$-gram recurrent neural network"
      ]
    },
    {
      "attachments": {},
      "cell_type": "markdown",
      "id": "b229a84a",
      "metadata": {
        "id": "b229a84a"
      },
      "source": [
        "One limitation of $n$-gram language models (both the original one and the neural one) is that they only model context up to a fixed number of words. However, natural language exhibits long-term dependencies, well beyond $n=5$. In this part of the lab, we consider an approach based on recurrent neural networks (RNN), which can consider variable amounts of context.\n",
        "\n",
        "Different from $n$-gram language modeling, RNN-based language models do not make the approximation that the probability of a word only depends on its previous $n-1$ words. That is, we use the unapproximated chain rule:\n",
        "\n",
        "$$\n",
        "\\Prob(w_1, w_2, \\ldots, w_N) = \\prod_{i=1}^N \\Prob (w_i \\given w_1, \\cdots, w_{i-1})\n",
        "$$\n",
        "\n",
        "and we again specify the conditional probabilities using a neural network:\n",
        "\n",
        "$$\n",
        "\\Pr (w_i \\given w_{\\color{red}1}, \\cdots, w_{i-1})= f({ w_{\\color{red}1}}, \\cdots, w_{i-1}),\n",
        "$$\n",
        "\n",
        "where we use an RNN to parameterize $f$. (Notice the change in the first index of the context, highlighted in red; we're using the whole history as context now, not just the last $n-1$ words.) \n",
        "\n",
        "The inputs to RNNs, like in the feedforward case, are embeddings of words, and we project the _final_ output state of the RNN to a vector of size $V$, followed by a softmax to normalize the probabilities."
      ]
    },
    {
      "attachments": {},
      "cell_type": "markdown",
      "id": "140d5f15",
      "metadata": {
        "deletable": false,
        "editable": false,
        "id": "140d5f15"
      },
      "source": [
        "Implement the missing part of the `forward` function of an RNN language model below. This function takes the previous words as input, and returns the probabilities of generating the next word. The returned value should be a dictionary, with word types as keys and their respective probabilities as values.\n",
        "\n",
        "> Hint: You might find [torch.nn.RNN documentation](https://pytorch.org/docs/stable/generated/torch.nn.RNN.html) helpful. Make sure that you understand the input and output shapes.\n",
        "\n",
        "<!--\n",
        "BEGIN QUESTION\n",
        "name: rnn_forward\n",
        "-->"
      ]
    },
    {
      "cell_type": "code",
      "execution_count": 64,
      "id": "96e5424b",
      "metadata": {
        "id": "96e5424b"
      },
      "outputs": [],
      "source": [
        "class RNNLM(torch.nn.Module):\n",
        "  def __init__(self, hf_tokenizer, embedding_size, hidden_size):\n",
        "    super().__init__()\n",
        "    self.hf_tokenizer = hf_tokenizer\n",
        "    self.pad_index = hf_tokenizer.pad_token_id\n",
        "    vocab_size = len(hf_tokenizer)\n",
        "    \n",
        "    # Create modules\n",
        "    self.embed = torch.nn.Embedding(vocab_size, embedding_size)\n",
        "    self.rnn = torch.nn.RNN(input_size=embedding_size, \n",
        "                            hidden_size=hidden_size, \n",
        "                            num_layers=1,\n",
        "                            batch_first=True)\n",
        "    self.hidden2output = torch.nn.Linear(hidden_size, vocab_size)\n",
        "  \n",
        "  def forward(self, context_words):\n",
        "    \"\"\"Computes the distribution over the next word given context `history_words`.\n",
        "    Arguments:\n",
        "      history_words: a list of word strings, could be an empty list when generating\n",
        "                     the first word.\n",
        "    Returns: \n",
        "      the distribution over the next word given the context, stored as a dictionary, \n",
        "      with word types as keys, and probability values as values. The probability of\n",
        "      generating an unknown word is stored in dictionary[\"<unk>\"]\".\"\"\"\n",
        "    self.eval()\n",
        "    context = self.hf_tokenizer(context_words, is_split_into_words=True, return_tensors='pt')['input_ids']\\\n",
        "              .long()\\\n",
        "              .to(device) # 1, context_len\n",
        "    context_len = context.size(1)\n",
        "    \n",
        "    # For generating the first word, we feed in a special beginning-of-sentence symbol <pad>,\n",
        "    # which is also what we use for padding. In future labs we'll be using <bos>, but as long \n",
        "    # as training and evaluation use the same beginning-of-sentence symbol, it doesn't matter\n",
        "    # which particular symbol we use.\n",
        "    if context_len == 0: \n",
        "      context = context.new(1, 1).fill_(self.pad_index)\n",
        "      context_len = context.size(1)\n",
        "    \n",
        "    hidden = None\n",
        "    # TODO: finish feedforward and set logits\n",
        "    # Logits should be a tensor of size (1, vocab_size)\n",
        "    # Note that you should project the `output` from rnn, not the `hidden`\n",
        "    # using self.hidden2output\n",
        "    # The structure of the network is\n",
        "    #   embeddings -> the output of RNN at the last step -> hidden2output -> softmax\n",
        "    logits = self.hidden2output(self.rnn(self.embed(context))[0][:,-1])\n",
        "\n",
        "    # Normalize to get probabilities\n",
        "    probs = torch.softmax(logits, -1).view(-1) # vocab_size\n",
        "\n",
        "    # Match probabilities with actual word types\n",
        "    distribution = {}\n",
        "    for i, prob in enumerate(probs):\n",
        "      word = self.hf_tokenizer.decode(i)\n",
        "      distribution[word] = prob.item()\n",
        "    return distribution"
      ]
    },
    {
      "attachments": {},
      "cell_type": "markdown",
      "id": "47b9f35f",
      "metadata": {
        "id": "47b9f35f"
      },
      "source": [
        "Now, let's load the pretrained RNN language models for Hamilton and Madison. The model `rnn_lm_madison` was trained on documents authored by Madison, whereas `rnn_lm_hamilton` was trained on documents authored by Hamilton."
      ]
    },
    {
      "cell_type": "code",
      "execution_count": 65,
      "id": "df2eba8a",
      "metadata": {
        "colab": {
          "base_uri": "https://localhost:8080/"
        },
        "id": "df2eba8a",
        "outputId": "32bff741-839c-4818-943f-0977aaac2134"
      },
      "outputs": [
        {
          "data": {
            "text/plain": [
              "<All keys matched successfully>"
            ]
          },
          "execution_count": 65,
          "metadata": {},
          "output_type": "execute_result"
        }
      ],
      "source": [
        "# Create and load RNN LM for Madison\n",
        "rnn_lm_madison = RNNLM(hf_tokenizer,\n",
        "               embedding_size=128, \n",
        "               hidden_size=128, \n",
        "               ).to(device)\n",
        "rnn_lm_madison.load_state_dict(torch.load('data/rnn_lm_m.pt', map_location=device))\n",
        "\n",
        "# Create and load feedforward LM for Hamilton\n",
        "rnn_lm_hamilton = RNNLM(hf_tokenizer,\n",
        "               embedding_size=128, \n",
        "               hidden_size=128, \n",
        "               ).to(device)\n",
        "rnn_lm_hamilton.load_state_dict(torch.load('data/rnn_lm_h.pt', map_location=device))"
      ]
    },
    {
      "attachments": {},
      "cell_type": "markdown",
      "id": "c521cf4d",
      "metadata": {
        "id": "c521cf4d"
      },
      "source": [
        "## Sampling from an RNN model"
      ]
    },
    {
      "attachments": {},
      "cell_type": "markdown",
      "id": "6ffc5a5f",
      "metadata": {
        "id": "6ffc5a5f"
      },
      "source": [
        "Let's try to sample from our models. The samples might be bad since the dataset is small."
      ]
    },
    {
      "cell_type": "code",
      "execution_count": 66,
      "id": "3d6d45f7",
      "metadata": {
        "colab": {
          "base_uri": "https://localhost:8080/"
        },
        "id": "3d6d45f7",
        "outputId": "d2b48e0c-cb92-471f-8c49-80f880a91d1c"
      },
      "outputs": [
        {
          "name": "stdout",
          "output_type": "stream",
          "text": [
            "constitution proposed by the united states , which will holding that a representative class , therefore , than the business could be , more weight , not more much [UNK] in his liberty and interests , are too little known , on ? being few correct [UNK] for any other branch on time towards [UNK] , a degree of citizens , will be stood , however , in the latter of the state of men relied should be [UNK] . it declares still one of the policy of man motives to assume their common cases should far the judges , by a disposition , \n",
            "\n",
            "constitution proposed by the united states , which will have no beneficial prove as [UNK] the exigencies of the confederacy , and , in various act increase in the bodies of independent jealousy in the forms of this kind has a long , and it is , that as often as well it would be certainty , can proposition , are under authorize their [UNK] . if it were marked retained in the state governments than to encroach . for relations [UNK] innovations the less proposed other government , that there are this boundary , to stated temptation he admonish for a direct [UNK]\n"
          ]
        }
      ],
      "source": [
        "print(' '.join(sample_sequence(rnn_lm_madison, ('constitution', 'proposed', 'by', 'the'))), \"\\n\")\n",
        "print(' '.join(sample_sequence(rnn_lm_hamilton, ('constitution', 'proposed', 'by', 'the'))))"
      ]
    },
    {
      "cell_type": "code",
      "execution_count": 67,
      "id": "ee38da4f",
      "metadata": {
        "colab": {
          "base_uri": "https://localhost:8080/",
          "height": 46
        },
        "deletable": false,
        "editable": false,
        "id": "ee38da4f",
        "outputId": "fe6d0dbb-6e86-4b03-809f-267cca0b8116"
      },
      "outputs": [
        {
          "data": {
            "text/html": [
              "\n",
              "    \n",
              "    \n",
              "        <p>All tests passed!</p>\n",
              "    \n",
              "    "
            ],
            "text/plain": [
              "\n",
              "    All tests passed!\n",
              "    "
            ]
          },
          "execution_count": 67,
          "metadata": {},
          "output_type": "execute_result"
        }
      ],
      "source": [
        "grader.check(\"rnn_sample\")"
      ]
    },
    {
      "attachments": {},
      "cell_type": "markdown",
      "id": "9f555302",
      "metadata": {
        "id": "9f555302"
      },
      "source": [
        "## Evaluating text according to an RNN model"
      ]
    },
    {
      "attachments": {},
      "cell_type": "markdown",
      "id": "5218931f",
      "metadata": {
        "id": "5218931f"
      },
      "source": [
        "Again, let's evaluate the models on a document from Hamilton and an artitle from Madison."
      ]
    },
    {
      "cell_type": "code",
      "execution_count": 68,
      "id": "6558ece3",
      "metadata": {
        "id": "6558ece3"
      },
      "outputs": [],
      "source": [
        "document_madison = validation_madison[0]['tokens']\n",
        "document_hamilton = validation_hamilton[0]['tokens']"
      ]
    },
    {
      "attachments": {},
      "cell_type": "markdown",
      "id": "648e681e",
      "metadata": {
        "deletable": false,
        "editable": false,
        "id": "648e681e"
      },
      "source": [
        "Calculate the perplexity of each RNN model on each document.\n",
        "\n",
        "<!--\n",
        "BEGIN QUESTION\n",
        "name: rnn_ppl\n",
        "-->"
      ]
    },
    {
      "cell_type": "code",
      "execution_count": 69,
      "id": "2bd0ead7",
      "metadata": {
        "id": "2bd0ead7"
      },
      "outputs": [],
      "source": [
        "# TODO\n",
        "rnn_ppl_madison_model_madison_document = perplexity(document_madison, rnn_lm_madison)\n",
        "rnn_ppl_hamilton_model_madison_document =  perplexity(document_madison, rnn_lm_hamilton)\n",
        "rnn_ppl_madison_model_hamilton_document = perplexity(document_hamilton, rnn_lm_madison)\n",
        "rnn_ppl_hamilton_model_hamilton_document = perplexity(document_hamilton, rnn_lm_hamilton)"
      ]
    },
    {
      "cell_type": "code",
      "execution_count": 70,
      "id": "ad52feef",
      "metadata": {
        "colab": {
          "base_uri": "https://localhost:8080/",
          "height": 46
        },
        "deletable": false,
        "editable": false,
        "id": "ad52feef",
        "outputId": "e7ed6d02-c1bf-49fd-c5f5-bd5a1c72e63e"
      },
      "outputs": [
        {
          "data": {
            "text/html": [
              "\n",
              "    \n",
              "    \n",
              "        <p>All tests passed!</p>\n",
              "    \n",
              "    "
            ],
            "text/plain": [
              "\n",
              "    All tests passed!\n",
              "    "
            ]
          },
          "execution_count": 70,
          "metadata": {},
          "output_type": "execute_result"
        }
      ],
      "source": [
        "grader.check(\"rnn_ppl\")"
      ]
    },
    {
      "attachments": {},
      "cell_type": "markdown",
      "id": "b03f10c1",
      "metadata": {
        "id": "b03f10c1"
      },
      "source": [
        "Now, let's compare those perplexity values."
      ]
    },
    {
      "cell_type": "code",
      "execution_count": 71,
      "id": "d406c1c2",
      "metadata": {
        "colab": {
          "base_uri": "https://localhost:8080/"
        },
        "id": "d406c1c2",
        "outputId": "42cdc5eb-f66e-4134-88be-cd924d5bedba"
      },
      "outputs": [
        {
          "name": "stdout",
          "output_type": "stream",
          "text": [
            "Author      Madison Model        Hamilton Model\n",
            "Madison         96.0                118.6\n",
            "Hamilton       100.9                 85.7\n"
          ]
        }
      ],
      "source": [
        "print (f\"Author      Madison Model        Hamilton Model\\n\"\n",
        "       f\"Madison        {rnn_ppl_madison_model_madison_document:5.1f}                {rnn_ppl_hamilton_model_madison_document:5.1f}\\n\"\n",
        "       f\"Hamilton       {rnn_ppl_madison_model_hamilton_document:5.1f}                {rnn_ppl_hamilton_model_hamilton_document:5.1f}\")"
      ]
    },
    {
      "attachments": {},
      "cell_type": "markdown",
      "id": "9536d478",
      "metadata": {
        "deletable": false,
        "editable": false,
        "id": "9536d478"
      },
      "source": [
        "<!-- BEGIN QUESTION -->\n",
        "\n",
        "**Question:** Which type of model is better? The RNN language models or the feedforward language models? What are the possible reasons?\n",
        "\n",
        "<!--\n",
        "BEGIN QUESTION\n",
        "name: open_response_ffnn_vs_rnn\n",
        "manual: true\n",
        "-->"
      ]
    },
    {
      "attachments": {},
      "cell_type": "markdown",
      "id": "34214b77",
      "metadata": {
        "id": "34214b77"
      },
      "source": [
        "As we can see from the rsults above, the RNN gives a lower preplexity (higher probability) on the textx corresponding to the models and therefore it is considered a better model. As explained before by the notebook itself - the RNN model is not bounded to n-sized window as a context to the probability calculations - but computes a function which takes into account the entire history, this by feeding the hidden layer and therefore the model is more expressive - it captures realtion between words which were separated by the original size (n) of the window.\n",
        "We can also see that in the sampling - the sentences are more coherent and you can actually see syntactic and structural patterns in them.\n"
      ]
    },
    {
      "attachments": {},
      "cell_type": "markdown",
      "id": "2cea693a",
      "metadata": {
        "id": "2cea693a"
      },
      "source": [
        "<!-- END QUESTION -->\n",
        "\n",
        "\n",
        "\n",
        "# Authorship attribution using language models"
      ]
    },
    {
      "attachments": {},
      "cell_type": "markdown",
      "id": "e3514d81",
      "metadata": {
        "id": "e3514d81"
      },
      "source": [
        "In lab 1-3, you saw how to use a Naive Bayes model to determine authorship:\n",
        "\n",
        "\\begin{align*}\n",
        "\\argmax{i} \\Prob(c_i \\given \\vect{x}) \n",
        "&= \\argmax{i} \\frac{\\Prob(\\vect{x} \\given c_i) \\cdot \\Prob(c_i)}{\\Prob(\\vect{x})} \\\\\n",
        "&= \\argmax{i} \\Prob(\\vect{x} \\given c_i) \\cdot \\Prob(c_i)\n",
        "\\end{align*}\n",
        "\n",
        "In this lab, the language models trained on Madison documents can be used to calculate $\\Pr(\\vect{x} \\given \\text{Madison})$, and the language models trained on Hamilton documents can be used to calculate $\\Pr(\\vect{x} \\given \\text{Hamilton})$. Therefore, they can also be used for authorship attribution.\n",
        "\n",
        "Recall that for numerical stability issues, we operate in log space (with base 2). With a little abuse of notation, let's denote the _log posterior_ as\n",
        "\n",
        "$$\n",
        "\\log \\Prob(\\vect{x} \\given c_i) + \\log \\Prob(c_i),\n",
        "$$\n",
        "where the priors $\\Prob(c_i)$ from lab 1-3 are given below."
      ]
    },
    {
      "cell_type": "code",
      "execution_count": 72,
      "id": "bb86c540",
      "metadata": {
        "id": "bb86c540"
      },
      "outputs": [],
      "source": [
        "prior_madison = 15 / (15+51)\n",
        "prior_hamilton = 51 / (15+51)"
      ]
    },
    {
      "attachments": {},
      "cell_type": "markdown",
      "id": "c203c87d",
      "metadata": {
        "id": "c203c87d"
      },
      "source": [
        "Let's consider a document from the test set."
      ]
    },
    {
      "cell_type": "code",
      "execution_count": 73,
      "id": "0f6a9982",
      "metadata": {
        "id": "0f6a9982"
      },
      "outputs": [],
      "source": [
        "document = testing[0]['tokens']"
      ]
    },
    {
      "attachments": {},
      "cell_type": "markdown",
      "id": "00bc2065",
      "metadata": {
        "deletable": false,
        "editable": false,
        "id": "00bc2065"
      },
      "source": [
        "Use the feedforward neural language models to calculate the log posteriors for `document`.\n",
        "\n",
        "<!--\n",
        "BEGIN QUESTION\n",
        "name: ffnn_author\n",
        "-->"
      ]
    },
    {
      "cell_type": "code",
      "execution_count": 74,
      "id": "6760c58e",
      "metadata": {
        "id": "6760c58e"
      },
      "outputs": [],
      "source": [
        "#TODO - calculate the log posteriors for Madison and Hamilton using feedforward LMs\n",
        "log_posterior_madison_ffnn = -neglogprob(document, ffnn_lm_madison) + math.log2(prior_madison)\n",
        "log_posterior_hamilton_ffnn = -neglogprob(document, ffnn_lm_hamilton) + math.log2(prior_hamilton)\n",
        "#TODO - determine authorship\n",
        "author_ffnn = \"Madison\" if log_posterior_madison_ffnn > log_posterior_hamilton_ffnn else 'Hamilton'"
      ]
    },
    {
      "cell_type": "code",
      "execution_count": 75,
      "id": "9116c3ea",
      "metadata": {
        "colab": {
          "base_uri": "https://localhost:8080/",
          "height": 46
        },
        "deletable": false,
        "editable": false,
        "id": "9116c3ea",
        "outputId": "a8d74b6c-37d6-4fa2-8138-57ae0062ee62"
      },
      "outputs": [
        {
          "data": {
            "text/html": [
              "\n",
              "    \n",
              "    \n",
              "        <p>All tests passed!</p>\n",
              "    \n",
              "    "
            ],
            "text/plain": [
              "\n",
              "    All tests passed!\n",
              "    "
            ]
          },
          "execution_count": 75,
          "metadata": {},
          "output_type": "execute_result"
        }
      ],
      "source": [
        "grader.check(\"ffnn_author\")"
      ]
    },
    {
      "cell_type": "code",
      "execution_count": 76,
      "id": "9f4f1d74",
      "metadata": {
        "colab": {
          "base_uri": "https://localhost:8080/"
        },
        "id": "9f4f1d74",
        "outputId": "16b26be9-a11c-4e08-e820-71e5a96774b4"
      },
      "outputs": [
        {
          "name": "stdout",
          "output_type": "stream",
          "text": [
            "Hamilton\n"
          ]
        }
      ],
      "source": [
        "print (author_ffnn)"
      ]
    },
    {
      "attachments": {},
      "cell_type": "markdown",
      "id": "13b5d235",
      "metadata": {
        "deletable": false,
        "editable": false,
        "id": "13b5d235"
      },
      "source": [
        "Use the RNN neural language models to calculate the log posteriors for `document`.\n",
        "\n",
        "<!--\n",
        "BEGIN QUESTION\n",
        "name: rnn_author\n",
        "-->"
      ]
    },
    {
      "cell_type": "code",
      "execution_count": 77,
      "id": "0388a2bc",
      "metadata": {
        "id": "0388a2bc"
      },
      "outputs": [],
      "source": [
        "#TODO - calculate the log posteriors for Madison and Hamilton using RNN LMs\n",
        "log_posterior_madison_rnn = -neglogprob(document, rnn_lm_madison) + math.log2(prior_madison)\n",
        "log_posterior_hamilton_rnn = -neglogprob(document, rnn_lm_hamilton) + math.log2(prior_hamilton)\n",
        "#TODO - determine authorship\n",
        "author_rnn = \"Madison\" if log_posterior_madison_rnn > log_posterior_hamilton_rnn else 'Hamilton'"
      ]
    },
    {
      "cell_type": "code",
      "execution_count": 78,
      "id": "6b37ee28",
      "metadata": {
        "colab": {
          "base_uri": "https://localhost:8080/",
          "height": 46
        },
        "deletable": false,
        "editable": false,
        "id": "6b37ee28",
        "outputId": "5c2623ed-2d72-46d7-a210-ee662de2d7cb"
      },
      "outputs": [
        {
          "data": {
            "text/html": [
              "\n",
              "    \n",
              "    \n",
              "        <p>All tests passed!</p>\n",
              "    \n",
              "    "
            ],
            "text/plain": [
              "\n",
              "    All tests passed!\n",
              "    "
            ]
          },
          "execution_count": 78,
          "metadata": {},
          "output_type": "execute_result"
        }
      ],
      "source": [
        "grader.check(\"rnn_author\")"
      ]
    },
    {
      "cell_type": "code",
      "execution_count": 79,
      "id": "afff12d9",
      "metadata": {
        "colab": {
          "base_uri": "https://localhost:8080/"
        },
        "id": "afff12d9",
        "outputId": "42dcb6f7-96c3-4858-caa9-a545557f5c21"
      },
      "outputs": [
        {
          "name": "stdout",
          "output_type": "stream",
          "text": [
            "Madison\n"
          ]
        }
      ],
      "source": [
        "print (author_rnn)"
      ]
    },
    {
      "attachments": {},
      "cell_type": "markdown",
      "id": "dd620f75",
      "metadata": {
        "deletable": false,
        "editable": false,
        "id": "dd620f75"
      },
      "source": [
        "Now, we can use these models to determine authorship on the entire test set. Define the `ffnn_classify` and `rnn_classify` functions, which take a sequence of `tokens` and return either `'Hamilton'` or `'Madison'` depending on which of the two has a higher probability of authoring the text.\n",
        "\n",
        "<!--\n",
        "BEGIN QUESTION\n",
        "name: authorship\n",
        "-->"
      ]
    },
    {
      "cell_type": "code",
      "execution_count": 80,
      "id": "4b18f790",
      "metadata": {
        "colab": {
          "base_uri": "https://localhost:8080/",
          "height": 240,
          "referenced_widgets": [
            "cdbc3d96bb404fe58d2b26464085d4f7",
            "4191e19a888341d181be63e601d86e47",
            "404b0be12630475a9e51b7f61b68c509",
            "fac3d21ef3794d9397946bf6bf1909fe",
            "3bfb1e2b82a74fae8bb3fe5421000430",
            "cb0f8a0f91bf4717b5070ff31b926424",
            "25e84a0fbc744d8989ae712790b44b3f",
            "bc803d6c88d0413ea8a27df708bd6f65",
            "89a2e86e0b204f86ba4c29c88e0f82df",
            "94ed1501d39e4a428fbd76e4dad75487",
            "1fd2d1df8b054112a55f35c621e9a5a6"
          ]
        },
        "id": "4b18f790",
        "outputId": "088e6276-c205-4710-96d8-69d33f6dc578"
      },
      "outputs": [
        {
          "data": {
            "application/vnd.jupyter.widget-view+json": {
              "model_id": "f80ff6a5c3d04c4a9e5d9c1cd94f004f",
              "version_major": 2,
              "version_minor": 0
            },
            "text/plain": [
              "  0%|          | 0/11 [00:00<?, ?it/s]"
            ]
          },
          "metadata": {},
          "output_type": "display_data"
        },
        {
          "name": "stdout",
          "output_type": "stream",
          "text": [
            "49 Hamilton Madison \n",
            "50 Madison  Madison \n",
            "51 Madison  Madison \n",
            "52 Madison  Madison \n",
            "53 Madison  Madison \n",
            "54 Madison  Madison \n",
            "55 Madison  Madison \n",
            "56 Madison  Madison \n",
            "57 Madison  Madison \n",
            "62 Madison  Madison \n",
            "63 Madison  Madison \n"
          ]
        }
      ],
      "source": [
        "def ffnn_classify(tokens):\n",
        "    \"\"\"Returns the predicted author according to the FFNN model.\n",
        "    Arguments:\n",
        "      tokens: a list of tokens.\n",
        "    Returns: 'Hamilton' or 'Madison'.\"\"\"\n",
        "    #TODO - implement this method\n",
        "    log_posterior_madison_ffnn = -neglogprob(tokens, ffnn_lm_madison) + math.log2(prior_madison)\n",
        "    log_posterior_hamilton_ffnn = -neglogprob(tokens, ffnn_lm_hamilton) + math.log2(prior_hamilton)\n",
        "    return \"Madison\" if log_posterior_madison_ffnn > log_posterior_hamilton_ffnn else 'Hamilton'\n",
        "\n",
        "def rnn_classify(tokens):\n",
        "    \"\"\"Returns the predicted author according to the RNN model.\n",
        "    Arguments:\n",
        "      tokens: a list of tokens.\n",
        "    Returns: 'Hamilton' or 'Madison'.\"\"\"\n",
        "    #TODO - implement this method\n",
        "    log_posterior_madison_rnn = -neglogprob(tokens, rnn_lm_madison) + math.log2(prior_madison)\n",
        "    log_posterior_hamilton_rnn = -neglogprob(tokens, rnn_lm_hamilton) + math.log2(prior_hamilton)\n",
        "    return \"Madison\" if log_posterior_madison_rnn > log_posterior_hamilton_rnn else 'Hamilton'\n",
        "\n",
        "for ex in tqdm(testing):\n",
        "    print(f\"{ex['number']:2} {ffnn_classify(ex['tokens']):8} {rnn_classify(ex['tokens']):8}\")"
      ]
    },
    {
      "cell_type": "code",
      "execution_count": 81,
      "id": "885c8dcc",
      "metadata": {
        "colab": {
          "base_uri": "https://localhost:8080/",
          "height": 46
        },
        "deletable": false,
        "editable": false,
        "id": "885c8dcc",
        "outputId": "a73471be-6d3a-47ef-abff-f59e86b1e113"
      },
      "outputs": [
        {
          "data": {
            "text/html": [
              "\n",
              "    \n",
              "    \n",
              "        <p>All tests passed!</p>\n",
              "    \n",
              "    "
            ],
            "text/plain": [
              "\n",
              "    All tests passed!\n",
              "    "
            ]
          },
          "execution_count": 81,
          "metadata": {},
          "output_type": "execute_result"
        }
      ],
      "source": [
        "grader.check(\"authorship\")"
      ]
    },
    {
      "attachments": {},
      "cell_type": "markdown",
      "id": "da92e537",
      "metadata": {
        "deletable": false,
        "editable": false,
        "id": "da92e537"
      },
      "source": [
        "<!-- BEGIN QUESTION -->\n",
        "\n",
        "**Question:** What would happen if the dataset is imbalanced, that is, if we have much more training data for one author than the other?\n",
        "\n",
        ">Hint: With sufficient data, the model usually gets lower perplexity than with an insufficient amount of data.\n",
        "\n",
        "<!--\n",
        "BEGIN QUESTION\n",
        "name: open_response_imbalanced\n",
        "manual: true\n",
        "-->"
      ]
    },
    {
      "attachments": {},
      "cell_type": "markdown",
      "id": "a73e52a5",
      "metadata": {
        "id": "a73e52a5"
      },
      "source": [
        "The more samples we have of a certain author, the more the model can learn to generalize it's documents. The model uses those samples to learn the characteristics of the author's writing and by thus giving a lower preplexity (higher probability) to documents that were written by the author.\n",
        "\n",
        "Therefore, with imbalanced dataset the generalization of the writing of the author with less samples will be poor (compared to the other writers of course) and will result with giving high preplexity to most documents (lower posterior) , making the prior probability the crucial factor for the classification and by thus giving an advantage to the author with more samples - it will tend to classify the documents as the authors with most samples in the dataset.\n"
      ]
    },
    {
      "attachments": {},
      "cell_type": "markdown",
      "id": "396c59b2",
      "metadata": {
        "deletable": false,
        "editable": false,
        "id": "396c59b2"
      },
      "source": [
        "<!-- END QUESTION -->\n",
        "\n",
        "<!-- BEGIN QUESTION -->\n",
        "\n",
        "# Lab debrief\n",
        "\n",
        "**Question:** We're interested in any thoughts your group has about this lab so that we can improve this lab for later years, and to inform later labs for this year. Please list any issues that arose or comments you have to improve the lab. Useful things to comment on include the following: \n",
        "\n",
        "* Was the lab too long or too short?\n",
        "* Were the readings appropriate for the lab? \n",
        "* Was it clear (at least after you completed the lab) what the points of the exercises were? \n",
        "* Are there additions or changes you think would make the lab better?\n",
        "\n",
        "<!--\n",
        "BEGIN QUESTION\n",
        "name: open_response_debrief\n",
        "manual: true\n",
        "-->"
      ]
    },
    {
      "attachments": {},
      "cell_type": "markdown",
      "id": "0e2f103f",
      "metadata": {
        "id": "0e2f103f"
      },
      "source": [
        "_Type your answer here, replacing this text._"
      ]
    },
    {
      "attachments": {},
      "cell_type": "markdown",
      "id": "487c6064",
      "metadata": {
        "id": "487c6064"
      },
      "source": [
        "<!-- END QUESTION -->\n",
        "\n",
        "\n",
        "\n",
        "# End of Lab 2-3"
      ]
    },
    {
      "attachments": {},
      "cell_type": "markdown",
      "id": "18dfca30",
      "metadata": {
        "deletable": false,
        "editable": false,
        "id": "18dfca30"
      },
      "source": [
        "---\n",
        "\n",
        "To double-check your work, the cell below will rerun all of the autograder tests."
      ]
    },
    {
      "cell_type": "code",
      "execution_count": 82,
      "id": "498598fd",
      "metadata": {
        "colab": {
          "base_uri": "https://localhost:8080/",
          "height": 397
        },
        "deletable": false,
        "editable": false,
        "id": "498598fd",
        "outputId": "fbda1099-cb21-43a0-d359-f92c318c94ad"
      },
      "outputs": [
        {
          "data": {
            "text/html": [
              "<p><strong>authorship:</strong></p>\n",
              "\n",
              "    \n",
              "    \n",
              "        <p>All tests passed!</p>\n",
              "    \n",
              "    \n",
              "\n",
              "<p><strong>ffnn_author:</strong></p>\n",
              "\n",
              "    \n",
              "    \n",
              "        <p>All tests passed!</p>\n",
              "    \n",
              "    \n",
              "\n",
              "<p><strong>ffnn_neglogprob:</strong></p>\n",
              "\n",
              "    \n",
              "    \n",
              "        <p>All tests passed!</p>\n",
              "    \n",
              "    \n",
              "\n",
              "<p><strong>ffnn_ppl:</strong></p>\n",
              "\n",
              "    \n",
              "    \n",
              "        <p>All tests passed!</p>\n",
              "    \n",
              "    \n",
              "\n",
              "<p><strong>ffnn_sample:</strong></p>\n",
              "\n",
              "    \n",
              "    \n",
              "        <p>All tests passed!</p>\n",
              "    \n",
              "    \n",
              "\n",
              "<p><strong>rnn_author:</strong></p>\n",
              "\n",
              "    \n",
              "    \n",
              "        <p>All tests passed!</p>\n",
              "    \n",
              "    \n",
              "\n",
              "<p><strong>rnn_ppl:</strong></p>\n",
              "\n",
              "    \n",
              "    \n",
              "        <p>All tests passed!</p>\n",
              "    \n",
              "    \n",
              "\n",
              "<p><strong>rnn_sample:</strong></p>\n",
              "\n",
              "    \n",
              "    \n",
              "        <p>All tests passed!</p>\n",
              "    \n",
              "    \n",
              "\n"
            ],
            "text/plain": [
              "authorship:\n",
              "\n",
              "    All tests passed!\n",
              "    \n",
              "\n",
              "ffnn_author:\n",
              "\n",
              "    All tests passed!\n",
              "    \n",
              "\n",
              "ffnn_neglogprob:\n",
              "\n",
              "    All tests passed!\n",
              "    \n",
              "\n",
              "ffnn_ppl:\n",
              "\n",
              "    All tests passed!\n",
              "    \n",
              "\n",
              "ffnn_sample:\n",
              "\n",
              "    All tests passed!\n",
              "    \n",
              "\n",
              "rnn_author:\n",
              "\n",
              "    All tests passed!\n",
              "    \n",
              "\n",
              "rnn_ppl:\n",
              "\n",
              "    All tests passed!\n",
              "    \n",
              "\n",
              "rnn_sample:\n",
              "\n",
              "    All tests passed!\n",
              "    \n"
            ]
          },
          "execution_count": 82,
          "metadata": {},
          "output_type": "execute_result"
        }
      ],
      "source": [
        "grader.check_all()"
      ]
    },
    {
      "cell_type": "code",
      "execution_count": null,
      "id": "G0PZO55JUcl6",
      "metadata": {
        "id": "G0PZO55JUcl6"
      },
      "outputs": [],
      "source": []
    }
  ],
  "metadata": {
    "accelerator": "GPU",
    "colab": {
      "gpuType": "T4",
      "provenance": []
    },
    "gpuClass": "standard",
    "kernelspec": {
      "display_name": "otter-latest",
      "language": "python",
      "name": "python3"
    },
    "language_info": {
      "codemirror_mode": {
        "name": "ipython",
        "version": 3
      },
      "file_extension": ".py",
      "mimetype": "text/x-python",
      "name": "python",
      "nbconvert_exporter": "python",
      "pygments_lexer": "ipython3",
      "version": "3.10.11"
    },
    "title": "CS236299 Lab 2-3: Language modeling with neural networks",
    "vscode": {
      "interpreter": {
        "hash": "4fba83c08fc02185bb2310bd24d0cd81fb04529c933f82aa81c61aab9d5528dc"
      }
    },
    "widgets": {
      "application/vnd.jupyter.widget-state+json": {
        "1fd2d1df8b054112a55f35c621e9a5a6": {
          "model_module": "@jupyter-widgets/controls",
          "model_module_version": "1.5.0",
          "model_name": "DescriptionStyleModel",
          "state": {
            "_model_module": "@jupyter-widgets/controls",
            "_model_module_version": "1.5.0",
            "_model_name": "DescriptionStyleModel",
            "_view_count": null,
            "_view_module": "@jupyter-widgets/base",
            "_view_module_version": "1.2.0",
            "_view_name": "StyleView",
            "description_width": ""
          }
        },
        "25e84a0fbc744d8989ae712790b44b3f": {
          "model_module": "@jupyter-widgets/controls",
          "model_module_version": "1.5.0",
          "model_name": "DescriptionStyleModel",
          "state": {
            "_model_module": "@jupyter-widgets/controls",
            "_model_module_version": "1.5.0",
            "_model_name": "DescriptionStyleModel",
            "_view_count": null,
            "_view_module": "@jupyter-widgets/base",
            "_view_module_version": "1.2.0",
            "_view_name": "StyleView",
            "description_width": ""
          }
        },
        "3bfb1e2b82a74fae8bb3fe5421000430": {
          "model_module": "@jupyter-widgets/base",
          "model_module_version": "1.2.0",
          "model_name": "LayoutModel",
          "state": {
            "_model_module": "@jupyter-widgets/base",
            "_model_module_version": "1.2.0",
            "_model_name": "LayoutModel",
            "_view_count": null,
            "_view_module": "@jupyter-widgets/base",
            "_view_module_version": "1.2.0",
            "_view_name": "LayoutView",
            "align_content": null,
            "align_items": null,
            "align_self": null,
            "border": null,
            "bottom": null,
            "display": null,
            "flex": null,
            "flex_flow": null,
            "grid_area": null,
            "grid_auto_columns": null,
            "grid_auto_flow": null,
            "grid_auto_rows": null,
            "grid_column": null,
            "grid_gap": null,
            "grid_row": null,
            "grid_template_areas": null,
            "grid_template_columns": null,
            "grid_template_rows": null,
            "height": null,
            "justify_content": null,
            "justify_items": null,
            "left": null,
            "margin": null,
            "max_height": null,
            "max_width": null,
            "min_height": null,
            "min_width": null,
            "object_fit": null,
            "object_position": null,
            "order": null,
            "overflow": null,
            "overflow_x": null,
            "overflow_y": null,
            "padding": null,
            "right": null,
            "top": null,
            "visibility": null,
            "width": null
          }
        },
        "404b0be12630475a9e51b7f61b68c509": {
          "model_module": "@jupyter-widgets/controls",
          "model_module_version": "1.5.0",
          "model_name": "FloatProgressModel",
          "state": {
            "_dom_classes": [],
            "_model_module": "@jupyter-widgets/controls",
            "_model_module_version": "1.5.0",
            "_model_name": "FloatProgressModel",
            "_view_count": null,
            "_view_module": "@jupyter-widgets/controls",
            "_view_module_version": "1.5.0",
            "_view_name": "ProgressView",
            "bar_style": "success",
            "description": "",
            "description_tooltip": null,
            "layout": "IPY_MODEL_bc803d6c88d0413ea8a27df708bd6f65",
            "max": 11,
            "min": 0,
            "orientation": "horizontal",
            "style": "IPY_MODEL_89a2e86e0b204f86ba4c29c88e0f82df",
            "value": 11
          }
        },
        "4191e19a888341d181be63e601d86e47": {
          "model_module": "@jupyter-widgets/controls",
          "model_module_version": "1.5.0",
          "model_name": "HTMLModel",
          "state": {
            "_dom_classes": [],
            "_model_module": "@jupyter-widgets/controls",
            "_model_module_version": "1.5.0",
            "_model_name": "HTMLModel",
            "_view_count": null,
            "_view_module": "@jupyter-widgets/controls",
            "_view_module_version": "1.5.0",
            "_view_name": "HTMLView",
            "description": "",
            "description_tooltip": null,
            "layout": "IPY_MODEL_cb0f8a0f91bf4717b5070ff31b926424",
            "placeholder": "​",
            "style": "IPY_MODEL_25e84a0fbc744d8989ae712790b44b3f",
            "value": "100%"
          }
        },
        "89a2e86e0b204f86ba4c29c88e0f82df": {
          "model_module": "@jupyter-widgets/controls",
          "model_module_version": "1.5.0",
          "model_name": "ProgressStyleModel",
          "state": {
            "_model_module": "@jupyter-widgets/controls",
            "_model_module_version": "1.5.0",
            "_model_name": "ProgressStyleModel",
            "_view_count": null,
            "_view_module": "@jupyter-widgets/base",
            "_view_module_version": "1.2.0",
            "_view_name": "StyleView",
            "bar_color": null,
            "description_width": ""
          }
        },
        "94ed1501d39e4a428fbd76e4dad75487": {
          "model_module": "@jupyter-widgets/base",
          "model_module_version": "1.2.0",
          "model_name": "LayoutModel",
          "state": {
            "_model_module": "@jupyter-widgets/base",
            "_model_module_version": "1.2.0",
            "_model_name": "LayoutModel",
            "_view_count": null,
            "_view_module": "@jupyter-widgets/base",
            "_view_module_version": "1.2.0",
            "_view_name": "LayoutView",
            "align_content": null,
            "align_items": null,
            "align_self": null,
            "border": null,
            "bottom": null,
            "display": null,
            "flex": null,
            "flex_flow": null,
            "grid_area": null,
            "grid_auto_columns": null,
            "grid_auto_flow": null,
            "grid_auto_rows": null,
            "grid_column": null,
            "grid_gap": null,
            "grid_row": null,
            "grid_template_areas": null,
            "grid_template_columns": null,
            "grid_template_rows": null,
            "height": null,
            "justify_content": null,
            "justify_items": null,
            "left": null,
            "margin": null,
            "max_height": null,
            "max_width": null,
            "min_height": null,
            "min_width": null,
            "object_fit": null,
            "object_position": null,
            "order": null,
            "overflow": null,
            "overflow_x": null,
            "overflow_y": null,
            "padding": null,
            "right": null,
            "top": null,
            "visibility": null,
            "width": null
          }
        },
        "bc803d6c88d0413ea8a27df708bd6f65": {
          "model_module": "@jupyter-widgets/base",
          "model_module_version": "1.2.0",
          "model_name": "LayoutModel",
          "state": {
            "_model_module": "@jupyter-widgets/base",
            "_model_module_version": "1.2.0",
            "_model_name": "LayoutModel",
            "_view_count": null,
            "_view_module": "@jupyter-widgets/base",
            "_view_module_version": "1.2.0",
            "_view_name": "LayoutView",
            "align_content": null,
            "align_items": null,
            "align_self": null,
            "border": null,
            "bottom": null,
            "display": null,
            "flex": null,
            "flex_flow": null,
            "grid_area": null,
            "grid_auto_columns": null,
            "grid_auto_flow": null,
            "grid_auto_rows": null,
            "grid_column": null,
            "grid_gap": null,
            "grid_row": null,
            "grid_template_areas": null,
            "grid_template_columns": null,
            "grid_template_rows": null,
            "height": null,
            "justify_content": null,
            "justify_items": null,
            "left": null,
            "margin": null,
            "max_height": null,
            "max_width": null,
            "min_height": null,
            "min_width": null,
            "object_fit": null,
            "object_position": null,
            "order": null,
            "overflow": null,
            "overflow_x": null,
            "overflow_y": null,
            "padding": null,
            "right": null,
            "top": null,
            "visibility": null,
            "width": null
          }
        },
        "cb0f8a0f91bf4717b5070ff31b926424": {
          "model_module": "@jupyter-widgets/base",
          "model_module_version": "1.2.0",
          "model_name": "LayoutModel",
          "state": {
            "_model_module": "@jupyter-widgets/base",
            "_model_module_version": "1.2.0",
            "_model_name": "LayoutModel",
            "_view_count": null,
            "_view_module": "@jupyter-widgets/base",
            "_view_module_version": "1.2.0",
            "_view_name": "LayoutView",
            "align_content": null,
            "align_items": null,
            "align_self": null,
            "border": null,
            "bottom": null,
            "display": null,
            "flex": null,
            "flex_flow": null,
            "grid_area": null,
            "grid_auto_columns": null,
            "grid_auto_flow": null,
            "grid_auto_rows": null,
            "grid_column": null,
            "grid_gap": null,
            "grid_row": null,
            "grid_template_areas": null,
            "grid_template_columns": null,
            "grid_template_rows": null,
            "height": null,
            "justify_content": null,
            "justify_items": null,
            "left": null,
            "margin": null,
            "max_height": null,
            "max_width": null,
            "min_height": null,
            "min_width": null,
            "object_fit": null,
            "object_position": null,
            "order": null,
            "overflow": null,
            "overflow_x": null,
            "overflow_y": null,
            "padding": null,
            "right": null,
            "top": null,
            "visibility": null,
            "width": null
          }
        },
        "cdbc3d96bb404fe58d2b26464085d4f7": {
          "model_module": "@jupyter-widgets/controls",
          "model_module_version": "1.5.0",
          "model_name": "HBoxModel",
          "state": {
            "_dom_classes": [],
            "_model_module": "@jupyter-widgets/controls",
            "_model_module_version": "1.5.0",
            "_model_name": "HBoxModel",
            "_view_count": null,
            "_view_module": "@jupyter-widgets/controls",
            "_view_module_version": "1.5.0",
            "_view_name": "HBoxView",
            "box_style": "",
            "children": [
              "IPY_MODEL_4191e19a888341d181be63e601d86e47",
              "IPY_MODEL_404b0be12630475a9e51b7f61b68c509",
              "IPY_MODEL_fac3d21ef3794d9397946bf6bf1909fe"
            ],
            "layout": "IPY_MODEL_3bfb1e2b82a74fae8bb3fe5421000430"
          }
        },
        "fac3d21ef3794d9397946bf6bf1909fe": {
          "model_module": "@jupyter-widgets/controls",
          "model_module_version": "1.5.0",
          "model_name": "HTMLModel",
          "state": {
            "_dom_classes": [],
            "_model_module": "@jupyter-widgets/controls",
            "_model_module_version": "1.5.0",
            "_model_name": "HTMLModel",
            "_view_count": null,
            "_view_module": "@jupyter-widgets/controls",
            "_view_module_version": "1.5.0",
            "_view_name": "HTMLView",
            "description": "",
            "description_tooltip": null,
            "layout": "IPY_MODEL_94ed1501d39e4a428fbd76e4dad75487",
            "placeholder": "​",
            "style": "IPY_MODEL_1fd2d1df8b054112a55f35c621e9a5a6",
            "value": " 11/11 [09:36&lt;00:00, 54.24s/it]"
          }
        }
      }
    }
  },
  "nbformat": 4,
  "nbformat_minor": 5
}
