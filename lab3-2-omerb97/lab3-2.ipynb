{
  "cells": [
    {
      "cell_type": "code",
      "execution_count": 1,
      "id": "8c714d99",
      "metadata": {
        "colab": {
          "base_uri": "https://localhost:8080/"
        },
        "deletable": false,
        "editable": false,
        "id": "8c714d99",
        "jupyter": {
          "outputs_hidden": true,
          "source_hidden": true
        },
        "outputId": "efc84d58-9c8a-4af2-a144-dd9ed06109cc"
      },
      "outputs": [
        {
          "name": "stdout",
          "output_type": "stream",
          "text": [
            "\n"
          ]
        },
        {
          "name": "stderr",
          "output_type": "stream",
          "text": [
            "\n",
            "\u001b[1m[\u001b[0m\u001b[34;49mnotice\u001b[0m\u001b[1;39;49m]\u001b[0m\u001b[39;49m A new release of pip is available: \u001b[0m\u001b[31;49m23.0.1\u001b[0m\u001b[39;49m -> \u001b[0m\u001b[32;49m23.1.2\u001b[0m\n",
            "\u001b[1m[\u001b[0m\u001b[34;49mnotice\u001b[0m\u001b[1;39;49m]\u001b[0m\u001b[39;49m To update, run: \u001b[0m\u001b[32;49mpython3.10 -m pip install --upgrade pip\u001b[0m\n"
          ]
        }
      ],
      "source": [
        "# Please do not change this cell because some hidden tests might depend on it.\n",
        "import os\n",
        "\n",
        "# Otter grader does not handle ! commands well, so we define and use our\n",
        "# own function to execute shell commands.\n",
        "def shell(commands, warn=True):\n",
        "    \"\"\"Executes the string `commands` as a sequence of shell commands.\n",
        "\n",
        "       Prints the result to stdout and returns the exit status.\n",
        "       Provides a printed warning on non-zero exit status unless `warn`\n",
        "       flag is unset.\n",
        "    \"\"\"\n",
        "    file = os.popen(commands)\n",
        "    print (file.read().rstrip('\\n'))\n",
        "    exit_status = file.close()\n",
        "    if warn and exit_status != None:\n",
        "        print(f\"Completed with errors. Exit status: {exit_status}\\n\")\n",
        "    return exit_status\n",
        "\n",
        "shell(\"\"\"\n",
        "ls requirements.txt >/dev/null 2>&1\n",
        "if [ ! $? = 0 ]; then\n",
        " rm -rf .tmp\n",
        " git clone https://github.com/cs236299-2023-spring/lab3-2.git .tmp\n",
        " mv .tmp/tests ./\n",
        " mv .tmp/requirements.txt ./\n",
        " rm -rf .tmp\n",
        "fi\n",
        "pip install -q -r requirements.txt\n",
        "\"\"\")"
      ]
    },
    {
      "cell_type": "code",
      "execution_count": 2,
      "id": "7f9364fd",
      "metadata": {
        "deletable": false,
        "editable": false,
        "id": "7f9364fd"
      },
      "outputs": [],
      "source": [
        "# Initialize Otter\n",
        "import otter\n",
        "grader = otter.Notebook()"
      ]
    },
    {
      "cell_type": "raw",
      "id": "417751c3",
      "metadata": {
        "id": "417751c3",
        "jupyter": {
          "source_hidden": true
        }
      },
      "source": [
        "%%latex\n",
        "\\newcommand{\\vect}[1]{\\mathbf{#1}}\n",
        "\\newcommand{\\cnt}[1]{\\sharp(#1)}\n",
        "\\newcommand{\\argmax}[1]{\\underset{#1}{\\operatorname{argmax}}}\n",
        "\\newcommand{\\softmax}{\\operatorname{softmax}}\n",
        "\\newcommand{\\Prob}{\\Pr}\n",
        "\\newcommand{\\given}{\\,|\\,}"
      ]
    },
    {
      "attachments": {},
      "cell_type": "markdown",
      "id": "6a1f14fa",
      "metadata": {
        "id": "6a1f14fa",
        "jupyter": {
          "source_hidden": true
        }
      },
      "source": [
        "$$\n",
        "\\renewcommand{\\vect}[1]{\\mathbf{#1}}\n",
        "\\renewcommand{\\cnt}[1]{\\sharp(#1)}\n",
        "\\renewcommand{\\argmax}[1]{\\underset{#1}{\\operatorname{argmax}}}\n",
        "\\renewcommand{\\softmax}{\\operatorname{softmax}}\n",
        "\\renewcommand{\\Prob}{\\Pr}\n",
        "\\renewcommand{\\given}{\\,|\\,}\n",
        "$$"
      ]
    },
    {
      "attachments": {},
      "cell_type": "markdown",
      "id": "1e2e4667",
      "metadata": {
        "id": "1e2e4667",
        "tags": [
          "remove_for_latex"
        ]
      },
      "source": [
        "# Course 236299\n",
        "## Lab 3-2 – Context-free parsing"
      ]
    },
    {
      "attachments": {},
      "cell_type": "markdown",
      "id": "908a7d06",
      "metadata": {
        "id": "908a7d06"
      },
      "source": [
        "In this lab, you'll carry out a simple context-free recognition and parsing algorithm, the CKY algorithm independently discovered by John Cocke, Tadao Kasami, and Daniel Younger.\n",
        "\n",
        "By carrying out and understanding this lab, you should be able to\n",
        "\n",
        "* Distinguish recognition from parsing,\n",
        "* Understand the string position representation of constituents, and\n",
        "* Follow recognition algorithms for context-free grammars."
      ]
    },
    {
      "attachments": {},
      "cell_type": "markdown",
      "id": "a01fa095",
      "metadata": {
        "id": "a01fa095"
      },
      "source": [
        "New bits of Python used for the first time in the _solution set_ for this lab, and which you may therefore find useful:\n",
        "\n",
        "* [pandas.DataFrame.iloc](https://pandas.pydata.org/pandas-docs/stable/reference/api/pandas.DataFrame.iloc.html#pandas-dataframe-iloc)\n",
        "* [set.add](https://docs.python.org/3/library/stdtypes.html#frozenset.add)"
      ]
    },
    {
      "attachments": {},
      "cell_type": "markdown",
      "id": "301959a8",
      "metadata": {
        "id": "301959a8"
      },
      "source": [
        "# Preparation – Loading packages"
      ]
    },
    {
      "cell_type": "code",
      "execution_count": 3,
      "id": "fef562f5",
      "metadata": {
        "deletable": false,
        "editable": false,
        "id": "fef562f5"
      },
      "outputs": [],
      "source": [
        "from collections import defaultdict\n",
        "import functools\n",
        "import numpy as np\n",
        "import nltk\n",
        "import pandas as pd"
      ]
    },
    {
      "attachments": {},
      "cell_type": "markdown",
      "id": "9bae2339",
      "metadata": {
        "id": "9bae2339"
      },
      "source": [
        "# Introduction\n",
        "\n",
        "In the previous lab, you worked with context-free grammars (CFGs), and practiced defining grammars and parse trees.\n",
        "\n",
        "This lab will focus on the Cocke-Kasami-Younger (CKY) parsing algorithm.\n",
        "The input to the algorithm is a grammar in Chomsky Normal Form (CNF) and a sentence; the output of the algorithm is the set of parse trees that yield the given sentence according to the grammar (the empty set if there are no such parse trees).\n",
        "\n",
        "We will first focus on the CKY _recognition_ algorithm, that only outputs whether the given sentence can be parsed or not. Then, we will see how to slightly modify this algorithm (by adding back-pointers) to also generate the parse trees themselves."
      ]
    },
    {
      "attachments": {},
      "cell_type": "markdown",
      "id": "440f2c75",
      "metadata": {
        "id": "440f2c75"
      },
      "source": [
        "## The sample grammar\n",
        "\n",
        "Recall the simple arithmetic grammar that you wrote in the previous lab. In this lab, you'll use a simplified version, containing fewer operators and numbers."
      ]
    },
    {
      "cell_type": "code",
      "execution_count": 4,
      "id": "f1dde55d",
      "metadata": {
        "id": "f1dde55d"
      },
      "outputs": [],
      "source": [
        "arithmetic_grammar = nltk.CFG.fromstring(\n",
        "    \"\"\"\n",
        "    S -> NUM | S OP S\n",
        "    OP -> ADD | SUB | MULT\n",
        "\n",
        "    NUM -> 'zero' | 'one' | 'two' | 'three'\n",
        "\n",
        "    ADD -> 'plus'\n",
        "    SUB -> 'minus'\n",
        "    MULT -> 'times'\n",
        "    \"\"\"\n",
        ")"
      ]
    },
    {
      "attachments": {},
      "cell_type": "markdown",
      "id": "f842e897",
      "metadata": {
        "id": "f842e897"
      },
      "source": [
        "The CKY algorithm requires grammars in Chomsky Normal Form (CNF). Here is a CNF-converted version of the grammar, which makes use of an addirtional nonterminal `SOP`, which derives prefixes of `S` missing an `S` at the right edge, strings like, for instance, `one plus` or `one plus two times`."
      ]
    },
    {
      "cell_type": "code",
      "execution_count": 5,
      "id": "1d4fb8e1",
      "metadata": {
        "colab": {
          "base_uri": "https://localhost:8080/"
        },
        "id": "1d4fb8e1",
        "outputId": "f588acf6-0195-4c8d-c105-4ed747fd0663"
      },
      "outputs": [
        {
          "name": "stdout",
          "output_type": "stream",
          "text": [
            "Grammar with 11 productions (start state = S)\n",
            "    S -> 'zero'\n",
            "    S -> 'one'\n",
            "    S -> 'two'\n",
            "    S -> 'three'\n",
            "    S -> SOP S\n",
            "    SOP -> S ADD\n",
            "    SOP -> S SUB\n",
            "    SOP -> S MULT\n",
            "    ADD -> 'plus'\n",
            "    SUB -> 'minus'\n",
            "    MULT -> 'times'\n"
          ]
        }
      ],
      "source": [
        "cnf_arithmetic_grammar = nltk.CFG.fromstring(\n",
        "    \"\"\"\n",
        "    S -> 'zero' | 'one' | 'two' | 'three'\n",
        "    S -> SOP S\n",
        "\n",
        "    SOP -> S ADD | S SUB | S MULT\n",
        "\n",
        "    ADD -> 'plus'\n",
        "    SUB -> 'minus'\n",
        "    MULT -> 'times'\n",
        "    \"\"\"\n",
        ")\n",
        "\n",
        "print(cnf_arithmetic_grammar)"
      ]
    },
    {
      "attachments": {},
      "cell_type": "markdown",
      "id": "cc2fd4da",
      "metadata": {
        "id": "cc2fd4da"
      },
      "source": [
        "We can verify that the grammar is in CNF, as required by the CKY algorithm."
      ]
    },
    {
      "cell_type": "code",
      "execution_count": 6,
      "id": "abefc2d9",
      "metadata": {
        "colab": {
          "base_uri": "https://localhost:8080/"
        },
        "id": "abefc2d9",
        "outputId": "5f062708-e6f2-4980-8e70-c9b5fccca966"
      },
      "outputs": [
        {
          "data": {
            "text/plain": [
              "True"
            ]
          },
          "execution_count": 6,
          "metadata": {},
          "output_type": "execute_result"
        }
      ],
      "source": [
        "cnf_arithmetic_grammar.is_chomsky_normal_form()"
      ]
    },
    {
      "attachments": {},
      "cell_type": "markdown",
      "id": "f8cad649",
      "metadata": {
        "id": "f8cad649"
      },
      "source": [
        "Given the sentence \"*one plus two times three*\", what would be its parse tree according to the grammar?\n",
        "\n",
        "Without any specific handling of arithmetic operator precedence, this \"sentence\" can be either parsed as:\n",
        "\n",
        "* `(one plus two) times three`\n",
        "\n",
        "or:\n",
        "\n",
        "* `one plus (two times three)`"
      ]
    },
    {
      "attachments": {},
      "cell_type": "markdown",
      "id": "e68d8759",
      "metadata": {
        "id": "e68d8759"
      },
      "source": [
        "## Parsing a sentence\n",
        "\n",
        "Let's see how a parser parses this sentence:"
      ]
    },
    {
      "cell_type": "code",
      "execution_count": 7,
      "id": "31fdfb0e",
      "metadata": {
        "colab": {
          "base_uri": "https://localhost:8080/"
        },
        "id": "31fdfb0e",
        "outputId": "88138bcf-f656-4467-ebc4-d096bfcd7e4b"
      },
      "outputs": [
        {
          "name": "stdout",
          "output_type": "stream",
          "text": [
            "                  S             \n",
            "               ___|__________    \n",
            "             SOP             |  \n",
            "          ____|________      |   \n",
            "         S             |     |  \n",
            "      ___|________     |     |   \n",
            "    SOP           |    |     |  \n",
            "  ___|___         |    |     |   \n",
            " S      ADD       S   MULT   S  \n",
            " |       |        |    |     |   \n",
            "one     plus     two times three\n",
            "\n",
            "              S                 \n",
            "      ________|________          \n",
            "     |                 S        \n",
            "     |             ____|_____    \n",
            "    SOP          SOP         |  \n",
            "  ___|___      ___|____      |   \n",
            " S      ADD   S       MULT   S  \n",
            " |       |    |        |     |   \n",
            "one     plus two     times three\n",
            "\n"
          ]
        }
      ],
      "source": [
        "sentence = \"one plus two times three\"\n",
        "words = sentence.split()\n",
        "\n",
        "parser = nltk.parse.BottomUpChartParser(cnf_arithmetic_grammar)\n",
        "for tree in parser.parse(words):\n",
        "    tree.pretty_print()"
      ]
    },
    {
      "attachments": {},
      "cell_type": "markdown",
      "id": "9c9b93ba",
      "metadata": {
        "id": "9c9b93ba"
      },
      "source": [
        "As you can see, `nltk`'s parser finds the two possible parses. In this lab, you will manually parse this sentence using the CKY algorithm."
      ]
    },
    {
      "attachments": {},
      "cell_type": "markdown",
      "id": "6578c505",
      "metadata": {
        "id": "6578c505"
      },
      "source": [
        "# The CKY recognition algorithm\n",
        "\n",
        "The CKY algorithm is a simple *[dynamic programming](https://en.wikipedia.org/wiki/Dynamic_programming)* algorithm. Dynamic programming algorithms work by solving every subproblem of a given problem, in an order such that larger subproblems can merely recombine solutions of smaller subproblems already solved. In the case of CNF parsing, the subproblems are the parsing of _every substring_ as _every nonterminal_. In the end, of course, all we care about is whether the _entire string_ can be parsed as _the start nonterminal_. But by calculating all of the subproblems in order from the shortest to the longest substrings, we can acquire the information we need in the end.\n",
        "\n",
        "> You may recall that Viterbi's algorithm is also a dynamic programming algorithm, solving all subproblems of finding, for each prefix of a sequence and each state, the maximum probability of the prefix where the last word was emitted by the state.\n",
        "\n",
        "<img src=\"https://github.com/nlp-course/data/raw/master/Resources/cky-chart.png\" width=400 align=right />\n",
        "\n",
        "We start by representing the string to be parsed in such a way that we can represent each of its substrings compactly. Consider the string `one plus two times three`. We can think of the positions between the words as being numbered from zero to the length of the string (5), as depicted in the figure at right. Then any substring can be characterized by the string position to its left and the string position to its right, which we'll call a _span_. For instance, the substring `one plus` corresponds to the span 0–2 and `two times three` to the span 2–5. Adjacent spans (like these two) share a string position, in this case the string position 2, which corresponds to the \"split point\" that divides the spans. Two adjacent spans can be combined to form a longer one; the full span is between the left string position of the left span and the right string position of the right span, 0–5.\n",
        "\n",
        "Some substrings are generated by the grammar from particular nonterminals. For instance, in the example at right, the substring in the span 0–2 is generated by the grammar as an `SOP`, and 2–5 as an `S`. We'll call a span generable by a particular nonterminal a _potential constituent_.\n",
        "\n",
        "The CKY algorithm proceeds by generating every potential subconstituent of the string to be parsed. It does so by filling in a table `T` indexed by two string positions (a span, specifying a substring) whose entries are sets of nonterminals that can generate the substring between the string positions. Thus, the algorithm in parsing the string `one plus two times three` will place `SOP` in the table at entry `T[0, 2]` and `S` at entry `T[2, 5]` (among other entries). It follows from these two entries, plus the existence of a rule `S -> SOP S` in the grammar, that there should also be an entry `S` in `T[0, 5]`. By filling in these table entries in a particular order, making use of entries previously filled out, the full set of potential subconstiuents can be determined, and hence, the particular question of whether `S` covers the entire string can be answered simply by inspecting `T[0, N]`.\n",
        "\n",
        "Here is the CKY algorithm in pseudo-code:\n",
        "\n",
        "```\n",
        " 1.  define cky-parse(string = w1, ..., wN, grammar):\n",
        " 2.      for j in [1..N]:                     # each end string position\n",
        "\n",
        "             # handle rules of the form A -> w\n",
        " 3.          for all A where A --> wj in grammar:\n",
        " 4.              add A to T[j-1, j]\n",
        "\n",
        "             # handle rules of the form A -> B C\n",
        " 5.          for length in [2..j]:            # each subconstituent length\n",
        " 6.              i := j - length              # start string position\n",
        " 7.              for split in [i+1..j-1]      # each split point\n",
        " 8.                  for all A where\n",
        " 9.                          A -> B C is a rule in the grammar\n",
        "10.                          and B in T[i, split]\n",
        "11.                          and C in T[split, j]:\n",
        "12.                      add A to T[i, j]\n",
        "13.      if S in T[0, N] then parsed else failed\n",
        "```\n",
        "\n",
        "The idea is that we parse the sentence bottom-up, where in every step we check whether a given subsequence of the input can be derived from any single nonterminal. If we perform this in the right order (as above), at every step we already know whether each of the possible splits of the subsequence creates valid subparses.\n",
        "\n",
        "In this lab, you'll carry out the CKY algorithm **manually**.\n",
        "\n",
        "> Note that in the pseudo-code above, the CKY algorithm runs column by column, and in each column from bottom to top row, while in the lecture you saw that it calculates the diagonals from bottom to top. This difference doesn't matter at all since the content of each cell depends only on the cells to its left and the ones beneath.\n",
        "\n",
        "> A detail concerning implementing the algorithm in Python, with its zero-based indexing: Zero-based indexing works quite naturally for the table `T`, since the string positions start with zero. However, the input sentence itself uses one-based indexing, that is, the first word in the input sentence is denoted as `w1` in the pseudo-code. To make it easier to follow the algorithm, we can match our indices to the algorithm's by adding a dummy symbol at the start of the sentence."
      ]
    },
    {
      "cell_type": "code",
      "execution_count": 8,
      "id": "8828067f",
      "metadata": {
        "colab": {
          "base_uri": "https://localhost:8080/"
        },
        "id": "8828067f",
        "outputId": "c72d588a-22b2-4392-ee5b-0c35f826eee3"
      },
      "outputs": [
        {
          "data": {
            "text/plain": [
              "['', 'one', 'plus', 'two', 'times', 'three']"
            ]
          },
          "execution_count": 8,
          "metadata": {},
          "output_type": "execute_result"
        }
      ],
      "source": [
        "words = [''] + sentence.split()\n",
        "words"
      ]
    },
    {
      "attachments": {},
      "cell_type": "markdown",
      "id": "57750031",
      "metadata": {
        "id": "57750031"
      },
      "source": [
        "For the table, we'll use a `pandas` dataframe, primarily for its readable output. (We don't recommend using this data structure when implementing the CKY algorithm variants in project segment 3.)\n",
        "\n",
        "* Entries that contain `'---'` do not need to be modified.\n",
        "* To denote entries that contain no non-terminals, we will use `set()` as their content (an empty set).\n",
        "* To denote entries that contain one or more nonterminals `A`, `B`, and `C`, we will use, e.g., `set(['A'])` or `set(['A','B','C'])`"
      ]
    },
    {
      "cell_type": "code",
      "execution_count": 9,
      "id": "0ee1fb06",
      "metadata": {
        "colab": {
          "base_uri": "https://localhost:8080/",
          "height": 269
        },
        "id": "0ee1fb06",
        "outputId": "9d6029bd-23a5-4b22-f774-46f6490f16af"
      },
      "outputs": [
        {
          "data": {
            "text/html": [
              "<div>\n",
              "<style scoped>\n",
              "    .dataframe tbody tr th:only-of-type {\n",
              "        vertical-align: middle;\n",
              "    }\n",
              "\n",
              "    .dataframe tbody tr th {\n",
              "        vertical-align: top;\n",
              "    }\n",
              "\n",
              "    .dataframe thead tr th {\n",
              "        text-align: left;\n",
              "    }\n",
              "</style>\n",
              "<table border=\"1\" class=\"dataframe\">\n",
              "  <thead>\n",
              "    <tr>\n",
              "      <th></th>\n",
              "      <th></th>\n",
              "      <th>one</th>\n",
              "      <th>plus</th>\n",
              "      <th>two</th>\n",
              "      <th>times</th>\n",
              "      <th>three</th>\n",
              "    </tr>\n",
              "    <tr>\n",
              "      <th></th>\n",
              "      <th>0</th>\n",
              "      <th>1</th>\n",
              "      <th>2</th>\n",
              "      <th>3</th>\n",
              "      <th>4</th>\n",
              "      <th>5</th>\n",
              "    </tr>\n",
              "  </thead>\n",
              "  <tbody>\n",
              "    <tr>\n",
              "      <th>0</th>\n",
              "      <td>---</td>\n",
              "      <td>{}</td>\n",
              "      <td>{}</td>\n",
              "      <td>{}</td>\n",
              "      <td>{}</td>\n",
              "      <td>{}</td>\n",
              "    </tr>\n",
              "    <tr>\n",
              "      <th>1</th>\n",
              "      <td>---</td>\n",
              "      <td>---</td>\n",
              "      <td>{}</td>\n",
              "      <td>{}</td>\n",
              "      <td>{}</td>\n",
              "      <td>{}</td>\n",
              "    </tr>\n",
              "    <tr>\n",
              "      <th>2</th>\n",
              "      <td>---</td>\n",
              "      <td>---</td>\n",
              "      <td>---</td>\n",
              "      <td>{}</td>\n",
              "      <td>{}</td>\n",
              "      <td>{}</td>\n",
              "    </tr>\n",
              "    <tr>\n",
              "      <th>3</th>\n",
              "      <td>---</td>\n",
              "      <td>---</td>\n",
              "      <td>---</td>\n",
              "      <td>---</td>\n",
              "      <td>{}</td>\n",
              "      <td>{}</td>\n",
              "    </tr>\n",
              "    <tr>\n",
              "      <th>4</th>\n",
              "      <td>---</td>\n",
              "      <td>---</td>\n",
              "      <td>---</td>\n",
              "      <td>---</td>\n",
              "      <td>---</td>\n",
              "      <td>{}</td>\n",
              "    </tr>\n",
              "    <tr>\n",
              "      <th>5</th>\n",
              "      <td>---</td>\n",
              "      <td>---</td>\n",
              "      <td>---</td>\n",
              "      <td>---</td>\n",
              "      <td>---</td>\n",
              "      <td>---</td>\n",
              "    </tr>\n",
              "  </tbody>\n",
              "</table>\n",
              "</div>"
            ],
            "text/plain": [
              "        one plus  two times three\n",
              "     0    1    2    3     4     5\n",
              "0  ---   {}   {}   {}    {}    {}\n",
              "1  ---  ---   {}   {}    {}    {}\n",
              "2  ---  ---  ---   {}    {}    {}\n",
              "3  ---  ---  ---  ---    {}    {}\n",
              "4  ---  ---  ---  ---   ---    {}\n",
              "5  ---  ---  ---  ---   ---   ---"
            ]
          },
          "execution_count": 9,
          "metadata": {},
          "output_type": "execute_result"
        }
      ],
      "source": [
        "data = [\n",
        "        ['---',  set(),  set(),  set(),  set(),  set()],\n",
        "        ['---',  '---',  set(),  set(),  set(),  set()],\n",
        "        ['---',  '---',  '---',  set(),  set(),  set()],\n",
        "        ['---',  '---',  '---',  '---',  set(),  set()],\n",
        "        ['---',  '---',  '---',  '---',  '---',  set()],\n",
        "        ['---',  '---',  '---',  '---',  '---',  '---'],\n",
        "]\n",
        "\n",
        "table = pd.DataFrame(data, columns=words, index=list('012345'))\n",
        "table.columns = pd.MultiIndex.from_arrays([table.columns] + [list('012345')])\n",
        "table"
      ]
    },
    {
      "attachments": {},
      "cell_type": "markdown",
      "id": "c1b8e8ec",
      "metadata": {
        "deletable": false,
        "editable": false,
        "id": "c1b8e8ec"
      },
      "source": [
        "We will now manually track the execution of the algorithm. The first step in the algorithm is a loop for `j` starting at `1`. Then,\n",
        "\n",
        "```\n",
        " 3.          for all A where A --> wj in grammar:\n",
        " 4.              add A to T[j-1, j]\n",
        "```\n",
        "\n",
        "In the case at hand `wj` (that is `w1`, that is `words[1]`) is `one`. And sure enough there is a rule in the grammar of the required form, namely, `S -> 'one'`. So we must update the table accordingly.\n",
        "\n",
        "In the next cell, update the relevant entry in the table.\n",
        "\n",
        "> You can use the `pandas` method `table.iloc[row, col]` for indexing and the `set` method `add` to add a nonterminal to a set.\n",
        "\n",
        "<!--\n",
        "BEGIN QUESTION\n",
        "name: table_addition_1\n",
        "-->"
      ]
    },
    {
      "cell_type": "code",
      "execution_count": 10,
      "id": "41a2fc8d",
      "metadata": {
        "id": "41a2fc8d"
      },
      "outputs": [],
      "source": [
        "#TODO -- update the table for the first step of j=1\n",
        "# 3.          for all A where A --> wj in grammar:\n",
        "# 4.              add A to T[j-1, j]\n",
        "table.iloc[0,1] = set(['S'])"
      ]
    },
    {
      "cell_type": "code",
      "execution_count": 11,
      "id": "6c426e9a",
      "metadata": {
        "colab": {
          "base_uri": "https://localhost:8080/",
          "height": 46
        },
        "deletable": false,
        "editable": false,
        "id": "6c426e9a",
        "outputId": "0d8a9d12-f753-454f-b0cc-c619e836622a"
      },
      "outputs": [
        {
          "data": {
            "text/html": [
              "\n",
              "    \n",
              "    \n",
              "        <p>All tests passed!</p>\n",
              "    \n",
              "    "
            ],
            "text/plain": [
              "\n",
              "    All tests passed!\n",
              "    "
            ]
          },
          "execution_count": 11,
          "metadata": {},
          "output_type": "execute_result"
        }
      ],
      "source": [
        "grader.check(\"table_addition_1\")"
      ]
    },
    {
      "attachments": {},
      "cell_type": "markdown",
      "id": "c02aa4a3",
      "metadata": {
        "id": "c02aa4a3"
      },
      "source": [
        "Let's examine the table to make sure it worked."
      ]
    },
    {
      "cell_type": "code",
      "execution_count": 12,
      "id": "06e50545",
      "metadata": {
        "colab": {
          "base_uri": "https://localhost:8080/",
          "height": 269
        },
        "id": "06e50545",
        "outputId": "477691e1-8e5e-4b7a-a9f5-b44266819872"
      },
      "outputs": [
        {
          "data": {
            "text/html": [
              "<div>\n",
              "<style scoped>\n",
              "    .dataframe tbody tr th:only-of-type {\n",
              "        vertical-align: middle;\n",
              "    }\n",
              "\n",
              "    .dataframe tbody tr th {\n",
              "        vertical-align: top;\n",
              "    }\n",
              "\n",
              "    .dataframe thead tr th {\n",
              "        text-align: left;\n",
              "    }\n",
              "</style>\n",
              "<table border=\"1\" class=\"dataframe\">\n",
              "  <thead>\n",
              "    <tr>\n",
              "      <th></th>\n",
              "      <th></th>\n",
              "      <th>one</th>\n",
              "      <th>plus</th>\n",
              "      <th>two</th>\n",
              "      <th>times</th>\n",
              "      <th>three</th>\n",
              "    </tr>\n",
              "    <tr>\n",
              "      <th></th>\n",
              "      <th>0</th>\n",
              "      <th>1</th>\n",
              "      <th>2</th>\n",
              "      <th>3</th>\n",
              "      <th>4</th>\n",
              "      <th>5</th>\n",
              "    </tr>\n",
              "  </thead>\n",
              "  <tbody>\n",
              "    <tr>\n",
              "      <th>0</th>\n",
              "      <td>---</td>\n",
              "      <td>{S}</td>\n",
              "      <td>{}</td>\n",
              "      <td>{}</td>\n",
              "      <td>{}</td>\n",
              "      <td>{}</td>\n",
              "    </tr>\n",
              "    <tr>\n",
              "      <th>1</th>\n",
              "      <td>---</td>\n",
              "      <td>---</td>\n",
              "      <td>{}</td>\n",
              "      <td>{}</td>\n",
              "      <td>{}</td>\n",
              "      <td>{}</td>\n",
              "    </tr>\n",
              "    <tr>\n",
              "      <th>2</th>\n",
              "      <td>---</td>\n",
              "      <td>---</td>\n",
              "      <td>---</td>\n",
              "      <td>{}</td>\n",
              "      <td>{}</td>\n",
              "      <td>{}</td>\n",
              "    </tr>\n",
              "    <tr>\n",
              "      <th>3</th>\n",
              "      <td>---</td>\n",
              "      <td>---</td>\n",
              "      <td>---</td>\n",
              "      <td>---</td>\n",
              "      <td>{}</td>\n",
              "      <td>{}</td>\n",
              "    </tr>\n",
              "    <tr>\n",
              "      <th>4</th>\n",
              "      <td>---</td>\n",
              "      <td>---</td>\n",
              "      <td>---</td>\n",
              "      <td>---</td>\n",
              "      <td>---</td>\n",
              "      <td>{}</td>\n",
              "    </tr>\n",
              "    <tr>\n",
              "      <th>5</th>\n",
              "      <td>---</td>\n",
              "      <td>---</td>\n",
              "      <td>---</td>\n",
              "      <td>---</td>\n",
              "      <td>---</td>\n",
              "      <td>---</td>\n",
              "    </tr>\n",
              "  </tbody>\n",
              "</table>\n",
              "</div>"
            ],
            "text/plain": [
              "        one plus  two times three\n",
              "     0    1    2    3     4     5\n",
              "0  ---  {S}   {}   {}    {}    {}\n",
              "1  ---  ---   {}   {}    {}    {}\n",
              "2  ---  ---  ---   {}    {}    {}\n",
              "3  ---  ---  ---  ---    {}    {}\n",
              "4  ---  ---  ---  ---   ---    {}\n",
              "5  ---  ---  ---  ---   ---   ---"
            ]
          },
          "execution_count": 12,
          "metadata": {},
          "output_type": "execute_result"
        }
      ],
      "source": [
        "table"
      ]
    },
    {
      "attachments": {},
      "cell_type": "markdown",
      "id": "28f4e452",
      "metadata": {
        "deletable": false,
        "editable": false,
        "id": "28f4e452"
      },
      "source": [
        "Now the next line in the algorithm specifies a loop for all lengths from 2 to `j`. But `j` is `1`, so the loop is vacuous.\n",
        "\n",
        "> Why lengths starting at 2? Because for shorter strings, there's no way to split the string into two non-empty parts, and in CNF grammars, there are no empty constituents.\n",
        "\n",
        "We're back to lines 3-4 with `j` now having the value 2. Update the table accordingly in the next cell.\n",
        "\n",
        "<!--\n",
        "BEGIN QUESTION\n",
        "name: table_addition_2\n",
        "-->"
      ]
    },
    {
      "cell_type": "code",
      "execution_count": 13,
      "id": "441c861c",
      "metadata": {
        "id": "441c861c"
      },
      "outputs": [],
      "source": [
        "#TODO -- update the table\n",
        "table.iloc[1,2] = set([\"ADD\"])"
      ]
    },
    {
      "cell_type": "code",
      "execution_count": 14,
      "id": "24701fc1",
      "metadata": {
        "colab": {
          "base_uri": "https://localhost:8080/",
          "height": 46
        },
        "deletable": false,
        "editable": false,
        "id": "24701fc1",
        "outputId": "86679881-fbbc-48f4-d4a5-e4f8d419ad71"
      },
      "outputs": [
        {
          "data": {
            "text/html": [
              "\n",
              "    \n",
              "    \n",
              "        <p>All tests passed!</p>\n",
              "    \n",
              "    "
            ],
            "text/plain": [
              "\n",
              "    All tests passed!\n",
              "    "
            ]
          },
          "execution_count": 14,
          "metadata": {},
          "output_type": "execute_result"
        }
      ],
      "source": [
        "grader.check(\"table_addition_2\")"
      ]
    },
    {
      "cell_type": "code",
      "execution_count": 15,
      "id": "caa84d8e",
      "metadata": {
        "colab": {
          "base_uri": "https://localhost:8080/",
          "height": 269
        },
        "id": "caa84d8e",
        "outputId": "907371ee-bdae-4fd7-a282-3ca788213662"
      },
      "outputs": [
        {
          "data": {
            "text/html": [
              "<div>\n",
              "<style scoped>\n",
              "    .dataframe tbody tr th:only-of-type {\n",
              "        vertical-align: middle;\n",
              "    }\n",
              "\n",
              "    .dataframe tbody tr th {\n",
              "        vertical-align: top;\n",
              "    }\n",
              "\n",
              "    .dataframe thead tr th {\n",
              "        text-align: left;\n",
              "    }\n",
              "</style>\n",
              "<table border=\"1\" class=\"dataframe\">\n",
              "  <thead>\n",
              "    <tr>\n",
              "      <th></th>\n",
              "      <th></th>\n",
              "      <th>one</th>\n",
              "      <th>plus</th>\n",
              "      <th>two</th>\n",
              "      <th>times</th>\n",
              "      <th>three</th>\n",
              "    </tr>\n",
              "    <tr>\n",
              "      <th></th>\n",
              "      <th>0</th>\n",
              "      <th>1</th>\n",
              "      <th>2</th>\n",
              "      <th>3</th>\n",
              "      <th>4</th>\n",
              "      <th>5</th>\n",
              "    </tr>\n",
              "  </thead>\n",
              "  <tbody>\n",
              "    <tr>\n",
              "      <th>0</th>\n",
              "      <td>---</td>\n",
              "      <td>{S}</td>\n",
              "      <td>{}</td>\n",
              "      <td>{}</td>\n",
              "      <td>{}</td>\n",
              "      <td>{}</td>\n",
              "    </tr>\n",
              "    <tr>\n",
              "      <th>1</th>\n",
              "      <td>---</td>\n",
              "      <td>---</td>\n",
              "      <td>{ADD}</td>\n",
              "      <td>{}</td>\n",
              "      <td>{}</td>\n",
              "      <td>{}</td>\n",
              "    </tr>\n",
              "    <tr>\n",
              "      <th>2</th>\n",
              "      <td>---</td>\n",
              "      <td>---</td>\n",
              "      <td>---</td>\n",
              "      <td>{}</td>\n",
              "      <td>{}</td>\n",
              "      <td>{}</td>\n",
              "    </tr>\n",
              "    <tr>\n",
              "      <th>3</th>\n",
              "      <td>---</td>\n",
              "      <td>---</td>\n",
              "      <td>---</td>\n",
              "      <td>---</td>\n",
              "      <td>{}</td>\n",
              "      <td>{}</td>\n",
              "    </tr>\n",
              "    <tr>\n",
              "      <th>4</th>\n",
              "      <td>---</td>\n",
              "      <td>---</td>\n",
              "      <td>---</td>\n",
              "      <td>---</td>\n",
              "      <td>---</td>\n",
              "      <td>{}</td>\n",
              "    </tr>\n",
              "    <tr>\n",
              "      <th>5</th>\n",
              "      <td>---</td>\n",
              "      <td>---</td>\n",
              "      <td>---</td>\n",
              "      <td>---</td>\n",
              "      <td>---</td>\n",
              "      <td>---</td>\n",
              "    </tr>\n",
              "  </tbody>\n",
              "</table>\n",
              "</div>"
            ],
            "text/plain": [
              "        one   plus  two times three\n",
              "     0    1      2    3     4     5\n",
              "0  ---  {S}     {}   {}    {}    {}\n",
              "1  ---  ---  {ADD}   {}    {}    {}\n",
              "2  ---  ---    ---   {}    {}    {}\n",
              "3  ---  ---    ---  ---    {}    {}\n",
              "4  ---  ---    ---  ---   ---    {}\n",
              "5  ---  ---    ---  ---   ---   ---"
            ]
          },
          "execution_count": 15,
          "metadata": {},
          "output_type": "execute_result"
        }
      ],
      "source": [
        "table"
      ]
    },
    {
      "attachments": {},
      "cell_type": "markdown",
      "id": "37d32ca3",
      "metadata": {
        "deletable": false,
        "editable": false,
        "id": "37d32ca3"
      },
      "source": [
        "Again, we're at line 5, selecting a length from the range [2..2]. There's only one such length, 2, so the start string position `i` is `j-2`, that is `0`. For strings between string positions 0 and 2, there is only one possible split point, namely 1. At line 7, then, there will be only a single iteration.\n",
        "\n",
        "Lines 8-12 have us find all rules in the grammar of the form $A \\rightarrow B\\, C$ such that `B` is in `T[i, split]` and `C` is in `T[split, j]`, and add such `A` values to the table.\n",
        "\n",
        "Update the table accordingly in the next cell.\n",
        "\n",
        "<!--\n",
        "BEGIN QUESTION\n",
        "name: table_addition_3\n",
        "-->"
      ]
    },
    {
      "cell_type": "code",
      "execution_count": 16,
      "id": "e8d2b848",
      "metadata": {
        "id": "e8d2b848"
      },
      "outputs": [],
      "source": [
        "#TODO -- update the table\n",
        "table.iloc[0,2] = set([\"SOP\"])"
      ]
    },
    {
      "cell_type": "code",
      "execution_count": 17,
      "id": "332984fe",
      "metadata": {
        "colab": {
          "base_uri": "https://localhost:8080/",
          "height": 46
        },
        "deletable": false,
        "editable": false,
        "id": "332984fe",
        "outputId": "90cc9aae-84b5-4b82-c2e9-d81e9934ad32"
      },
      "outputs": [
        {
          "data": {
            "text/html": [
              "\n",
              "    \n",
              "    \n",
              "        <p>All tests passed!</p>\n",
              "    \n",
              "    "
            ],
            "text/plain": [
              "\n",
              "    All tests passed!\n",
              "    "
            ]
          },
          "execution_count": 17,
          "metadata": {},
          "output_type": "execute_result"
        }
      ],
      "source": [
        "grader.check(\"table_addition_3\")"
      ]
    },
    {
      "cell_type": "code",
      "execution_count": 18,
      "id": "881e9001",
      "metadata": {
        "colab": {
          "base_uri": "https://localhost:8080/",
          "height": 269
        },
        "id": "881e9001",
        "outputId": "806f0bff-ed8d-41d5-d99b-34a3c864a22d"
      },
      "outputs": [
        {
          "data": {
            "text/html": [
              "<div>\n",
              "<style scoped>\n",
              "    .dataframe tbody tr th:only-of-type {\n",
              "        vertical-align: middle;\n",
              "    }\n",
              "\n",
              "    .dataframe tbody tr th {\n",
              "        vertical-align: top;\n",
              "    }\n",
              "\n",
              "    .dataframe thead tr th {\n",
              "        text-align: left;\n",
              "    }\n",
              "</style>\n",
              "<table border=\"1\" class=\"dataframe\">\n",
              "  <thead>\n",
              "    <tr>\n",
              "      <th></th>\n",
              "      <th></th>\n",
              "      <th>one</th>\n",
              "      <th>plus</th>\n",
              "      <th>two</th>\n",
              "      <th>times</th>\n",
              "      <th>three</th>\n",
              "    </tr>\n",
              "    <tr>\n",
              "      <th></th>\n",
              "      <th>0</th>\n",
              "      <th>1</th>\n",
              "      <th>2</th>\n",
              "      <th>3</th>\n",
              "      <th>4</th>\n",
              "      <th>5</th>\n",
              "    </tr>\n",
              "  </thead>\n",
              "  <tbody>\n",
              "    <tr>\n",
              "      <th>0</th>\n",
              "      <td>---</td>\n",
              "      <td>{S}</td>\n",
              "      <td>{SOP}</td>\n",
              "      <td>{}</td>\n",
              "      <td>{}</td>\n",
              "      <td>{}</td>\n",
              "    </tr>\n",
              "    <tr>\n",
              "      <th>1</th>\n",
              "      <td>---</td>\n",
              "      <td>---</td>\n",
              "      <td>{ADD}</td>\n",
              "      <td>{}</td>\n",
              "      <td>{}</td>\n",
              "      <td>{}</td>\n",
              "    </tr>\n",
              "    <tr>\n",
              "      <th>2</th>\n",
              "      <td>---</td>\n",
              "      <td>---</td>\n",
              "      <td>---</td>\n",
              "      <td>{}</td>\n",
              "      <td>{}</td>\n",
              "      <td>{}</td>\n",
              "    </tr>\n",
              "    <tr>\n",
              "      <th>3</th>\n",
              "      <td>---</td>\n",
              "      <td>---</td>\n",
              "      <td>---</td>\n",
              "      <td>---</td>\n",
              "      <td>{}</td>\n",
              "      <td>{}</td>\n",
              "    </tr>\n",
              "    <tr>\n",
              "      <th>4</th>\n",
              "      <td>---</td>\n",
              "      <td>---</td>\n",
              "      <td>---</td>\n",
              "      <td>---</td>\n",
              "      <td>---</td>\n",
              "      <td>{}</td>\n",
              "    </tr>\n",
              "    <tr>\n",
              "      <th>5</th>\n",
              "      <td>---</td>\n",
              "      <td>---</td>\n",
              "      <td>---</td>\n",
              "      <td>---</td>\n",
              "      <td>---</td>\n",
              "      <td>---</td>\n",
              "    </tr>\n",
              "  </tbody>\n",
              "</table>\n",
              "</div>"
            ],
            "text/plain": [
              "        one   plus  two times three\n",
              "     0    1      2    3     4     5\n",
              "0  ---  {S}  {SOP}   {}    {}    {}\n",
              "1  ---  ---  {ADD}   {}    {}    {}\n",
              "2  ---  ---    ---   {}    {}    {}\n",
              "3  ---  ---    ---  ---    {}    {}\n",
              "4  ---  ---    ---  ---   ---    {}\n",
              "5  ---  ---    ---  ---   ---   ---"
            ]
          },
          "execution_count": 18,
          "metadata": {},
          "output_type": "execute_result"
        }
      ],
      "source": [
        "table"
      ]
    },
    {
      "attachments": {},
      "cell_type": "markdown",
      "id": "90a4ae9e",
      "metadata": {
        "deletable": false,
        "editable": false,
        "id": "90a4ae9e"
      },
      "source": [
        "Both loops that iterate over $i$ and over $split$ had a single iteration, so we can continue with $j=3$.\n",
        "\n",
        "Complete the table according to the algorithm, starting from $j=3$. Remember, it is okay that a given entry will not have any nonterminals. In that case, the entry value will remain the empty set.\n",
        "\n",
        "<!--\n",
        "BEGIN QUESTION\n",
        "name: table_addition_rest\n",
        "-->"
      ]
    },
    {
      "cell_type": "code",
      "execution_count": 19,
      "id": "4125753a",
      "metadata": {
        "id": "4125753a"
      },
      "outputs": [],
      "source": [
        "#TODO – update the table\n",
        "table.iloc[2,3] = set([\"S\"])\n",
        "table.iloc[0,3] = set([\"S\"])\n",
        "table.iloc[3,4] = set([\"MULT\"])\n",
        "table.iloc[2,4] = set([\"SOP\"])\n",
        "table.iloc[0,4] = set([\"SOP\"])\n",
        "\n",
        "table.iloc[4,5] = set([\"S\"])\n",
        "table.iloc[2,5] = set([\"S\"])\n",
        "table.iloc[0,5] = set([\"S\"])"
      ]
    },
    {
      "cell_type": "code",
      "execution_count": 20,
      "id": "0c72af04",
      "metadata": {
        "colab": {
          "base_uri": "https://localhost:8080/",
          "height": 46
        },
        "deletable": false,
        "editable": false,
        "id": "0c72af04",
        "outputId": "74dacd74-1b54-4228-da9c-28797b234ff6"
      },
      "outputs": [
        {
          "data": {
            "text/html": [
              "\n",
              "    \n",
              "    \n",
              "        <p>All tests passed!</p>\n",
              "    \n",
              "    "
            ],
            "text/plain": [
              "\n",
              "    All tests passed!\n",
              "    "
            ]
          },
          "execution_count": 20,
          "metadata": {},
          "output_type": "execute_result"
        }
      ],
      "source": [
        "grader.check(\"table_addition_rest\")"
      ]
    },
    {
      "cell_type": "code",
      "execution_count": 21,
      "id": "99588755",
      "metadata": {
        "colab": {
          "base_uri": "https://localhost:8080/",
          "height": 269
        },
        "id": "99588755",
        "outputId": "a7db455d-8c30-4119-df67-abd64f3fe4c3"
      },
      "outputs": [
        {
          "data": {
            "text/html": [
              "<div>\n",
              "<style scoped>\n",
              "    .dataframe tbody tr th:only-of-type {\n",
              "        vertical-align: middle;\n",
              "    }\n",
              "\n",
              "    .dataframe tbody tr th {\n",
              "        vertical-align: top;\n",
              "    }\n",
              "\n",
              "    .dataframe thead tr th {\n",
              "        text-align: left;\n",
              "    }\n",
              "</style>\n",
              "<table border=\"1\" class=\"dataframe\">\n",
              "  <thead>\n",
              "    <tr>\n",
              "      <th></th>\n",
              "      <th></th>\n",
              "      <th>one</th>\n",
              "      <th>plus</th>\n",
              "      <th>two</th>\n",
              "      <th>times</th>\n",
              "      <th>three</th>\n",
              "    </tr>\n",
              "    <tr>\n",
              "      <th></th>\n",
              "      <th>0</th>\n",
              "      <th>1</th>\n",
              "      <th>2</th>\n",
              "      <th>3</th>\n",
              "      <th>4</th>\n",
              "      <th>5</th>\n",
              "    </tr>\n",
              "  </thead>\n",
              "  <tbody>\n",
              "    <tr>\n",
              "      <th>0</th>\n",
              "      <td>---</td>\n",
              "      <td>{S}</td>\n",
              "      <td>{SOP}</td>\n",
              "      <td>{S}</td>\n",
              "      <td>{SOP}</td>\n",
              "      <td>{S}</td>\n",
              "    </tr>\n",
              "    <tr>\n",
              "      <th>1</th>\n",
              "      <td>---</td>\n",
              "      <td>---</td>\n",
              "      <td>{ADD}</td>\n",
              "      <td>{}</td>\n",
              "      <td>{}</td>\n",
              "      <td>{}</td>\n",
              "    </tr>\n",
              "    <tr>\n",
              "      <th>2</th>\n",
              "      <td>---</td>\n",
              "      <td>---</td>\n",
              "      <td>---</td>\n",
              "      <td>{S}</td>\n",
              "      <td>{SOP}</td>\n",
              "      <td>{S}</td>\n",
              "    </tr>\n",
              "    <tr>\n",
              "      <th>3</th>\n",
              "      <td>---</td>\n",
              "      <td>---</td>\n",
              "      <td>---</td>\n",
              "      <td>---</td>\n",
              "      <td>{MULT}</td>\n",
              "      <td>{}</td>\n",
              "    </tr>\n",
              "    <tr>\n",
              "      <th>4</th>\n",
              "      <td>---</td>\n",
              "      <td>---</td>\n",
              "      <td>---</td>\n",
              "      <td>---</td>\n",
              "      <td>---</td>\n",
              "      <td>{S}</td>\n",
              "    </tr>\n",
              "    <tr>\n",
              "      <th>5</th>\n",
              "      <td>---</td>\n",
              "      <td>---</td>\n",
              "      <td>---</td>\n",
              "      <td>---</td>\n",
              "      <td>---</td>\n",
              "      <td>---</td>\n",
              "    </tr>\n",
              "  </tbody>\n",
              "</table>\n",
              "</div>"
            ],
            "text/plain": [
              "        one   plus  two   times three\n",
              "     0    1      2    3       4     5\n",
              "0  ---  {S}  {SOP}  {S}   {SOP}   {S}\n",
              "1  ---  ---  {ADD}   {}      {}    {}\n",
              "2  ---  ---    ---  {S}   {SOP}   {S}\n",
              "3  ---  ---    ---  ---  {MULT}    {}\n",
              "4  ---  ---    ---  ---     ---   {S}\n",
              "5  ---  ---    ---  ---     ---   ---"
            ]
          },
          "execution_count": 21,
          "metadata": {},
          "output_type": "execute_result"
        }
      ],
      "source": [
        "table"
      ]
    },
    {
      "attachments": {},
      "cell_type": "markdown",
      "id": "c1bdceb1",
      "metadata": {
        "id": "c1bdceb1"
      },
      "source": [
        "The entry that represents the entire input resides at position `[0,5]`. Since our sentence should be parsable by the grammar as the start symbol `S`, the following expression should hold if the string is generated by the grammar."
      ]
    },
    {
      "cell_type": "code",
      "execution_count": 22,
      "id": "d1191ad1",
      "metadata": {
        "colab": {
          "base_uri": "https://localhost:8080/"
        },
        "id": "d1191ad1",
        "outputId": "d05ca55c-3a02-4f02-a5bc-6aa57a0fc8f2"
      },
      "outputs": [
        {
          "data": {
            "text/plain": [
              "True"
            ]
          },
          "execution_count": 22,
          "metadata": {},
          "output_type": "execute_result"
        }
      ],
      "source": [
        "'S' in table.iloc[0,5]"
      ]
    },
    {
      "attachments": {},
      "cell_type": "markdown",
      "id": "baa7f3f9",
      "metadata": {
        "id": "baa7f3f9"
      },
      "source": [
        "# The CKY parsing algorithm\n",
        "\n",
        "The algorithm that we executed so far is a _recognizer_, not a parser – if the algorithm ends with the start symbol in `table[0,n]` – it means that the input is parsable, but it doesn't directly provide information about the input's parse trees.\n",
        "\n",
        "However, we want to know not only _whether_ the string is parsable, but _how_. We'd like the parse trees themselves. The necessary modification to the algorithm is to keep in the table entries not only a nonterminal that covers the substring, but the `split` value and production that was used as well.\n",
        "\n",
        "We will define another table called `back` to keep that information. A `back` table value will be a mapping from nonterminals into a set of values for `split` and the right-hand side of the rule that was used. We use a set because there may be several such split and production values. We initialize the entries to a dictionary mapping to empty sets."
      ]
    },
    {
      "cell_type": "code",
      "execution_count": 23,
      "id": "edfd16ca",
      "metadata": {
        "colab": {
          "base_uri": "https://localhost:8080/",
          "height": 269
        },
        "id": "edfd16ca",
        "outputId": "195bbbc2-ba14-4c0f-9078-bac1958267b6"
      },
      "outputs": [
        {
          "data": {
            "text/html": [
              "<div>\n",
              "<style scoped>\n",
              "    .dataframe tbody tr th:only-of-type {\n",
              "        vertical-align: middle;\n",
              "    }\n",
              "\n",
              "    .dataframe tbody tr th {\n",
              "        vertical-align: top;\n",
              "    }\n",
              "\n",
              "    .dataframe thead tr th {\n",
              "        text-align: left;\n",
              "    }\n",
              "</style>\n",
              "<table border=\"1\" class=\"dataframe\">\n",
              "  <thead>\n",
              "    <tr>\n",
              "      <th></th>\n",
              "      <th></th>\n",
              "      <th>one</th>\n",
              "      <th>plus</th>\n",
              "      <th>two</th>\n",
              "      <th>times</th>\n",
              "      <th>three</th>\n",
              "    </tr>\n",
              "    <tr>\n",
              "      <th></th>\n",
              "      <th>0</th>\n",
              "      <th>1</th>\n",
              "      <th>2</th>\n",
              "      <th>3</th>\n",
              "      <th>4</th>\n",
              "      <th>5</th>\n",
              "    </tr>\n",
              "  </thead>\n",
              "  <tbody>\n",
              "    <tr>\n",
              "      <th>0</th>\n",
              "      <td>---</td>\n",
              "      <td>{}</td>\n",
              "      <td>{}</td>\n",
              "      <td>{}</td>\n",
              "      <td>{}</td>\n",
              "      <td>{}</td>\n",
              "    </tr>\n",
              "    <tr>\n",
              "      <th>1</th>\n",
              "      <td>---</td>\n",
              "      <td>---</td>\n",
              "      <td>{}</td>\n",
              "      <td>{}</td>\n",
              "      <td>{}</td>\n",
              "      <td>{}</td>\n",
              "    </tr>\n",
              "    <tr>\n",
              "      <th>2</th>\n",
              "      <td>---</td>\n",
              "      <td>---</td>\n",
              "      <td>---</td>\n",
              "      <td>{}</td>\n",
              "      <td>{}</td>\n",
              "      <td>{}</td>\n",
              "    </tr>\n",
              "    <tr>\n",
              "      <th>3</th>\n",
              "      <td>---</td>\n",
              "      <td>---</td>\n",
              "      <td>---</td>\n",
              "      <td>---</td>\n",
              "      <td>{}</td>\n",
              "      <td>{}</td>\n",
              "    </tr>\n",
              "    <tr>\n",
              "      <th>4</th>\n",
              "      <td>---</td>\n",
              "      <td>---</td>\n",
              "      <td>---</td>\n",
              "      <td>---</td>\n",
              "      <td>---</td>\n",
              "      <td>{}</td>\n",
              "    </tr>\n",
              "    <tr>\n",
              "      <th>5</th>\n",
              "      <td>---</td>\n",
              "      <td>---</td>\n",
              "      <td>---</td>\n",
              "      <td>---</td>\n",
              "      <td>---</td>\n",
              "      <td>---</td>\n",
              "    </tr>\n",
              "  </tbody>\n",
              "</table>\n",
              "</div>"
            ],
            "text/plain": [
              "        one plus  two times three\n",
              "     0    1    2    3     4     5\n",
              "0  ---   {}   {}   {}    {}    {}\n",
              "1  ---  ---   {}   {}    {}    {}\n",
              "2  ---  ---  ---   {}    {}    {}\n",
              "3  ---  ---  ---  ---    {}    {}\n",
              "4  ---  ---  ---  ---   ---    {}\n",
              "5  ---  ---  ---  ---   ---   ---"
            ]
          },
          "execution_count": 23,
          "metadata": {},
          "output_type": "execute_result"
        }
      ],
      "source": [
        "def empty():\n",
        "    return defaultdict(set)\n",
        "\n",
        "back_data = [\n",
        "        ['---',  empty(),  empty(),  empty(),  empty(),  empty()],\n",
        "        ['---',  '---',    empty(),  empty(),  empty(),  empty()],\n",
        "        ['---',  '---',    '---',    empty(),  empty(),  empty()],\n",
        "        ['---',  '---',    '---',    '---',    empty(),  empty()],\n",
        "        ['---',  '---',    '---',    '---',    '---',    empty()],\n",
        "        ['---',  '---',    '---',    '---',    '---',    '---'],\n",
        "]\n",
        "\n",
        "back = pd.DataFrame(back_data, columns=words, index=list('012345'))\n",
        "back.columns = pd.MultiIndex.from_arrays([back.columns] + [list('012345')])\n",
        "back"
      ]
    },
    {
      "attachments": {},
      "cell_type": "markdown",
      "id": "821744be",
      "metadata": {
        "id": "821744be"
      },
      "source": [
        "Recall (lines 8-12) that we update the `table` every time we find a rule $A\\longrightarrow BC$ and `split` such that\n",
        "\n",
        "```\n",
        " 9.                          A -> B C in grammar\n",
        "10.                          and B in T[i, split]\n",
        "11.                          and C in T[split, j]:\n",
        "```\n",
        "\n",
        "In addition to updating `table`, we can also then add to `back` information about `split` and the rule `A -> B C`. We augment the algorithm with a new line 12.5 like this:\n",
        "\n",
        "```\n",
        "12.                      add A to T[i, j]\n",
        "12.5.                    add <split, B, C> to back[i, j, A]\n",
        "```\n",
        "\n",
        "For example, for `i = 0`, `split = 1`, and `j = 2` and the found rule `SOP -> S ADD`:"
      ]
    },
    {
      "cell_type": "code",
      "execution_count": 24,
      "id": "3e50b744",
      "metadata": {
        "colab": {
          "base_uri": "https://localhost:8080/",
          "height": 269
        },
        "id": "3e50b744",
        "outputId": "4fc5ee5b-8550-4358-a301-ba74e8f9b558"
      },
      "outputs": [
        {
          "data": {
            "text/html": [
              "<div>\n",
              "<style scoped>\n",
              "    .dataframe tbody tr th:only-of-type {\n",
              "        vertical-align: middle;\n",
              "    }\n",
              "\n",
              "    .dataframe tbody tr th {\n",
              "        vertical-align: top;\n",
              "    }\n",
              "\n",
              "    .dataframe thead tr th {\n",
              "        text-align: left;\n",
              "    }\n",
              "</style>\n",
              "<table border=\"1\" class=\"dataframe\">\n",
              "  <thead>\n",
              "    <tr>\n",
              "      <th></th>\n",
              "      <th></th>\n",
              "      <th>one</th>\n",
              "      <th>plus</th>\n",
              "      <th>two</th>\n",
              "      <th>times</th>\n",
              "      <th>three</th>\n",
              "    </tr>\n",
              "    <tr>\n",
              "      <th></th>\n",
              "      <th>0</th>\n",
              "      <th>1</th>\n",
              "      <th>2</th>\n",
              "      <th>3</th>\n",
              "      <th>4</th>\n",
              "      <th>5</th>\n",
              "    </tr>\n",
              "  </thead>\n",
              "  <tbody>\n",
              "    <tr>\n",
              "      <th>0</th>\n",
              "      <td>---</td>\n",
              "      <td>{}</td>\n",
              "      <td>{'SOP': {(1, 'S', 'ADD')}}</td>\n",
              "      <td>{}</td>\n",
              "      <td>{}</td>\n",
              "      <td>{}</td>\n",
              "    </tr>\n",
              "    <tr>\n",
              "      <th>1</th>\n",
              "      <td>---</td>\n",
              "      <td>---</td>\n",
              "      <td>{}</td>\n",
              "      <td>{}</td>\n",
              "      <td>{}</td>\n",
              "      <td>{}</td>\n",
              "    </tr>\n",
              "    <tr>\n",
              "      <th>2</th>\n",
              "      <td>---</td>\n",
              "      <td>---</td>\n",
              "      <td>---</td>\n",
              "      <td>{}</td>\n",
              "      <td>{}</td>\n",
              "      <td>{}</td>\n",
              "    </tr>\n",
              "    <tr>\n",
              "      <th>3</th>\n",
              "      <td>---</td>\n",
              "      <td>---</td>\n",
              "      <td>---</td>\n",
              "      <td>---</td>\n",
              "      <td>{}</td>\n",
              "      <td>{}</td>\n",
              "    </tr>\n",
              "    <tr>\n",
              "      <th>4</th>\n",
              "      <td>---</td>\n",
              "      <td>---</td>\n",
              "      <td>---</td>\n",
              "      <td>---</td>\n",
              "      <td>---</td>\n",
              "      <td>{}</td>\n",
              "    </tr>\n",
              "    <tr>\n",
              "      <th>5</th>\n",
              "      <td>---</td>\n",
              "      <td>---</td>\n",
              "      <td>---</td>\n",
              "      <td>---</td>\n",
              "      <td>---</td>\n",
              "      <td>---</td>\n",
              "    </tr>\n",
              "  </tbody>\n",
              "</table>\n",
              "</div>"
            ],
            "text/plain": [
              "        one                        plus  two times three\n",
              "     0    1                           2    3     4     5\n",
              "0  ---   {}  {'SOP': {(1, 'S', 'ADD')}}   {}    {}    {}\n",
              "1  ---  ---                          {}   {}    {}    {}\n",
              "2  ---  ---                         ---   {}    {}    {}\n",
              "3  ---  ---                         ---  ---    {}    {}\n",
              "4  ---  ---                         ---  ---   ---    {}\n",
              "5  ---  ---                         ---  ---   ---   ---"
            ]
          },
          "execution_count": 24,
          "metadata": {},
          "output_type": "execute_result"
        }
      ],
      "source": [
        "back.iloc[0,2]['SOP'].add((1,'S','ADD'))\n",
        "back"
      ]
    },
    {
      "attachments": {},
      "cell_type": "markdown",
      "id": "8a5ed6c3",
      "metadata": {
        "deletable": false,
        "editable": false,
        "id": "8a5ed6c3"
      },
      "source": [
        "Copy the statements in which you assigned a non-empty value into `table[i,j]` into the code cell below, starting from `j=3`. Then, instead of only assigning a non-terminal into `table[i,j]`, also fill the corresponding value of `back[i,j]`.\n",
        "\n",
        "(You can either re-run the assignments into `table[i,j]`, or comment them and run only the assignments into `back[i,j]`.)\n",
        "\n",
        "The dictionary in the final entry, `back[0,5]`, should map `S` onto a set with two elements because there are two possible ways to parse the input.\n",
        "\n",
        "<!--\n",
        "BEGIN QUESTION\n",
        "name: table_addition_rest_back\n",
        "-->"
      ]
    },
    {
      "cell_type": "code",
      "execution_count": 25,
      "id": "20f784f4",
      "metadata": {
        "id": "20f784f4"
      },
      "outputs": [],
      "source": [
        "#TODO -- update the back table\n",
        "back.iloc[0,3]['S'].add((2,'SOP','S'))\n",
        "back.iloc[2,4]['SOP'].add((3,'S','MULT'))\n",
        "back.iloc[0,4][\"SOP\"].add((3,'S','MULT'))\n",
        "back.iloc[2,5][\"S\"].add((4,'SOP','S'))\n",
        "back.iloc[0, 5]['S'].add((2,'SOP','S'))\n",
        "back.iloc[0, 5]['S'].add((4,'SOP','S'))"
      ]
    },
    {
      "cell_type": "code",
      "execution_count": 26,
      "id": "086e118e",
      "metadata": {
        "colab": {
          "base_uri": "https://localhost:8080/",
          "height": 46
        },
        "deletable": false,
        "editable": false,
        "id": "086e118e",
        "outputId": "d234f34d-2c55-4a80-98b4-af95c6bd8b1b"
      },
      "outputs": [
        {
          "data": {
            "text/html": [
              "\n",
              "    \n",
              "    \n",
              "        <p>All tests passed!</p>\n",
              "    \n",
              "    "
            ],
            "text/plain": [
              "\n",
              "    All tests passed!\n",
              "    "
            ]
          },
          "execution_count": 26,
          "metadata": {},
          "output_type": "execute_result"
        }
      ],
      "source": [
        "grader.check(\"table_addition_rest_back\")"
      ]
    },
    {
      "cell_type": "code",
      "execution_count": 27,
      "id": "8e2bd883",
      "metadata": {
        "colab": {
          "base_uri": "https://localhost:8080/",
          "height": 269
        },
        "id": "8e2bd883",
        "outputId": "61d2484e-b35b-4a88-9108-f9403228f757"
      },
      "outputs": [
        {
          "data": {
            "text/html": [
              "<div>\n",
              "<style scoped>\n",
              "    .dataframe tbody tr th:only-of-type {\n",
              "        vertical-align: middle;\n",
              "    }\n",
              "\n",
              "    .dataframe tbody tr th {\n",
              "        vertical-align: top;\n",
              "    }\n",
              "\n",
              "    .dataframe thead tr th {\n",
              "        text-align: left;\n",
              "    }\n",
              "</style>\n",
              "<table border=\"1\" class=\"dataframe\">\n",
              "  <thead>\n",
              "    <tr>\n",
              "      <th></th>\n",
              "      <th></th>\n",
              "      <th>one</th>\n",
              "      <th>plus</th>\n",
              "      <th>two</th>\n",
              "      <th>times</th>\n",
              "      <th>three</th>\n",
              "    </tr>\n",
              "    <tr>\n",
              "      <th></th>\n",
              "      <th>0</th>\n",
              "      <th>1</th>\n",
              "      <th>2</th>\n",
              "      <th>3</th>\n",
              "      <th>4</th>\n",
              "      <th>5</th>\n",
              "    </tr>\n",
              "  </thead>\n",
              "  <tbody>\n",
              "    <tr>\n",
              "      <th>0</th>\n",
              "      <td>---</td>\n",
              "      <td>{}</td>\n",
              "      <td>{'SOP': {(1, 'S', 'ADD')}}</td>\n",
              "      <td>{'S': {(2, 'SOP', 'S')}}</td>\n",
              "      <td>{'SOP': {(3, 'S', 'MULT')}}</td>\n",
              "      <td>{'S': {(2, 'SOP', 'S'), (4, 'SOP', 'S')}}</td>\n",
              "    </tr>\n",
              "    <tr>\n",
              "      <th>1</th>\n",
              "      <td>---</td>\n",
              "      <td>---</td>\n",
              "      <td>{}</td>\n",
              "      <td>{}</td>\n",
              "      <td>{}</td>\n",
              "      <td>{}</td>\n",
              "    </tr>\n",
              "    <tr>\n",
              "      <th>2</th>\n",
              "      <td>---</td>\n",
              "      <td>---</td>\n",
              "      <td>---</td>\n",
              "      <td>{}</td>\n",
              "      <td>{'SOP': {(3, 'S', 'MULT')}}</td>\n",
              "      <td>{'S': {(4, 'SOP', 'S')}}</td>\n",
              "    </tr>\n",
              "    <tr>\n",
              "      <th>3</th>\n",
              "      <td>---</td>\n",
              "      <td>---</td>\n",
              "      <td>---</td>\n",
              "      <td>---</td>\n",
              "      <td>{}</td>\n",
              "      <td>{}</td>\n",
              "    </tr>\n",
              "    <tr>\n",
              "      <th>4</th>\n",
              "      <td>---</td>\n",
              "      <td>---</td>\n",
              "      <td>---</td>\n",
              "      <td>---</td>\n",
              "      <td>---</td>\n",
              "      <td>{}</td>\n",
              "    </tr>\n",
              "    <tr>\n",
              "      <th>5</th>\n",
              "      <td>---</td>\n",
              "      <td>---</td>\n",
              "      <td>---</td>\n",
              "      <td>---</td>\n",
              "      <td>---</td>\n",
              "      <td>---</td>\n",
              "    </tr>\n",
              "  </tbody>\n",
              "</table>\n",
              "</div>"
            ],
            "text/plain": [
              "        one                        plus                       two  \\\n",
              "     0    1                           2                         3   \n",
              "0  ---   {}  {'SOP': {(1, 'S', 'ADD')}}  {'S': {(2, 'SOP', 'S')}}   \n",
              "1  ---  ---                          {}                        {}   \n",
              "2  ---  ---                         ---                        {}   \n",
              "3  ---  ---                         ---                       ---   \n",
              "4  ---  ---                         ---                       ---   \n",
              "5  ---  ---                         ---                       ---   \n",
              "\n",
              "                         times                                      three  \n",
              "                             4                                          5  \n",
              "0  {'SOP': {(3, 'S', 'MULT')}}  {'S': {(2, 'SOP', 'S'), (4, 'SOP', 'S')}}  \n",
              "1                           {}                                         {}  \n",
              "2  {'SOP': {(3, 'S', 'MULT')}}                   {'S': {(4, 'SOP', 'S')}}  \n",
              "3                           {}                                         {}  \n",
              "4                          ---                                         {}  \n",
              "5                          ---                                        ---  "
            ]
          },
          "execution_count": 27,
          "metadata": {},
          "output_type": "execute_result"
        }
      ],
      "source": [
        "back"
      ]
    },
    {
      "attachments": {},
      "cell_type": "markdown",
      "id": "55867a98",
      "metadata": {
        "deletable": false,
        "editable": false,
        "id": "55867a98"
      },
      "source": [
        "Now, instead of only telling whether the input sentence is parsable or not, we can also construct the parse trees!\n",
        "\n",
        "The idea is as follows: we start from `back[0, 5]` with the entry for `S`. For each value in the set in that entry, we construct a parse tree whose root is `S`.\n",
        "\n",
        "Suppose that `back[0, 5]` contains: `{'S': {(k1, A1, B1), (k2, A2, B2)}}`. We'll reconstruct parse trees for each of the two options. Start with `(k1, A1, B1)`. We recursively construct all possible parse trees based on the `A1` nonterminal covering `[0, k1]` and all possible parse trees based on `B1` covering `[k1, 5]`. Then for each of the `A1` and `B1` trees, we construct a tree (using parentheses notation) of the form `(S (A1 ...) (B1 ...))`. We do the same for the other option `(k2, A2, B2)`. In this way, we'll generate all parse trees for the string.\n",
        "\n",
        "As it turns out, for the particular string we've been using, there is only one parse tree generable by each of the two options, so there are only two parse trees for the sentence.\n",
        "\n",
        "Start from `back[0, 5]`, and construct the two possible parse trees by using this method. Enter the two parses as `tree1` and `tree2` in the cell below.\n",
        "\n",
        "> Note that as a convention we don't put quotation marks around terminals when we use `nltk.Tree.fromstring`. For example, if the tree has root `S` and two terminals `one` and `two`, then we construct the parse using `tree = nltk.Tree.fromstring(\"(S one two)\")` instead of `tree = nltk.Tree.fromstring(\"(S 'one' 'two')\")`.\n",
        "\n",
        "<!--\n",
        "BEGIN QUESTION\n",
        "name: parse_trees\n",
        "-->"
      ]
    },
    {
      "cell_type": "code",
      "execution_count": 28,
      "id": "b284ed01",
      "metadata": {
        "id": "b284ed01"
      },
      "outputs": [],
      "source": [
        "#TODO -- complete the strings using bracket-notation\n",
        "tree1 = nltk.Tree.fromstring(\n",
        "    \"(S (SOP (S one) (ADD plus)) (S (SOP (S two) (MULT times)) (S three)))\"\n",
        ")\n",
        "tree2 = nltk.Tree.fromstring(\n",
        "    \"(S (SOP (S (SOP (S one) (ADD plus)) (S two)) (MULT times)) (S three))\"\n",
        ")"
      ]
    },
    {
      "cell_type": "code",
      "execution_count": 29,
      "id": "f2ffbaef",
      "metadata": {
        "colab": {
          "base_uri": "https://localhost:8080/",
          "height": 46
        },
        "deletable": false,
        "editable": false,
        "id": "f2ffbaef",
        "outputId": "7c676d28-26b4-40d9-a615-805a56a74377"
      },
      "outputs": [
        {
          "data": {
            "text/html": [
              "\n",
              "    \n",
              "    \n",
              "        <p>All tests passed!</p>\n",
              "    \n",
              "    "
            ],
            "text/plain": [
              "\n",
              "    All tests passed!\n",
              "    "
            ]
          },
          "execution_count": 29,
          "metadata": {},
          "output_type": "execute_result"
        }
      ],
      "source": [
        "grader.check(\"parse_trees\")"
      ]
    },
    {
      "attachments": {},
      "cell_type": "markdown",
      "id": "302a5b07",
      "metadata": {
        "id": "302a5b07"
      },
      "source": [
        "Now let's check your parse trees. Are they the same as the parse trees returned by the NLTK parser?"
      ]
    },
    {
      "cell_type": "code",
      "execution_count": 30,
      "id": "c7792b0f",
      "metadata": {
        "colab": {
          "base_uri": "https://localhost:8080/"
        },
        "id": "c7792b0f",
        "outputId": "3c440927-c77e-461d-e5f2-b8ca44c60668"
      },
      "outputs": [
        {
          "name": "stdout",
          "output_type": "stream",
          "text": [
            "              S                 \n",
            "      ________|________          \n",
            "     |                 S        \n",
            "     |             ____|_____    \n",
            "    SOP          SOP         |  \n",
            "  ___|___      ___|____      |   \n",
            " S      ADD   S       MULT   S  \n",
            " |       |    |        |     |   \n",
            "one     plus two     times three\n",
            "\n",
            "                  S             \n",
            "               ___|__________    \n",
            "             SOP             |  \n",
            "          ____|________      |   \n",
            "         S             |     |  \n",
            "      ___|________     |     |   \n",
            "    SOP           |    |     |  \n",
            "  ___|___         |    |     |   \n",
            " S      ADD       S   MULT   S  \n",
            " |       |        |    |     |   \n",
            "one     plus     two times three\n",
            "\n"
          ]
        }
      ],
      "source": [
        "tree1.pretty_print()\n",
        "tree2.pretty_print()"
      ]
    },
    {
      "attachments": {},
      "cell_type": "markdown",
      "id": "93b1f069",
      "metadata": {
        "id": "93b1f069"
      },
      "source": [
        "Did you find the same trees as the NLTK parser did at the start of the lab?"
      ]
    },
    {
      "attachments": {},
      "cell_type": "markdown",
      "id": "28c2b0f6",
      "metadata": {
        "deletable": false,
        "editable": false,
        "id": "28c2b0f6"
      },
      "source": [
        "These trees were parsed on the basis of the rules in `cnf_arithmetic_grammar`, a CNF version of `arithmetic_grammar` above, which replaced the rule `S -> S OP S` with rules\n",
        "\n",
        "* `S -> SOP S`\n",
        "* `SOP -> S ADD`\n",
        "* `SOP -> S SUB`\n",
        "* `SOP -> S MULT`\n",
        "\n",
        "A configuration like\n",
        "\n",
        "```\n",
        "(S (S ...x...) (OP (ADD ...y...)) (S ...z...))\n",
        "```\n",
        "\n",
        "from the original grammar thus corresponds to a configuration like\n",
        "\n",
        "```\n",
        "(S (SOP (S ...x...) (ADD ...y...)) (S ...z...))\n",
        "```\n",
        "\n",
        "from the CNF grammar.\n",
        "\n",
        "You should thus be able to reconstruct parses for the original grammar by \"undoing\" this change, replacing the latter configuration with the former. Reconstruct the two parse trees that the original grammar would have generated by undoing this change on `tree1` and `tree2`, and call them `tree1_reconstructed` and `tree2_reconstructed`.\n",
        "\n",
        "<!--\n",
        "BEGIN QUESTION\n",
        "name: parse_trees\n",
        "-->"
      ]
    },
    {
      "cell_type": "code",
      "execution_count": 31,
      "id": "cf4614b7",
      "metadata": {
        "id": "cf4614b7"
      },
      "outputs": [],
      "source": [
        "#TODO -- Reconstruct the trees by providing strings using bracket-notation\n",
        "tree1_reconstructed = nltk.Tree.fromstring(\n",
        "    \"(S (S one) (OP(ADD plus)) (S (S two) (OP(MULT times)) (S three)))\"\n",
        ")\n",
        "tree2_reconstructed = nltk.Tree.fromstring(\n",
        "    \"(S (S (S one) (OP(ADD plus)) (S two)) (OP(MULT times)) (S three))\"\n",
        ")"
      ]
    },
    {
      "cell_type": "code",
      "execution_count": 32,
      "id": "875810e5",
      "metadata": {
        "colab": {
          "base_uri": "https://localhost:8080/",
          "height": 46
        },
        "deletable": false,
        "editable": false,
        "id": "875810e5",
        "outputId": "0b5c13e0-5adb-4e7c-bb59-61f36ae2ac37"
      },
      "outputs": [
        {
          "data": {
            "text/html": [
              "\n",
              "    \n",
              "    \n",
              "        <p>All tests passed!</p>\n",
              "    \n",
              "    "
            ],
            "text/plain": [
              "\n",
              "    All tests passed!\n",
              "    "
            ]
          },
          "execution_count": 32,
          "metadata": {},
          "output_type": "execute_result"
        }
      ],
      "source": [
        "grader.check(\"parse_trees\")"
      ]
    },
    {
      "cell_type": "code",
      "execution_count": 33,
      "id": "3a7aa815",
      "metadata": {
        "colab": {
          "base_uri": "https://localhost:8080/"
        },
        "id": "3a7aa815",
        "outputId": "99dda586-8e99-4dc6-c713-c6c7d17e3261"
      },
      "outputs": [
        {
          "name": "stdout",
          "output_type": "stream",
          "text": [
            "          S             \n",
            "  ________|____          \n",
            " |   |         S        \n",
            " |   |     ____|_____    \n",
            " |   OP   |    OP    |  \n",
            " |   |    |    |     |   \n",
            " S  ADD   S   MULT   S  \n",
            " |   |    |    |     |   \n",
            "one plus two times three\n",
            "\n",
            "          S             \n",
            "      ____|__________    \n",
            "     S         |     |  \n",
            "  ___|____     |     |   \n",
            " |   OP   |    OP    |  \n",
            " |   |    |    |     |   \n",
            " S  ADD   S   MULT   S  \n",
            " |   |    |    |     |   \n",
            "one plus two times three\n",
            "\n"
          ]
        }
      ],
      "source": [
        "tree1_reconstructed.pretty_print()\n",
        "tree2_reconstructed.pretty_print()"
      ]
    },
    {
      "attachments": {},
      "cell_type": "markdown",
      "id": "572d9f52",
      "metadata": {
        "id": "572d9f52"
      },
      "source": [
        "There. That looks much better."
      ]
    },
    {
      "attachments": {},
      "cell_type": "markdown",
      "id": "05834983",
      "metadata": {
        "deletable": false,
        "editable": false,
        "id": "05834983"
      },
      "source": [
        "<!-- BEGIN QUESTION -->\n",
        "\n",
        "# Lab debrief\n",
        "\n",
        "**Question:** We're interested in any thoughts your group has about this lab so that we can improve this lab for later years, and to inform later labs for this year. Please list any issues that arose or comments you have to improve the lab. Useful things to comment might include the following:\n",
        "\n",
        "* Was the lab too long or too short?\n",
        "* Were the readings appropriate for the lab?\n",
        "* Was it clear (at least after you completed the lab) what the points of the exercises were?\n",
        "* Are there additions or changes you think would make the lab better?\n",
        "\n",
        "but you should comment on whatever aspects you found especially positive or negative.\n",
        "\n",
        "<!--\n",
        "BEGIN QUESTION\n",
        "name: open_response_debrief\n",
        "manual: true\n",
        "-->"
      ]
    },
    {
      "attachments": {},
      "cell_type": "markdown",
      "id": "9832861a",
      "metadata": {
        "id": "9832861a"
      },
      "source": [
        "was clear."
      ]
    },
    {
      "attachments": {},
      "cell_type": "markdown",
      "id": "5dc3406a",
      "metadata": {
        "id": "5dc3406a"
      },
      "source": [
        "<!-- END QUESTION -->\n",
        "\n",
        "\n",
        "\n",
        "# End of lab 3-2"
      ]
    },
    {
      "attachments": {},
      "cell_type": "markdown",
      "id": "7f9b9885",
      "metadata": {
        "deletable": false,
        "editable": false,
        "id": "7f9b9885"
      },
      "source": [
        "---\n",
        "\n",
        "To double-check your work, the cell below will rerun all of the autograder tests."
      ]
    },
    {
      "cell_type": "code",
      "execution_count": 34,
      "id": "e0395a83",
      "metadata": {
        "colab": {
          "base_uri": "https://localhost:8080/",
          "height": 303
        },
        "deletable": false,
        "editable": false,
        "id": "e0395a83",
        "outputId": "d3c48b39-8486-4678-bd99-fd081883f492"
      },
      "outputs": [
        {
          "data": {
            "text/html": [
              "<p><strong>parse_trees:</strong></p>\n",
              "\n",
              "    \n",
              "    \n",
              "        <p>All tests passed!</p>\n",
              "    \n",
              "    \n",
              "\n",
              "<p><strong>table_addition_1:</strong></p>\n",
              "\n",
              "    \n",
              "    \n",
              "        <p>All tests passed!</p>\n",
              "    \n",
              "    \n",
              "\n",
              "<p><strong>table_addition_2:</strong></p>\n",
              "\n",
              "    \n",
              "    \n",
              "        <p>All tests passed!</p>\n",
              "    \n",
              "    \n",
              "\n",
              "<p><strong>table_addition_3:</strong></p>\n",
              "\n",
              "    \n",
              "    \n",
              "        <p>All tests passed!</p>\n",
              "    \n",
              "    \n",
              "\n",
              "<p><strong>table_addition_rest:</strong></p>\n",
              "\n",
              "    \n",
              "    \n",
              "        <p>All tests passed!</p>\n",
              "    \n",
              "    \n",
              "\n",
              "<p><strong>table_addition_rest_back:</strong></p>\n",
              "\n",
              "    \n",
              "    \n",
              "        <p>All tests passed!</p>\n",
              "    \n",
              "    \n",
              "\n"
            ],
            "text/plain": [
              "parse_trees:\n",
              "\n",
              "    All tests passed!\n",
              "    \n",
              "\n",
              "table_addition_1:\n",
              "\n",
              "    All tests passed!\n",
              "    \n",
              "\n",
              "table_addition_2:\n",
              "\n",
              "    All tests passed!\n",
              "    \n",
              "\n",
              "table_addition_3:\n",
              "\n",
              "    All tests passed!\n",
              "    \n",
              "\n",
              "table_addition_rest:\n",
              "\n",
              "    All tests passed!\n",
              "    \n",
              "\n",
              "table_addition_rest_back:\n",
              "\n",
              "    All tests passed!\n",
              "    \n"
            ]
          },
          "execution_count": 34,
          "metadata": {},
          "output_type": "execute_result"
        }
      ],
      "source": [
        "grader.check_all()"
      ]
    }
  ],
  "metadata": {
    "colab": {
      "collapsed_sections": [
        "VDT_jXJT19x9"
      ],
      "provenance": []
    },
    "kernelspec": {
      "display_name": "Python 3",
      "language": "python",
      "name": "python3"
    },
    "language_info": {
      "codemirror_mode": {
        "name": "ipython",
        "version": 3
      },
      "file_extension": ".py",
      "mimetype": "text/x-python",
      "name": "python",
      "nbconvert_exporter": "python",
      "pygments_lexer": "ipython3",
      "version": "3.10.11"
    },
    "title": "CS236299 Lab 3-2: Context-free parsing"
  },
  "nbformat": 4,
  "nbformat_minor": 5
}
